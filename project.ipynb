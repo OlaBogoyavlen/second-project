{
 "cells": [
  {
   "cell_type": "markdown",
   "metadata": {},
   "source": [
    "Ещё изменения!!"
   ]
  },
  {
   "cell_type": "markdown",
   "metadata": {},
   "source": [
    "Внесла изменения!"
   ]
  },
  {
   "cell_type": "markdown",
   "metadata": {},
   "source": [
    "<span style=\"color: blue; font-size: 20px; font-weight: bold;\">Комментарий ревьюера</span>\n",
    "\n",
    "<span style=\"color: blue\">Привет, Ольга! Меня зовут Павел Григорьев, и я буду проверять этот проект.<br>Моя основная цель - не указать на совершённые тобой ошибки, а поделиться своим опытом и помочь тебе совершенствоваться как профессионалу.<br>Спасибо за проделанную работу! Предлагаю общаться на «ты».</span>\n",
    "<details>\n",
    "\t<summary><u>Инструкция по организационным моментам (кликабельно)</u>⤵</summary>\n",
    "<span style=\"color: blue\">Я буду использовать различные цвета, чтобы было удобнее воспринимать мои комментарии:</span>\n",
    "\n",
    "\n",
    "---\n",
    "\n",
    "\n",
    "<span style=\"color: blue\">синий текст - просто текст комментария</span>\n",
    "\n",
    "<span style=\"color: green\">✔️ и зеленый текст - все отлично</span>\n",
    "\n",
    "<span style=\"color: orange\">⚠️ и оранжевый текст - сделано все правильно, однако есть рекомендации, на что стоит обратить внимание</span>\n",
    "\n",
    "<span style=\"color: red\">❌ и красный текст - есть недочеты</span>\n",
    "\n",
    "\n",
    "</details>    \n",
    "</br>\n",
    "<span style=\"color: blue\">Пожалуйста, не удаляй мои комментарии в случае возврата работы, так будет проще разобраться, какие были недочеты, а также сразу увидеть исправленное.</span>\n",
    "\n",
    "<span style=\"color: blue\">Ответы на мои комментарии лучше тоже помечать.<br>\n",
    "Например: </span><br><span style=\"color: purple; font-weight: bold\">Комментарий студента</span>\n",
    "\n",
    "<span style=\"color: blue; font-weight: bold;\">Давай смотреть, что получилось!</span>"
   ]
  },
  {
   "cell_type": "markdown",
   "metadata": {},
   "source": [
    "<span style=\"color: blue; font-size: 18px; font-weight: bold;\">Комментарий ревьюера 2</span>\n",
    "\n",
    "<span style=\"color: blue\">Привет еще раз. Спасибо, за исправления. Оформление комментариев по работе сохраняется. Только обозначим, что это вторая итерация.</span>"
   ]
  },
  {
   "cell_type": "markdown",
   "metadata": {},
   "source": [
    "<span style=\"color: blue; font-size: 18px; font-weight: bold;\">Комментарий ревьюера 3</span>\n",
    "\n",
    "<span style=\"color: blue\">Привет еще раз. Спасибо, за исправления. Оформление комментариев по работе сохраняется.</span>"
   ]
  },
  {
   "cell_type": "markdown",
   "metadata": {},
   "source": [
    "</span><br><span style=\"color: purple; font-weight: bold\">Павел, добрый вечер! Все изменения начинаются с пункта 5 Анализ важности признаков!!</span>"
   ]
  },
  {
   "cell_type": "markdown",
   "metadata": {},
   "source": [
    "<span style=\"color: blue; font-size: 18px; font-weight: bold;\">Комментарий ревьюера 4</span>\n",
    "\n",
    "<span style=\"color: blue\">Привет еще раз. Спасибо, за исправления. Оформление комментариев по работе сохраняется.</span>"
   ]
  },
  {
   "cell_type": "markdown",
   "metadata": {},
   "source": [
    "<span style=\"color: blue; font-weight: bold\">Комментарий ревьюера : </span>  ❌\\\n",
    "<span style=\"color: red\">~~Вступление в работу очень важно. Так ты поясняешь то, чему она посвящена.\\\n",
    "Можно ещё сделать краткий обзор данных с которыми предстоит работать.~~</span>"
   ]
  },
  {
   "cell_type": "markdown",
   "metadata": {},
   "source": [
    "## **Описание проекта**\n",
    "\n",
    "Интернет-магазин «В один клик» продаёт разные товары: для детей, для дома, мелкую бытовую технику, косметику и даже продукты. Отчёт магазина за прошлый период показал, что активность покупателей начала снижаться. Привлекать новых клиентов уже не так эффективно: о магазине и так знает большая часть целевой аудитории. Возможный выход — удерживать активность постоянных клиентов. Сделать это можно с помощью персонализированных предложений.\n",
    " \n",
    "Итак, нам предстоит разработать решение, которое позволит персонализировать предложения постоянным клиентам, чтобы увеличить их покупательскую активность.\n",
    "\n",
    "В нашем распоряжении имеются данные о поведении покупателя на сайте, о коммуникациях с покупателем и его продуктовом поведении - файл market_file.csv; данные о выручке, которую получает магазин с покупателя, то есть сколько покупатель всего потратил за период взаимодействия с сайтом - файл market_money.csv; данные о времени (в минутах), которое покупатель провёл на сайте в течение периода - файл market_time.csv; данные о среднемесячной прибыли покупателя за последние 3 месяца: какую прибыль получает магазин от продаж каждому покупателю - файл money.csv."
   ]
  },
  {
   "cell_type": "markdown",
   "metadata": {},
   "source": [
    "<span style=\"color: blue; font-weight: bold\">Комментарий ревьюера 2: </span> ✔️\\\n",
    "<span style=\"color: green\"> Отлично!  👍</span>"
   ]
  },
  {
   "cell_type": "code",
   "execution_count": 1,
   "metadata": {
    "scrolled": true
   },
   "outputs": [
    {
     "name": "stdout",
     "output_type": "stream",
     "text": [
      "Requirement already satisfied: phik in c:\\users\\olga\\anaconda3\\envs\\practicum\\lib\\site-packages (0.12.4)\n",
      "Requirement already satisfied: numpy>=1.18.0 in c:\\users\\olga\\anaconda3\\envs\\practicum\\lib\\site-packages (from phik) (1.24.4)\n",
      "Requirement already satisfied: scipy>=1.5.2 in c:\\users\\olga\\anaconda3\\envs\\practicum\\lib\\site-packages (from phik) (1.8.0)\n",
      "Requirement already satisfied: pandas>=0.25.1 in c:\\users\\olga\\anaconda3\\envs\\practicum\\lib\\site-packages (from phik) (1.2.4)\n",
      "Requirement already satisfied: matplotlib>=2.2.3 in c:\\users\\olga\\anaconda3\\envs\\practicum\\lib\\site-packages (from phik) (3.3.4)\n",
      "Requirement already satisfied: joblib>=0.14.1 in c:\\users\\olga\\anaconda3\\envs\\practicum\\lib\\site-packages (from phik) (1.4.2)\n",
      "Requirement already satisfied: cycler>=0.10 in c:\\users\\olga\\anaconda3\\envs\\practicum\\lib\\site-packages (from matplotlib>=2.2.3->phik) (0.12.1)\n",
      "Requirement already satisfied: kiwisolver>=1.0.1 in c:\\users\\olga\\anaconda3\\envs\\practicum\\lib\\site-packages (from matplotlib>=2.2.3->phik) (1.4.7)\n",
      "Requirement already satisfied: pillow>=6.2.0 in c:\\users\\olga\\anaconda3\\envs\\practicum\\lib\\site-packages (from matplotlib>=2.2.3->phik) (11.1.0)\n",
      "Requirement already satisfied: pyparsing!=2.0.4,!=2.1.2,!=2.1.6,>=2.0.3 in c:\\users\\olga\\anaconda3\\envs\\practicum\\lib\\site-packages (from matplotlib>=2.2.3->phik) (3.2.3)\n",
      "Requirement already satisfied: python-dateutil>=2.1 in c:\\users\\olga\\anaconda3\\envs\\practicum\\lib\\site-packages (from matplotlib>=2.2.3->phik) (2.9.0.post0)\n",
      "Requirement already satisfied: pytz>=2017.3 in c:\\users\\olga\\anaconda3\\envs\\practicum\\lib\\site-packages (from pandas>=0.25.1->phik) (2025.2)\n",
      "Requirement already satisfied: six>=1.5 in c:\\users\\olga\\anaconda3\\envs\\practicum\\lib\\site-packages (from python-dateutil>=2.1->matplotlib>=2.2.3->phik) (1.17.0)\n"
     ]
    }
   ],
   "source": [
    "!pip install phik"
   ]
  },
  {
   "cell_type": "code",
   "execution_count": 2,
   "metadata": {
    "scrolled": true
   },
   "outputs": [
    {
     "name": "stdout",
     "output_type": "stream",
     "text": [
      "Requirement already satisfied: shap in c:\\users\\olga\\anaconda3\\envs\\practicum\\lib\\site-packages (0.47.1)\n",
      "Requirement already satisfied: numpy in c:\\users\\olga\\anaconda3\\envs\\practicum\\lib\\site-packages (from shap) (1.24.4)\n",
      "Requirement already satisfied: scipy in c:\\users\\olga\\anaconda3\\envs\\practicum\\lib\\site-packages (from shap) (1.8.0)\n",
      "Requirement already satisfied: scikit-learn in c:\\users\\olga\\anaconda3\\envs\\practicum\\lib\\site-packages (from shap) (1.6.1)\n",
      "Requirement already satisfied: pandas in c:\\users\\olga\\anaconda3\\envs\\practicum\\lib\\site-packages (from shap) (1.2.4)\n",
      "Requirement already satisfied: tqdm>=4.27.0 in c:\\users\\olga\\anaconda3\\envs\\practicum\\lib\\site-packages (from shap) (4.67.1)\n",
      "Requirement already satisfied: packaging>20.9 in c:\\users\\olga\\anaconda3\\envs\\practicum\\lib\\site-packages (from shap) (24.2)\n",
      "Requirement already satisfied: slicer==0.0.8 in c:\\users\\olga\\anaconda3\\envs\\practicum\\lib\\site-packages (from shap) (0.0.8)\n",
      "Requirement already satisfied: numba>=0.54 in c:\\users\\olga\\anaconda3\\envs\\practicum\\lib\\site-packages (from shap) (0.60.0)\n",
      "Requirement already satisfied: cloudpickle in c:\\users\\olga\\anaconda3\\envs\\practicum\\lib\\site-packages (from shap) (3.1.1)\n",
      "Requirement already satisfied: typing-extensions in c:\\users\\olga\\anaconda3\\envs\\practicum\\lib\\site-packages (from shap) (4.12.2)\n",
      "Requirement already satisfied: llvmlite<0.44,>=0.43.0dev0 in c:\\users\\olga\\anaconda3\\envs\\practicum\\lib\\site-packages (from numba>=0.54->shap) (0.43.0)\n",
      "Requirement already satisfied: colorama in c:\\users\\olga\\anaconda3\\envs\\practicum\\lib\\site-packages (from tqdm>=4.27.0->shap) (0.4.6)\n",
      "Requirement already satisfied: python-dateutil>=2.7.3 in c:\\users\\olga\\anaconda3\\envs\\practicum\\lib\\site-packages (from pandas->shap) (2.9.0.post0)\n",
      "Requirement already satisfied: pytz>=2017.3 in c:\\users\\olga\\anaconda3\\envs\\practicum\\lib\\site-packages (from pandas->shap) (2025.2)\n",
      "Requirement already satisfied: joblib>=1.2.0 in c:\\users\\olga\\anaconda3\\envs\\practicum\\lib\\site-packages (from scikit-learn->shap) (1.4.2)\n",
      "Requirement already satisfied: threadpoolctl>=3.1.0 in c:\\users\\olga\\anaconda3\\envs\\practicum\\lib\\site-packages (from scikit-learn->shap) (3.6.0)\n",
      "Requirement already satisfied: six>=1.5 in c:\\users\\olga\\anaconda3\\envs\\practicum\\lib\\site-packages (from python-dateutil>=2.7.3->pandas->shap) (1.17.0)\n"
     ]
    }
   ],
   "source": [
    "!pip install shap"
   ]
  },
  {
   "cell_type": "code",
   "execution_count": 3,
   "metadata": {},
   "outputs": [],
   "source": [
    "!pip install -Uq scikit-learn"
   ]
  },
  {
   "cell_type": "code",
   "execution_count": 4,
   "metadata": {
    "id": "H6cQIZr3ElW1"
   },
   "outputs": [],
   "source": [
    "import pandas as pd\n",
    "import numpy as np\n",
    "import matplotlib.pyplot as plt\n",
    "import seaborn as sns\n",
    "import scipy.stats as st\n",
    "import phik\n",
    "import shap\n",
    "import sklearn\n",
    "from sklearn import svm\n",
    "from sklearn.svm import SVC\n",
    "from sklearn.linear_model import LinearRegression, LogisticRegression\n",
    "from sklearn.neighbors import KNeighborsClassifier\n",
    "from sklearn.tree import DecisionTreeClassifier\n",
    "\n",
    "from sklearn.model_selection import train_test_split, RandomizedSearchCV\n",
    "from sklearn.preprocessing import OneHotEncoder, OrdinalEncoder, StandardScaler, MinMaxScaler, RobustScaler\n",
    "\n",
    "from sklearn.compose import ColumnTransformer\n",
    "from sklearn.impute import SimpleImputer\n",
    "\n",
    "from sklearn.metrics import roc_auc_score, mean_squared_error, mean_absolute_error, r2_score, accuracy_score\n",
    "\n",
    "from sklearn.metrics import confusion_matrix, recall_score, precision_score\n",
    "\n",
    "from sklearn.pipeline import Pipeline"
   ]
  },
  {
   "cell_type": "markdown",
   "metadata": {},
   "source": [
    "<font color='blue'><b>Комментарий ревьюера: </b></font> ✔️\\\n",
    "<font color='green'> Хорошее оформление импортов! \\\n",
    "Импорты собраны в одной ячейке, разделены на функциональные группы пустой строкой.</font>"
   ]
  },
  {
   "cell_type": "markdown",
   "metadata": {},
   "source": [
    "<font color='blue'><b>Комментарий ревьюера: </b></font> ❌\\\n",
    "<font color='red'> ~~Настрой, пожалуйста заголовки блоков так, чтобы они были доступны в содержании проекта.~~</font>\\\n",
    "Спринт 3/20 → Тема 6/6: Оформление проекта → Урок 1/4"
   ]
  },
  {
   "cell_type": "markdown",
   "metadata": {},
   "source": [
    "<span style=\"color: blue; font-weight: bold\">Комментарий ревьюера 2: </span> ✔️\\\n",
    "<span style=\"color: green\"> 👍</span>"
   ]
  },
  {
   "cell_type": "code",
   "execution_count": 5,
   "metadata": {},
   "outputs": [
    {
     "ename": "FileNotFoundError",
     "evalue": "[Errno 2] No such file or directory: '/datasets/market_file.csv'",
     "output_type": "error",
     "traceback": [
      "\u001b[1;31m---------------------------------------------------------------------------\u001b[0m",
      "\u001b[1;31mFileNotFoundError\u001b[0m                         Traceback (most recent call last)",
      "Cell \u001b[1;32mIn[5], line 2\u001b[0m\n\u001b[0;32m      1\u001b[0m \u001b[38;5;66;03m# Считываем CSV-файлы с данными с помощью библиотеки pandas и сохраняем их в датафреймы.\u001b[39;00m\n\u001b[1;32m----> 2\u001b[0m market_file \u001b[38;5;241m=\u001b[39m \u001b[43mpd\u001b[49m\u001b[38;5;241;43m.\u001b[39;49m\u001b[43mread_csv\u001b[49m\u001b[43m(\u001b[49m\u001b[38;5;124;43m'\u001b[39;49m\u001b[38;5;124;43m/datasets/market_file.csv\u001b[39;49m\u001b[38;5;124;43m'\u001b[39;49m\u001b[43m)\u001b[49m\n\u001b[0;32m      3\u001b[0m market_file\u001b[38;5;241m.\u001b[39minfo()\n",
      "File \u001b[1;32m~\\anaconda3\\envs\\practicum\\lib\\site-packages\\pandas\\io\\parsers.py:610\u001b[0m, in \u001b[0;36mread_csv\u001b[1;34m(filepath_or_buffer, sep, delimiter, header, names, index_col, usecols, squeeze, prefix, mangle_dupe_cols, dtype, engine, converters, true_values, false_values, skipinitialspace, skiprows, skipfooter, nrows, na_values, keep_default_na, na_filter, verbose, skip_blank_lines, parse_dates, infer_datetime_format, keep_date_col, date_parser, dayfirst, cache_dates, iterator, chunksize, compression, thousands, decimal, lineterminator, quotechar, quoting, doublequote, escapechar, comment, encoding, dialect, error_bad_lines, warn_bad_lines, delim_whitespace, low_memory, memory_map, float_precision, storage_options)\u001b[0m\n\u001b[0;32m    605\u001b[0m kwds_defaults \u001b[38;5;241m=\u001b[39m _refine_defaults_read(\n\u001b[0;32m    606\u001b[0m     dialect, delimiter, delim_whitespace, engine, sep, defaults\u001b[38;5;241m=\u001b[39m{\u001b[38;5;124m\"\u001b[39m\u001b[38;5;124mdelimiter\u001b[39m\u001b[38;5;124m\"\u001b[39m: \u001b[38;5;124m\"\u001b[39m\u001b[38;5;124m,\u001b[39m\u001b[38;5;124m\"\u001b[39m}\n\u001b[0;32m    607\u001b[0m )\n\u001b[0;32m    608\u001b[0m kwds\u001b[38;5;241m.\u001b[39mupdate(kwds_defaults)\n\u001b[1;32m--> 610\u001b[0m \u001b[38;5;28;01mreturn\u001b[39;00m \u001b[43m_read\u001b[49m\u001b[43m(\u001b[49m\u001b[43mfilepath_or_buffer\u001b[49m\u001b[43m,\u001b[49m\u001b[43m \u001b[49m\u001b[43mkwds\u001b[49m\u001b[43m)\u001b[49m\n",
      "File \u001b[1;32m~\\anaconda3\\envs\\practicum\\lib\\site-packages\\pandas\\io\\parsers.py:462\u001b[0m, in \u001b[0;36m_read\u001b[1;34m(filepath_or_buffer, kwds)\u001b[0m\n\u001b[0;32m    459\u001b[0m _validate_names(kwds\u001b[38;5;241m.\u001b[39mget(\u001b[38;5;124m\"\u001b[39m\u001b[38;5;124mnames\u001b[39m\u001b[38;5;124m\"\u001b[39m, \u001b[38;5;28;01mNone\u001b[39;00m))\n\u001b[0;32m    461\u001b[0m \u001b[38;5;66;03m# Create the parser.\u001b[39;00m\n\u001b[1;32m--> 462\u001b[0m parser \u001b[38;5;241m=\u001b[39m TextFileReader(filepath_or_buffer, \u001b[38;5;241m*\u001b[39m\u001b[38;5;241m*\u001b[39mkwds)\n\u001b[0;32m    464\u001b[0m \u001b[38;5;28;01mif\u001b[39;00m chunksize \u001b[38;5;129;01mor\u001b[39;00m iterator:\n\u001b[0;32m    465\u001b[0m     \u001b[38;5;28;01mreturn\u001b[39;00m parser\n",
      "File \u001b[1;32m~\\anaconda3\\envs\\practicum\\lib\\site-packages\\pandas\\io\\parsers.py:819\u001b[0m, in \u001b[0;36mTextFileReader.__init__\u001b[1;34m(self, f, engine, **kwds)\u001b[0m\n\u001b[0;32m    816\u001b[0m \u001b[38;5;28;01mif\u001b[39;00m \u001b[38;5;124m\"\u001b[39m\u001b[38;5;124mhas_index_names\u001b[39m\u001b[38;5;124m\"\u001b[39m \u001b[38;5;129;01min\u001b[39;00m kwds:\n\u001b[0;32m    817\u001b[0m     \u001b[38;5;28mself\u001b[39m\u001b[38;5;241m.\u001b[39moptions[\u001b[38;5;124m\"\u001b[39m\u001b[38;5;124mhas_index_names\u001b[39m\u001b[38;5;124m\"\u001b[39m] \u001b[38;5;241m=\u001b[39m kwds[\u001b[38;5;124m\"\u001b[39m\u001b[38;5;124mhas_index_names\u001b[39m\u001b[38;5;124m\"\u001b[39m]\n\u001b[1;32m--> 819\u001b[0m \u001b[38;5;28mself\u001b[39m\u001b[38;5;241m.\u001b[39m_engine \u001b[38;5;241m=\u001b[39m \u001b[38;5;28;43mself\u001b[39;49m\u001b[38;5;241;43m.\u001b[39;49m\u001b[43m_make_engine\u001b[49m\u001b[43m(\u001b[49m\u001b[38;5;28;43mself\u001b[39;49m\u001b[38;5;241;43m.\u001b[39;49m\u001b[43mengine\u001b[49m\u001b[43m)\u001b[49m\n",
      "File \u001b[1;32m~\\anaconda3\\envs\\practicum\\lib\\site-packages\\pandas\\io\\parsers.py:1050\u001b[0m, in \u001b[0;36mTextFileReader._make_engine\u001b[1;34m(self, engine)\u001b[0m\n\u001b[0;32m   1046\u001b[0m     \u001b[38;5;28;01mraise\u001b[39;00m \u001b[38;5;167;01mValueError\u001b[39;00m(\n\u001b[0;32m   1047\u001b[0m         \u001b[38;5;124mf\u001b[39m\u001b[38;5;124m\"\u001b[39m\u001b[38;5;124mUnknown engine: \u001b[39m\u001b[38;5;132;01m{\u001b[39;00mengine\u001b[38;5;132;01m}\u001b[39;00m\u001b[38;5;124m (valid options are \u001b[39m\u001b[38;5;132;01m{\u001b[39;00mmapping\u001b[38;5;241m.\u001b[39mkeys()\u001b[38;5;132;01m}\u001b[39;00m\u001b[38;5;124m)\u001b[39m\u001b[38;5;124m\"\u001b[39m\n\u001b[0;32m   1048\u001b[0m     )\n\u001b[0;32m   1049\u001b[0m \u001b[38;5;66;03m# error: Too many arguments for \"ParserBase\"\u001b[39;00m\n\u001b[1;32m-> 1050\u001b[0m \u001b[38;5;28;01mreturn\u001b[39;00m mapping[engine](\u001b[38;5;28mself\u001b[39m\u001b[38;5;241m.\u001b[39mf, \u001b[38;5;241m*\u001b[39m\u001b[38;5;241m*\u001b[39m\u001b[38;5;28mself\u001b[39m\u001b[38;5;241m.\u001b[39moptions)\n",
      "File \u001b[1;32m~\\anaconda3\\envs\\practicum\\lib\\site-packages\\pandas\\io\\parsers.py:1867\u001b[0m, in \u001b[0;36mCParserWrapper.__init__\u001b[1;34m(self, src, **kwds)\u001b[0m\n\u001b[0;32m   1864\u001b[0m kwds[\u001b[38;5;124m\"\u001b[39m\u001b[38;5;124musecols\u001b[39m\u001b[38;5;124m\"\u001b[39m] \u001b[38;5;241m=\u001b[39m \u001b[38;5;28mself\u001b[39m\u001b[38;5;241m.\u001b[39musecols\n\u001b[0;32m   1866\u001b[0m \u001b[38;5;66;03m# open handles\u001b[39;00m\n\u001b[1;32m-> 1867\u001b[0m \u001b[38;5;28;43mself\u001b[39;49m\u001b[38;5;241;43m.\u001b[39;49m\u001b[43m_open_handles\u001b[49m\u001b[43m(\u001b[49m\u001b[43msrc\u001b[49m\u001b[43m,\u001b[49m\u001b[43m \u001b[49m\u001b[43mkwds\u001b[49m\u001b[43m)\u001b[49m\n\u001b[0;32m   1868\u001b[0m \u001b[38;5;28;01massert\u001b[39;00m \u001b[38;5;28mself\u001b[39m\u001b[38;5;241m.\u001b[39mhandles \u001b[38;5;129;01mis\u001b[39;00m \u001b[38;5;129;01mnot\u001b[39;00m \u001b[38;5;28;01mNone\u001b[39;00m\n\u001b[0;32m   1869\u001b[0m \u001b[38;5;28;01mfor\u001b[39;00m key \u001b[38;5;129;01min\u001b[39;00m (\u001b[38;5;124m\"\u001b[39m\u001b[38;5;124mstorage_options\u001b[39m\u001b[38;5;124m\"\u001b[39m, \u001b[38;5;124m\"\u001b[39m\u001b[38;5;124mencoding\u001b[39m\u001b[38;5;124m\"\u001b[39m, \u001b[38;5;124m\"\u001b[39m\u001b[38;5;124mmemory_map\u001b[39m\u001b[38;5;124m\"\u001b[39m, \u001b[38;5;124m\"\u001b[39m\u001b[38;5;124mcompression\u001b[39m\u001b[38;5;124m\"\u001b[39m):\n",
      "File \u001b[1;32m~\\anaconda3\\envs\\practicum\\lib\\site-packages\\pandas\\io\\parsers.py:1362\u001b[0m, in \u001b[0;36mParserBase._open_handles\u001b[1;34m(self, src, kwds)\u001b[0m\n\u001b[0;32m   1358\u001b[0m \u001b[38;5;28;01mdef\u001b[39;00m\u001b[38;5;250m \u001b[39m\u001b[38;5;21m_open_handles\u001b[39m(\u001b[38;5;28mself\u001b[39m, src: FilePathOrBuffer, kwds: Dict[\u001b[38;5;28mstr\u001b[39m, Any]) \u001b[38;5;241m-\u001b[39m\u001b[38;5;241m>\u001b[39m \u001b[38;5;28;01mNone\u001b[39;00m:\n\u001b[0;32m   1359\u001b[0m \u001b[38;5;250m    \u001b[39m\u001b[38;5;124;03m\"\"\"\u001b[39;00m\n\u001b[0;32m   1360\u001b[0m \u001b[38;5;124;03m    Let the readers open IOHanldes after they are done with their potential raises.\u001b[39;00m\n\u001b[0;32m   1361\u001b[0m \u001b[38;5;124;03m    \"\"\"\u001b[39;00m\n\u001b[1;32m-> 1362\u001b[0m     \u001b[38;5;28mself\u001b[39m\u001b[38;5;241m.\u001b[39mhandles \u001b[38;5;241m=\u001b[39m \u001b[43mget_handle\u001b[49m\u001b[43m(\u001b[49m\n\u001b[0;32m   1363\u001b[0m \u001b[43m        \u001b[49m\u001b[43msrc\u001b[49m\u001b[43m,\u001b[49m\n\u001b[0;32m   1364\u001b[0m \u001b[43m        \u001b[49m\u001b[38;5;124;43m\"\u001b[39;49m\u001b[38;5;124;43mr\u001b[39;49m\u001b[38;5;124;43m\"\u001b[39;49m\u001b[43m,\u001b[49m\n\u001b[0;32m   1365\u001b[0m \u001b[43m        \u001b[49m\u001b[43mencoding\u001b[49m\u001b[38;5;241;43m=\u001b[39;49m\u001b[43mkwds\u001b[49m\u001b[38;5;241;43m.\u001b[39;49m\u001b[43mget\u001b[49m\u001b[43m(\u001b[49m\u001b[38;5;124;43m\"\u001b[39;49m\u001b[38;5;124;43mencoding\u001b[39;49m\u001b[38;5;124;43m\"\u001b[39;49m\u001b[43m,\u001b[49m\u001b[43m \u001b[49m\u001b[38;5;28;43;01mNone\u001b[39;49;00m\u001b[43m)\u001b[49m\u001b[43m,\u001b[49m\n\u001b[0;32m   1366\u001b[0m \u001b[43m        \u001b[49m\u001b[43mcompression\u001b[49m\u001b[38;5;241;43m=\u001b[39;49m\u001b[43mkwds\u001b[49m\u001b[38;5;241;43m.\u001b[39;49m\u001b[43mget\u001b[49m\u001b[43m(\u001b[49m\u001b[38;5;124;43m\"\u001b[39;49m\u001b[38;5;124;43mcompression\u001b[39;49m\u001b[38;5;124;43m\"\u001b[39;49m\u001b[43m,\u001b[49m\u001b[43m \u001b[49m\u001b[38;5;28;43;01mNone\u001b[39;49;00m\u001b[43m)\u001b[49m\u001b[43m,\u001b[49m\n\u001b[0;32m   1367\u001b[0m \u001b[43m        \u001b[49m\u001b[43mmemory_map\u001b[49m\u001b[38;5;241;43m=\u001b[39;49m\u001b[43mkwds\u001b[49m\u001b[38;5;241;43m.\u001b[39;49m\u001b[43mget\u001b[49m\u001b[43m(\u001b[49m\u001b[38;5;124;43m\"\u001b[39;49m\u001b[38;5;124;43mmemory_map\u001b[39;49m\u001b[38;5;124;43m\"\u001b[39;49m\u001b[43m,\u001b[49m\u001b[43m \u001b[49m\u001b[38;5;28;43;01mFalse\u001b[39;49;00m\u001b[43m)\u001b[49m\u001b[43m,\u001b[49m\n\u001b[0;32m   1368\u001b[0m \u001b[43m        \u001b[49m\u001b[43mstorage_options\u001b[49m\u001b[38;5;241;43m=\u001b[39;49m\u001b[43mkwds\u001b[49m\u001b[38;5;241;43m.\u001b[39;49m\u001b[43mget\u001b[49m\u001b[43m(\u001b[49m\u001b[38;5;124;43m\"\u001b[39;49m\u001b[38;5;124;43mstorage_options\u001b[39;49m\u001b[38;5;124;43m\"\u001b[39;49m\u001b[43m,\u001b[49m\u001b[43m \u001b[49m\u001b[38;5;28;43;01mNone\u001b[39;49;00m\u001b[43m)\u001b[49m\u001b[43m,\u001b[49m\n\u001b[0;32m   1369\u001b[0m \u001b[43m    \u001b[49m\u001b[43m)\u001b[49m\n",
      "File \u001b[1;32m~\\anaconda3\\envs\\practicum\\lib\\site-packages\\pandas\\io\\common.py:642\u001b[0m, in \u001b[0;36mget_handle\u001b[1;34m(path_or_buf, mode, encoding, compression, memory_map, is_text, errors, storage_options)\u001b[0m\n\u001b[0;32m    640\u001b[0m         errors \u001b[38;5;241m=\u001b[39m \u001b[38;5;124m\"\u001b[39m\u001b[38;5;124mreplace\u001b[39m\u001b[38;5;124m\"\u001b[39m\n\u001b[0;32m    641\u001b[0m     \u001b[38;5;66;03m# Encoding\u001b[39;00m\n\u001b[1;32m--> 642\u001b[0m     handle \u001b[38;5;241m=\u001b[39m \u001b[38;5;28;43mopen\u001b[39;49m\u001b[43m(\u001b[49m\n\u001b[0;32m    643\u001b[0m \u001b[43m        \u001b[49m\u001b[43mhandle\u001b[49m\u001b[43m,\u001b[49m\n\u001b[0;32m    644\u001b[0m \u001b[43m        \u001b[49m\u001b[43mioargs\u001b[49m\u001b[38;5;241;43m.\u001b[39;49m\u001b[43mmode\u001b[49m\u001b[43m,\u001b[49m\n\u001b[0;32m    645\u001b[0m \u001b[43m        \u001b[49m\u001b[43mencoding\u001b[49m\u001b[38;5;241;43m=\u001b[39;49m\u001b[43mioargs\u001b[49m\u001b[38;5;241;43m.\u001b[39;49m\u001b[43mencoding\u001b[49m\u001b[43m,\u001b[49m\n\u001b[0;32m    646\u001b[0m \u001b[43m        \u001b[49m\u001b[43merrors\u001b[49m\u001b[38;5;241;43m=\u001b[39;49m\u001b[43merrors\u001b[49m\u001b[43m,\u001b[49m\n\u001b[0;32m    647\u001b[0m \u001b[43m        \u001b[49m\u001b[43mnewline\u001b[49m\u001b[38;5;241;43m=\u001b[39;49m\u001b[38;5;124;43m\"\u001b[39;49m\u001b[38;5;124;43m\"\u001b[39;49m\u001b[43m,\u001b[49m\n\u001b[0;32m    648\u001b[0m \u001b[43m    \u001b[49m\u001b[43m)\u001b[49m\n\u001b[0;32m    649\u001b[0m \u001b[38;5;28;01melse\u001b[39;00m:\n\u001b[0;32m    650\u001b[0m     \u001b[38;5;66;03m# Binary mode\u001b[39;00m\n\u001b[0;32m    651\u001b[0m     handle \u001b[38;5;241m=\u001b[39m \u001b[38;5;28mopen\u001b[39m(handle, ioargs\u001b[38;5;241m.\u001b[39mmode)\n",
      "\u001b[1;31mFileNotFoundError\u001b[0m: [Errno 2] No such file or directory: '/datasets/market_file.csv'"
     ]
    }
   ],
   "source": [
    "# Считываем CSV-файлы с данными с помощью библиотеки pandas и сохраняем их в датафреймы.\n",
    "market_file = pd.read_csv('/datasets/market_file.csv')\n",
    "market_file.info()"
   ]
  },
  {
   "cell_type": "code",
   "execution_count": null,
   "metadata": {},
   "outputs": [],
   "source": [
    "market_money = pd.read_csv('/datasets/market_money.csv')\n",
    "market_money.info()"
   ]
  },
  {
   "cell_type": "code",
   "execution_count": null,
   "metadata": {},
   "outputs": [],
   "source": [
    "market_time = pd.read_csv('/datasets/market_time.csv')\n",
    "market_time.info()"
   ]
  },
  {
   "cell_type": "code",
   "execution_count": null,
   "metadata": {},
   "outputs": [],
   "source": [
    "money = pd.read_csv('/datasets/money.csv', sep = ';', decimal = ',')\n",
    "money.info()"
   ]
  },
  {
   "cell_type": "markdown",
   "metadata": {},
   "source": [
    "<span style=\"color: blue; font-weight: bold\">Комментарий ревьюера : </span> ✔️\\\n",
    "<span style=\"color: green\"> 👍</span>"
   ]
  },
  {
   "cell_type": "markdown",
   "metadata": {},
   "source": [
    "Пропусков нет, тип данных корректный. Посмотрим, есть ли дубликаты?"
   ]
  },
  {
   "cell_type": "code",
   "execution_count": null,
   "metadata": {},
   "outputs": [],
   "source": [
    "market_file.duplicated().sum()\n",
    "market_money.duplicated().sum()\n",
    "market_time.duplicated().sum()\n",
    "money.duplicated().sum()"
   ]
  },
  {
   "cell_type": "markdown",
   "metadata": {},
   "source": [
    "Полных строк дубликатов нет ни в одном датасете. Посмотрим, есть ли неявные дубликаты среди значений категориальных признаков."
   ]
  },
  {
   "cell_type": "code",
   "execution_count": null,
   "metadata": {},
   "outputs": [],
   "source": [
    "market_file['Тип сервиса'].value_counts()"
   ]
  },
  {
   "cell_type": "code",
   "execution_count": null,
   "metadata": {},
   "outputs": [],
   "source": [
    "_idx = market_file[market_file['Тип сервиса'] == 'стандартт'].index # устранение неявных дубликатов\n",
    "market_file.loc[_idx, 'Тип сервиса'] = 'стандарт'"
   ]
  },
  {
   "cell_type": "markdown",
   "metadata": {},
   "source": [
    "<span style=\"color: blue; font-weight: bold\">Комментарий ревьюера : </span> ✔️\\\n",
    "<span style=\"color: green\"> 👍</span>"
   ]
  },
  {
   "cell_type": "code",
   "execution_count": null,
   "metadata": {},
   "outputs": [],
   "source": [
    "market_file['Популярная_категория'].value_counts()"
   ]
  },
  {
   "cell_type": "code",
   "execution_count": null,
   "metadata": {},
   "outputs": [],
   "source": [
    "market_file.loc[market_file['Популярная_категория'] == \\\n",
    "                'Косметика и аксесуары', 'Популярная_категория'] = 'Косметика и аксессуары'\n",
    "market_file['Популярная_категория'].value_counts()"
   ]
  },
  {
   "cell_type": "markdown",
   "metadata": {},
   "source": [
    "<span style=\"color: blue; font-weight: bold\">Комментарий ревьюера : </span> ✔️\\\n",
    "<span style=\"color: green\"> 👍</span>"
   ]
  },
  {
   "cell_type": "code",
   "execution_count": null,
   "metadata": {},
   "outputs": [],
   "source": [
    "market_money['Период'].value_counts()"
   ]
  },
  {
   "cell_type": "code",
   "execution_count": null,
   "metadata": {},
   "outputs": [],
   "source": [
    "market_time['Период'].value_counts()"
   ]
  },
  {
   "cell_type": "code",
   "execution_count": null,
   "metadata": {},
   "outputs": [],
   "source": [
    "market_time.loc[market_time['Период'] == 'предыдцщий_месяц', 'Период'] = 'предыдущий_месяц'\n",
    "market_time['Период'].value_counts()"
   ]
  },
  {
   "cell_type": "markdown",
   "metadata": {},
   "source": [
    "<span style=\"color: blue; font-weight: bold\">Комментарий ревьюера : </span> ✔️\\\n",
    "<span style=\"color: green\"> 👍</span>"
   ]
  },
  {
   "cell_type": "markdown",
   "metadata": {},
   "source": [
    "<font color='blue'><b>Комментарий ревьюера: </b></font> ❌\\\n",
    "<font color='red'>~~Здесь заканчивается структурный блок работы - стоит сделать промежуточные выводы о проделанной работе в блоке.~~</font>"
   ]
  },
  {
   "cell_type": "markdown",
   "metadata": {},
   "source": [
    "Пропусков в имеющихся данных нет, тип данных корректный. Полных строк дубликатов нет ни в одном датасете. Были найдены неявные дубликаты среди значений категориальных признаков, их обработали."
   ]
  },
  {
   "cell_type": "markdown",
   "metadata": {},
   "source": [
    "<font color='blue'><b>Комментарий ревьюера 2: </b></font> ✔️ <br>\n",
    "<font color='green'>Здорово, что не забываешь про промежуточные выводы.</font>"
   ]
  },
  {
   "cell_type": "markdown",
   "metadata": {},
   "source": [
    "## **Исследовательский анализ данных.**"
   ]
  },
  {
   "cell_type": "code",
   "execution_count": null,
   "metadata": {},
   "outputs": [],
   "source": [
    "market_file.drop('id', axis=1).describe() # посмотрим на статистики количественных признаков"
   ]
  },
  {
   "cell_type": "markdown",
   "metadata": {},
   "source": [
    "У всех количественных признаков медиана и среднее очень близки, поэтому можно предположить, что выбросов нет. Посмотрим на ящики с усами."
   ]
  },
  {
   "cell_type": "code",
   "execution_count": null,
   "metadata": {},
   "outputs": [],
   "source": [
    "market_file.boxplot('Маркет_актив_6_мес');"
   ]
  },
  {
   "cell_type": "markdown",
   "metadata": {},
   "source": [
    "Строго говоря, это выбросы (внизу), однако для данного признака (это значение показывает, какое число рассылок, звонков, показов рекламы и прочего приходилось на клиента) вполне могли быть такие низкие значения. Поэтому ничего удалять не будем!"
   ]
  },
  {
   "cell_type": "code",
   "execution_count": null,
   "metadata": {},
   "outputs": [],
   "source": [
    "market_file.boxplot('Акционные_покупки');"
   ]
  },
  {
   "cell_type": "markdown",
   "metadata": {},
   "source": [
    "Аналогично, ничего не удаляем. Доля, близкая к 1, означает, что клиент совершал в основном покупки по акции. Это вполне правдоподобно.)"
   ]
  },
  {
   "cell_type": "code",
   "execution_count": null,
   "metadata": {},
   "outputs": [],
   "source": [
    "market_file.boxplot('Неоплаченные_продукты_штук_квартал');"
   ]
  },
  {
   "cell_type": "markdown",
   "metadata": {},
   "source": [
    "И такое бывает."
   ]
  },
  {
   "cell_type": "code",
   "execution_count": null,
   "metadata": {},
   "outputs": [],
   "source": [
    "market_file.boxplot('Страниц_за_визит');"
   ]
  },
  {
   "cell_type": "markdown",
   "metadata": {},
   "source": [
    "Посмотрим на категориальные признаки."
   ]
  },
  {
   "cell_type": "code",
   "execution_count": null,
   "metadata": {},
   "outputs": [],
   "source": [
    "market_file['Покупательская активность'].value_counts().plot(kind='pie', autopct='%.1f');"
   ]
  },
  {
   "cell_type": "markdown",
   "metadata": {},
   "source": [
    "По крайней мере у 61% клиентов покупательская активность остаётся на прежнем уровне."
   ]
  },
  {
   "cell_type": "code",
   "execution_count": null,
   "metadata": {},
   "outputs": [],
   "source": [
    "market_file['Тип сервиса'].value_counts().plot(kind='pie', autopct='%.1f');"
   ]
  },
  {
   "cell_type": "markdown",
   "metadata": {},
   "source": [
    "Ожидаемо."
   ]
  },
  {
   "cell_type": "code",
   "execution_count": null,
   "metadata": {},
   "outputs": [],
   "source": [
    "market_file['Разрешить сообщать'].value_counts().plot(kind='pie', autopct='%.1f');"
   ]
  },
  {
   "cell_type": "markdown",
   "metadata": {},
   "source": [
    "Неожидаемо.)"
   ]
  },
  {
   "cell_type": "code",
   "execution_count": null,
   "metadata": {},
   "outputs": [],
   "source": [
    "market_file['Популярная_категория'].value_counts().plot(kind='pie', autopct='%.1f');\n",
    "plt.title('Распределение популярных категорий (%)');"
   ]
  },
  {
   "cell_type": "markdown",
   "metadata": {},
   "source": [
    "Лидируют товары для детей, домашний текстиль, косметика и аксессуары."
   ]
  },
  {
   "cell_type": "code",
   "execution_count": null,
   "metadata": {},
   "outputs": [],
   "source": [
    "market_money.head()"
   ]
  },
  {
   "cell_type": "markdown",
   "metadata": {},
   "source": [
    "<font color='blue'><b>Комментарий ревьюера: </b></font> ⚠️\\\n",
    "<font color='darkorange'>Датафреймы лучше всегда ограничивать методами .head(), .tail(), sample(). Иначе в выводах ячейки записывается весь Датафрейм, хоть он и не выводится на экран полностью. Такие Аутпуты сильно перегружают тетрадку.</font>"
   ]
  },
  {
   "cell_type": "markdown",
   "metadata": {},
   "source": [
    "<span style=\"color: blue; font-weight: bold\">Комментарий ревьюера 2: </span> ✔️\\\n",
    "<span style=\"color: green\"> 👍</span>"
   ]
  },
  {
   "cell_type": "code",
   "execution_count": null,
   "metadata": {},
   "outputs": [],
   "source": [
    "market_money_pivot = market_money.pivot_table(index=['id'],\n",
    "                                                values='Выручка',\n",
    "                                                columns='Период')\n",
    "market_money_pivot.head()              "
   ]
  },
  {
   "cell_type": "code",
   "execution_count": null,
   "metadata": {},
   "outputs": [],
   "source": [
    "money_pivot = market_money_pivot.loc[market_money_pivot['предыдущий_месяц'] != 0]. \\\n",
    "                                    loc[market_money_pivot['препредыдущий_месяц'] != 0]. \\\n",
    "                                    loc[market_money_pivot['текущий_месяц'] != 0]\n",
    "money_pivot.info()"
   ]
  },
  {
   "cell_type": "markdown",
   "metadata": {},
   "source": [
    "<br><span style=\"color: purple; font-weight: bold\">Удалили трех человек.</span>"
   ]
  },
  {
   "cell_type": "markdown",
   "metadata": {},
   "source": [
    "<font color='blue'><b>Комментарий ревьюера 2: </b></font> ✔️\\\n",
    "<font color='green'>Неактивные удалены 👌</font>"
   ]
  },
  {
   "cell_type": "markdown",
   "metadata": {},
   "source": [
    "**Выводы по результатам шага.**\n",
    "\n",
    "- У 61% клиентов покупательская активность остаётся на прежнем уровне.\n",
    "- Типом сервиса Премиум пользуются 28.9% клиентов.\n",
    "- Лишь 26% клиентов не хотят получать дополнительные предложения о товаре.\n",
    "- В лидерах популярных категорий товары для детей, домашний текстиль, косметика и аксессуары.\n",
    "\n"
   ]
  },
  {
   "cell_type": "markdown",
   "metadata": {},
   "source": [
    "<font color='blue'><b>Комментарий ревьюера: </b></font> ❌\\\n",
    "<font color='red'> ~~Нужно удалить пользователей без покупок хотя бы в одном из трёх месяцев, у них активность менее трёх месяцев. Это можно проявить по выручке.~~</font>"
   ]
  },
  {
   "cell_type": "markdown",
   "metadata": {},
   "source": [
    "<br><span style=\"color: purple; font-weight: bold\">Удалила.</span>"
   ]
  },
  {
   "cell_type": "markdown",
   "metadata": {},
   "source": [
    "<font color='blue'><b>Комментарий ревьюера : </b></font> ❌\\\n",
    "<font color='red'> Нужно провести анализ данных в таблицах market_time, market_money и money.</font>"
   ]
  },
  {
   "cell_type": "code",
   "execution_count": null,
   "metadata": {},
   "outputs": [],
   "source": [
    "market_time['минут'].hist(bins=20);"
   ]
  },
  {
   "cell_type": "markdown",
   "metadata": {},
   "source": [
    "Это нормальное распределение. Можно сказать, что в среднем покупатель проводит на сайте 12-15 минут в месяц."
   ]
  },
  {
   "cell_type": "markdown",
   "metadata": {},
   "source": [
    "<font color='blue'><b>Комментарий ревьюера 2: </b></font> \\\n",
    "<font color='darkorange'> Если сложно определить нормальность распределений по графикам, можно использовать стат.тесты, например Шапиро-Уилка:</font>\n",
    "```python\n",
    "from scipy.stats import shapiro\n",
    "stat, p_val = shapiro(df_train_job.job_satisfaction_rate)\n",
    "if p_val < 0.5: print('не нормальное')\n",
    "else: print('нормальное')\n",
    "```"
   ]
  },
  {
   "cell_type": "markdown",
   "metadata": {},
   "source": [
    "Попробовала, спасибо!!"
   ]
  },
  {
   "cell_type": "markdown",
   "metadata": {},
   "source": [
    "<span style=\"color: blue; font-weight: bold\">Комментарий ревьюера : </span>  ❌\\\n",
    "<span style=\"color: red\"> ~~У тебя условие написано наоборот. Если P-значение (англ. P-value) меньше порога, то нулевая гипотеза отвергается, а нулевая гипотеза для Шапиро-Уилка: H_0: «случайная величина X распределена нормально».~~</span>"
   ]
  },
  {
   "cell_type": "code",
   "execution_count": null,
   "metadata": {},
   "outputs": [],
   "source": [
    "from scipy.stats import shapiro\n",
    "stat, p_val = shapiro(market_time['минут'])\n",
    "if p_val < 0.5:\n",
    "    print('не нормальное')\n",
    "else:\n",
    "    print('нормальное')\n",
    "display(stat, p_val)"
   ]
  },
  {
   "cell_type": "markdown",
   "metadata": {},
   "source": [
    "<br><span style=\"color: purple; font-weight: bold\">Оказывается, и время, проведённое на сайте, распределено не нормально!?</span>"
   ]
  },
  {
   "cell_type": "markdown",
   "metadata": {},
   "source": [
    "<span style=\"color: blue; font-weight: bold\">Комментарий ревьюера 4: </span> ✔️\\\n",
    "<span style=\"color: green\"> 🤷</span>"
   ]
  },
  {
   "cell_type": "code",
   "execution_count": null,
   "metadata": {},
   "outputs": [],
   "source": [
    "market_money['Выручка'].hist( bins=30);"
   ]
  },
  {
   "cell_type": "markdown",
   "metadata": {},
   "source": [
    "Посмотрим на ящик с усами."
   ]
  },
  {
   "cell_type": "code",
   "execution_count": null,
   "metadata": {},
   "outputs": [],
   "source": [
    "market_money.boxplot('Выручка');"
   ]
  },
  {
   "cell_type": "markdown",
   "metadata": {},
   "source": [
    "Действительно, имеется выброс. Посмотрим на него внимательнее.\n",
    "(Это тоже нормальное распределение. Можно сказать, что в среднем покупатель тратит на сайте 5000 рублей в месяц.)"
   ]
  },
  {
   "cell_type": "markdown",
   "metadata": {},
   "source": [
    "<font color='blue'><b>Комментарий ревьюера 3: </b></font> ✔️\\\n",
    "<font color='green'>Действительно явный выброс.\n",
    "Можно удалить, а можно и заполнить, например значением предыдущего месяца.</font>"
   ]
  },
  {
   "cell_type": "markdown",
   "metadata": {},
   "source": [
    "<br><span style=\"color: purple; font-weight: bold\">Заполним значением предыдущего месяца!</span>"
   ]
  },
  {
   "cell_type": "code",
   "execution_count": null,
   "metadata": {},
   "outputs": [],
   "source": [
    "market_money.loc[98, 'Выручка'] = market_money.loc[97, 'Выручка']\n",
    "market_money[market_money['id'] == 215380]"
   ]
  },
  {
   "cell_type": "markdown",
   "metadata": {},
   "source": [
    "<span style=\"color: blue; font-weight: bold\">Комментарий ревьюера 4: </span> ✔️\\\n",
    "<span style=\"color: green\"> 👍</span>"
   ]
  },
  {
   "cell_type": "code",
   "execution_count": null,
   "metadata": {},
   "outputs": [],
   "source": [
    "money[money['id'] == 215380]"
   ]
  },
  {
   "cell_type": "markdown",
   "metadata": {},
   "source": [
    "Прибыль по нему средняя."
   ]
  },
  {
   "cell_type": "markdown",
   "metadata": {},
   "source": [
    "<span style=\"color: blue; font-weight: bold\">Комментарий ревьюера 2: </span>  ❌\\\n",
    "<span style=\"color: red\"> ~~Это явно не нормальное распределение. Похоже в данных есть ошибки ...~~</span>"
   ]
  },
  {
   "cell_type": "markdown",
   "metadata": {},
   "source": [
    "<br><span style=\"color: purple; font-weight: bold\">Попробуем проверить тестом Шапиро-Уилка?</span>"
   ]
  },
  {
   "cell_type": "code",
   "execution_count": null,
   "metadata": {},
   "outputs": [],
   "source": [
    "stat, p_val = shapiro(market_money['Выручка'])\n",
    "if p_val < 0.5:\n",
    "    print('не нормальное')\n",
    "else:\n",
    "    print('нормальное')\n",
    "display(stat, p_val)"
   ]
  },
  {
   "cell_type": "markdown",
   "metadata": {},
   "source": [
    "<br><span style=\"color: purple; font-weight: bold\">Или я что-то делаю неправильно?...</span>"
   ]
  },
  {
   "cell_type": "markdown",
   "metadata": {},
   "source": [
    "<span style=\"color: blue; font-weight: bold\">Комментарий ревьюера 3: </span>  ❌\\\n",
    "<span style=\"color: blue\">Написал выше  </span>"
   ]
  },
  {
   "cell_type": "code",
   "execution_count": null,
   "metadata": {},
   "outputs": [],
   "source": [
    "money['Прибыль'].hist(bins=20);"
   ]
  },
  {
   "cell_type": "markdown",
   "metadata": {},
   "source": [
    "Не знаю, в чём измеряется эта прибыль, но в среднем она составляет 4 единицы от одного клиента."
   ]
  },
  {
   "cell_type": "code",
   "execution_count": null,
   "metadata": {},
   "outputs": [],
   "source": [
    "data = market_file.join(money_pivot, on = 'id').dropna().\\\n",
    "        rename(columns={'предыдущий_месяц': 'выручка_пре', 'препредыдущий_месяц': 'выручка_препре', \\\n",
    "                        'текущий_месяц': 'выручка_тек'})\n",
    "data.head()"
   ]
  },
  {
   "cell_type": "markdown",
   "metadata": {},
   "source": [
    "<font color='blue'><b>Комментарий ревьюера: </b></font> ⚠️\\\n",
    "<font color='darkorange'> Таблицы можно \"развернуть вширь\" по id  методом pivot_table. Необязательно прописывать каждую колонку.</font>"
   ]
  },
  {
   "cell_type": "markdown",
   "metadata": {},
   "source": [
    "<br><span style=\"color: purple; font-weight: bold\">Благодарю за подсказку, так и сделала! Аналогично поступим со временем.</span>"
   ]
  },
  {
   "cell_type": "markdown",
   "metadata": {},
   "source": [
    "<font color='blue'><b>Комментарий ревьюера 2: </b></font> ✔️\\\n",
    "<font color='green'> Отлично!  Развернули таблицы.</font>"
   ]
  },
  {
   "cell_type": "code",
   "execution_count": null,
   "metadata": {},
   "outputs": [],
   "source": [
    "time_pivot = market_time.pivot_table(index=['id'], values='минут', columns='Период')\n",
    "time_pivot.head()  "
   ]
  },
  {
   "cell_type": "code",
   "execution_count": null,
   "metadata": {
    "scrolled": true
   },
   "outputs": [],
   "source": [
    "data = data.join(time_pivot, on = 'id').\\\n",
    "                        rename(columns={'предыдущий_месяц': 'минут_пре', 'препредыдущий_месяц': 'минут_препре', \\\n",
    "                        'текущий_месяц': 'минут_тек'})\n",
    "data.head()"
   ]
  },
  {
   "cell_type": "code",
   "execution_count": null,
   "metadata": {
    "scrolled": true
   },
   "outputs": [],
   "source": [
    "#data = data.merge(money, on = 'id') Не будем подшивать прибыль!\n",
    "#data.head()"
   ]
  },
  {
   "cell_type": "code",
   "execution_count": null,
   "metadata": {
    "scrolled": true
   },
   "outputs": [],
   "source": [
    "data = data.set_index('id')\n",
    "data.head()"
   ]
  },
  {
   "cell_type": "markdown",
   "metadata": {},
   "source": [
    "<font color='blue'><b>Комментарий ревьюера 2: </b></font> ⚠️\\\n",
    "<font color='darkorange'> `id` лучше убрать в индекс, так как он ещё понадобиться при Сегментации пользователей.</font>"
   ]
  },
  {
   "cell_type": "markdown",
   "metadata": {},
   "source": [
    "<br><span style=\"color: purple; font-weight: bold\">Сделала так! Благодарю!</span>"
   ]
  },
  {
   "cell_type": "markdown",
   "metadata": {},
   "source": [
    "<font color='blue'><b>Комментарий ревьюера : </b></font> ✔️\\\n",
    "<font color='green'> Верно, при объединении таблиц нужно привязаться к уникальному `\"id\"`.</font>"
   ]
  },
  {
   "cell_type": "markdown",
   "metadata": {},
   "source": [
    "Всё есть!"
   ]
  },
  {
   "cell_type": "markdown",
   "metadata": {},
   "source": [
    "<font color='blue'><b>Комментарий ревьюера 3: </b></font> ❌\\\n",
    "<font color='red'> ~~Нужно убрать аномально высокое значение по выручке, прибыль с этого id не отличаетсся от остальных. Это ошибка в данных.~~</font>"
   ]
  },
  {
   "cell_type": "markdown",
   "metadata": {},
   "source": [
    "<br><span style=\"color: purple; font-weight: bold\">Заполнила значением предыдущего месяца.</span>"
   ]
  },
  {
   "cell_type": "markdown",
   "metadata": {},
   "source": [
    "<span style=\"color: blue; font-weight: bold\">Комментарий ревьюера 4: </span> ✔️\\\n",
    "<span style=\"color: green\"> 👍</span>"
   ]
  },
  {
   "cell_type": "markdown",
   "metadata": {},
   "source": [
    "## **Корреляционный анализ.**"
   ]
  },
  {
   "cell_type": "markdown",
   "metadata": {},
   "source": [
    "Сразу выведем корреляции и с категориальными колонками, для этого используем phik! Целевой признак удалим."
   ]
  },
  {
   "cell_type": "markdown",
   "metadata": {},
   "source": [
    "<span style=\"color: blue; font-weight: bold\">Комментарий ревьюера : </span> ⚠️\\\n",
    "<span style=\"color: darkorange\"> Зачем удалять таргет?</span>"
   ]
  },
  {
   "cell_type": "code",
   "execution_count": null,
   "metadata": {},
   "outputs": [],
   "source": [
    "plt.figure(figsize=(15,10));\n",
    "sns.heatmap(data.drop('Покупательская активность', 1).phik_matrix(), annot=True);\n",
    "plt.title('Матрица корреляций');\n",
    "plt.show();"
   ]
  },
  {
   "cell_type": "markdown",
   "metadata": {},
   "source": [
    "(Видна достаточно высокая корреляция признака \"Акционные_покупки\" с признаками \"Выручка_предыдущий_месяц\" и \"Выручка_препредыдущий_месяц\". Возможно, акции действительно стимулируют покупательскую активность и \"заставляют\" тратить больше денег?)\n",
    "\n",
    "<br><span style=\"color: purple; font-weight: bold\">Ничего этого теперь не видно! Видно только,что самый высокий коэффициент корреляции у признаков \"минут_предыдущий_месяц\" и \"Страниц_за_визит\". Но и он не зашкаливает, поэтому говорить о мультиколлинеарности не приходится.</span>\n",
    "\n",
    "Посмотрим на диаграммы рассеяния."
   ]
  },
  {
   "cell_type": "markdown",
   "metadata": {},
   "source": [
    "<span style=\"color: blue; font-weight: bold\">Комментарий ревьюера 3: </span> ✔️\\\n",
    "<span style=\"color: green\"> 👍</span>"
   ]
  },
  {
   "cell_type": "code",
   "execution_count": null,
   "metadata": {},
   "outputs": [],
   "source": [
    "data.plot(x='Акционные_покупки', y='выручка_пре', kind='scatter', alpha=0.3);"
   ]
  },
  {
   "cell_type": "markdown",
   "metadata": {},
   "source": [
    "Не похоже, т.к. есть клиенты с долей акционных покупок, близкой к 1, но выручка от них не превосходит 4000. И наоборот, есть такие, у которых доля акционных покупок меньше 0.2, а выручка превышает 6000... Возможно, поведение меняется в зависимости от типа сервиса? Посмотрим в этом разрезе."
   ]
  },
  {
   "cell_type": "code",
   "execution_count": null,
   "metadata": {},
   "outputs": [],
   "source": [
    "sns.pairplot(data, x_vars='Акционные_покупки', y_vars='выручка_пре', hue='Тип сервиса');"
   ]
  },
  {
   "cell_type": "markdown",
   "metadata": {},
   "source": [
    "Нет, не похоже... Кроме этого видна высокая корелляция признаков Выручка_предыдущий_месяц и Выручка_препредыдущий_месяц. Хотя говорить о мультиколлинеарности (при значении коэффициента корреляции от 0.9 до 0.95 по модулю) не приходится, возможно, стоит удалить один из них. Пока оставлю!"
   ]
  },
  {
   "cell_type": "code",
   "execution_count": null,
   "metadata": {},
   "outputs": [],
   "source": [
    "data.plot(x='выручка_пре', y='выручка_препре', kind='scatter', alpha=0.3);"
   ]
  },
  {
   "cell_type": "markdown",
   "metadata": {},
   "source": [
    "Построим диаграммы рассеяния scatterplot для целевого признака Покупательская активность и всех количественных признаков с учётом значения категориальных признаков. Так как количественных признаков очень много, разобьём их на несколько списков."
   ]
  },
  {
   "cell_type": "code",
   "execution_count": null,
   "metadata": {},
   "outputs": [],
   "source": [
    "numeric_features_1 = ['Маркет_актив_6_мес', 'Маркет_актив_тек_мес', 'Длительность', 'Акционные_покупки']\n",
    "category_features = ['Покупательская активность', 'Тип сервиса', 'Разрешить сообщать', 'Популярная_категория']\n",
    "for category in category_features:\n",
    "    sns.pairplot(data, x_vars=numeric_features_1, y_vars='Покупательская активность', hue=category)"
   ]
  },
  {
   "cell_type": "code",
   "execution_count": null,
   "metadata": {},
   "outputs": [],
   "source": [
    "numeric_features_2 = ['Средний_просмотр_категорий_за_визит', \\\n",
    "                    'Неоплаченные_продукты_штук_квартал', \\\n",
    "                    'Ошибка_сервиса', \\\n",
    "                    'Страниц_за_визит']\n",
    "category_features = ['Покупательская активность', 'Тип сервиса', 'Разрешить сообщать', 'Популярная_категория']\n",
    "for category in category_features:\n",
    "    sns.pairplot(data, x_vars=numeric_features_2, y_vars='Покупательская активность', hue=category)"
   ]
  },
  {
   "cell_type": "code",
   "execution_count": null,
   "metadata": {},
   "outputs": [],
   "source": [
    "numeric_features_3 = ['выручка_тек', 'выручка_пре', 'выручка_препре', 'минут_тек', 'минут_пре']\n",
    "category_features = ['Покупательская активность', 'Тип сервиса', 'Разрешить сообщать', 'Популярная_категория']\n",
    "for category in category_features:\n",
    "    sns.pairplot(data, x_vars=numeric_features_3, y_vars='Покупательская активность', hue=category)"
   ]
  },
  {
   "cell_type": "markdown",
   "metadata": {},
   "source": [
    "Никаких содержательных выводов из этих диаграмм у меня не получается сделать."
   ]
  },
  {
   "cell_type": "markdown",
   "metadata": {},
   "source": [
    "<font color='blue'><b>Комментарий ревьюера : </b></font> ✔️\\\n",
    "<font color='green'>Здорово,что применена `phik` для анализа и нелинейных зависимостей</font>"
   ]
  },
  {
   "cell_type": "markdown",
   "metadata": {},
   "source": [
    "## **Использование пайплайнов**"
   ]
  },
  {
   "cell_type": "markdown",
   "metadata": {},
   "source": [
    "Попробуем.)"
   ]
  },
  {
   "cell_type": "code",
   "execution_count": null,
   "metadata": {},
   "outputs": [],
   "source": [
    "data['активность_категория'] = data['Покупательская активность'].apply(lambda x: 1 if x == 'Снизилась' else 0)\n",
    "data.head()"
   ]
  },
  {
   "cell_type": "code",
   "execution_count": null,
   "metadata": {},
   "outputs": [],
   "source": [
    "RANDOM_STATE = 42\n",
    "TEST_SIZE = 0.25\n",
    "\n",
    "X_train, X_test, y_train, y_test = train_test_split(\n",
    "    data.drop(['Покупательская активность', 'активность_категория'], axis=1),\n",
    "    data['активность_категория'],\n",
    "    test_size = TEST_SIZE, \n",
    "    random_state = RANDOM_STATE,\n",
    "    stratify = data['активность_категория'])\n",
    "\n",
    "X_train.shape, X_test.shape"
   ]
  },
  {
   "cell_type": "markdown",
   "metadata": {},
   "source": [
    "<span style=\"color: blue; font-weight: bold\">Комментарий ревьюера : </span> ✔️\\\n",
    "<span style=\"color: green\"> 👍</span>"
   ]
  },
  {
   "cell_type": "code",
   "execution_count": null,
   "metadata": {},
   "outputs": [],
   "source": [
    "# создаём списки с названиями признаков\n",
    "ohe_columns = ['Тип сервиса', 'Разрешить сообщать', 'Популярная_категория']\n",
    "#ord_columns = []\n",
    "num_columns = ['Маркет_актив_6_мес', 'Маркет_актив_тек_мес', 'Длительность', 'Акционные_покупки',\\\n",
    "              'Средний_просмотр_категорий_за_визит', 'Неоплаченные_продукты_штук_квартал', \\\n",
    "              'Ошибка_сервиса', 'Страниц_за_визит', 'выручка_тек', \\\n",
    "              'выручка_пре', 'выручка_препре', 'минут_тек', 'минут_пре']"
   ]
  },
  {
   "cell_type": "markdown",
   "metadata": {},
   "source": [
    "<span style=\"color: blue; font-weight: bold\">Комментарий ревьюера : </span>  ❌\\\n",
    "<span style=\"color: red\">~~'Прибыль' - не участвует в моделировании.~~ </span>\n",
    "> Данные о прибыли из файла `money.csv` при моделировании вам не понадобятся. "
   ]
  },
  {
   "cell_type": "markdown",
   "metadata": {},
   "source": [
    "<br><span style=\"color: purple; font-weight: bold\">Убрала, да! Собственно, это была заплатка, как вы поняли))</span>"
   ]
  },
  {
   "cell_type": "markdown",
   "metadata": {},
   "source": [
    "<span style=\"color: blue; font-weight: bold\">Комментарий ревьюера 3: </span> ✔️\\\n",
    "<span style=\"color: green\"> 👍</span>"
   ]
  },
  {
   "cell_type": "markdown",
   "metadata": {},
   "source": [
    "<span style=\"color: blue; font-weight: bold\">Комментарий ревьюера : </span> ⚠️\\\n",
    "<span style=\"color: darkorange\"> По заданию нужно два Энкодера.\\\n",
    "Можно передавать в параметрах для LR, KNN и SVC - OHE, а для Дерева перебрать OHE и OE,\\\n",
    "a можно засунуть в ord_columns какой-нибудь бинарный признак, например 'тип_сервиса'. </span>\n",
    "```text\n",
    "Для кодирования категориальных признаков используйте как минимум два кодировщика.\n",
    "Напоминаем, что для каждой модели можно подготовить данные с разным кодированием и масштабированием.\n",
    "```"
   ]
  },
  {
   "cell_type": "code",
   "execution_count": null,
   "metadata": {},
   "outputs": [],
   "source": [
    "# создаём пайплайн для подготовки признаков из списка ohe_columns: заполнение пропусков и OHE-кодирование\n",
    "# SimpleImputer + OHE\n",
    "ohe_pipe = Pipeline(\n",
    "    [('simpleImputer_ohe', SimpleImputer(missing_values=np.nan, strategy='most_frequent')),\n",
    "     ('ohe', OneHotEncoder(drop='first', handle_unknown='error'))\n",
    "    ]\n",
    ")\n",
    "\n",
    "# создаём общий пайплайн для подготовки данных\n",
    "data_preprocessor = ColumnTransformer(\n",
    "    [('ohe', ohe_pipe, ohe_columns),\n",
    "     ('num', MinMaxScaler(), num_columns)\n",
    "    ], \n",
    "    remainder='passthrough'\n",
    ")\n",
    "\n",
    "# создаём итоговый пайплайн: подготовка данных и модель\n",
    "pipe_final = Pipeline([\n",
    "    ('preprocessor', data_preprocessor),\n",
    "    ('models', DecisionTreeClassifier(random_state=RANDOM_STATE))\n",
    "])\n",
    "\n",
    "param_grid = [\n",
    "    # словарь для модели DecisionTreeClassifier()\n",
    "    {\n",
    "        'models': [DecisionTreeClassifier(random_state=RANDOM_STATE)],\n",
    "        'models__max_depth': range(2, 5),\n",
    "        'models__max_features': range(2, 5),\n",
    "        'preprocessor__num': [StandardScaler(), MinMaxScaler(), 'passthrough']  \n",
    "    },\n",
    "    \n",
    "    # словарь для модели KNeighborsClassifier() \n",
    "    {\n",
    "        'models': [KNeighborsClassifier()],\n",
    "        'models__n_neighbors': range(2, 5),\n",
    "        'preprocessor__num': [StandardScaler(), MinMaxScaler(), 'passthrough']   \n",
    "    },\n",
    "    # словарь для модели SVC()\n",
    "    {\n",
    "        'models': [SVC(random_state=RANDOM_STATE, probability=True)],\n",
    "        'models__degree': range(4, 6),\n",
    "        'preprocessor__num': [StandardScaler(), MinMaxScaler(), 'passthrough']  \n",
    "\n",
    "    },\n",
    "    # словарь для модели LogisticRegression()\n",
    "    {\n",
    "        'models': [LogisticRegression(\n",
    "            random_state=RANDOM_STATE, \n",
    "            solver='liblinear', \n",
    "            penalty='l1'\n",
    "        )],\n",
    "        'models__C': range(1, 5),\n",
    "        'preprocessor__num': [StandardScaler(), MinMaxScaler(), 'passthrough']  \n",
    "    }\n",
    "]\n",
    "\n",
    "randomized_search = RandomizedSearchCV(\n",
    "    pipe_final, \n",
    "    param_grid, \n",
    "    cv=5,\n",
    "    scoring='roc_auc',\n",
    "    random_state=RANDOM_STATE,\n",
    "    n_jobs=-1\n",
    ")\n",
    "randomized_search.fit(X_train, y_train)\n",
    "\n",
    "print('Лучшая модель и её параметры:\\n\\n', randomized_search.best_estimator_)\n",
    "print ('Метрика лучшей модели на тренировочной выборке:', randomized_search.best_score_)\n",
    "\n",
    "# проверим работу модели на тестовой выборке\n",
    "# рассчитаем прогноз на тестовых данных\n",
    "#y_test_pred = randomized_search.predict(X_test)\n",
    "#print(f'Метрика ROC-AUC на тестовой выборке: {roc_auc_score(y_test, y_test_pred)}')\n",
    "\n",
    "probabilities = randomized_search.predict_proba(X_test)\n",
    "probabilities_one = probabilities[:, 1]\n",
    "print('Площадь ROC-кривой:', roc_auc_score(y_test, probabilities_one))"
   ]
  },
  {
   "cell_type": "markdown",
   "metadata": {},
   "source": [
    "<font color='blue'><b>Комментарий ревьюера: </b></font> ❌\\\n",
    "<font color='red'> ~~В SVC нужно передать аргумент probability= True. Чтобы можно было работать с вероятностями, если модель выиграет.~~</font>"
   ]
  },
  {
   "cell_type": "markdown",
   "metadata": {},
   "source": [
    "<br><span style=\"color: purple; font-weight: bold\">Передала.</span>"
   ]
  },
  {
   "cell_type": "markdown",
   "metadata": {},
   "source": [
    "<span style=\"color: blue; font-weight: bold\">Комментарий ревьюера 2: </span> ✔️\\\n",
    "<span style=\"color: green\"> 👍</span>"
   ]
  },
  {
   "cell_type": "markdown",
   "metadata": {},
   "source": [
    "<font color='blue'><b>Комментарий ревьюера: </b></font> ❌\\\n",
    "<font color='red'> ~~К SVC нужно, то же, что нибудь подобрать.~~</font>\n",
    "https://scikit-learn.org/stable/modules/generated/sklearn.svm.SVC.html"
   ]
  },
  {
   "cell_type": "markdown",
   "metadata": {},
   "source": [
    "<font color='blue'><b>Комментарий ревьюера: </b></font> ❌\\\n",
    "<font color='red'> ~~Нужно аргументировать выбор метрики.~~</font>"
   ]
  },
  {
   "cell_type": "markdown",
   "metadata": {},
   "source": [
    "<br><span style=\"color: purple; font-weight: bold\">Заметим, что мы использовали метрику ROC-AUC, чтобы оценить качество работы модели вне зависимости от выбранного порога вероятности. А кроме этого объектов с одним значением целевого признака больше (Прежний уровень), чем с другими (Снизилась).</span>"
   ]
  },
  {
   "cell_type": "markdown",
   "metadata": {},
   "source": [
    "<span style=\"color: blue; font-weight: bold\">Комментарий ревьюера 2: </span> ✔️\\\n",
    "<span style=\"color: green\"> 👍</span>"
   ]
  },
  {
   "cell_type": "markdown",
   "metadata": {},
   "source": [
    "<font color='blue'><b>Комментарий ревьюера: </b></font> ❌\\\n",
    "<font color='red'>~~roc_auc нужно считать по вероятностям классов~~</font>\n",
    "```python\n",
    "probabilities = model.predict_proba(features)\n",
    "probabilities_one = probabilities[:, 1]\n",
    "print('Площадь ROC-кривой:', roc_auc_score(target, probabilities_one))\n",
    "```\n",
    "<font color='blue'>Самое подробное объяснение метрики, что я видел на русском языке, можно посмотреть здесь: https://alexanderdyakonov.wordpress.com/2017/07/28/auc-roc-площадь-под-кривой-ошибок \\\n",
    "А внутри кросс-валидации мы просто указываем метрику ROC_AUC и там никаких вероятностей нам не нужно. Так как эта метрика не дифференцируема на всем промежутке (кажется, разрыв в нуле), то там разработчики кросс-валидации хитро меняют ее на эквивалент Gini, так как Gini = 2 ×AUC_ROC – 1 (можно почитать по ссылке выше)\n",
    "</font>"
   ]
  },
  {
   "cell_type": "markdown",
   "metadata": {},
   "source": [
    "Очевидных ранговых признаков (среди категориальных) нет, поэтому я кодировала все категориальные признаки кодировщиком OneHotEncoder, получилось, что лучше остальных справляется модель логистической регрессии. Однако можно попробовать отнести к ранговым признаки 'Тип сервиса' и 'Разрешить сообщать'. Попробуем."
   ]
  },
  {
   "cell_type": "code",
   "execution_count": null,
   "metadata": {},
   "outputs": [],
   "source": [
    "# создаём списки с названиями признаков\n",
    "ohe_columns = ['Популярная_категория']\n",
    "ord_columns = ['Тип сервиса', 'Разрешить сообщать']\n",
    "num_columns = ['Маркет_актив_6_мес', 'Маркет_актив_тек_мес', 'Длительность', 'Акционные_покупки',\\\n",
    "              'Средний_просмотр_категорий_за_визит', 'Неоплаченные_продукты_штук_квартал', \\\n",
    "              'Ошибка_сервиса', 'Страниц_за_визит', 'выручка_тек', 'выручка_пре', 'выручка_препре', 'минут_тек',\\\n",
    "              'минут_пре']"
   ]
  },
  {
   "cell_type": "code",
   "execution_count": null,
   "metadata": {},
   "outputs": [],
   "source": [
    "# создаём пайплайн для подготовки признаков из списка ohe_columns: заполнение пропусков и OHE-кодирование\n",
    "# SimpleImputer + OHE\n",
    "ohe_pipe = Pipeline(\n",
    "    [('simpleImputer_ohe', SimpleImputer(missing_values=np.nan, strategy='most_frequent')),\n",
    "     ('ohe', OneHotEncoder(drop='first', handle_unknown='error'))\n",
    "    ]\n",
    ")\n",
    "\n",
    "# создаём пайплайн для подготовки признаков из списка ord_columns: заполнение пропусков и Ordinal-кодирование\n",
    "# SimpleImputer + OE\n",
    "ord_pipe = Pipeline(\n",
    "    [('simpleImputer_before_ord', SimpleImputer(missing_values=np.nan, strategy='most_frequent')),\n",
    "     ('ord',  OrdinalEncoder(\n",
    "                categories=[\n",
    "                    ['стандарт', 'премиум'], \n",
    "                    ['нет', 'да'],\n",
    "                ], \n",
    "                handle_unknown='use_encoded_value', unknown_value=np.nan\n",
    "            )\n",
    "        ),\n",
    "     ('simpleImputer_after_ord', SimpleImputer(missing_values=np.nan, strategy='most_frequent'))\n",
    "    ]\n",
    ")\n",
    "\n",
    "# создаём общий пайплайн для подготовки данных\n",
    "data_preprocessor = ColumnTransformer(\n",
    "    [('ohe', ohe_pipe, ohe_columns),\n",
    "     ('ord', ord_pipe, ord_columns),\n",
    "     ('num', MinMaxScaler(), num_columns)\n",
    "    ], \n",
    "    remainder='passthrough'\n",
    ")\n",
    "\n",
    "# создаём итоговый пайплайн: подготовка данных и модель\n",
    "pipe_final = Pipeline([\n",
    "    ('preprocessor', data_preprocessor),\n",
    "    ('models', DecisionTreeClassifier(random_state=RANDOM_STATE))\n",
    "])\n",
    "\n",
    "param_grid = [\n",
    "    # словарь для модели DecisionTreeClassifier()\n",
    "    {\n",
    "        'models': [DecisionTreeClassifier(random_state=RANDOM_STATE)],\n",
    "        'models__max_depth': range(2, 5),\n",
    "        'models__max_features': range(2, 5),\n",
    "        'preprocessor__num': [StandardScaler(), MinMaxScaler(), 'passthrough']  \n",
    "    },\n",
    "    \n",
    "    # словарь для модели KNeighborsClassifier() \n",
    "    {\n",
    "        'models': [KNeighborsClassifier()],\n",
    "        'models__n_neighbors': range(2, 5),\n",
    "        'preprocessor__num': [StandardScaler(), MinMaxScaler(), 'passthrough']   \n",
    "    },\n",
    "    # словарь для модели SVC()\n",
    "    {\n",
    "        'models': [SVC(random_state=RANDOM_STATE)],\n",
    "        'models__degree': range(4, 6),\n",
    "        'preprocessor__num': [StandardScaler(), MinMaxScaler(), 'passthrough']  \n",
    "\n",
    "    },\n",
    "    # словарь для модели LogisticRegression()\n",
    "    {\n",
    "        'models': [LogisticRegression(\n",
    "            random_state=RANDOM_STATE, \n",
    "            solver='liblinear', \n",
    "            penalty='l1'\n",
    "        )],\n",
    "        'models__C': range(1, 5),\n",
    "        'preprocessor__num': [StandardScaler(), MinMaxScaler(), 'passthrough']  \n",
    "    }\n",
    "]\n",
    "\n",
    "randomized_search = GridSearchCV(\n",
    "    pipe_final, \n",
    "    param_grid, \n",
    "    cv=5,\n",
    "    scoring='roc_auc',\n",
    "    random_state=RANDOM_STATE,\n",
    "    n_jobs=-1\n",
    ")\n",
    "randomized_search.fit(X_train, y_train)\n",
    "\n",
    "print('Лучшая модель и её параметры:\\n\\n', randomized_search.best_estimator_)\n",
    "print ('Метрика лучшей модели на тренировочной выборке:', randomized_search.best_score_)\n",
    "\n",
    "# проверим работу модели на тестовой выборке\n",
    "# рассчитаем прогноз на тестовых данных\n",
    "#y_test_pred = randomized_search.predict(X_test)\n",
    "#print(f'Метрика ROC-AUC на тестовой выборке: {roc_auc_score(y_test, y_test_pred)}')\n",
    "\n",
    "probabilities = randomized_search.predict_proba(X_test)\n",
    "probabilities_one = probabilities[:, 1]\n",
    "print('Площадь ROC-кривой:', roc_auc_score(y_test, probabilities_one))"
   ]
  },
  {
   "cell_type": "markdown",
   "metadata": {},
   "source": [
    "(Метрика на тестовой выборке незначительно улучшилась, возможно, действительно стоит рассматривать эти признаки, как ранговые.)\n",
    "\n",
    "Теперь я вижу, что площадь под ROC-кривой уменьшилась... Значит ли это, что не стоило рассматривать признаки ('Тип сервиса', 'Разрешить сообщать'), как ранговые? Ладно, продолжим."
   ]
  },
  {
   "cell_type": "code",
   "execution_count": null,
   "metadata": {},
   "outputs": [],
   "source": [
    "result = pd.DataFrame(randomized_search.cv_results_)\n",
    "pd.set_option('display.max_colwidth', None)\n",
    "display(result[\n",
    "    ['rank_test_score', 'param_models', 'mean_test_score','params']\n",
    "].sort_values('rank_test_score'))"
   ]
  },
  {
   "cell_type": "markdown",
   "metadata": {},
   "source": [
    "<span style=\"color: blue; font-weight: bold\">Комментарий ревьюера 2: </span> ✔️\\\n",
    "<span style=\"color: green\"> 👍</span>"
   ]
  },
  {
   "cell_type": "markdown",
   "metadata": {},
   "source": [
    "<font color='blue'><b>Комментарий ревьюера: </b></font> ⚠️\\\n",
    "<font color='darkorange'> Датафреймы лучше выводить методом `display()`</font>"
   ]
  },
  {
   "cell_type": "markdown",
   "metadata": {},
   "source": [
    "<font color='blue'><b>Комментарий ревьюера : </b></font> ⚠️\\\n",
    "<font color='darkorange'> Нужно показать все параметры в поле `params` для анализа.</font>\n",
    "```python\n",
    "# Установка опции для отображения максимальной ширины столбца\n",
    "pd.set_option('display.max_colwidth', None)\n",
    "```"
   ]
  },
  {
   "cell_type": "markdown",
   "metadata": {},
   "source": [
    "Лучше всего (теперь!) справилась модель LogisticRegression() с гиперпараметром C=3. Заметим, что мы использовали метрику ROC-AUC, чтобы оценить качество работы модели вне зависимости от выбранного порога вероятности. А кроме этого объектов с одним значением целевого признака больше (Прежний уровень), чем с другими (Снизилась)."
   ]
  },
  {
   "cell_type": "markdown",
   "metadata": {},
   "source": [
    "<span style=\"color: blue; font-weight: bold\">Комментарий ревьюера 3: </span> ✔️\\\n",
    "<span style=\"color: green\"> 👍</span>"
   ]
  },
  {
   "cell_type": "markdown",
   "metadata": {},
   "source": [
    "## **Анализ важности признаков.**"
   ]
  },
  {
   "cell_type": "markdown",
   "metadata": {},
   "source": [
    "Все изменения начинаются отсюда!!\n",
    "Я решила последовать твоему совету и проанализировать важность признаков для уже обученной модели. Достаю её компоненты, пользуясь твоей подсказкой! Спасибо!!"
   ]
  },
  {
   "cell_type": "code",
   "execution_count": null,
   "metadata": {},
   "outputs": [],
   "source": [
    "best_model = randomized_search.best_estimator_ #Лучшая модель по итогам отбора RandomizedSearchCV\n",
    "preprocessor = best_model.named_steps['preprocessor'] # Препроцессор Лучшей модели\n",
    "regressor = best_model.named_steps['models'] # Эстиматор (регрессор) Лучшей модели"
   ]
  },
  {
   "cell_type": "code",
   "execution_count": null,
   "metadata": {},
   "outputs": [],
   "source": [
    "X_train.head()"
   ]
  },
  {
   "cell_type": "code",
   "execution_count": null,
   "metadata": {},
   "outputs": [],
   "source": [
    "X = preprocessor.fit_transform(X_train)\n",
    "X = pd.DataFrame(X, columns = preprocessor.get_feature_names_out())\n",
    "explainer = shap.Explainer(regressor.predict, X.values)\n",
    "shap_values = explainer(X[:30])\n",
    "shap.plots.beeswarm(shap_values, max_display=20);\n",
    "#shap.plots.bar(shap_values, max_display=20);"
   ]
  },
  {
   "cell_type": "markdown",
   "metadata": {},
   "source": [
    "Немного изменился код для отрисовки графика, однако (и это радует!) выводы не изменились, а именно: Из графика видно, что, чем больше значения признаков 'страниц_за_визит', 'минут_предыдущий месяц' и 'средний_просмотр_категорий_за_визит', тем меньше SHAP‑значения объектов. Если у наблюдения высокое значение этих признаков, то у него высокая вероятность принадлежности к классу 0 (покупательская активность на прежнем уровне, не изменилась!).\n",
    "\n",
    "Наоборот, высокие значения признаков 'Акционные_покупки' и 'Неоплаченные_покупки_штук_квартал' означают высокую вероятность принадлежности наблюдения к классу 1 (покупательская активность снизилась!)\n",
    "\n",
    "Можно посмотреть для отдельно взятого наблюдения, какие признаки оказались решающими для него при предсказании класса. (Эта информация может быть полезной, если мы знаем конкретных пользователей! То есть как раз при принятии бизнес-решений.)"
   ]
  },
  {
   "cell_type": "code",
   "execution_count": null,
   "metadata": {},
   "outputs": [],
   "source": [
    "shap.plots.waterfall(shap_values[5])"
   ]
  },
  {
   "cell_type": "code",
   "execution_count": null,
   "metadata": {},
   "outputs": [],
   "source": [
    "coefficients = regressor.coef_[0]\n",
    "len(coefficients)"
   ]
  },
  {
   "cell_type": "code",
   "execution_count": null,
   "metadata": {},
   "outputs": [],
   "source": [
    "len(X_train.columns)"
   ]
  },
  {
   "cell_type": "markdown",
   "metadata": {},
   "source": [
    "Почему-то не совпадает количество признаков в датасете X_train и количество их коэффициентов (весов), не понимаю пока."
   ]
  },
  {
   "cell_type": "code",
   "execution_count": null,
   "metadata": {},
   "outputs": [],
   "source": [
    "coefficients = regressor.coef_[0]\n",
    "sns.set_style('white')\n",
    "#feature_importance = pd.DataFrame({'Feature': X_train.columns, 'Importance': np.abs(coefficients)})\n",
    "#feature_importance = feature_importance.sort_values('Importance', ascending=True)\n",
    "#feature_importance.plot(x='Feature', y='Importance', kind='barh', figsize=(10, 6));"
   ]
  },
  {
   "cell_type": "markdown",
   "metadata": {},
   "source": [
    "<span style=\"color: blue; font-weight: bold\">Комментарий ревьюера 4: </span> ❌\\\n",
    "<span style=\"color: darkorange\"> Здесь начинакется новый блок работы и заканчивается старый.\\\n",
    "Нужны выводы по важности признаков и заголовок по Сегментации клиентов."
   ]
  },
  {
   "cell_type": "code",
   "execution_count": null,
   "metadata": {},
   "outputs": [],
   "source": [
    "new_data = data.drop(['Покупательская активность', 'активность_категория'], axis=1)\n",
    "new = preprocessor.fit_transform(new_data)\n",
    "new_data['predict_category'] = regressor.predict_proba(new)[:,1]\n",
    "new_data.head()"
   ]
  },
  {
   "cell_type": "markdown",
   "metadata": {},
   "source": [
    "Чудесно! Осталось подшить сюда прибыль, и будем сегментировать!"
   ]
  },
  {
   "cell_type": "code",
   "execution_count": null,
   "metadata": {},
   "outputs": [],
   "source": [
    "new_data = new_data.merge(money, on='id')\n",
    "new_data.head()"
   ]
  },
  {
   "cell_type": "markdown",
   "metadata": {},
   "source": [
    "<span style=\"color: blue; font-weight: bold\">Комментарий ревьюера 4: </span> ✔️\\\n",
    "<span style=\"color: green\"> 👍</span>"
   ]
  },
  {
   "cell_type": "markdown",
   "metadata": {},
   "source": [
    "Теперь нарисуем диаграмму разброса."
   ]
  },
  {
   "cell_type": "code",
   "execution_count": null,
   "metadata": {},
   "outputs": [],
   "source": [
    "new_data.plot(x='predict_category', y='Прибыль', kind='scatter', alpha=0.8);"
   ]
  },
  {
   "cell_type": "markdown",
   "metadata": {},
   "source": [
    "По ней можно предварительно определить на каком сегменте компании стоит сконцентрироваться, например, на клиентах в правом верхнем углу, и по этим значениям отберём покупателей для дальнейшего анализа. Именно, сами определим границы такими: вероятность снижения больше либо равна 0.8, прибыль больше либо равна 4 (у.е.)."
   ]
  },
  {
   "cell_type": "code",
   "execution_count": null,
   "metadata": {},
   "outputs": [],
   "source": [
    "my_segment = new_data[(new_data['Прибыль'] >= 4)&(new_data['predict_category'] >= 0.7)]\n",
    "my_segment.info()"
   ]
  },
  {
   "cell_type": "markdown",
   "metadata": {},
   "source": [
    "<span style=\"color: blue; font-weight: bold\">Комментарий ревьюера 4: </span> ✔️\\\n",
    "<span style=\"color: green\"> 👍</span>"
   ]
  },
  {
   "cell_type": "markdown",
   "metadata": {},
   "source": [
    "Почти 200 человек, нормально для анализа. (Вспомним о признаках!!) Твоя подсказка \"Затем определяем группу клиентов из сегмента (например по 'Страниц_за_визит') и сравниваем этих клиентов со всеми остальньнымим по другим факторам, для выявления различий (можно строить парные графики или накладывать гистограммы). На основании сравнения формируем рекомендации.\"\n",
    "\n",
    "Далее проводим Анализ данных по выбраному сегменту и какой нибудь группы клиентов, например, которые посещают мало страниц.\n",
    "Формулируем предложение по работе с сегментом для увеличения покупательской активности."
   ]
  },
  {
   "cell_type": "code",
   "execution_count": null,
   "metadata": {},
   "outputs": [],
   "source": [
    "def in_group(x):\n",
    "    if x >= 7:\n",
    "        return 1\n",
    "    else:\n",
    "        return 0"
   ]
  },
  {
   "cell_type": "code",
   "execution_count": null,
   "metadata": {},
   "outputs": [],
   "source": [
    "group = my_segment['Страниц_за_визит'].apply(in_group)"
   ]
  },
  {
   "cell_type": "code",
   "execution_count": null,
   "metadata": {},
   "outputs": [],
   "source": [
    "my_segment['наблюдаемые'] = group\n",
    "my_segment.head()"
   ]
  },
  {
   "cell_type": "code",
   "execution_count": null,
   "metadata": {
    "scrolled": true
   },
   "outputs": [],
   "source": [
    "numeric_features = ['Маркет_актив_6_мес', 'Маркет_актив_тек_мес', 'Длительность', 'Акционные_покупки', \\\n",
    "                    'Средний_просмотр_категорий_за_визит', \\\n",
    "                    'Неоплаченные_продукты_штук_квартал', \\\n",
    "                    'Ошибка_сервиса', 'Страниц_за_визит']\n",
    "category_features = ['Тип сервиса', 'Разрешить сообщать', 'Популярная_категория']\n",
    "for category in numeric_features:\n",
    "    sns.pairplot(my_segment, x_vars=category, y_vars='predict_category', hue='наблюдаемые')"
   ]
  },
  {
   "cell_type": "markdown",
   "metadata": {},
   "source": [
    "Не очень вижу, как использовать эти парные графики."
   ]
  },
  {
   "cell_type": "code",
   "execution_count": null,
   "metadata": {
    "scrolled": true
   },
   "outputs": [],
   "source": [
    "my_segment['Страниц_за_визит'].hist(bins=30);\n",
    "group = my_segment[my_segment['Страниц_за_визит'] <= 3]\n",
    "group = group.drop(['predict_category', 'Прибыль', 'наблюдаемые'],axis=1).set_index('id')"
   ]
  },
  {
   "cell_type": "code",
   "execution_count": null,
   "metadata": {},
   "outputs": [],
   "source": [
    "X = preprocessor.fit_transform(group)\n",
    "X = pd.DataFrame(X, columns = preprocessor.get_feature_names_out())\n",
    "explainer = shap.Explainer(regressor.predict, X.values)\n",
    "shap_values = explainer(X[:30])\n",
    "shap.plots.beeswarm(shap_values, max_display=20);\n",
    "#shap.plots.bar(shap_values, max_display=20);"
   ]
  },
  {
   "cell_type": "code",
   "execution_count": null,
   "metadata": {
    "scrolled": true
   },
   "outputs": [],
   "source": [
    "for i in range(0, 29):\n",
    "    shap.plots.waterfall(shap_values[i])"
   ]
  },
  {
   "cell_type": "markdown",
   "metadata": {},
   "source": [
    "Совсем разное у них поведение. Сложно сформулировать единое предложение для клиентов с разным поведением. Мне кажется тут нужен индивидуальный подход. Для кого-то это могут быть акционные предложения в тех категориях товаров, которые перетягивают их к классу 0. Возможно, оптимизация работы сайта: зачастую человек просто не хочет ждать, пока страница подгрузится, или намучившись с одной страницей, уже точно не пойдёт на следующие..."
   ]
  },
  {
   "cell_type": "markdown",
   "metadata": {},
   "source": [
    "Павел, на этом заканчиваются изменения! Всё, что ниже, было и раньше, но я его не удаляю, вроде по правилам не нужно удалять. Вывод тоже оставляю в конце тетрадки, потому что его не правила. Жду замечаний. Надеюсь, что всё-таки прорвусь!)) Спасибо."
   ]
  },
  {
   "cell_type": "markdown",
   "metadata": {},
   "source": [
    "**Вывод.**\n",
    "\n",
    "Лучше всего с задачей бинарной классификации справилась логистическая регрессия. Мало значимыми признаками для выбранной модели оказались следующие:\n",
    "- ошибка сервиса\n",
    "- разрешить сообщать\n",
    "- длительность\n",
    "- тип сервиса\n",
    "- прибыль\n",
    "- маркет актив тек мес\n",
    "\n",
    "Сильнее всего на целевой признак влияют следующие:\n",
    "- страниц за визит\n",
    "- минут пре\n",
    "- средний просмотр категорий за визит\n",
    "- акционные покупки\n",
    "- минут тек\n",
    "\n",
    "Если у наблюдения высокое значение признаков (страниц за визит, минут пре, средний просмотр категорий за визит, минут тек), то у него высокая вероятность принадлежности к классу 0 (покупательская активность на прежнем уровне, не изменилась!).\n",
    "\n",
    "Наоборот, высокие значения признака 'Акционные_покупки' означают высокую вероятность принадлежности наблюдения к классу 1 (покупательская активность снизилась!)\n",
    "\n",
    "Возможно, эти наблюдения можно было бы использовать при моделировании и принятии бизнес-решений. Однако поведение клиентов настолько различается по характеру, что сложно сформулировать единое предложение для целой группы клиентов. Возможно, эффективнее был бы индивидуальный подход. Для кого-то это могут быть акционные предложения в тех категориях товаров, которые перетягивают их к классу 0. Или оптимизация работы сайта: зачастую человек просто не хочет ждать, пока страница подгрузится, и намучившись с одной страницей, уже точно не пойдёт на следующие..."
   ]
  },
  {
   "cell_type": "markdown",
   "metadata": {},
   "source": [
    "<font color='blue'><b>Комментарий ревьюера 2: </b></font> ✔️\\\n",
    "<font color='green'> Очень приятно видеть вывод в конце проекта!\\\n",
    "Приведены ответы на главные вопросы проекта.</font>"
   ]
  },
  {
   "cell_type": "markdown",
   "metadata": {},
   "source": [
    "<font color='blue'><b>Итоговый комментарий ревьюера 4</b></font>\\\n",
    "<font color='green'> Ольга, проект принят! \\\n",
    "Все этапы пройдены. Все рекомендации учтены.\\\n",
    "Надеюсь, тебе понравился процесс выполнения и результат.</font> \\\n",
    "<font color='blue'><b>Спасибо, удачи в освоении профессии!</b></font>"
   ]
  },
  {
   "cell_type": "raw",
   "metadata": {},
   "source": []
  },
  {
   "cell_type": "raw",
   "metadata": {},
   "source": []
  },
  {
   "cell_type": "raw",
   "metadata": {},
   "source": []
  },
  {
   "cell_type": "markdown",
   "metadata": {},
   "source": [
    "<span style=\"color: blue; font-weight: bold\">Комментарий ревьюера 2: </span>  ❌\\\n",
    "<span style=\"color: red\"> ~~Заголовки.~~ </span>"
   ]
  },
  {
   "cell_type": "markdown",
   "metadata": {},
   "source": [
    "Итак, лучше всего справилась модель LogisticRegression() с гиперпараметрами C=3, penalty='l1', random_state=42, solver='liblinear', её и возьмём. (Не знаю, как сразу вытащить её коэффициенты из пайплайна.) Поэтому обучим её ещё раз, но уже с известными гиперпараметрами."
   ]
  },
  {
   "cell_type": "markdown",
   "metadata": {},
   "source": [
    "<span style=\"color: blue; font-weight: bold\">Комментарий ревьюера 3: </span> ⚠️\\\n",
    "<span style=\"color: blue\">Компоненты из модели достаются так:</span>\n",
    "```python\n",
    "best_model = randomized_search.best_estimator_ #Лучшая модель по итогам отбора RandomizedSearchCV\n",
    "preprocessor = best_model.named_steps['preprocessor'] # Препроцессор Лучшей модели\n",
    "regressor = best_model.named_steps['models'] # Эстиматор (регрессор) Лучшей модели\n",
    "# Препроцессор и регрессор уже обученые и готовы трансформировать/предсказывать.\n",
    "```"
   ]
  },
  {
   "cell_type": "code",
   "execution_count": null,
   "metadata": {},
   "outputs": [],
   "source": [
    "best_model = randomized_search.best_estimator_ #Лучшая модель по итогам отбора RandomizedSearchCV\n",
    "preprocessor = best_model.named_steps['preprocessor'] # Препроцессор Лучшей модели\n",
    "regressor = best_model.named_steps['models'] # Эстиматор (регрессор) Лучшей модели\n"
   ]
  },
  {
   "cell_type": "code",
   "execution_count": null,
   "metadata": {},
   "outputs": [],
   "source": [
    "explainer = shap.LinearExplainer(best_model, X_train)\n",
    "shap_values = explainer(X_train)\n",
    "\n",
    "shap.plots.beeswarm(shap_values)"
   ]
  },
  {
   "cell_type": "code",
   "execution_count": null,
   "metadata": {},
   "outputs": [],
   "source": [
    "data = data.rename(columns={'Популярная категория': 'Популярная_категория', \\\n",
    "                                          'Тип сервиса': 'Тип_сервиса', 'Разрешить сообщать': 'Разрешить_сообщать'})\n",
    "data.head()"
   ]
  },
  {
   "cell_type": "markdown",
   "metadata": {},
   "source": [
    "<font color='blue'><b>Комментарий ревьюера 2: </b></font> ⚠️\\\n",
    "<font color='darkorange'>Датафреймы лучше всегда ограничивать методами .head(), .tail(), sample(). Иначе в выводах ячейки записывается весь Датафрейм, хоть он и не выводится на экран полностью. Такие Аутпуты сильно перегружают тетрадку.</font>"
   ]
  },
  {
   "cell_type": "code",
   "execution_count": null,
   "metadata": {},
   "outputs": [],
   "source": [
    "X = data.drop(columns=['Покупательская активность', 'активность_категория'])\n",
    "y = data['активность_категория']\n",
    "\n",
    "# делим датасет на выборки\n",
    "X_train, X_test, y_train, y_test = \\\n",
    "train_test_split(X, y, test_size=0.25, random_state=RANDOM_STATE)\n",
    "X_test.head()"
   ]
  },
  {
   "cell_type": "code",
   "execution_count": null,
   "metadata": {},
   "outputs": [],
   "source": [
    "# список категориальных признаков\n",
    "ohe_col_names = ['Популярная_категория']\n",
    "ord_col_names = ['Тип_сервиса', 'Разрешить_сообщать']\n",
    "# список количественных признаков\n",
    "num_col_names = ['Маркет_актив_6_мес', 'Маркет_актив_тек_мес', 'Длительность', 'Акционные_покупки',\\\n",
    "              'Средний_просмотр_категорий_за_визит', 'Неоплаченные_продукты_штук_квартал', \\\n",
    "              'Ошибка_сервиса', 'Страниц_за_визит', 'выручка_тек', 'выручка_пре', 'выручка_препре', 'минут_тек',\\\n",
    "              'минут_пре']\n",
    "\n",
    "# создаём переменную с экземпляром класса MinMaxScaler()\n",
    "scaler = MinMaxScaler()\n",
    "\n",
    "# обучим и трансформируем количественные признаки из тренировочной выборки \n",
    "# выполним это одной командой\n",
    "X_train_scaled = scaler.fit_transform(X_train[num_col_names])\n",
    "\n",
    "# выполним преобразование количественных признаков в тестовой выборке\n",
    "X_test_scaled = scaler.transform(X_test[num_col_names])\n",
    "\n",
    "# создаём переменную с экземпляром класса OneHotEncoder()\n",
    "# включим параметр для избегания появления дамми-ошибок,\n",
    "\n",
    "encoder_1 = OneHotEncoder(drop='first', sparse_output=False)\n",
    "\n",
    "# обучим и трансформируем категориальные признаки из тренировочной выборки \n",
    "# сделаем это одной командой\n",
    "X_train_ohe = encoder_1.fit_transform(X_train[ohe_col_names])\n",
    "\n",
    "# выполним преобразование категориальных признаков в тестовой выборке\n",
    "X_test_ohe = encoder_1.transform(X_test[ohe_col_names])\n",
    "\n",
    "# получим от кодировщика список новых столбцов и сохраните в новой переменной \n",
    "encoder_ohe_names = encoder_1.get_feature_names_out()\n",
    "\n",
    "X_train_ohe = pd.DataFrame(X_train_ohe, columns=encoder_ohe_names)\n",
    "X_test_ohe = pd.DataFrame(X_test_ohe, columns=encoder_ohe_names)"
   ]
  },
  {
   "cell_type": "markdown",
   "metadata": {},
   "source": [
    "<font color='blue'><b>Комментарий ревьюера : </b></font> ❌\\\n",
    "<font color='red'> ~~Здесь не соответствие версии sklearn. В окружении Практикума стоит 0.24.1, в этой версии у OneHotEncoder этот аргумент называется `sparse`, Так же в этой версии у ColumnTransformer нет метода `get_feature_names_out()`~~.</font>\\\n",
    "<font color='blue'>Посмотреть версию библиотеки можно так:\n",
    "```python\n",
    "import sklearn\n",
    "sklearn.__version__\n",
    "```\n",
    "Обновить до последней версии:</font>\n",
    "```\n",
    "!pip install -Uq scikit-learn\n",
    "```"
   ]
  },
  {
   "cell_type": "markdown",
   "metadata": {},
   "source": [
    "Вроде бы обновила, по крайней мере у меня код не падает с ошибкой..."
   ]
  },
  {
   "cell_type": "markdown",
   "metadata": {},
   "source": [
    "<span style=\"color: blue; font-weight: bold\">Комментарий ревьюера 2: </span> ✔️\\\n",
    "<span style=\"color: green\"> 👍</span>"
   ]
  },
  {
   "cell_type": "code",
   "execution_count": null,
   "metadata": {},
   "outputs": [],
   "source": [
    "encoder_2 = OrdinalEncoder(\n",
    "    categories=[\n",
    "        ['стандарт', 'премиум'],\n",
    "        ['нет', 'да']\n",
    "    ],\n",
    "    handle_unknown='use_encoded_value', unknown_value=np.nan)\n",
    "\n",
    "X_train_ord = encoder_2.fit_transform(X_train[ord_col_names])\n",
    "\n",
    "X_test_ord = encoder_2.transform(X_test[ord_col_names])\n",
    "\n",
    "encoder_ord_names = encoder_2.get_feature_names_out()"
   ]
  },
  {
   "cell_type": "code",
   "execution_count": null,
   "metadata": {
    "scrolled": true
   },
   "outputs": [],
   "source": [
    "X_train_ord = pd.DataFrame(X_train_ord, columns=encoder_ord_names)\n",
    "X_test_ord = pd.DataFrame(X_test_ord, columns=encoder_ord_names)"
   ]
  },
  {
   "cell_type": "code",
   "execution_count": null,
   "metadata": {},
   "outputs": [],
   "source": [
    "X_train_scaled = pd.DataFrame(X_train_scaled, columns=num_col_names)\n",
    "X_test_scaled = pd.DataFrame(X_test_scaled, columns=num_col_names)"
   ]
  },
  {
   "cell_type": "code",
   "execution_count": null,
   "metadata": {},
   "outputs": [],
   "source": [
    "# объединяем все преобразованные данные в тренировочный и тестовый датафреймы\n",
    "# сбрасываем индексы в датафрейме с числовыми индексами, чтобы избежать ошибок\n",
    "\n",
    "X_train_o = pd.concat([X_train_ohe, X_train_ord], axis=1)\n",
    "X_test_o = pd.concat([X_test_ohe, X_test_ord], axis=1)\n",
    "\n",
    "# выведем пять первых строк из тренировочного датафрейма командой print()\n",
    "X_train = pd.concat((X_train_o, X_train_scaled), axis=1)\n",
    "X_test = pd.concat((X_test_o, X_test_scaled), axis=1)"
   ]
  },
  {
   "cell_type": "code",
   "execution_count": null,
   "metadata": {},
   "outputs": [],
   "source": [
    "# создаём объект для работы с моделью\n",
    "clf = LogisticRegression(C=3, penalty='l1', random_state=42, solver='liblinear')\n",
    "\n",
    "# обучаем модель на данных\n",
    "clf = clf.fit(X_train, y_train)\n",
    "\n",
    "# получаем прогнозные метки классов\n",
    "y_pred = clf.predict(X_test)\n",
    "\n",
    "# проводим оценку точности\n",
    "acc = round(accuracy_score(y_test, y_pred),2)\n",
    "recall = round(recall_score(y_test, y_pred),2)\n",
    "precision = round(precision_score(y_test, y_pred),2)\n",
    "print(acc, recall, precision)"
   ]
  },
  {
   "cell_type": "markdown",
   "metadata": {},
   "source": [
    "<span style=\"color: blue; font-weight: bold\">Комментарий ревьюера 3: </span> ⚠️\\\n",
    "<span style=\"color: darkorange\"> `clf` - странное имя для регрессора.</span>"
   ]
  },
  {
   "cell_type": "markdown",
   "metadata": {},
   "source": [
    "<font color='blue'><b>Комментарий ревьюера: </b></font> ⚠️\\\n",
    "<font color='darkorange'> У нас уже есть обученные препроцессор и классификатор в `randomized_search.best_estimator_`\\\n",
    "Нужно анализировать важность признаков для этих моделей.</font>"
   ]
  },
  {
   "cell_type": "markdown",
   "metadata": {},
   "source": [
    "Понимаю!! Не знаю, как оттуда вытащить коэффициенты для уже обученной модели!! Вот, что я вижу, когда обращаюсь к randomized_search.best_estimator_"
   ]
  },
  {
   "cell_type": "markdown",
   "metadata": {},
   "source": [
    "<span style=\"color: blue; font-weight: bold\">Комментарий ревьюера 3: </span> ⚠️\\\n",
    "<span style=\"color: darkorange\"> Написал выше.</span>"
   ]
  },
  {
   "cell_type": "code",
   "execution_count": null,
   "metadata": {},
   "outputs": [],
   "source": [
    "randomized_search.best_estimator_"
   ]
  },
  {
   "cell_type": "code",
   "execution_count": null,
   "metadata": {},
   "outputs": [],
   "source": [
    "cm = confusion_matrix(y_test, y_pred)\n",
    "sns.heatmap(cm, annot=True, fmt='d', cmap='Blues_r')\n",
    "plt.title('Матрица ошибок');\n",
    "plt.xlabel('Predicted');\n",
    "plt.ylabel('True label');"
   ]
  },
  {
   "cell_type": "markdown",
   "metadata": {},
   "source": [
    "Итак, модель логистической регрессии верно определяет покупательскую активность в 280 (184+96) случаях из 325. Критичной для нас является ошибка второго рода, сейчас модель допускает ошибку второго рода в 31 случае. Поэтому нужно максимально уменьшить ошибки False Negative и тем самым увеличить recall выборки. В этом может помочь регулирование порога."
   ]
  },
  {
   "cell_type": "code",
   "execution_count": null,
   "metadata": {},
   "outputs": [],
   "source": [
    "coefficients = clf.coef_[0]\n",
    "sns.set_style('white')\n",
    "feature_importance = pd.DataFrame({'Feature': X_train.columns, 'Importance': np.abs(coefficients)})\n",
    "feature_importance = feature_importance.sort_values('Importance', ascending=True)\n",
    "feature_importance.plot(x='Feature', y='Importance', kind='barh', figsize=(10, 6));"
   ]
  },
  {
   "cell_type": "code",
   "execution_count": null,
   "metadata": {},
   "outputs": [],
   "source": [
    "explainer = shap.LinearExplainer(clf, X_train)\n",
    "shap_values = explainer(X_train)\n",
    "\n",
    "shap.plots.beeswarm(shap_values)"
   ]
  },
  {
   "cell_type": "markdown",
   "metadata": {},
   "source": [
    "<font color='blue'><b>Комментарий ревьюера: </b></font> ⚠️\\\n",
    "<font color='darkorange'> Все импорты должны быть в первой ячейке татрадки, что бы сразу были видны все зависимости кода.</font>"
   ]
  },
  {
   "cell_type": "markdown",
   "metadata": {},
   "source": [
    "<span style=\"color: blue; font-weight: bold\">Комментарий ревьюера 2: </span> ✔️\\\n",
    "<span style=\"color: green\"> 👍</span>"
   ]
  },
  {
   "cell_type": "markdown",
   "metadata": {},
   "source": [
    "Из графика видно, что, чем больше значения признаков 'страниц_за_визит', 'минут_предыдущий месяц' и 'средний_просмотр_категорий_за_визит', тем меньше SHAP‑значения объектов. Если у наблюдения высокое значение этих признаков, то у него высокая вероятность принадлежности к классу 0 (покупательская активность на прежнем уровне, не изменилась!).\n",
    "\n",
    "Наоборот, высокие значения признаков 'Акционные_покупки' и 'Неоплаченные_покупки_штук_квартал' означают высокую вероятность принадлежности наблюдения к классу 1 (покупательская активность снизилась!)\n",
    "\n",
    "Можно посмотреть для отдельно взятого наблюдения, какие признаки оказались решающими для него при предсказании класса. (Эта информация может быть полезной, если мы знаем конкретных пользователей! То есть как раз при принятии бизнес-решений.)"
   ]
  },
  {
   "cell_type": "code",
   "execution_count": null,
   "metadata": {},
   "outputs": [],
   "source": [
    "shap.plots.waterfall(shap_values[5])"
   ]
  },
  {
   "cell_type": "markdown",
   "metadata": {},
   "source": [
    "Посмотрим на общий вклад признаков в прогнозы модели. Она показывает средние (по модулю) SHAP-значения признака по всем наблюдениям."
   ]
  },
  {
   "cell_type": "markdown",
   "metadata": {},
   "source": [
    "(Итак, самый большой вес у признаков Страниц_за_визит, минут_предыдущий_месяц, Средний_просмотр_категорий_за_визит. Был во всяком случае.)"
   ]
  },
  {
   "cell_type": "code",
   "execution_count": null,
   "metadata": {},
   "outputs": [],
   "source": [
    "#shap.plots.bar(shap_values) #сломалось что-то... раньше нормально выводило, теперь ошибку выдаёт"
   ]
  },
  {
   "cell_type": "code",
   "execution_count": null,
   "metadata": {
    "scrolled": true
   },
   "outputs": [],
   "source": [
    "y_proba = clf.predict_proba(X_test)[:,1]\n",
    "X_test['Вероятность_снижения'] = y_proba\n",
    "X_test['y_test'] = y_test.tolist()\n",
    "X_test.head()"
   ]
  },
  {
   "cell_type": "markdown",
   "metadata": {},
   "source": [
    "<br><span style=\"color: purple; font-weight: bold\">Теперь у меня нет id... как я буду подшивать прогнозную вероятность снижения активности к исходному датасету?...\n",
    "Я не смогу даже подшить Прибыль к X_Test... Всё развалилось.\n",
    "</span>"
   ]
  },
  {
   "cell_type": "markdown",
   "metadata": {},
   "source": [
    "<span style=\"color: blue; font-weight: bold\">Комментарий ревьюера 3: </span>  ❌\\\n",
    "<span style=\"color: blue\"> \n",
    "Да, выборки перезаписаны, нужно сохранить те, что делились изначально перед подбором параметров,\\\n",
    "но лучше провести сегментацию на полном Датафрейме (предсказать data лучшей моделью). В тестовой выборке слишком мало примеров.</span>"
   ]
  },
  {
   "cell_type": "markdown",
   "metadata": {},
   "source": [
    "(**Сегментация покупателей.** С этим шагом у меня небольшие затруднения. Была бы признательна за небольшую подсказку. Пока отправляю то, что есть, на проверку, чтобы не терять время. А сама буду думать в это время над 8 шагом. Жду проект на доработку. Спасибо!)"
   ]
  },
  {
   "cell_type": "markdown",
   "metadata": {},
   "source": [
    "<span style=\"color: blue; font-weight: bold\">Комментарий ревьюера 3: </span>  ❌\\\n",
    "<span style=\"color: red\"> Заголовок. </span>"
   ]
  },
  {
   "cell_type": "markdown",
   "metadata": {},
   "source": [
    "Итак, попробуем выполнить сегментацию покупателей."
   ]
  },
  {
   "cell_type": "code",
   "execution_count": null,
   "metadata": {},
   "outputs": [],
   "source": [
    "#X_test.plot(x='Вероятность_снижения', y='Прибыль', kind='scatter', alpha=0.3);"
   ]
  },
  {
   "cell_type": "markdown",
   "metadata": {},
   "source": [
    "Можно предположить, что в первую очередь компании важно сосредоточиться на удержании покупателей, которые приносят максимальную прибыль и, согласно модели, имеют большую вероятность снижения покупательской активности. Это правый верхний угол на диаграмме (те точки-клиенты, которые попали в него!) Скажем, вероятность снижения больше 0.7 и  прибыль больше 0.6. (Плохо, что прибыль у меня уже масштабирована, но она и до масштабирования была наибольшей у этих же клиентов!!) Посмотрим на них"
   ]
  },
  {
   "cell_type": "code",
   "execution_count": null,
   "metadata": {},
   "outputs": [],
   "source": [
    "#X_segment = X_test[(X_test['Прибыль'] > 0.6)&(X_test['Вероятность_снижения'] > 0.7)]\n",
    "#X_segment.sort_values(by='Страниц_за_визит')"
   ]
  },
  {
   "cell_type": "markdown",
   "metadata": {},
   "source": [
    "<font color='blue'><b>Комментарий ревьюера 2: </b></font> ⚠️\\\n",
    "<font color='darkorange'> Сегментацию следует провести на полном Датафрейме. В тестовой выборке слишком мало примеров.</font>"
   ]
  },
  {
   "cell_type": "markdown",
   "metadata": {},
   "source": [
    "(Таких 22 человека. Плохо, что я уже выбросила id клиента. Выберем из них тех, которые посещают мало страниц, например.)"
   ]
  },
  {
   "cell_type": "markdown",
   "metadata": {},
   "source": [
    "<font color='blue'><b>Комментарий ревьюера 2: </b></font> ❌\n",
    "> 8.1 Выполните сегментацию покупателей. Используйте результаты моделирования и данные о прибыльности покупателей.\n",
    "\n",
    "<font color='red'> Нужно выделить сегмент по двум переменным (вероятность снижения и прибыль), для этого определяем и аргументируем два порога по этим осям, проще всего это посмотреть на рассеивание.\n",
    "![](https://i.postimg.cc/DZ3GSqwK/102458.png)\n",
    "\n",
    "Это, условно, те с кем имеет смысл работать.\\\n",
    "Затем определяем группу клиентов из сегмента (например по 'Страниц_за_визит') и сравниваем этих клиентов со всеми остальньнымим по другим факторам, для выявления различий (можно строить парные графики или накладывать гистограммы). На основании сравнения формируем рекомендации.</font>"
   ]
  },
  {
   "cell_type": "markdown",
   "metadata": {},
   "source": [
    "<br><span style=\"color: purple; font-weight: bold\">Павел! Я вот это понимаю, но для того, чтобы такую диаграмму рисовать, у меня в одном файле должны быть и вероятность снижения (прогнозная), и прибыль! Всё. На этом мои возможности заканчиваются, потому что подшить вероятность снижения в исходный датасет я не могу, т.к. X_test у меня уже без id, но и прибыль подшить в X_test тоже не могу! По тем же причинам... И выхода не вижу. Ты вроде говорил, что \"Если о том, что нужно сделать в рамках комментариев, будут возникать вопросы - оставь их, пожалуйста, в комментариях, и я отвечу на них во время следующего ревью.\" Терять мне уже нечего, поэтому, пожалуйста, объясни мне, как надо было тут действовать, и я постараюсь самостоятельно пройти этот путь. Я очень хочу это сделать.</span>"
   ]
  },
  {
   "cell_type": "markdown",
   "metadata": {},
   "source": [
    "<span style=\"color: blue; font-weight: bold\">Комментарий ревьюера 3: </span>  ❌\\\n",
    "<span style=\"color: blue\"> Слишком много вариантов моделей и выборок данных. Можно остановиться только на `randomized_search` и тех выборках которые сделаны до его обучения (в них есть idв индексе.) </span>"
   ]
  },
  {
   "cell_type": "markdown",
   "metadata": {},
   "source": [
    "Не совсем понимаю, почему для некоторых из них значение функции f(x) отрицательное... Это вроде бы как раз и означает, что модель их относит к классу 0! Но судя по вероятностям, это всё предсказанный класс 1!\n",
    "Совсем разное у них поведение. Сложно сформулировать единое предложение для клиентов с разным поведением. Мне кажется тут нужен индивидуальный подход. Для кого-то это могут быть акционные предложения в тех категориях товаров, которые перетягивают их к классу 0. Возможно, оптимизация работы сайта: зачастую человек просто не хочет ждать, пока страница подгрузится, или намучившись с одной страницей, уже точно не пойдёт на следующие..."
   ]
  },
  {
   "cell_type": "markdown",
   "metadata": {},
   "source": [
    "<font color='blue'><b>Комментарий ревьюера : </b></font> ❌\n",
    "\n",
    "```text\n",
    "8.1 Выполните сегментацию покупателей. Используйте результаты моделирования и данные о прибыльности покупателей.\n",
    "```\n",
    "<font color='blue'> Попробую описать, что мы должны сделать:\n",
    "\n",
    "Самое важное − мы должны по заданию выбрать некоторый сегмент пользователей, обосновать выбор сегмента, обосновать то, как мы этот сегмент определяем (почему выбираем такие значения признаков для отбора пользователей в сегмент), а дальше исследовать только этот сегмент.\n",
    "\n",
    "При выделении сегмента нужно опираться на две шкалы:\n",
    "- вероятность снижения, предикты лучшей модели полученые методом `predict_proba`() по интересующему нас классу (\"Снизилось\"), и\n",
    "- Прибыль от клиентов из таблицы money.csv\n",
    "    \n",
    "Границы сегмента по этим двум шкалам можно определить самостоятельно, например по диаграмме рассеяния, где по одной оси будет результат моделирования (вероятность снижения), а по другой прибыль.\n",
    "    \n",
    "Далее проводим Анализ данных по выбраному сегменту и какой нибудь группы клиентов, например, которые посещают мало страниц.\\\n",
    "Формулируем предложение по работе с сегментом для увеличения покупательской активности.</font>"
   ]
  },
  {
   "cell_type": "markdown",
   "metadata": {},
   "source": [
    "<font color='blue'><b>Итоговый комментарий ревьюера 2</b></font>\\\n",
    "<font color='green'>Ольга, хороший проект получился!\n",
    "Большое спасибо за проделанную работу. Видно, что приложено много усилий.\n",
    "Выводы и рассуждения получились содержательными, их было интересно читать.\n",
    "</font>\n",
    "\n",
    "<font color='steelblue'>Над проектом ещё стоит поработать - есть рекомендации по дополнению некоторых твоих шагов проекта. Такие рекомендации я отметил жёлтыми комментариями. Будет здорово, если ты учтёшь их - так проект станет структурно и содержательно более совершенным.\n",
    "\n",
    "Также в работе есть критические замечания. К этим замечаниям я оставил пояснительные комментарии красного цвета, в которых перечислил возможные варианты дальнейших действий. Уверен, ты быстро с этим управишься:)\n",
    "\n",
    "Если о том, что нужно сделать в рамках комментариев, будут возникать вопросы - оставь их, пожалуйста, в комментариях, и я отвечу на них во время следующего ревью.\n",
    "\n",
    "Также буду рад ответить на любые твои вопросы по проекту или на какие-либо другие, если они у тебя имеются - оставь их в комментариях, и я постараюсь ответить:)</font>\n",
    "\n",
    "<font color='blue'><b>Жду твой проект на повторном ревью. До встречи :) </b></font>"
   ]
  },
  {
   "cell_type": "markdown",
   "metadata": {},
   "source": [
    "<font color='blue'><b>Итоговый комментарий ревьюера 3</b></font>\\\n",
    "<font color='green'>Ольга, большое спасибо за доработку.\\\n",
    "По всем непонятным моментам можно обращаться за помощью наставникам и преподавателям, а также комьюнити студентов.\n",
    "</font>\n",
    "\n",
    "<font color='blue'>Что нужно исправить:</font>\n",
    "<ul><font color='red'>Удали пользователя с аномальным значением выручки.</font></ul>\n",
    "<ul><font color='red'>Заверши сегментацию клиентов.</font></ul>\n",
    "\n",
    "<font color='blue'>Что можно сделать лучше:</font>\n",
    "<font color='darkorange'>В работе я оставил несколько советов. Буду рад, если ты учтешь их.</font></ul>\n",
    "\n",
    "<font color='blue'><b>Жду новую версию проекта :)</b></font>"
   ]
  },
  {
   "cell_type": "markdown",
   "metadata": {},
   "source": [
    "<font color='blue'><b>Итоговый комментарий ревьюера</b></font>\n",
    "\n",
    "<font color='blue'>К сожалению, проект не готов. Присылай законченную версию. По всем непонятным моментам можно обращаться за помощью наставникам и преподавателям, а также комьюнити студентов. Буду ждать :)\n",
    "\n",
    "</font>"
   ]
  }
 ],
 "metadata": {
  "ExecuteTimeLog": [
   {
    "duration": 3918,
    "start_time": "2024-08-15T09:06:00.780Z"
   },
   {
    "duration": 1455,
    "start_time": "2024-08-15T09:06:08.673Z"
   },
   {
    "duration": 95,
    "start_time": "2024-08-15T09:07:49.550Z"
   },
   {
    "duration": 3,
    "start_time": "2024-08-15T09:08:03.667Z"
   },
   {
    "duration": 118,
    "start_time": "2024-08-15T09:08:06.846Z"
   },
   {
    "duration": 36,
    "start_time": "2024-08-15T09:08:41.524Z"
   },
   {
    "duration": 43,
    "start_time": "2024-08-15T09:14:05.477Z"
   },
   {
    "duration": 40,
    "start_time": "2024-08-15T09:15:36.382Z"
   },
   {
    "duration": 158,
    "start_time": "2024-08-15T09:16:16.110Z"
   },
   {
    "duration": 34,
    "start_time": "2024-08-15T09:16:49.913Z"
   },
   {
    "duration": 34,
    "start_time": "2024-08-15T09:17:02.249Z"
   },
   {
    "duration": 101,
    "start_time": "2024-08-15T09:17:34.782Z"
   },
   {
    "duration": 156,
    "start_time": "2024-08-15T09:18:27.897Z"
   },
   {
    "duration": 45,
    "start_time": "2024-08-15T09:18:53.722Z"
   },
   {
    "duration": 68,
    "start_time": "2024-08-15T09:19:00.875Z"
   },
   {
    "duration": 45,
    "start_time": "2024-08-15T09:19:21.426Z"
   },
   {
    "duration": 35,
    "start_time": "2024-08-15T09:23:36.028Z"
   },
   {
    "duration": 33,
    "start_time": "2024-08-15T09:23:47.928Z"
   },
   {
    "duration": 33,
    "start_time": "2024-08-15T09:23:55.392Z"
   },
   {
    "duration": 48,
    "start_time": "2024-08-15T09:24:04.088Z"
   },
   {
    "duration": 36,
    "start_time": "2024-08-15T09:30:39.292Z"
   },
   {
    "duration": 35,
    "start_time": "2024-08-15T09:30:48.166Z"
   },
   {
    "duration": 34,
    "start_time": "2024-08-15T09:31:12.646Z"
   },
   {
    "duration": 42,
    "start_time": "2024-08-15T09:31:17.718Z"
   },
   {
    "duration": 34,
    "start_time": "2024-08-15T09:31:20.910Z"
   },
   {
    "duration": 6,
    "start_time": "2024-08-15T09:31:50.685Z"
   },
   {
    "duration": 5,
    "start_time": "2024-08-15T09:31:59.693Z"
   },
   {
    "duration": 5,
    "start_time": "2024-08-15T09:32:06.118Z"
   },
   {
    "duration": 5,
    "start_time": "2024-08-15T09:32:11.589Z"
   },
   {
    "duration": 3,
    "start_time": "2024-08-15T09:33:29.543Z"
   },
   {
    "duration": 4,
    "start_time": "2024-08-15T09:33:47.007Z"
   },
   {
    "duration": 9,
    "start_time": "2024-08-15T09:34:36.046Z"
   },
   {
    "duration": 5,
    "start_time": "2024-08-15T09:36:02.863Z"
   },
   {
    "duration": 4,
    "start_time": "2024-08-15T09:36:19.535Z"
   },
   {
    "duration": 5,
    "start_time": "2024-08-15T09:36:42.582Z"
   },
   {
    "duration": 5,
    "start_time": "2024-08-15T09:38:59.848Z"
   },
   {
    "duration": 5,
    "start_time": "2024-08-15T09:39:03.191Z"
   },
   {
    "duration": 5,
    "start_time": "2024-08-15T09:39:23.224Z"
   },
   {
    "duration": 5,
    "start_time": "2024-08-15T09:39:35.015Z"
   },
   {
    "duration": 9,
    "start_time": "2024-08-15T09:40:27.551Z"
   },
   {
    "duration": 5,
    "start_time": "2024-08-15T09:40:56.183Z"
   },
   {
    "duration": 12,
    "start_time": "2024-08-15T09:41:20.341Z"
   },
   {
    "duration": 5,
    "start_time": "2024-08-15T09:41:49.583Z"
   },
   {
    "duration": 6,
    "start_time": "2024-08-15T09:42:26.314Z"
   },
   {
    "duration": 6,
    "start_time": "2024-08-15T09:44:31.992Z"
   },
   {
    "duration": 24,
    "start_time": "2024-08-15T09:46:58.153Z"
   },
   {
    "duration": 14,
    "start_time": "2024-08-15T09:47:39.365Z"
   },
   {
    "duration": 23,
    "start_time": "2024-08-15T09:47:57.425Z"
   },
   {
    "duration": 120,
    "start_time": "2024-08-15T09:52:10.596Z"
   },
   {
    "duration": 103,
    "start_time": "2024-08-15T09:52:17.019Z"
   },
   {
    "duration": 112,
    "start_time": "2024-08-15T09:52:37.454Z"
   },
   {
    "duration": 76,
    "start_time": "2024-08-15T09:53:28.874Z"
   },
   {
    "duration": 74,
    "start_time": "2024-08-16T02:49:37.471Z"
   },
   {
    "duration": 3356,
    "start_time": "2024-08-16T02:49:51.706Z"
   },
   {
    "duration": 1579,
    "start_time": "2024-08-16T02:49:55.065Z"
   },
   {
    "duration": 90,
    "start_time": "2024-08-16T02:49:56.645Z"
   },
   {
    "duration": 121,
    "start_time": "2024-08-16T02:49:56.736Z"
   },
   {
    "duration": 80,
    "start_time": "2024-08-16T02:49:56.859Z"
   },
   {
    "duration": 89,
    "start_time": "2024-08-16T02:49:56.941Z"
   },
   {
    "duration": 106,
    "start_time": "2024-08-16T02:49:57.032Z"
   },
   {
    "duration": 0,
    "start_time": "2024-08-16T02:49:57.140Z"
   },
   {
    "duration": 0,
    "start_time": "2024-08-16T02:49:57.142Z"
   },
   {
    "duration": 0,
    "start_time": "2024-08-16T02:49:57.153Z"
   },
   {
    "duration": 0,
    "start_time": "2024-08-16T02:49:57.155Z"
   },
   {
    "duration": 0,
    "start_time": "2024-08-16T02:49:57.157Z"
   },
   {
    "duration": 0,
    "start_time": "2024-08-16T02:49:57.158Z"
   },
   {
    "duration": 0,
    "start_time": "2024-08-16T02:49:57.160Z"
   },
   {
    "duration": 0,
    "start_time": "2024-08-16T02:49:57.161Z"
   },
   {
    "duration": 0,
    "start_time": "2024-08-16T02:49:57.162Z"
   },
   {
    "duration": 2398,
    "start_time": "2024-08-16T02:50:29.975Z"
   },
   {
    "duration": 1451,
    "start_time": "2024-08-16T02:50:32.375Z"
   },
   {
    "duration": 41,
    "start_time": "2024-08-16T02:50:33.827Z"
   },
   {
    "duration": 25,
    "start_time": "2024-08-16T02:50:33.870Z"
   },
   {
    "duration": 24,
    "start_time": "2024-08-16T02:50:33.897Z"
   },
   {
    "duration": 34,
    "start_time": "2024-08-16T02:50:33.922Z"
   },
   {
    "duration": 11,
    "start_time": "2024-08-16T02:50:33.957Z"
   },
   {
    "duration": 7,
    "start_time": "2024-08-16T02:50:33.970Z"
   },
   {
    "duration": 15,
    "start_time": "2024-08-16T02:50:33.979Z"
   },
   {
    "duration": 5,
    "start_time": "2024-08-16T02:50:33.997Z"
   },
   {
    "duration": 5,
    "start_time": "2024-08-16T02:50:34.004Z"
   },
   {
    "duration": 6,
    "start_time": "2024-08-16T02:50:34.010Z"
   },
   {
    "duration": 37,
    "start_time": "2024-08-16T02:50:34.017Z"
   },
   {
    "duration": 34,
    "start_time": "2024-08-16T02:50:34.055Z"
   },
   {
    "duration": 127,
    "start_time": "2024-08-16T02:50:34.091Z"
   },
   {
    "duration": 122,
    "start_time": "2024-08-16T02:50:34.220Z"
   },
   {
    "duration": 143,
    "start_time": "2024-08-16T02:51:15.680Z"
   },
   {
    "duration": 145,
    "start_time": "2024-08-16T02:51:29.843Z"
   },
   {
    "duration": 159,
    "start_time": "2024-08-16T02:51:49.244Z"
   },
   {
    "duration": 96,
    "start_time": "2024-08-16T02:52:11.696Z"
   },
   {
    "duration": 90,
    "start_time": "2024-08-16T02:54:36.440Z"
   },
   {
    "duration": 100,
    "start_time": "2024-08-16T02:55:06.272Z"
   },
   {
    "duration": 104,
    "start_time": "2024-08-16T02:56:00.240Z"
   },
   {
    "duration": 103,
    "start_time": "2024-08-16T02:56:13.516Z"
   },
   {
    "duration": 7,
    "start_time": "2024-08-16T02:58:34.717Z"
   },
   {
    "duration": 8,
    "start_time": "2024-08-16T02:59:13.630Z"
   },
   {
    "duration": 11,
    "start_time": "2024-08-16T02:59:22.441Z"
   },
   {
    "duration": 11,
    "start_time": "2024-08-16T02:59:36.494Z"
   },
   {
    "duration": 74,
    "start_time": "2024-08-16T03:03:37.411Z"
   },
   {
    "duration": 76,
    "start_time": "2024-08-16T03:04:54.333Z"
   },
   {
    "duration": 71,
    "start_time": "2024-08-16T03:05:23.763Z"
   },
   {
    "duration": 70,
    "start_time": "2024-08-16T03:05:45.787Z"
   },
   {
    "duration": 1490,
    "start_time": "2024-08-16T03:06:10.979Z"
   },
   {
    "duration": 121,
    "start_time": "2024-08-16T03:06:23.139Z"
   },
   {
    "duration": 92,
    "start_time": "2024-08-16T03:07:06.427Z"
   },
   {
    "duration": 148,
    "start_time": "2024-08-16T03:07:16.267Z"
   },
   {
    "duration": 129,
    "start_time": "2024-08-16T03:07:21.631Z"
   },
   {
    "duration": 231,
    "start_time": "2024-08-16T03:08:21.984Z"
   },
   {
    "duration": 212,
    "start_time": "2024-08-16T03:08:34.868Z"
   },
   {
    "duration": 129,
    "start_time": "2024-08-16T03:08:46.324Z"
   },
   {
    "duration": 71,
    "start_time": "2024-08-16T03:10:28.360Z"
   },
   {
    "duration": 160,
    "start_time": "2024-08-16T03:11:35.604Z"
   },
   {
    "duration": 7,
    "start_time": "2024-08-16T03:14:59.142Z"
   },
   {
    "duration": 123,
    "start_time": "2024-08-16T03:15:42.736Z"
   },
   {
    "duration": 12,
    "start_time": "2024-08-16T03:16:39.434Z"
   },
   {
    "duration": 12,
    "start_time": "2024-08-16T03:16:51.641Z"
   },
   {
    "duration": 14,
    "start_time": "2024-08-16T03:17:14.926Z"
   },
   {
    "duration": 9,
    "start_time": "2024-08-16T03:17:36.214Z"
   },
   {
    "duration": 10,
    "start_time": "2024-08-16T03:21:43.435Z"
   },
   {
    "duration": 10,
    "start_time": "2024-08-16T03:21:48.779Z"
   },
   {
    "duration": 13,
    "start_time": "2024-08-16T03:25:59.532Z"
   },
   {
    "duration": 11,
    "start_time": "2024-08-16T03:26:11.000Z"
   },
   {
    "duration": 13,
    "start_time": "2024-08-16T03:26:26.196Z"
   },
   {
    "duration": 13,
    "start_time": "2024-08-16T03:26:41.935Z"
   },
   {
    "duration": 9,
    "start_time": "2024-08-16T03:33:23.134Z"
   },
   {
    "duration": 20,
    "start_time": "2024-08-16T03:33:42.330Z"
   },
   {
    "duration": 29,
    "start_time": "2024-08-16T03:34:33.510Z"
   },
   {
    "duration": 8,
    "start_time": "2024-08-16T03:34:44.966Z"
   },
   {
    "duration": 5,
    "start_time": "2024-08-16T03:36:00.510Z"
   },
   {
    "duration": 8,
    "start_time": "2024-08-16T03:36:26.830Z"
   },
   {
    "duration": 8,
    "start_time": "2024-08-16T03:36:36.896Z"
   },
   {
    "duration": 19,
    "start_time": "2024-08-16T03:37:21.997Z"
   },
   {
    "duration": 16,
    "start_time": "2024-08-16T03:38:42.426Z"
   },
   {
    "duration": 16,
    "start_time": "2024-08-16T03:40:01.591Z"
   },
   {
    "duration": 17,
    "start_time": "2024-08-16T03:42:02.954Z"
   },
   {
    "duration": 10,
    "start_time": "2024-08-16T03:42:26.944Z"
   },
   {
    "duration": 11,
    "start_time": "2024-08-16T03:43:52.216Z"
   },
   {
    "duration": 10,
    "start_time": "2024-08-16T03:44:42.028Z"
   },
   {
    "duration": 13,
    "start_time": "2024-08-16T03:44:48.755Z"
   },
   {
    "duration": 14,
    "start_time": "2024-08-16T03:46:26.808Z"
   },
   {
    "duration": 17,
    "start_time": "2024-08-16T03:47:29.561Z"
   },
   {
    "duration": 25,
    "start_time": "2024-08-16T03:49:09.385Z"
   },
   {
    "duration": 29,
    "start_time": "2024-08-16T03:51:08.630Z"
   },
   {
    "duration": 18,
    "start_time": "2024-08-16T03:53:46.999Z"
   },
   {
    "duration": 9,
    "start_time": "2024-08-16T03:53:52.914Z"
   },
   {
    "duration": 12,
    "start_time": "2024-08-16T03:54:04.390Z"
   },
   {
    "duration": 26,
    "start_time": "2024-08-16T04:10:59.004Z"
   },
   {
    "duration": 13,
    "start_time": "2024-08-16T04:11:36.707Z"
   },
   {
    "duration": 10,
    "start_time": "2024-08-16T04:11:58.394Z"
   },
   {
    "duration": 12,
    "start_time": "2024-08-16T04:12:42.687Z"
   },
   {
    "duration": 13,
    "start_time": "2024-08-16T04:13:14.907Z"
   },
   {
    "duration": 8,
    "start_time": "2024-08-16T04:13:18.735Z"
   },
   {
    "duration": 9,
    "start_time": "2024-08-16T04:13:24.779Z"
   },
   {
    "duration": 9,
    "start_time": "2024-08-16T04:13:31.014Z"
   },
   {
    "duration": 13,
    "start_time": "2024-08-16T04:13:38.967Z"
   },
   {
    "duration": 11,
    "start_time": "2024-08-16T04:13:54.891Z"
   },
   {
    "duration": 2379,
    "start_time": "2024-08-16T04:14:24.023Z"
   },
   {
    "duration": 1363,
    "start_time": "2024-08-16T04:14:26.404Z"
   },
   {
    "duration": 42,
    "start_time": "2024-08-16T04:14:27.769Z"
   },
   {
    "duration": 27,
    "start_time": "2024-08-16T04:14:27.813Z"
   },
   {
    "duration": 112,
    "start_time": "2024-08-16T04:14:27.841Z"
   },
   {
    "duration": 34,
    "start_time": "2024-08-16T04:14:27.955Z"
   },
   {
    "duration": 13,
    "start_time": "2024-08-16T04:14:27.991Z"
   },
   {
    "duration": 6,
    "start_time": "2024-08-16T04:14:28.006Z"
   },
   {
    "duration": 6,
    "start_time": "2024-08-16T04:14:28.014Z"
   },
   {
    "duration": 6,
    "start_time": "2024-08-16T04:14:28.023Z"
   },
   {
    "duration": 7,
    "start_time": "2024-08-16T04:14:28.031Z"
   },
   {
    "duration": 6,
    "start_time": "2024-08-16T04:14:28.054Z"
   },
   {
    "duration": 8,
    "start_time": "2024-08-16T04:14:28.062Z"
   },
   {
    "duration": 7,
    "start_time": "2024-08-16T04:14:28.072Z"
   },
   {
    "duration": 34,
    "start_time": "2024-08-16T04:14:28.082Z"
   },
   {
    "duration": 155,
    "start_time": "2024-08-16T04:14:28.117Z"
   },
   {
    "duration": 110,
    "start_time": "2024-08-16T04:14:28.274Z"
   },
   {
    "duration": 129,
    "start_time": "2024-08-16T04:14:28.386Z"
   },
   {
    "duration": 112,
    "start_time": "2024-08-16T04:14:28.517Z"
   },
   {
    "duration": 175,
    "start_time": "2024-08-16T04:14:28.631Z"
   },
   {
    "duration": 77,
    "start_time": "2024-08-16T04:14:28.808Z"
   },
   {
    "duration": 82,
    "start_time": "2024-08-16T04:14:28.887Z"
   },
   {
    "duration": 138,
    "start_time": "2024-08-16T04:14:28.971Z"
   },
   {
    "duration": 10,
    "start_time": "2024-08-16T04:14:29.111Z"
   },
   {
    "duration": 8,
    "start_time": "2024-08-16T04:14:29.122Z"
   },
   {
    "duration": 5,
    "start_time": "2024-08-16T04:14:34.607Z"
   },
   {
    "duration": 24,
    "start_time": "2024-08-16T04:15:08.526Z"
   },
   {
    "duration": 23,
    "start_time": "2024-08-16T04:15:44.907Z"
   },
   {
    "duration": 16,
    "start_time": "2024-08-16T04:16:49.195Z"
   },
   {
    "duration": 27,
    "start_time": "2024-08-16T04:16:55.663Z"
   },
   {
    "duration": 2371,
    "start_time": "2024-08-16T04:20:40.432Z"
   },
   {
    "duration": 1344,
    "start_time": "2024-08-16T04:20:42.805Z"
   },
   {
    "duration": 40,
    "start_time": "2024-08-16T04:20:44.151Z"
   },
   {
    "duration": 28,
    "start_time": "2024-08-16T04:20:44.192Z"
   },
   {
    "duration": 25,
    "start_time": "2024-08-16T04:20:44.222Z"
   },
   {
    "duration": 39,
    "start_time": "2024-08-16T04:20:44.248Z"
   },
   {
    "duration": 14,
    "start_time": "2024-08-16T04:20:44.289Z"
   },
   {
    "duration": 6,
    "start_time": "2024-08-16T04:20:44.305Z"
   },
   {
    "duration": 17,
    "start_time": "2024-08-16T04:20:44.312Z"
   },
   {
    "duration": 7,
    "start_time": "2024-08-16T04:20:44.331Z"
   },
   {
    "duration": 11,
    "start_time": "2024-08-16T04:20:44.340Z"
   },
   {
    "duration": 9,
    "start_time": "2024-08-16T04:20:44.352Z"
   },
   {
    "duration": 20,
    "start_time": "2024-08-16T04:20:44.363Z"
   },
   {
    "duration": 16,
    "start_time": "2024-08-16T04:20:44.386Z"
   },
   {
    "duration": 34,
    "start_time": "2024-08-16T04:20:44.404Z"
   },
   {
    "duration": 113,
    "start_time": "2024-08-16T04:20:44.440Z"
   },
   {
    "duration": 104,
    "start_time": "2024-08-16T04:20:44.554Z"
   },
   {
    "duration": 107,
    "start_time": "2024-08-16T04:20:44.661Z"
   },
   {
    "duration": 109,
    "start_time": "2024-08-16T04:20:44.770Z"
   },
   {
    "duration": 159,
    "start_time": "2024-08-16T04:20:44.881Z"
   },
   {
    "duration": 79,
    "start_time": "2024-08-16T04:20:45.041Z"
   },
   {
    "duration": 84,
    "start_time": "2024-08-16T04:20:45.122Z"
   },
   {
    "duration": 141,
    "start_time": "2024-08-16T04:20:45.208Z"
   },
   {
    "duration": 13,
    "start_time": "2024-08-16T04:20:45.353Z"
   },
   {
    "duration": 31,
    "start_time": "2024-08-16T04:20:45.367Z"
   },
   {
    "duration": 34,
    "start_time": "2024-08-16T04:20:45.400Z"
   },
   {
    "duration": 31,
    "start_time": "2024-08-16T04:23:58.377Z"
   },
   {
    "duration": 110,
    "start_time": "2024-08-16T04:28:40.467Z"
   },
   {
    "duration": 7,
    "start_time": "2024-08-16T04:28:45.539Z"
   },
   {
    "duration": 13,
    "start_time": "2024-08-16T04:28:55.499Z"
   },
   {
    "duration": 27,
    "start_time": "2024-08-16T04:28:59.162Z"
   },
   {
    "duration": 2469,
    "start_time": "2024-08-16T04:29:17.239Z"
   },
   {
    "duration": 1396,
    "start_time": "2024-08-16T04:29:19.710Z"
   },
   {
    "duration": 40,
    "start_time": "2024-08-16T04:29:21.108Z"
   },
   {
    "duration": 26,
    "start_time": "2024-08-16T04:29:21.151Z"
   },
   {
    "duration": 25,
    "start_time": "2024-08-16T04:29:21.179Z"
   },
   {
    "duration": 33,
    "start_time": "2024-08-16T04:29:21.205Z"
   },
   {
    "duration": 11,
    "start_time": "2024-08-16T04:29:21.240Z"
   },
   {
    "duration": 5,
    "start_time": "2024-08-16T04:29:21.252Z"
   },
   {
    "duration": 5,
    "start_time": "2024-08-16T04:29:21.259Z"
   },
   {
    "duration": 4,
    "start_time": "2024-08-16T04:29:21.267Z"
   },
   {
    "duration": 10,
    "start_time": "2024-08-16T04:29:21.273Z"
   },
   {
    "duration": 6,
    "start_time": "2024-08-16T04:29:21.284Z"
   },
   {
    "duration": 10,
    "start_time": "2024-08-16T04:29:21.292Z"
   },
   {
    "duration": 14,
    "start_time": "2024-08-16T04:29:21.303Z"
   },
   {
    "duration": 52,
    "start_time": "2024-08-16T04:29:21.318Z"
   },
   {
    "duration": 116,
    "start_time": "2024-08-16T04:29:21.372Z"
   },
   {
    "duration": 102,
    "start_time": "2024-08-16T04:29:21.490Z"
   },
   {
    "duration": 102,
    "start_time": "2024-08-16T04:29:21.594Z"
   },
   {
    "duration": 125,
    "start_time": "2024-08-16T04:29:21.697Z"
   },
   {
    "duration": 148,
    "start_time": "2024-08-16T04:29:21.824Z"
   },
   {
    "duration": 69,
    "start_time": "2024-08-16T04:29:21.973Z"
   },
   {
    "duration": 70,
    "start_time": "2024-08-16T04:29:22.052Z"
   },
   {
    "duration": 141,
    "start_time": "2024-08-16T04:29:22.124Z"
   },
   {
    "duration": 12,
    "start_time": "2024-08-16T04:29:22.266Z"
   },
   {
    "duration": 13,
    "start_time": "2024-08-16T04:29:22.280Z"
   },
   {
    "duration": 22,
    "start_time": "2024-08-16T04:29:22.295Z"
   },
   {
    "duration": 24,
    "start_time": "2024-08-16T04:29:58.687Z"
   },
   {
    "duration": 23,
    "start_time": "2024-08-16T04:31:43.099Z"
   },
   {
    "duration": 23,
    "start_time": "2024-08-16T04:32:06.564Z"
   },
   {
    "duration": 27,
    "start_time": "2024-08-16T04:32:27.475Z"
   },
   {
    "duration": 27,
    "start_time": "2024-08-16T04:36:01.069Z"
   },
   {
    "duration": 115,
    "start_time": "2024-08-16T04:37:13.327Z"
   },
   {
    "duration": 74,
    "start_time": "2024-08-16T04:38:32.760Z"
   },
   {
    "duration": 26,
    "start_time": "2024-08-16T04:38:45.069Z"
   },
   {
    "duration": 28,
    "start_time": "2024-08-16T04:40:10.158Z"
   },
   {
    "duration": 26,
    "start_time": "2024-08-16T04:40:28.909Z"
   },
   {
    "duration": 8,
    "start_time": "2024-08-16T04:45:17.731Z"
   },
   {
    "duration": 9,
    "start_time": "2024-08-16T04:45:24.571Z"
   },
   {
    "duration": 15,
    "start_time": "2024-08-16T04:46:07.411Z"
   },
   {
    "duration": 10,
    "start_time": "2024-08-16T04:46:20.634Z"
   },
   {
    "duration": 16,
    "start_time": "2024-08-16T04:46:37.559Z"
   },
   {
    "duration": 17,
    "start_time": "2024-08-16T04:46:57.079Z"
   },
   {
    "duration": 15,
    "start_time": "2024-08-16T04:47:05.001Z"
   },
   {
    "duration": 4,
    "start_time": "2024-08-16T04:47:29.443Z"
   },
   {
    "duration": 12,
    "start_time": "2024-08-16T04:49:28.448Z"
   },
   {
    "duration": 25,
    "start_time": "2024-08-16T04:49:48.410Z"
   },
   {
    "duration": 7,
    "start_time": "2024-08-16T04:51:27.004Z"
   },
   {
    "duration": 13,
    "start_time": "2024-08-16T04:52:00.296Z"
   },
   {
    "duration": 12,
    "start_time": "2024-08-16T04:52:15.904Z"
   },
   {
    "duration": 7,
    "start_time": "2024-08-16T04:52:46.181Z"
   },
   {
    "duration": 10,
    "start_time": "2024-08-16T04:53:05.693Z"
   },
   {
    "duration": 9,
    "start_time": "2024-08-16T04:53:44.941Z"
   },
   {
    "duration": 10,
    "start_time": "2024-08-16T04:54:05.956Z"
   },
   {
    "duration": 2471,
    "start_time": "2024-08-16T04:55:28.014Z"
   },
   {
    "duration": 1424,
    "start_time": "2024-08-16T04:55:30.487Z"
   },
   {
    "duration": 43,
    "start_time": "2024-08-16T04:55:31.912Z"
   },
   {
    "duration": 27,
    "start_time": "2024-08-16T04:55:31.958Z"
   },
   {
    "duration": 98,
    "start_time": "2024-08-16T04:55:31.987Z"
   },
   {
    "duration": 53,
    "start_time": "2024-08-16T04:55:32.086Z"
   },
   {
    "duration": 15,
    "start_time": "2024-08-16T04:55:32.141Z"
   },
   {
    "duration": 6,
    "start_time": "2024-08-16T04:55:32.157Z"
   },
   {
    "duration": 21,
    "start_time": "2024-08-16T04:55:32.164Z"
   },
   {
    "duration": 22,
    "start_time": "2024-08-16T04:55:32.187Z"
   },
   {
    "duration": 31,
    "start_time": "2024-08-16T04:55:32.211Z"
   },
   {
    "duration": 6,
    "start_time": "2024-08-16T04:55:32.244Z"
   },
   {
    "duration": 6,
    "start_time": "2024-08-16T04:55:32.251Z"
   },
   {
    "duration": 7,
    "start_time": "2024-08-16T04:55:32.258Z"
   },
   {
    "duration": 39,
    "start_time": "2024-08-16T04:55:32.266Z"
   },
   {
    "duration": 128,
    "start_time": "2024-08-16T04:55:32.306Z"
   },
   {
    "duration": 106,
    "start_time": "2024-08-16T04:55:32.436Z"
   },
   {
    "duration": 114,
    "start_time": "2024-08-16T04:55:32.543Z"
   },
   {
    "duration": 107,
    "start_time": "2024-08-16T04:55:32.658Z"
   },
   {
    "duration": 155,
    "start_time": "2024-08-16T04:55:32.767Z"
   },
   {
    "duration": 79,
    "start_time": "2024-08-16T04:55:32.924Z"
   },
   {
    "duration": 79,
    "start_time": "2024-08-16T04:55:33.005Z"
   },
   {
    "duration": 154,
    "start_time": "2024-08-16T04:55:33.086Z"
   },
   {
    "duration": 21,
    "start_time": "2024-08-16T04:55:33.242Z"
   },
   {
    "duration": 21,
    "start_time": "2024-08-16T04:55:33.265Z"
   },
   {
    "duration": 23,
    "start_time": "2024-08-16T04:55:33.288Z"
   },
   {
    "duration": 14,
    "start_time": "2024-08-16T04:55:33.312Z"
   },
   {
    "duration": 3,
    "start_time": "2024-08-16T04:55:33.353Z"
   },
   {
    "duration": 25,
    "start_time": "2024-08-16T04:55:33.357Z"
   },
   {
    "duration": 2,
    "start_time": "2024-08-16T04:55:33.384Z"
   },
   {
    "duration": 9,
    "start_time": "2024-08-16T04:56:13.170Z"
   },
   {
    "duration": 18,
    "start_time": "2024-08-16T04:56:29.402Z"
   },
   {
    "duration": 22,
    "start_time": "2024-08-16T04:57:01.799Z"
   },
   {
    "duration": 11,
    "start_time": "2024-08-16T04:57:20.262Z"
   },
   {
    "duration": 11,
    "start_time": "2024-08-16T04:58:16.382Z"
   },
   {
    "duration": 15,
    "start_time": "2024-08-16T04:59:47.270Z"
   },
   {
    "duration": 13,
    "start_time": "2024-08-16T04:59:56.166Z"
   },
   {
    "duration": 12,
    "start_time": "2024-08-16T05:01:40.223Z"
   },
   {
    "duration": 25,
    "start_time": "2024-08-16T05:01:49.088Z"
   },
   {
    "duration": 9,
    "start_time": "2024-08-16T05:02:31.975Z"
   },
   {
    "duration": 9,
    "start_time": "2024-08-16T05:02:51.871Z"
   },
   {
    "duration": 2622,
    "start_time": "2024-08-16T05:03:26.367Z"
   },
   {
    "duration": 1478,
    "start_time": "2024-08-16T05:03:28.994Z"
   },
   {
    "duration": 42,
    "start_time": "2024-08-16T05:03:30.473Z"
   },
   {
    "duration": 100,
    "start_time": "2024-08-16T05:03:30.517Z"
   },
   {
    "duration": 26,
    "start_time": "2024-08-16T05:03:30.619Z"
   },
   {
    "duration": 85,
    "start_time": "2024-08-16T05:03:30.647Z"
   },
   {
    "duration": 32,
    "start_time": "2024-08-16T05:03:30.733Z"
   },
   {
    "duration": 39,
    "start_time": "2024-08-16T05:03:30.767Z"
   },
   {
    "duration": 53,
    "start_time": "2024-08-16T05:03:30.808Z"
   },
   {
    "duration": 58,
    "start_time": "2024-08-16T05:03:30.864Z"
   },
   {
    "duration": 66,
    "start_time": "2024-08-16T05:03:30.923Z"
   },
   {
    "duration": 93,
    "start_time": "2024-08-16T05:03:30.990Z"
   },
   {
    "duration": 75,
    "start_time": "2024-08-16T05:03:31.085Z"
   },
   {
    "duration": 23,
    "start_time": "2024-08-16T05:03:31.161Z"
   },
   {
    "duration": 138,
    "start_time": "2024-08-16T05:03:31.186Z"
   },
   {
    "duration": 136,
    "start_time": "2024-08-16T05:03:31.325Z"
   },
   {
    "duration": 106,
    "start_time": "2024-08-16T05:03:31.463Z"
   },
   {
    "duration": 107,
    "start_time": "2024-08-16T05:03:31.570Z"
   },
   {
    "duration": 110,
    "start_time": "2024-08-16T05:03:31.678Z"
   },
   {
    "duration": 156,
    "start_time": "2024-08-16T05:03:31.789Z"
   },
   {
    "duration": 78,
    "start_time": "2024-08-16T05:03:31.947Z"
   },
   {
    "duration": 85,
    "start_time": "2024-08-16T05:03:32.027Z"
   },
   {
    "duration": 162,
    "start_time": "2024-08-16T05:03:32.114Z"
   },
   {
    "duration": 11,
    "start_time": "2024-08-16T05:03:32.278Z"
   },
   {
    "duration": 29,
    "start_time": "2024-08-16T05:03:32.290Z"
   },
   {
    "duration": 33,
    "start_time": "2024-08-16T05:03:32.320Z"
   },
   {
    "duration": 18,
    "start_time": "2024-08-16T05:03:32.355Z"
   },
   {
    "duration": 4,
    "start_time": "2024-08-16T05:03:32.378Z"
   },
   {
    "duration": 26,
    "start_time": "2024-08-16T05:03:32.384Z"
   },
   {
    "duration": 8,
    "start_time": "2024-08-16T05:03:32.412Z"
   },
   {
    "duration": 54,
    "start_time": "2024-08-16T05:03:32.422Z"
   },
   {
    "duration": 120,
    "start_time": "2024-08-16T05:12:52.693Z"
   },
   {
    "duration": 2585,
    "start_time": "2024-08-16T05:13:10.682Z"
   },
   {
    "duration": 2764,
    "start_time": "2024-08-16T05:18:54.300Z"
   },
   {
    "duration": 2493,
    "start_time": "2024-08-16T05:25:38.981Z"
   },
   {
    "duration": 3611,
    "start_time": "2024-08-17T02:33:42.606Z"
   },
   {
    "duration": 1645,
    "start_time": "2024-08-17T02:33:46.220Z"
   },
   {
    "duration": 86,
    "start_time": "2024-08-17T02:33:47.867Z"
   },
   {
    "duration": 115,
    "start_time": "2024-08-17T02:33:47.955Z"
   },
   {
    "duration": 77,
    "start_time": "2024-08-17T02:33:48.072Z"
   },
   {
    "duration": 84,
    "start_time": "2024-08-17T02:33:48.151Z"
   },
   {
    "duration": 12,
    "start_time": "2024-08-17T02:33:48.236Z"
   },
   {
    "duration": 6,
    "start_time": "2024-08-17T02:33:48.249Z"
   },
   {
    "duration": 4,
    "start_time": "2024-08-17T02:33:48.257Z"
   },
   {
    "duration": 15,
    "start_time": "2024-08-17T02:33:48.263Z"
   },
   {
    "duration": 10,
    "start_time": "2024-08-17T02:33:48.280Z"
   },
   {
    "duration": 8,
    "start_time": "2024-08-17T02:33:48.292Z"
   },
   {
    "duration": 8,
    "start_time": "2024-08-17T02:33:48.302Z"
   },
   {
    "duration": 7,
    "start_time": "2024-08-17T02:33:48.314Z"
   },
   {
    "duration": 62,
    "start_time": "2024-08-17T02:33:48.323Z"
   },
   {
    "duration": 125,
    "start_time": "2024-08-17T02:33:48.387Z"
   },
   {
    "duration": 104,
    "start_time": "2024-08-17T02:33:48.513Z"
   },
   {
    "duration": 125,
    "start_time": "2024-08-17T02:33:48.619Z"
   },
   {
    "duration": 124,
    "start_time": "2024-08-17T02:33:48.745Z"
   },
   {
    "duration": 154,
    "start_time": "2024-08-17T02:33:48.871Z"
   },
   {
    "duration": 81,
    "start_time": "2024-08-17T02:33:49.026Z"
   },
   {
    "duration": 90,
    "start_time": "2024-08-17T02:33:49.108Z"
   },
   {
    "duration": 142,
    "start_time": "2024-08-17T02:33:49.200Z"
   },
   {
    "duration": 18,
    "start_time": "2024-08-17T02:33:49.344Z"
   },
   {
    "duration": 18,
    "start_time": "2024-08-17T02:33:49.364Z"
   },
   {
    "duration": 25,
    "start_time": "2024-08-17T02:33:49.384Z"
   },
   {
    "duration": 46,
    "start_time": "2024-08-17T02:33:49.411Z"
   },
   {
    "duration": 3,
    "start_time": "2024-08-17T02:33:49.459Z"
   },
   {
    "duration": 25,
    "start_time": "2024-08-17T02:33:49.464Z"
   },
   {
    "duration": 6,
    "start_time": "2024-08-17T02:33:49.490Z"
   },
   {
    "duration": 25,
    "start_time": "2024-08-17T02:33:49.498Z"
   },
   {
    "duration": 2590,
    "start_time": "2024-08-17T02:33:49.525Z"
   },
   {
    "duration": 155,
    "start_time": "2024-08-17T02:42:34.028Z"
   },
   {
    "duration": 138,
    "start_time": "2024-08-17T02:42:49.540Z"
   },
   {
    "duration": 145,
    "start_time": "2024-08-17T02:43:24.553Z"
   },
   {
    "duration": 227,
    "start_time": "2024-08-17T02:44:15.160Z"
   },
   {
    "duration": 167,
    "start_time": "2024-08-17T02:45:04.053Z"
   },
   {
    "duration": 136,
    "start_time": "2024-08-17T02:45:11.432Z"
   },
   {
    "duration": 213,
    "start_time": "2024-08-17T02:45:47.556Z"
   },
   {
    "duration": 237,
    "start_time": "2024-08-17T02:46:09.256Z"
   },
   {
    "duration": 139,
    "start_time": "2024-08-17T02:48:45.705Z"
   },
   {
    "duration": 134,
    "start_time": "2024-08-17T02:48:48.581Z"
   },
   {
    "duration": 12,
    "start_time": "2024-08-17T02:53:33.674Z"
   },
   {
    "duration": 14082,
    "start_time": "2024-08-17T02:59:00.156Z"
   },
   {
    "duration": 5172,
    "start_time": "2024-08-17T03:00:23.669Z"
   },
   {
    "duration": 5112,
    "start_time": "2024-08-17T03:02:12.729Z"
   },
   {
    "duration": 6016,
    "start_time": "2024-08-17T03:03:30.457Z"
   },
   {
    "duration": 578,
    "start_time": "2024-08-17T03:07:16.502Z"
   },
   {
    "duration": 590,
    "start_time": "2024-08-17T03:07:25.630Z"
   },
   {
    "duration": 72,
    "start_time": "2024-08-17T03:14:30.004Z"
   },
   {
    "duration": 6,
    "start_time": "2024-08-17T03:20:55.713Z"
   },
   {
    "duration": 5,
    "start_time": "2024-08-17T03:21:47.102Z"
   },
   {
    "duration": 5,
    "start_time": "2024-08-17T03:22:00.418Z"
   },
   {
    "duration": 2895,
    "start_time": "2024-08-17T03:22:18.973Z"
   },
   {
    "duration": 220,
    "start_time": "2024-08-17T03:22:55.854Z"
   },
   {
    "duration": 2472,
    "start_time": "2024-08-17T03:23:05.285Z"
   },
   {
    "duration": 117,
    "start_time": "2024-08-17T03:27:58.639Z"
   },
   {
    "duration": 3370,
    "start_time": "2024-08-29T03:56:26.111Z"
   },
   {
    "duration": 1726,
    "start_time": "2024-08-29T03:56:29.483Z"
   },
   {
    "duration": 84,
    "start_time": "2024-08-29T03:56:31.210Z"
   },
   {
    "duration": 114,
    "start_time": "2024-08-29T03:56:31.297Z"
   },
   {
    "duration": 74,
    "start_time": "2024-08-29T03:56:31.413Z"
   },
   {
    "duration": 81,
    "start_time": "2024-08-29T03:56:31.489Z"
   },
   {
    "duration": 17,
    "start_time": "2024-08-29T03:56:31.572Z"
   },
   {
    "duration": 8,
    "start_time": "2024-08-29T03:56:31.591Z"
   },
   {
    "duration": 8,
    "start_time": "2024-08-29T03:56:31.601Z"
   },
   {
    "duration": 15,
    "start_time": "2024-08-29T03:56:31.613Z"
   },
   {
    "duration": 8,
    "start_time": "2024-08-29T03:56:31.630Z"
   },
   {
    "duration": 9,
    "start_time": "2024-08-29T03:56:31.664Z"
   },
   {
    "duration": 5,
    "start_time": "2024-08-29T03:56:31.675Z"
   },
   {
    "duration": 16,
    "start_time": "2024-08-29T03:56:31.682Z"
   },
   {
    "duration": 40,
    "start_time": "2024-08-29T03:56:31.700Z"
   },
   {
    "duration": 168,
    "start_time": "2024-08-29T03:56:31.742Z"
   },
   {
    "duration": 108,
    "start_time": "2024-08-29T03:56:31.912Z"
   },
   {
    "duration": 125,
    "start_time": "2024-08-29T03:56:32.023Z"
   },
   {
    "duration": 118,
    "start_time": "2024-08-29T03:56:32.150Z"
   },
   {
    "duration": 171,
    "start_time": "2024-08-29T03:56:32.270Z"
   },
   {
    "duration": 78,
    "start_time": "2024-08-29T03:56:32.443Z"
   },
   {
    "duration": 79,
    "start_time": "2024-08-29T03:56:32.523Z"
   },
   {
    "duration": 132,
    "start_time": "2024-08-29T03:56:32.604Z"
   },
   {
    "duration": 11,
    "start_time": "2024-08-29T03:56:32.737Z"
   },
   {
    "duration": 22,
    "start_time": "2024-08-29T03:56:32.750Z"
   },
   {
    "duration": 23,
    "start_time": "2024-08-29T03:56:32.773Z"
   },
   {
    "duration": 22,
    "start_time": "2024-08-29T03:56:32.798Z"
   },
   {
    "duration": 9,
    "start_time": "2024-08-29T03:56:32.824Z"
   },
   {
    "duration": 46,
    "start_time": "2024-08-29T03:56:32.835Z"
   },
   {
    "duration": 6,
    "start_time": "2024-08-29T03:56:32.883Z"
   },
   {
    "duration": 28,
    "start_time": "2024-08-29T03:56:32.890Z"
   },
   {
    "duration": 2549,
    "start_time": "2024-08-29T03:56:32.919Z"
   },
   {
    "duration": 150,
    "start_time": "2024-08-29T03:56:35.469Z"
   },
   {
    "duration": 627,
    "start_time": "2024-08-29T03:56:35.621Z"
   },
   {
    "duration": 151,
    "start_time": "2024-08-29T03:56:36.250Z"
   },
   {
    "duration": 5147,
    "start_time": "2024-08-29T03:56:36.403Z"
   },
   {
    "duration": 5070,
    "start_time": "2024-08-29T03:56:41.552Z"
   },
   {
    "duration": 6330,
    "start_time": "2024-08-29T03:56:46.624Z"
   },
   {
    "duration": 19,
    "start_time": "2024-08-29T04:10:05.658Z"
   },
   {
    "duration": 15,
    "start_time": "2024-08-29T04:10:46.682Z"
   },
   {
    "duration": 4,
    "start_time": "2024-08-29T04:23:58.083Z"
   },
   {
    "duration": 121,
    "start_time": "2024-08-29T04:28:57.980Z"
   },
   {
    "duration": 34,
    "start_time": "2024-08-29T04:29:11.190Z"
   },
   {
    "duration": 430,
    "start_time": "2024-08-29T04:29:17.358Z"
   },
   {
    "duration": 2440,
    "start_time": "2024-08-29T04:31:28.052Z"
   },
   {
    "duration": 3330,
    "start_time": "2024-09-12T03:42:30.226Z"
   },
   {
    "duration": 1537,
    "start_time": "2024-09-12T03:42:33.558Z"
   },
   {
    "duration": 143,
    "start_time": "2024-09-12T03:42:35.097Z"
   },
   {
    "duration": 136,
    "start_time": "2024-09-12T03:42:35.243Z"
   },
   {
    "duration": 84,
    "start_time": "2024-09-12T03:42:35.381Z"
   },
   {
    "duration": 82,
    "start_time": "2024-09-12T03:42:35.467Z"
   },
   {
    "duration": 10,
    "start_time": "2024-09-12T03:42:35.551Z"
   },
   {
    "duration": 42,
    "start_time": "2024-09-12T03:42:35.563Z"
   },
   {
    "duration": 38,
    "start_time": "2024-09-12T03:42:35.606Z"
   },
   {
    "duration": 24,
    "start_time": "2024-09-12T03:42:35.646Z"
   },
   {
    "duration": 27,
    "start_time": "2024-09-12T03:42:35.672Z"
   },
   {
    "duration": 42,
    "start_time": "2024-09-12T03:42:35.701Z"
   },
   {
    "duration": 43,
    "start_time": "2024-09-12T03:42:35.745Z"
   },
   {
    "duration": 25,
    "start_time": "2024-09-12T03:42:35.790Z"
   },
   {
    "duration": 41,
    "start_time": "2024-09-12T03:42:35.816Z"
   },
   {
    "duration": 116,
    "start_time": "2024-09-12T03:42:35.858Z"
   },
   {
    "duration": 96,
    "start_time": "2024-09-12T03:42:35.975Z"
   },
   {
    "duration": 95,
    "start_time": "2024-09-12T03:42:36.073Z"
   },
   {
    "duration": 182,
    "start_time": "2024-09-12T03:42:36.169Z"
   },
   {
    "duration": 80,
    "start_time": "2024-09-12T03:42:36.353Z"
   },
   {
    "duration": 75,
    "start_time": "2024-09-12T03:42:36.435Z"
   },
   {
    "duration": 65,
    "start_time": "2024-09-12T03:42:36.512Z"
   },
   {
    "duration": 138,
    "start_time": "2024-09-12T03:42:36.579Z"
   },
   {
    "duration": 11,
    "start_time": "2024-09-12T03:42:36.719Z"
   },
   {
    "duration": 24,
    "start_time": "2024-09-12T03:42:36.732Z"
   },
   {
    "duration": 21,
    "start_time": "2024-09-12T03:42:36.757Z"
   },
   {
    "duration": 30,
    "start_time": "2024-09-12T03:42:36.779Z"
   },
   {
    "duration": 3,
    "start_time": "2024-09-12T03:42:36.813Z"
   },
   {
    "duration": 43,
    "start_time": "2024-09-12T03:42:36.818Z"
   },
   {
    "duration": 5,
    "start_time": "2024-09-12T03:42:36.863Z"
   },
   {
    "duration": 43,
    "start_time": "2024-09-12T03:42:36.870Z"
   },
   {
    "duration": 2382,
    "start_time": "2024-09-12T03:42:36.914Z"
   },
   {
    "duration": 131,
    "start_time": "2024-09-12T03:42:39.297Z"
   },
   {
    "duration": 548,
    "start_time": "2024-09-12T03:42:39.429Z"
   },
   {
    "duration": 230,
    "start_time": "2024-09-12T03:42:39.979Z"
   },
   {
    "duration": 4668,
    "start_time": "2024-09-12T03:42:40.210Z"
   },
   {
    "duration": 4739,
    "start_time": "2024-09-12T03:42:44.879Z"
   },
   {
    "duration": 5554,
    "start_time": "2024-09-12T03:42:49.619Z"
   },
   {
    "duration": 9,
    "start_time": "2024-09-12T03:42:55.175Z"
   },
   {
    "duration": 22,
    "start_time": "2024-09-12T03:42:55.186Z"
   },
   {
    "duration": 2439,
    "start_time": "2024-09-12T03:42:55.210Z"
   },
   {
    "duration": 2189,
    "start_time": "2024-09-12T03:43:27.392Z"
   },
   {
    "duration": 2308,
    "start_time": "2024-09-12T03:44:13.587Z"
   },
   {
    "duration": 2265,
    "start_time": "2024-09-12T03:49:39.887Z"
   },
   {
    "duration": 26,
    "start_time": "2024-09-12T04:01:11.941Z"
   },
   {
    "duration": 10,
    "start_time": "2024-09-12T04:02:21.013Z"
   },
   {
    "duration": 8,
    "start_time": "2024-09-12T04:02:36.813Z"
   },
   {
    "duration": 2281,
    "start_time": "2024-09-12T04:03:08.577Z"
   },
   {
    "duration": 1398,
    "start_time": "2024-09-12T04:03:10.861Z"
   },
   {
    "duration": 42,
    "start_time": "2024-09-12T04:03:12.260Z"
   },
   {
    "duration": 29,
    "start_time": "2024-09-12T04:03:12.304Z"
   },
   {
    "duration": 26,
    "start_time": "2024-09-12T04:03:12.335Z"
   },
   {
    "duration": 34,
    "start_time": "2024-09-12T04:03:12.363Z"
   },
   {
    "duration": 10,
    "start_time": "2024-09-12T04:03:12.398Z"
   },
   {
    "duration": 6,
    "start_time": "2024-09-12T04:03:12.409Z"
   },
   {
    "duration": 19,
    "start_time": "2024-09-12T04:03:12.416Z"
   },
   {
    "duration": 56,
    "start_time": "2024-09-12T04:03:12.437Z"
   },
   {
    "duration": 7,
    "start_time": "2024-09-12T04:03:12.494Z"
   },
   {
    "duration": 19,
    "start_time": "2024-09-12T04:03:12.502Z"
   },
   {
    "duration": 29,
    "start_time": "2024-09-12T04:03:12.523Z"
   },
   {
    "duration": 20,
    "start_time": "2024-09-12T04:03:12.554Z"
   },
   {
    "duration": 41,
    "start_time": "2024-09-12T04:03:12.575Z"
   },
   {
    "duration": 100,
    "start_time": "2024-09-12T04:03:12.617Z"
   },
   {
    "duration": 92,
    "start_time": "2024-09-12T04:03:12.718Z"
   },
   {
    "duration": 108,
    "start_time": "2024-09-12T04:03:12.812Z"
   },
   {
    "duration": 173,
    "start_time": "2024-09-12T04:03:12.923Z"
   },
   {
    "duration": 77,
    "start_time": "2024-09-12T04:03:13.098Z"
   },
   {
    "duration": 79,
    "start_time": "2024-09-12T04:03:13.176Z"
   },
   {
    "duration": 71,
    "start_time": "2024-09-12T04:03:13.257Z"
   },
   {
    "duration": 134,
    "start_time": "2024-09-12T04:03:13.329Z"
   },
   {
    "duration": 9,
    "start_time": "2024-09-12T04:03:13.465Z"
   },
   {
    "duration": 47,
    "start_time": "2024-09-12T04:03:13.476Z"
   },
   {
    "duration": 32,
    "start_time": "2024-09-12T04:03:13.524Z"
   },
   {
    "duration": 34,
    "start_time": "2024-09-12T04:03:13.557Z"
   },
   {
    "duration": 3,
    "start_time": "2024-09-12T04:03:13.594Z"
   },
   {
    "duration": 37,
    "start_time": "2024-09-12T04:03:13.599Z"
   },
   {
    "duration": 10,
    "start_time": "2024-09-12T04:03:13.637Z"
   },
   {
    "duration": 36,
    "start_time": "2024-09-12T04:03:13.648Z"
   },
   {
    "duration": 2371,
    "start_time": "2024-09-12T04:03:13.685Z"
   },
   {
    "duration": 152,
    "start_time": "2024-09-12T04:03:16.057Z"
   },
   {
    "duration": 578,
    "start_time": "2024-09-12T04:03:16.210Z"
   },
   {
    "duration": 239,
    "start_time": "2024-09-12T04:03:16.790Z"
   },
   {
    "duration": 4589,
    "start_time": "2024-09-12T04:03:17.030Z"
   },
   {
    "duration": 4838,
    "start_time": "2024-09-12T04:03:21.621Z"
   },
   {
    "duration": 5619,
    "start_time": "2024-09-12T04:03:26.461Z"
   },
   {
    "duration": 35,
    "start_time": "2024-09-12T04:03:32.082Z"
   },
   {
    "duration": 8,
    "start_time": "2024-09-12T04:03:32.118Z"
   },
   {
    "duration": 9,
    "start_time": "2024-09-12T04:03:32.128Z"
   },
   {
    "duration": 2146,
    "start_time": "2024-09-12T04:03:32.139Z"
   },
   {
    "duration": 3,
    "start_time": "2024-09-12T04:21:46.100Z"
   },
   {
    "duration": 746,
    "start_time": "2024-09-12T04:21:50.168Z"
   },
   {
    "duration": 2606,
    "start_time": "2024-09-12T04:23:54.024Z"
   },
   {
    "duration": 8,
    "start_time": "2024-09-12T04:27:08.877Z"
   },
   {
    "duration": 33815,
    "start_time": "2024-09-12T04:27:33.941Z"
   },
   {
    "duration": 6173,
    "start_time": "2024-09-12T04:28:17.341Z"
   },
   {
    "duration": 5,
    "start_time": "2024-09-12T04:28:27.578Z"
   },
   {
    "duration": 2453,
    "start_time": "2024-09-12T04:28:37.582Z"
   },
   {
    "duration": 1627,
    "start_time": "2024-09-12T04:28:40.038Z"
   },
   {
    "duration": 43,
    "start_time": "2024-09-12T04:28:41.667Z"
   },
   {
    "duration": 26,
    "start_time": "2024-09-12T04:28:41.712Z"
   },
   {
    "duration": 25,
    "start_time": "2024-09-12T04:28:41.740Z"
   },
   {
    "duration": 34,
    "start_time": "2024-09-12T04:28:41.766Z"
   },
   {
    "duration": 13,
    "start_time": "2024-09-12T04:28:41.802Z"
   },
   {
    "duration": 4,
    "start_time": "2024-09-12T04:28:41.817Z"
   },
   {
    "duration": 21,
    "start_time": "2024-09-12T04:28:41.823Z"
   },
   {
    "duration": 5,
    "start_time": "2024-09-12T04:28:41.847Z"
   },
   {
    "duration": 8,
    "start_time": "2024-09-12T04:28:41.853Z"
   },
   {
    "duration": 6,
    "start_time": "2024-09-12T04:28:41.862Z"
   },
   {
    "duration": 11,
    "start_time": "2024-09-12T04:28:41.869Z"
   },
   {
    "duration": 22,
    "start_time": "2024-09-12T04:28:41.881Z"
   },
   {
    "duration": 47,
    "start_time": "2024-09-12T04:28:41.904Z"
   },
   {
    "duration": 283,
    "start_time": "2024-09-12T04:28:41.953Z"
   },
   {
    "duration": 187,
    "start_time": "2024-09-12T04:28:42.238Z"
   },
   {
    "duration": 202,
    "start_time": "2024-09-12T04:28:42.427Z"
   },
   {
    "duration": 203,
    "start_time": "2024-09-12T04:28:42.630Z"
   },
   {
    "duration": 102,
    "start_time": "2024-09-12T04:28:42.835Z"
   },
   {
    "duration": 276,
    "start_time": "2024-09-12T04:28:42.938Z"
   },
   {
    "duration": 192,
    "start_time": "2024-09-12T04:28:43.216Z"
   },
   {
    "duration": 326,
    "start_time": "2024-09-12T04:28:43.410Z"
   },
   {
    "duration": 11,
    "start_time": "2024-09-12T04:28:43.737Z"
   },
   {
    "duration": 12,
    "start_time": "2024-09-12T04:28:43.749Z"
   },
   {
    "duration": 23,
    "start_time": "2024-09-12T04:28:43.763Z"
   },
   {
    "duration": 18,
    "start_time": "2024-09-12T04:28:43.808Z"
   },
   {
    "duration": 28,
    "start_time": "2024-09-12T04:28:43.829Z"
   },
   {
    "duration": 22,
    "start_time": "2024-09-12T04:28:43.859Z"
   },
   {
    "duration": 5,
    "start_time": "2024-09-12T04:28:43.883Z"
   },
   {
    "duration": 26,
    "start_time": "2024-09-12T04:28:43.890Z"
   },
   {
    "duration": 1542,
    "start_time": "2024-09-12T04:28:43.918Z"
   },
   {
    "duration": 259,
    "start_time": "2024-09-12T04:28:45.461Z"
   },
   {
    "duration": 625,
    "start_time": "2024-09-12T04:28:45.722Z"
   },
   {
    "duration": 246,
    "start_time": "2024-09-12T04:28:46.349Z"
   },
   {
    "duration": 4719,
    "start_time": "2024-09-12T04:28:46.597Z"
   },
   {
    "duration": 4895,
    "start_time": "2024-09-12T04:28:51.317Z"
   },
   {
    "duration": 5733,
    "start_time": "2024-09-12T04:28:56.213Z"
   },
   {
    "duration": 26,
    "start_time": "2024-09-12T04:29:01.948Z"
   },
   {
    "duration": 33,
    "start_time": "2024-09-12T04:29:01.975Z"
   },
   {
    "duration": 3,
    "start_time": "2024-09-12T04:29:02.009Z"
   },
   {
    "duration": 135,
    "start_time": "2024-09-12T04:29:02.014Z"
   },
   {
    "duration": 0,
    "start_time": "2024-09-12T04:29:02.150Z"
   },
   {
    "duration": 0,
    "start_time": "2024-09-12T04:29:02.151Z"
   },
   {
    "duration": 0,
    "start_time": "2024-09-12T04:29:02.152Z"
   },
   {
    "duration": 1805,
    "start_time": "2024-09-12T04:30:59.550Z"
   },
   {
    "duration": 3,
    "start_time": "2024-09-12T04:31:11.150Z"
   },
   {
    "duration": 21,
    "start_time": "2024-09-12T04:31:15.146Z"
   },
   {
    "duration": 1902,
    "start_time": "2024-09-12T04:31:24.486Z"
   },
   {
    "duration": 4,
    "start_time": "2024-09-12T04:31:30.848Z"
   },
   {
    "duration": 55,
    "start_time": "2024-09-12T04:33:13.458Z"
   },
   {
    "duration": 2383,
    "start_time": "2024-09-12T04:39:46.851Z"
   },
   {
    "duration": 1413,
    "start_time": "2024-09-12T04:39:49.236Z"
   },
   {
    "duration": 43,
    "start_time": "2024-09-12T04:39:50.650Z"
   },
   {
    "duration": 27,
    "start_time": "2024-09-12T04:39:50.695Z"
   },
   {
    "duration": 25,
    "start_time": "2024-09-12T04:39:50.724Z"
   },
   {
    "duration": 34,
    "start_time": "2024-09-12T04:39:50.750Z"
   },
   {
    "duration": 16,
    "start_time": "2024-09-12T04:39:50.785Z"
   },
   {
    "duration": 5,
    "start_time": "2024-09-12T04:39:50.803Z"
   },
   {
    "duration": 6,
    "start_time": "2024-09-12T04:39:50.810Z"
   },
   {
    "duration": 8,
    "start_time": "2024-09-12T04:39:50.820Z"
   },
   {
    "duration": 9,
    "start_time": "2024-09-12T04:39:50.830Z"
   },
   {
    "duration": 16,
    "start_time": "2024-09-12T04:39:50.841Z"
   },
   {
    "duration": 17,
    "start_time": "2024-09-12T04:39:50.859Z"
   },
   {
    "duration": 33,
    "start_time": "2024-09-12T04:39:50.878Z"
   },
   {
    "duration": 40,
    "start_time": "2024-09-12T04:39:50.912Z"
   },
   {
    "duration": 194,
    "start_time": "2024-09-12T04:39:50.953Z"
   },
   {
    "duration": 271,
    "start_time": "2024-09-12T04:39:51.148Z"
   },
   {
    "duration": 201,
    "start_time": "2024-09-12T04:39:51.420Z"
   },
   {
    "duration": 206,
    "start_time": "2024-09-12T04:39:51.623Z"
   },
   {
    "duration": 100,
    "start_time": "2024-09-12T04:39:51.830Z"
   },
   {
    "duration": 181,
    "start_time": "2024-09-12T04:39:51.932Z"
   },
   {
    "duration": 214,
    "start_time": "2024-09-12T04:39:52.115Z"
   },
   {
    "duration": 394,
    "start_time": "2024-09-12T04:39:52.331Z"
   },
   {
    "duration": 11,
    "start_time": "2024-09-12T04:39:52.727Z"
   },
   {
    "duration": 31,
    "start_time": "2024-09-12T04:39:52.739Z"
   },
   {
    "duration": 23,
    "start_time": "2024-09-12T04:39:52.772Z"
   },
   {
    "duration": 22,
    "start_time": "2024-09-12T04:39:52.796Z"
   },
   {
    "duration": 13,
    "start_time": "2024-09-12T04:39:52.822Z"
   },
   {
    "duration": 50,
    "start_time": "2024-09-12T04:39:52.836Z"
   },
   {
    "duration": 41,
    "start_time": "2024-09-12T04:39:52.888Z"
   },
   {
    "duration": 47,
    "start_time": "2024-09-12T04:39:52.932Z"
   },
   {
    "duration": 1560,
    "start_time": "2024-09-12T04:39:52.980Z"
   },
   {
    "duration": 244,
    "start_time": "2024-09-12T04:39:54.541Z"
   },
   {
    "duration": 579,
    "start_time": "2024-09-12T04:39:54.786Z"
   },
   {
    "duration": 246,
    "start_time": "2024-09-12T04:39:55.367Z"
   },
   {
    "duration": 4697,
    "start_time": "2024-09-12T04:39:55.614Z"
   },
   {
    "duration": 4779,
    "start_time": "2024-09-12T04:40:00.313Z"
   },
   {
    "duration": 5641,
    "start_time": "2024-09-12T04:40:05.094Z"
   },
   {
    "duration": 26,
    "start_time": "2024-09-12T04:40:10.737Z"
   },
   {
    "duration": 11,
    "start_time": "2024-09-12T04:40:10.765Z"
   },
   {
    "duration": 30,
    "start_time": "2024-09-12T04:40:10.778Z"
   },
   {
    "duration": 116,
    "start_time": "2024-09-12T04:40:10.810Z"
   },
   {
    "duration": 0,
    "start_time": "2024-09-12T04:40:10.927Z"
   },
   {
    "duration": 0,
    "start_time": "2024-09-12T04:40:10.929Z"
   },
   {
    "duration": 2747,
    "start_time": "2024-09-12T04:41:12.400Z"
   },
   {
    "duration": 1486,
    "start_time": "2024-09-12T04:41:15.150Z"
   },
   {
    "duration": 43,
    "start_time": "2024-09-12T04:41:16.637Z"
   },
   {
    "duration": 27,
    "start_time": "2024-09-12T04:41:16.681Z"
   },
   {
    "duration": 25,
    "start_time": "2024-09-12T04:41:16.710Z"
   },
   {
    "duration": 33,
    "start_time": "2024-09-12T04:41:16.737Z"
   },
   {
    "duration": 14,
    "start_time": "2024-09-12T04:41:16.772Z"
   },
   {
    "duration": 5,
    "start_time": "2024-09-12T04:41:16.787Z"
   },
   {
    "duration": 8,
    "start_time": "2024-09-12T04:41:16.793Z"
   },
   {
    "duration": 15,
    "start_time": "2024-09-12T04:41:16.802Z"
   },
   {
    "duration": 16,
    "start_time": "2024-09-12T04:41:16.818Z"
   },
   {
    "duration": 8,
    "start_time": "2024-09-12T04:41:16.835Z"
   },
   {
    "duration": 6,
    "start_time": "2024-09-12T04:41:16.844Z"
   },
   {
    "duration": 10,
    "start_time": "2024-09-12T04:41:16.853Z"
   },
   {
    "duration": 33,
    "start_time": "2024-09-12T04:41:16.864Z"
   },
   {
    "duration": 218,
    "start_time": "2024-09-12T04:41:16.898Z"
   },
   {
    "duration": 231,
    "start_time": "2024-09-12T04:41:17.117Z"
   },
   {
    "duration": 183,
    "start_time": "2024-09-12T04:41:17.350Z"
   },
   {
    "duration": 209,
    "start_time": "2024-09-12T04:41:17.534Z"
   },
   {
    "duration": 91,
    "start_time": "2024-09-12T04:41:17.744Z"
   },
   {
    "duration": 116,
    "start_time": "2024-09-12T04:41:17.907Z"
   },
   {
    "duration": 187,
    "start_time": "2024-09-12T04:41:18.025Z"
   },
   {
    "duration": 395,
    "start_time": "2024-09-12T04:41:18.214Z"
   },
   {
    "duration": 11,
    "start_time": "2024-09-12T04:41:18.611Z"
   },
   {
    "duration": 58,
    "start_time": "2024-09-12T04:41:18.624Z"
   },
   {
    "duration": 28,
    "start_time": "2024-09-12T04:41:18.684Z"
   },
   {
    "duration": 16,
    "start_time": "2024-09-12T04:41:18.714Z"
   },
   {
    "duration": 3,
    "start_time": "2024-09-12T04:41:18.732Z"
   },
   {
    "duration": 25,
    "start_time": "2024-09-12T04:41:18.737Z"
   },
   {
    "duration": 7,
    "start_time": "2024-09-12T04:41:18.763Z"
   },
   {
    "duration": 56,
    "start_time": "2024-09-12T04:41:18.771Z"
   },
   {
    "duration": 1619,
    "start_time": "2024-09-12T04:41:18.829Z"
   },
   {
    "duration": 238,
    "start_time": "2024-09-12T04:41:20.450Z"
   },
   {
    "duration": 560,
    "start_time": "2024-09-12T04:41:20.689Z"
   },
   {
    "duration": 240,
    "start_time": "2024-09-12T04:41:21.251Z"
   },
   {
    "duration": 4808,
    "start_time": "2024-09-12T04:41:21.493Z"
   },
   {
    "duration": 4924,
    "start_time": "2024-09-12T04:41:26.302Z"
   },
   {
    "duration": 5819,
    "start_time": "2024-09-12T04:41:31.227Z"
   },
   {
    "duration": 27,
    "start_time": "2024-09-12T04:41:37.047Z"
   },
   {
    "duration": 9,
    "start_time": "2024-09-12T04:41:37.075Z"
   },
   {
    "duration": 4,
    "start_time": "2024-09-12T04:41:37.106Z"
   },
   {
    "duration": 121,
    "start_time": "2024-09-12T04:41:37.111Z"
   },
   {
    "duration": 0,
    "start_time": "2024-09-12T04:41:37.233Z"
   },
   {
    "duration": 0,
    "start_time": "2024-09-12T04:41:37.235Z"
   },
   {
    "duration": 5,
    "start_time": "2024-09-12T04:43:46.328Z"
   },
   {
    "duration": 1673,
    "start_time": "2024-09-12T04:44:12.906Z"
   },
   {
    "duration": 3,
    "start_time": "2024-09-12T04:44:33.585Z"
   },
   {
    "duration": 1861,
    "start_time": "2024-09-12T04:44:39.172Z"
   },
   {
    "duration": 15,
    "start_time": "2024-09-12T04:51:45.186Z"
   },
   {
    "duration": 77,
    "start_time": "2024-09-12T04:53:29.806Z"
   },
   {
    "duration": 3,
    "start_time": "2024-09-12T04:54:24.050Z"
   },
   {
    "duration": 12,
    "start_time": "2024-09-12T04:54:27.882Z"
   },
   {
    "duration": 80,
    "start_time": "2024-09-12T06:50:14.240Z"
   },
   {
    "duration": 9,
    "start_time": "2024-09-12T06:52:48.319Z"
   },
   {
    "duration": 28,
    "start_time": "2024-09-12T06:53:32.133Z"
   },
   {
    "duration": 25,
    "start_time": "2024-09-12T07:07:52.663Z"
   },
   {
    "duration": 26,
    "start_time": "2024-09-12T07:08:05.390Z"
   },
   {
    "duration": 30,
    "start_time": "2024-09-12T07:09:00.870Z"
   },
   {
    "duration": 9,
    "start_time": "2024-09-12T07:09:11.687Z"
   },
   {
    "duration": 6,
    "start_time": "2024-09-12T07:09:21.327Z"
   },
   {
    "duration": 26,
    "start_time": "2024-09-12T07:09:25.638Z"
   },
   {
    "duration": 23,
    "start_time": "2024-09-12T07:09:30.602Z"
   },
   {
    "duration": 24,
    "start_time": "2024-09-12T07:09:35.455Z"
   },
   {
    "duration": 23,
    "start_time": "2024-09-12T07:11:26.991Z"
   },
   {
    "duration": 24,
    "start_time": "2024-09-12T07:16:29.584Z"
   },
   {
    "duration": 25,
    "start_time": "2024-09-12T07:16:50.896Z"
   },
   {
    "duration": 34,
    "start_time": "2024-09-12T07:18:22.593Z"
   },
   {
    "duration": 35,
    "start_time": "2024-09-12T07:19:11.226Z"
   },
   {
    "duration": 8,
    "start_time": "2024-09-12T07:19:15.977Z"
   },
   {
    "duration": 78,
    "start_time": "2024-09-12T07:19:20.465Z"
   },
   {
    "duration": 19,
    "start_time": "2024-09-12T07:21:07.173Z"
   },
   {
    "duration": 10,
    "start_time": "2024-09-12T07:21:40.888Z"
   },
   {
    "duration": 53,
    "start_time": "2024-09-12T07:22:25.993Z"
   },
   {
    "duration": 52,
    "start_time": "2024-09-12T07:22:47.638Z"
   },
   {
    "duration": 10,
    "start_time": "2024-09-12T07:30:59.759Z"
   },
   {
    "duration": 53,
    "start_time": "2024-09-12T07:32:06.743Z"
   },
   {
    "duration": 9,
    "start_time": "2024-09-12T07:32:23.155Z"
   },
   {
    "duration": 23,
    "start_time": "2024-09-12T07:45:21.442Z"
   },
   {
    "duration": 7,
    "start_time": "2024-09-12T07:45:25.313Z"
   },
   {
    "duration": 19,
    "start_time": "2024-09-12T07:45:29.130Z"
   },
   {
    "duration": 10,
    "start_time": "2024-09-12T07:45:33.248Z"
   },
   {
    "duration": 59,
    "start_time": "2024-09-12T07:45:37.436Z"
   },
   {
    "duration": 13,
    "start_time": "2024-09-12T07:47:01.885Z"
   },
   {
    "duration": 12,
    "start_time": "2024-09-12T07:47:32.519Z"
   },
   {
    "duration": 59,
    "start_time": "2024-09-12T08:06:01.514Z"
   },
   {
    "duration": 16,
    "start_time": "2024-09-12T08:07:13.394Z"
   },
   {
    "duration": 14,
    "start_time": "2024-09-12T08:09:51.023Z"
   },
   {
    "duration": 52,
    "start_time": "2024-09-12T08:10:05.929Z"
   },
   {
    "duration": 18,
    "start_time": "2024-09-12T08:10:25.050Z"
   },
   {
    "duration": 56,
    "start_time": "2024-09-12T08:10:51.346Z"
   },
   {
    "duration": 77,
    "start_time": "2024-09-12T08:14:59.860Z"
   },
   {
    "duration": 30,
    "start_time": "2024-09-12T08:15:44.793Z"
   },
   {
    "duration": 64,
    "start_time": "2024-09-12T08:16:10.717Z"
   },
   {
    "duration": 19,
    "start_time": "2024-09-12T08:16:37.947Z"
   },
   {
    "duration": 36,
    "start_time": "2024-09-12T08:17:29.307Z"
   },
   {
    "duration": 32,
    "start_time": "2024-09-12T08:18:03.805Z"
   },
   {
    "duration": 11,
    "start_time": "2024-09-12T08:18:23.017Z"
   },
   {
    "duration": 10,
    "start_time": "2024-09-12T08:19:08.622Z"
   },
   {
    "duration": 19,
    "start_time": "2024-09-12T08:19:43.518Z"
   },
   {
    "duration": 20,
    "start_time": "2024-09-12T08:19:55.865Z"
   },
   {
    "duration": 4,
    "start_time": "2024-09-12T08:20:01.885Z"
   },
   {
    "duration": 4,
    "start_time": "2024-09-12T08:20:06.461Z"
   },
   {
    "duration": 17,
    "start_time": "2024-09-12T08:20:13.285Z"
   },
   {
    "duration": 5,
    "start_time": "2024-09-12T08:20:28.173Z"
   },
   {
    "duration": 18,
    "start_time": "2024-09-12T08:20:38.446Z"
   },
   {
    "duration": 19,
    "start_time": "2024-09-12T08:20:53.854Z"
   },
   {
    "duration": 14,
    "start_time": "2024-09-12T08:21:36.222Z"
   },
   {
    "duration": 18,
    "start_time": "2024-09-12T08:23:54.607Z"
   },
   {
    "duration": 15,
    "start_time": "2024-09-12T08:24:11.647Z"
   },
   {
    "duration": 16,
    "start_time": "2024-09-12T08:26:12.421Z"
   },
   {
    "duration": 14,
    "start_time": "2024-09-12T08:26:22.199Z"
   },
   {
    "duration": 11,
    "start_time": "2024-09-12T08:27:14.639Z"
   },
   {
    "duration": 6,
    "start_time": "2024-09-12T08:28:10.295Z"
   },
   {
    "duration": 28,
    "start_time": "2024-09-12T08:28:17.892Z"
   },
   {
    "duration": 30,
    "start_time": "2024-09-12T08:28:34.556Z"
   },
   {
    "duration": 6,
    "start_time": "2024-09-12T08:28:41.001Z"
   },
   {
    "duration": 78,
    "start_time": "2024-09-12T08:28:55.136Z"
   },
   {
    "duration": 250,
    "start_time": "2024-09-12T08:29:24.745Z"
   },
   {
    "duration": 4,
    "start_time": "2024-09-12T08:34:28.737Z"
   },
   {
    "duration": 11,
    "start_time": "2024-09-12T08:37:21.850Z"
   },
   {
    "duration": 10,
    "start_time": "2024-09-12T08:37:33.681Z"
   },
   {
    "duration": 15,
    "start_time": "2024-09-12T08:40:33.386Z"
   },
   {
    "duration": 525,
    "start_time": "2024-09-12T08:41:42.482Z"
   },
   {
    "duration": 475,
    "start_time": "2024-09-12T08:41:51.507Z"
   },
   {
    "duration": 2499,
    "start_time": "2024-09-12T08:47:19.235Z"
   },
   {
    "duration": 1480,
    "start_time": "2024-09-12T08:47:21.736Z"
   },
   {
    "duration": 42,
    "start_time": "2024-09-12T08:47:23.217Z"
   },
   {
    "duration": 29,
    "start_time": "2024-09-12T08:47:23.261Z"
   },
   {
    "duration": 26,
    "start_time": "2024-09-12T08:47:23.291Z"
   },
   {
    "duration": 34,
    "start_time": "2024-09-12T08:47:23.319Z"
   },
   {
    "duration": 36,
    "start_time": "2024-09-12T08:47:23.354Z"
   },
   {
    "duration": 53,
    "start_time": "2024-09-12T08:47:23.391Z"
   },
   {
    "duration": 27,
    "start_time": "2024-09-12T08:47:23.446Z"
   },
   {
    "duration": 78,
    "start_time": "2024-09-12T08:47:23.475Z"
   },
   {
    "duration": 33,
    "start_time": "2024-09-12T08:47:23.554Z"
   },
   {
    "duration": 21,
    "start_time": "2024-09-12T08:47:23.588Z"
   },
   {
    "duration": 26,
    "start_time": "2024-09-12T08:47:23.610Z"
   },
   {
    "duration": 17,
    "start_time": "2024-09-12T08:47:23.637Z"
   },
   {
    "duration": 38,
    "start_time": "2024-09-12T08:47:23.656Z"
   },
   {
    "duration": 219,
    "start_time": "2024-09-12T08:47:23.696Z"
   },
   {
    "duration": 209,
    "start_time": "2024-09-12T08:47:23.916Z"
   },
   {
    "duration": 197,
    "start_time": "2024-09-12T08:47:24.127Z"
   },
   {
    "duration": 206,
    "start_time": "2024-09-12T08:47:24.326Z"
   },
   {
    "duration": 97,
    "start_time": "2024-09-12T08:47:24.534Z"
   },
   {
    "duration": 183,
    "start_time": "2024-09-12T08:47:24.633Z"
   },
   {
    "duration": 207,
    "start_time": "2024-09-12T08:47:24.818Z"
   },
   {
    "duration": 391,
    "start_time": "2024-09-12T08:47:25.027Z"
   },
   {
    "duration": 12,
    "start_time": "2024-09-12T08:47:25.420Z"
   },
   {
    "duration": 38,
    "start_time": "2024-09-12T08:47:25.433Z"
   },
   {
    "duration": 36,
    "start_time": "2024-09-12T08:47:25.473Z"
   },
   {
    "duration": 15,
    "start_time": "2024-09-12T08:47:25.511Z"
   },
   {
    "duration": 6,
    "start_time": "2024-09-12T08:47:25.530Z"
   },
   {
    "duration": 33,
    "start_time": "2024-09-12T08:47:25.537Z"
   },
   {
    "duration": 10,
    "start_time": "2024-09-12T08:47:25.572Z"
   },
   {
    "duration": 34,
    "start_time": "2024-09-12T08:47:25.584Z"
   },
   {
    "duration": 1696,
    "start_time": "2024-09-12T08:47:25.620Z"
   },
   {
    "duration": 275,
    "start_time": "2024-09-12T08:47:27.318Z"
   },
   {
    "duration": 616,
    "start_time": "2024-09-12T08:47:27.606Z"
   },
   {
    "duration": 259,
    "start_time": "2024-09-12T08:47:28.223Z"
   },
   {
    "duration": 4961,
    "start_time": "2024-09-12T08:47:28.483Z"
   },
   {
    "duration": 5157,
    "start_time": "2024-09-12T08:47:33.445Z"
   },
   {
    "duration": 5963,
    "start_time": "2024-09-12T08:47:38.604Z"
   },
   {
    "duration": 38,
    "start_time": "2024-09-12T08:47:44.570Z"
   },
   {
    "duration": 12,
    "start_time": "2024-09-12T08:47:44.610Z"
   },
   {
    "duration": 19,
    "start_time": "2024-09-12T08:47:44.623Z"
   },
   {
    "duration": 1781,
    "start_time": "2024-09-12T08:47:44.643Z"
   },
   {
    "duration": 4,
    "start_time": "2024-09-12T08:47:46.425Z"
   },
   {
    "duration": 1971,
    "start_time": "2024-09-12T08:47:46.430Z"
   },
   {
    "duration": 4,
    "start_time": "2024-09-12T08:47:48.407Z"
   },
   {
    "duration": 41,
    "start_time": "2024-09-12T08:47:48.412Z"
   },
   {
    "duration": 22,
    "start_time": "2024-09-12T08:47:48.455Z"
   },
   {
    "duration": 11,
    "start_time": "2024-09-12T08:47:48.478Z"
   },
   {
    "duration": 7,
    "start_time": "2024-09-12T08:47:48.490Z"
   },
   {
    "duration": 134,
    "start_time": "2024-09-12T08:47:48.498Z"
   },
   {
    "duration": 0,
    "start_time": "2024-09-12T08:47:48.633Z"
   },
   {
    "duration": 0,
    "start_time": "2024-09-12T08:47:48.634Z"
   },
   {
    "duration": 0,
    "start_time": "2024-09-12T08:47:48.635Z"
   },
   {
    "duration": 0,
    "start_time": "2024-09-12T08:47:48.637Z"
   },
   {
    "duration": 0,
    "start_time": "2024-09-12T08:47:48.637Z"
   },
   {
    "duration": 82,
    "start_time": "2024-09-12T08:48:37.939Z"
   },
   {
    "duration": 2,
    "start_time": "2024-09-12T08:48:49.439Z"
   },
   {
    "duration": 9,
    "start_time": "2024-09-12T08:49:19.879Z"
   },
   {
    "duration": 3832,
    "start_time": "2024-09-12T08:49:54.007Z"
   },
   {
    "duration": 425,
    "start_time": "2024-09-12T08:50:05.324Z"
   },
   {
    "duration": 16,
    "start_time": "2024-09-12T08:54:06.936Z"
   },
   {
    "duration": 2613,
    "start_time": "2024-09-12T08:57:25.855Z"
   },
   {
    "duration": 2535,
    "start_time": "2024-09-12T08:57:28.470Z"
   },
   {
    "duration": 1521,
    "start_time": "2024-09-12T08:57:31.007Z"
   },
   {
    "duration": 44,
    "start_time": "2024-09-12T08:57:32.529Z"
   },
   {
    "duration": 28,
    "start_time": "2024-09-12T08:57:32.575Z"
   },
   {
    "duration": 25,
    "start_time": "2024-09-12T08:57:32.605Z"
   },
   {
    "duration": 35,
    "start_time": "2024-09-12T08:57:32.631Z"
   },
   {
    "duration": 15,
    "start_time": "2024-09-12T08:57:32.668Z"
   },
   {
    "duration": 6,
    "start_time": "2024-09-12T08:57:32.684Z"
   },
   {
    "duration": 22,
    "start_time": "2024-09-12T08:57:32.691Z"
   },
   {
    "duration": 13,
    "start_time": "2024-09-12T08:57:32.714Z"
   },
   {
    "duration": 27,
    "start_time": "2024-09-12T08:57:32.729Z"
   },
   {
    "duration": 6,
    "start_time": "2024-09-12T08:57:32.757Z"
   },
   {
    "duration": 14,
    "start_time": "2024-09-12T08:57:32.766Z"
   },
   {
    "duration": 22,
    "start_time": "2024-09-12T08:57:32.781Z"
   },
   {
    "duration": 40,
    "start_time": "2024-09-12T08:57:32.804Z"
   },
   {
    "duration": 209,
    "start_time": "2024-09-12T08:57:32.846Z"
   },
   {
    "duration": 259,
    "start_time": "2024-09-12T08:57:33.057Z"
   },
   {
    "duration": 211,
    "start_time": "2024-09-12T08:57:33.318Z"
   },
   {
    "duration": 207,
    "start_time": "2024-09-12T08:57:33.531Z"
   },
   {
    "duration": 95,
    "start_time": "2024-09-12T08:57:33.739Z"
   },
   {
    "duration": 187,
    "start_time": "2024-09-12T08:57:33.835Z"
   },
   {
    "duration": 192,
    "start_time": "2024-09-12T08:57:34.024Z"
   },
   {
    "duration": 398,
    "start_time": "2024-09-12T08:57:34.218Z"
   },
   {
    "duration": 11,
    "start_time": "2024-09-12T08:57:34.618Z"
   },
   {
    "duration": 22,
    "start_time": "2024-09-12T08:57:34.630Z"
   },
   {
    "duration": 27,
    "start_time": "2024-09-12T08:57:34.654Z"
   },
   {
    "duration": 36,
    "start_time": "2024-09-12T08:57:34.683Z"
   },
   {
    "duration": 12,
    "start_time": "2024-09-12T08:57:34.721Z"
   },
   {
    "duration": 26,
    "start_time": "2024-09-12T08:57:34.734Z"
   },
   {
    "duration": 6,
    "start_time": "2024-09-12T08:57:34.761Z"
   },
   {
    "duration": 39,
    "start_time": "2024-09-12T08:57:34.768Z"
   },
   {
    "duration": 1691,
    "start_time": "2024-09-12T08:57:34.809Z"
   },
   {
    "duration": 278,
    "start_time": "2024-09-12T08:57:36.502Z"
   },
   {
    "duration": 589,
    "start_time": "2024-09-12T08:57:36.781Z"
   },
   {
    "duration": 264,
    "start_time": "2024-09-12T08:57:37.372Z"
   },
   {
    "duration": 5154,
    "start_time": "2024-09-12T08:57:37.637Z"
   },
   {
    "duration": 5283,
    "start_time": "2024-09-12T08:57:42.793Z"
   },
   {
    "duration": 6034,
    "start_time": "2024-09-12T08:57:48.078Z"
   },
   {
    "duration": 26,
    "start_time": "2024-09-12T08:57:54.114Z"
   },
   {
    "duration": 9,
    "start_time": "2024-09-12T08:57:54.144Z"
   },
   {
    "duration": 35,
    "start_time": "2024-09-12T08:57:54.155Z"
   },
   {
    "duration": 1771,
    "start_time": "2024-09-12T08:57:54.192Z"
   },
   {
    "duration": 4,
    "start_time": "2024-09-12T08:57:55.965Z"
   },
   {
    "duration": 2086,
    "start_time": "2024-09-12T08:57:55.971Z"
   },
   {
    "duration": 15,
    "start_time": "2024-09-12T08:57:58.059Z"
   },
   {
    "duration": 5,
    "start_time": "2024-09-12T08:57:58.076Z"
   },
   {
    "duration": 25,
    "start_time": "2024-09-12T08:57:58.082Z"
   },
   {
    "duration": 17,
    "start_time": "2024-09-12T08:57:58.109Z"
   },
   {
    "duration": 9,
    "start_time": "2024-09-12T08:57:58.128Z"
   },
   {
    "duration": 3,
    "start_time": "2024-09-12T08:57:58.139Z"
   },
   {
    "duration": 28,
    "start_time": "2024-09-12T08:57:58.144Z"
   },
   {
    "duration": 7,
    "start_time": "2024-09-12T08:57:58.174Z"
   },
   {
    "duration": 103,
    "start_time": "2024-09-12T08:57:58.182Z"
   },
   {
    "duration": 321,
    "start_time": "2024-09-12T08:57:58.287Z"
   },
   {
    "duration": 457,
    "start_time": "2024-09-12T08:57:58.610Z"
   },
   {
    "duration": 644,
    "start_time": "2024-09-12T08:57:59.069Z"
   },
   {
    "duration": 2625,
    "start_time": "2024-09-12T08:59:43.784Z"
   },
   {
    "duration": 2585,
    "start_time": "2024-09-12T08:59:46.411Z"
   },
   {
    "duration": 1522,
    "start_time": "2024-09-12T08:59:48.998Z"
   },
   {
    "duration": 42,
    "start_time": "2024-09-12T08:59:50.522Z"
   },
   {
    "duration": 29,
    "start_time": "2024-09-12T08:59:50.566Z"
   },
   {
    "duration": 57,
    "start_time": "2024-09-12T08:59:50.596Z"
   },
   {
    "duration": 73,
    "start_time": "2024-09-12T08:59:50.655Z"
   },
   {
    "duration": 13,
    "start_time": "2024-09-12T08:59:50.730Z"
   },
   {
    "duration": 7,
    "start_time": "2024-09-12T08:59:50.744Z"
   },
   {
    "duration": 30,
    "start_time": "2024-09-12T08:59:50.752Z"
   },
   {
    "duration": 13,
    "start_time": "2024-09-12T08:59:50.784Z"
   },
   {
    "duration": 28,
    "start_time": "2024-09-12T08:59:50.798Z"
   },
   {
    "duration": 35,
    "start_time": "2024-09-12T08:59:50.827Z"
   },
   {
    "duration": 111,
    "start_time": "2024-09-12T08:59:50.865Z"
   },
   {
    "duration": 16,
    "start_time": "2024-09-12T08:59:50.978Z"
   },
   {
    "duration": 76,
    "start_time": "2024-09-12T08:59:50.996Z"
   },
   {
    "duration": 236,
    "start_time": "2024-09-12T08:59:51.074Z"
   },
   {
    "duration": 208,
    "start_time": "2024-09-12T08:59:51.311Z"
   },
   {
    "duration": 209,
    "start_time": "2024-09-12T08:59:51.520Z"
   },
   {
    "duration": 207,
    "start_time": "2024-09-12T08:59:51.730Z"
   },
   {
    "duration": 94,
    "start_time": "2024-09-12T08:59:51.939Z"
   },
   {
    "duration": 274,
    "start_time": "2024-09-12T08:59:52.035Z"
   },
   {
    "duration": 111,
    "start_time": "2024-09-12T08:59:52.311Z"
   },
   {
    "duration": 389,
    "start_time": "2024-09-12T08:59:52.424Z"
   },
   {
    "duration": 12,
    "start_time": "2024-09-12T08:59:52.815Z"
   },
   {
    "duration": 22,
    "start_time": "2024-09-12T08:59:52.829Z"
   },
   {
    "duration": 24,
    "start_time": "2024-09-12T08:59:52.853Z"
   },
   {
    "duration": 43,
    "start_time": "2024-09-12T08:59:52.878Z"
   },
   {
    "duration": 40,
    "start_time": "2024-09-12T08:59:52.924Z"
   },
   {
    "duration": 28,
    "start_time": "2024-09-12T08:59:52.965Z"
   },
   {
    "duration": 7,
    "start_time": "2024-09-12T08:59:52.995Z"
   },
   {
    "duration": 36,
    "start_time": "2024-09-12T08:59:53.004Z"
   },
   {
    "duration": 1674,
    "start_time": "2024-09-12T08:59:53.042Z"
   },
   {
    "duration": 268,
    "start_time": "2024-09-12T08:59:54.717Z"
   },
   {
    "duration": 656,
    "start_time": "2024-09-12T08:59:54.988Z"
   },
   {
    "duration": 269,
    "start_time": "2024-09-12T08:59:55.646Z"
   },
   {
    "duration": 5142,
    "start_time": "2024-09-12T08:59:55.916Z"
   },
   {
    "duration": 5186,
    "start_time": "2024-09-12T09:00:01.060Z"
   },
   {
    "duration": 6063,
    "start_time": "2024-09-12T09:00:06.247Z"
   },
   {
    "duration": 29,
    "start_time": "2024-09-12T09:00:12.311Z"
   },
   {
    "duration": 29,
    "start_time": "2024-09-12T09:00:12.345Z"
   },
   {
    "duration": 34,
    "start_time": "2024-09-12T09:00:12.376Z"
   },
   {
    "duration": 1813,
    "start_time": "2024-09-12T09:00:12.412Z"
   },
   {
    "duration": 3,
    "start_time": "2024-09-12T09:00:14.227Z"
   },
   {
    "duration": 1965,
    "start_time": "2024-09-12T09:00:14.231Z"
   },
   {
    "duration": 22,
    "start_time": "2024-09-12T09:00:16.197Z"
   },
   {
    "duration": 30,
    "start_time": "2024-09-12T09:00:16.221Z"
   },
   {
    "duration": 14,
    "start_time": "2024-09-12T09:00:16.252Z"
   },
   {
    "duration": 22,
    "start_time": "2024-09-12T09:00:16.268Z"
   },
   {
    "duration": 10,
    "start_time": "2024-09-12T09:00:16.291Z"
   },
   {
    "duration": 15,
    "start_time": "2024-09-12T09:00:16.302Z"
   },
   {
    "duration": 15,
    "start_time": "2024-09-12T09:00:16.318Z"
   },
   {
    "duration": 24,
    "start_time": "2024-09-12T09:00:16.334Z"
   },
   {
    "duration": 98,
    "start_time": "2024-09-12T09:00:16.360Z"
   },
   {
    "duration": 312,
    "start_time": "2024-09-12T09:00:16.460Z"
   },
   {
    "duration": 490,
    "start_time": "2024-09-12T09:00:16.774Z"
   },
   {
    "duration": 518,
    "start_time": "2024-09-12T09:00:17.265Z"
   },
   {
    "duration": 30,
    "start_time": "2024-09-12T09:03:08.518Z"
   },
   {
    "duration": 2550,
    "start_time": "2024-09-12T09:03:23.762Z"
   },
   {
    "duration": 2544,
    "start_time": "2024-09-12T09:03:26.315Z"
   },
   {
    "duration": 1404,
    "start_time": "2024-09-12T09:03:28.861Z"
   },
   {
    "duration": 43,
    "start_time": "2024-09-12T09:03:30.267Z"
   },
   {
    "duration": 29,
    "start_time": "2024-09-12T09:03:30.312Z"
   },
   {
    "duration": 29,
    "start_time": "2024-09-12T09:03:30.342Z"
   },
   {
    "duration": 51,
    "start_time": "2024-09-12T09:03:30.372Z"
   },
   {
    "duration": 16,
    "start_time": "2024-09-12T09:03:30.424Z"
   },
   {
    "duration": 34,
    "start_time": "2024-09-12T09:03:30.441Z"
   },
   {
    "duration": 29,
    "start_time": "2024-09-12T09:03:30.477Z"
   },
   {
    "duration": 25,
    "start_time": "2024-09-12T09:03:30.508Z"
   },
   {
    "duration": 21,
    "start_time": "2024-09-12T09:03:30.535Z"
   },
   {
    "duration": 26,
    "start_time": "2024-09-12T09:03:30.558Z"
   },
   {
    "duration": 34,
    "start_time": "2024-09-12T09:03:30.586Z"
   },
   {
    "duration": 25,
    "start_time": "2024-09-12T09:03:30.622Z"
   },
   {
    "duration": 61,
    "start_time": "2024-09-12T09:03:30.649Z"
   },
   {
    "duration": 229,
    "start_time": "2024-09-12T09:03:30.712Z"
   },
   {
    "duration": 212,
    "start_time": "2024-09-12T09:03:30.942Z"
   },
   {
    "duration": 187,
    "start_time": "2024-09-12T09:03:31.156Z"
   },
   {
    "duration": 276,
    "start_time": "2024-09-12T09:03:31.345Z"
   },
   {
    "duration": 101,
    "start_time": "2024-09-12T09:03:31.623Z"
   },
   {
    "duration": 193,
    "start_time": "2024-09-12T09:03:31.726Z"
   },
   {
    "duration": 194,
    "start_time": "2024-09-12T09:03:31.920Z"
   },
   {
    "duration": 397,
    "start_time": "2024-09-12T09:03:32.116Z"
   },
   {
    "duration": 11,
    "start_time": "2024-09-12T09:03:32.515Z"
   },
   {
    "duration": 40,
    "start_time": "2024-09-12T09:03:32.528Z"
   },
   {
    "duration": 43,
    "start_time": "2024-09-12T09:03:32.569Z"
   },
   {
    "duration": 14,
    "start_time": "2024-09-12T09:03:32.616Z"
   },
   {
    "duration": 32,
    "start_time": "2024-09-12T09:03:32.632Z"
   },
   {
    "duration": 52,
    "start_time": "2024-09-12T09:03:32.666Z"
   },
   {
    "duration": 6,
    "start_time": "2024-09-12T09:03:32.719Z"
   },
   {
    "duration": 40,
    "start_time": "2024-09-12T09:03:32.726Z"
   },
   {
    "duration": 1691,
    "start_time": "2024-09-12T09:03:32.768Z"
   },
   {
    "duration": 260,
    "start_time": "2024-09-12T09:03:34.461Z"
   },
   {
    "duration": 627,
    "start_time": "2024-09-12T09:03:34.722Z"
   },
   {
    "duration": 244,
    "start_time": "2024-09-12T09:03:35.351Z"
   },
   {
    "duration": 4952,
    "start_time": "2024-09-12T09:03:35.597Z"
   },
   {
    "duration": 5241,
    "start_time": "2024-09-12T09:03:40.551Z"
   },
   {
    "duration": 6121,
    "start_time": "2024-09-12T09:03:45.793Z"
   },
   {
    "duration": 28,
    "start_time": "2024-09-12T09:03:51.916Z"
   },
   {
    "duration": 9,
    "start_time": "2024-09-12T09:03:51.945Z"
   },
   {
    "duration": 8,
    "start_time": "2024-09-12T09:03:51.956Z"
   },
   {
    "duration": 1815,
    "start_time": "2024-09-12T09:03:51.966Z"
   },
   {
    "duration": 3,
    "start_time": "2024-09-12T09:03:53.783Z"
   },
   {
    "duration": 2014,
    "start_time": "2024-09-12T09:03:53.788Z"
   },
   {
    "duration": 16,
    "start_time": "2024-09-12T09:03:55.803Z"
   },
   {
    "duration": 17,
    "start_time": "2024-09-12T09:03:55.821Z"
   },
   {
    "duration": 8,
    "start_time": "2024-09-12T09:03:55.839Z"
   },
   {
    "duration": 17,
    "start_time": "2024-09-12T09:03:55.849Z"
   },
   {
    "duration": 7,
    "start_time": "2024-09-12T09:03:55.868Z"
   },
   {
    "duration": 10,
    "start_time": "2024-09-12T09:03:55.877Z"
   },
   {
    "duration": 18,
    "start_time": "2024-09-12T09:03:55.889Z"
   },
   {
    "duration": 8,
    "start_time": "2024-09-12T09:03:55.909Z"
   },
   {
    "duration": 92,
    "start_time": "2024-09-12T09:03:55.919Z"
   },
   {
    "duration": 295,
    "start_time": "2024-09-12T09:03:56.013Z"
   },
   {
    "duration": 461,
    "start_time": "2024-09-12T09:03:56.310Z"
   },
   {
    "duration": 500,
    "start_time": "2024-09-12T09:03:56.772Z"
   },
   {
    "duration": 15,
    "start_time": "2024-09-12T09:05:42.219Z"
   },
   {
    "duration": 990,
    "start_time": "2024-09-12T09:06:42.491Z"
   },
   {
    "duration": 1040,
    "start_time": "2024-09-12T09:17:58.333Z"
   },
   {
    "duration": 377,
    "start_time": "2024-09-12T09:18:46.220Z"
   },
   {
    "duration": 358,
    "start_time": "2024-09-12T09:20:55.928Z"
   },
   {
    "duration": 2648,
    "start_time": "2024-09-12T09:22:47.189Z"
   },
   {
    "duration": 2540,
    "start_time": "2024-09-12T09:22:49.839Z"
   },
   {
    "duration": 1588,
    "start_time": "2024-09-12T09:22:52.381Z"
   },
   {
    "duration": 44,
    "start_time": "2024-09-12T09:22:53.970Z"
   },
   {
    "duration": 27,
    "start_time": "2024-09-12T09:22:54.017Z"
   },
   {
    "duration": 26,
    "start_time": "2024-09-12T09:22:54.046Z"
   },
   {
    "duration": 34,
    "start_time": "2024-09-12T09:22:54.074Z"
   },
   {
    "duration": 14,
    "start_time": "2024-09-12T09:22:54.109Z"
   },
   {
    "duration": 5,
    "start_time": "2024-09-12T09:22:54.124Z"
   },
   {
    "duration": 21,
    "start_time": "2024-09-12T09:22:54.131Z"
   },
   {
    "duration": 13,
    "start_time": "2024-09-12T09:22:54.154Z"
   },
   {
    "duration": 20,
    "start_time": "2024-09-12T09:22:54.169Z"
   },
   {
    "duration": 11,
    "start_time": "2024-09-12T09:22:54.190Z"
   },
   {
    "duration": 5,
    "start_time": "2024-09-12T09:22:54.204Z"
   },
   {
    "duration": 7,
    "start_time": "2024-09-12T09:22:54.210Z"
   },
   {
    "duration": 45,
    "start_time": "2024-09-12T09:22:54.219Z"
   },
   {
    "duration": 186,
    "start_time": "2024-09-12T09:22:54.265Z"
   },
   {
    "duration": 290,
    "start_time": "2024-09-12T09:22:54.452Z"
   },
   {
    "duration": 192,
    "start_time": "2024-09-12T09:22:54.744Z"
   },
   {
    "duration": 207,
    "start_time": "2024-09-12T09:22:54.938Z"
   },
   {
    "duration": 87,
    "start_time": "2024-09-12T09:22:55.147Z"
   },
   {
    "duration": 193,
    "start_time": "2024-09-12T09:22:55.235Z"
   },
   {
    "duration": 183,
    "start_time": "2024-09-12T09:22:55.430Z"
   },
   {
    "duration": 397,
    "start_time": "2024-09-12T09:22:55.615Z"
   },
   {
    "duration": 11,
    "start_time": "2024-09-12T09:22:56.014Z"
   },
   {
    "duration": 19,
    "start_time": "2024-09-12T09:22:56.027Z"
   },
   {
    "duration": 22,
    "start_time": "2024-09-12T09:22:56.047Z"
   },
   {
    "duration": 37,
    "start_time": "2024-09-12T09:22:56.071Z"
   },
   {
    "duration": 4,
    "start_time": "2024-09-12T09:22:56.110Z"
   },
   {
    "duration": 44,
    "start_time": "2024-09-12T09:22:56.116Z"
   },
   {
    "duration": 8,
    "start_time": "2024-09-12T09:22:56.162Z"
   },
   {
    "duration": 35,
    "start_time": "2024-09-12T09:22:56.172Z"
   },
   {
    "duration": 1715,
    "start_time": "2024-09-12T09:22:56.209Z"
   },
   {
    "duration": 260,
    "start_time": "2024-09-12T09:22:57.925Z"
   },
   {
    "duration": 570,
    "start_time": "2024-09-12T09:22:58.186Z"
   },
   {
    "duration": 270,
    "start_time": "2024-09-12T09:22:58.758Z"
   },
   {
    "duration": 5298,
    "start_time": "2024-09-12T09:22:59.030Z"
   },
   {
    "duration": 5120,
    "start_time": "2024-09-12T09:23:04.330Z"
   },
   {
    "duration": 6407,
    "start_time": "2024-09-12T09:23:09.452Z"
   },
   {
    "duration": 28,
    "start_time": "2024-09-12T09:23:15.861Z"
   },
   {
    "duration": 10,
    "start_time": "2024-09-12T09:23:15.907Z"
   },
   {
    "duration": 35,
    "start_time": "2024-09-12T09:23:15.918Z"
   },
   {
    "duration": 1859,
    "start_time": "2024-09-12T09:23:15.956Z"
   },
   {
    "duration": 4,
    "start_time": "2024-09-12T09:23:17.817Z"
   },
   {
    "duration": 1972,
    "start_time": "2024-09-12T09:23:17.823Z"
   },
   {
    "duration": 21,
    "start_time": "2024-09-12T09:23:19.797Z"
   },
   {
    "duration": 6,
    "start_time": "2024-09-12T09:23:19.820Z"
   },
   {
    "duration": 18,
    "start_time": "2024-09-12T09:23:19.827Z"
   },
   {
    "duration": 26,
    "start_time": "2024-09-12T09:23:19.847Z"
   },
   {
    "duration": 10,
    "start_time": "2024-09-12T09:23:19.875Z"
   },
   {
    "duration": 7,
    "start_time": "2024-09-12T09:23:19.887Z"
   },
   {
    "duration": 6,
    "start_time": "2024-09-12T09:23:19.895Z"
   },
   {
    "duration": 8,
    "start_time": "2024-09-12T09:23:19.902Z"
   },
   {
    "duration": 86,
    "start_time": "2024-09-12T09:23:19.911Z"
   },
   {
    "duration": 319,
    "start_time": "2024-09-12T09:23:19.999Z"
   },
   {
    "duration": 457,
    "start_time": "2024-09-12T09:23:20.320Z"
   },
   {
    "duration": 1304,
    "start_time": "2024-09-12T09:23:20.779Z"
   },
   {
    "duration": 1172,
    "start_time": "2024-09-12T09:23:22.084Z"
   },
   {
    "duration": 427,
    "start_time": "2024-09-12T09:23:23.259Z"
   },
   {
    "duration": 54,
    "start_time": "2024-09-12T09:25:09.658Z"
   },
   {
    "duration": 3401,
    "start_time": "2024-09-12T10:34:32.076Z"
   },
   {
    "duration": 4155,
    "start_time": "2024-09-12T10:34:35.479Z"
   },
   {
    "duration": 3097,
    "start_time": "2024-09-12T10:34:39.637Z"
   },
   {
    "duration": 152,
    "start_time": "2024-09-12T10:34:42.736Z"
   },
   {
    "duration": 151,
    "start_time": "2024-09-12T10:34:42.890Z"
   },
   {
    "duration": 94,
    "start_time": "2024-09-12T10:34:43.043Z"
   },
   {
    "duration": 92,
    "start_time": "2024-09-12T10:34:43.139Z"
   },
   {
    "duration": 12,
    "start_time": "2024-09-12T10:34:43.233Z"
   },
   {
    "duration": 5,
    "start_time": "2024-09-12T10:34:43.246Z"
   },
   {
    "duration": 5,
    "start_time": "2024-09-12T10:34:43.254Z"
   },
   {
    "duration": 7,
    "start_time": "2024-09-12T10:34:43.261Z"
   },
   {
    "duration": 6,
    "start_time": "2024-09-12T10:34:43.270Z"
   },
   {
    "duration": 20,
    "start_time": "2024-09-12T10:34:43.278Z"
   },
   {
    "duration": 29,
    "start_time": "2024-09-12T10:34:43.300Z"
   },
   {
    "duration": 24,
    "start_time": "2024-09-12T10:34:43.330Z"
   },
   {
    "duration": 41,
    "start_time": "2024-09-12T10:34:43.355Z"
   },
   {
    "duration": 110,
    "start_time": "2024-09-12T10:34:43.398Z"
   },
   {
    "duration": 103,
    "start_time": "2024-09-12T10:34:43.510Z"
   },
   {
    "duration": 104,
    "start_time": "2024-09-12T10:34:43.615Z"
   },
   {
    "duration": 179,
    "start_time": "2024-09-12T10:34:43.720Z"
   },
   {
    "duration": 75,
    "start_time": "2024-09-12T10:34:43.901Z"
   },
   {
    "duration": 88,
    "start_time": "2024-09-12T10:34:43.978Z"
   },
   {
    "duration": 85,
    "start_time": "2024-09-12T10:34:44.067Z"
   },
   {
    "duration": 146,
    "start_time": "2024-09-12T10:34:44.154Z"
   },
   {
    "duration": 12,
    "start_time": "2024-09-12T10:34:44.302Z"
   },
   {
    "duration": 13,
    "start_time": "2024-09-12T10:34:44.316Z"
   },
   {
    "duration": 31,
    "start_time": "2024-09-12T10:34:44.330Z"
   },
   {
    "duration": 42,
    "start_time": "2024-09-12T10:34:44.366Z"
   },
   {
    "duration": 3,
    "start_time": "2024-09-12T10:34:44.410Z"
   },
   {
    "duration": 35,
    "start_time": "2024-09-12T10:34:44.415Z"
   },
   {
    "duration": 7,
    "start_time": "2024-09-12T10:34:44.452Z"
   },
   {
    "duration": 93,
    "start_time": "2024-09-12T10:34:44.461Z"
   },
   {
    "duration": 2677,
    "start_time": "2024-09-12T10:34:44.557Z"
   },
   {
    "duration": 151,
    "start_time": "2024-09-12T10:34:47.236Z"
   },
   {
    "duration": 600,
    "start_time": "2024-09-12T10:34:47.389Z"
   },
   {
    "duration": 244,
    "start_time": "2024-09-12T10:34:47.991Z"
   },
   {
    "duration": 5029,
    "start_time": "2024-09-12T10:34:48.237Z"
   },
   {
    "duration": 5003,
    "start_time": "2024-09-12T10:34:53.269Z"
   },
   {
    "duration": 6256,
    "start_time": "2024-09-12T10:34:58.274Z"
   },
   {
    "duration": 29,
    "start_time": "2024-09-12T10:35:04.532Z"
   },
   {
    "duration": 10,
    "start_time": "2024-09-12T10:35:04.564Z"
   },
   {
    "duration": 4,
    "start_time": "2024-09-12T10:35:04.598Z"
   },
   {
    "duration": 4036,
    "start_time": "2024-09-12T10:35:04.604Z"
   },
   {
    "duration": 4,
    "start_time": "2024-09-12T10:35:08.641Z"
   },
   {
    "duration": 4461,
    "start_time": "2024-09-12T10:35:08.647Z"
   },
   {
    "duration": 15,
    "start_time": "2024-09-12T10:35:13.110Z"
   },
   {
    "duration": 31,
    "start_time": "2024-09-12T10:35:13.127Z"
   },
   {
    "duration": 13,
    "start_time": "2024-09-12T10:35:13.159Z"
   },
   {
    "duration": 138,
    "start_time": "2024-09-12T10:35:13.174Z"
   },
   {
    "duration": 0,
    "start_time": "2024-09-12T10:35:13.314Z"
   },
   {
    "duration": 0,
    "start_time": "2024-09-12T10:35:13.315Z"
   },
   {
    "duration": 0,
    "start_time": "2024-09-12T10:35:13.317Z"
   },
   {
    "duration": 0,
    "start_time": "2024-09-12T10:35:13.318Z"
   },
   {
    "duration": 0,
    "start_time": "2024-09-12T10:35:13.319Z"
   },
   {
    "duration": 0,
    "start_time": "2024-09-12T10:35:13.320Z"
   },
   {
    "duration": 0,
    "start_time": "2024-09-12T10:35:13.321Z"
   },
   {
    "duration": 0,
    "start_time": "2024-09-12T10:35:13.322Z"
   },
   {
    "duration": 0,
    "start_time": "2024-09-12T10:35:13.323Z"
   },
   {
    "duration": 0,
    "start_time": "2024-09-12T10:35:13.324Z"
   },
   {
    "duration": 5,
    "start_time": "2024-09-12T10:42:08.376Z"
   },
   {
    "duration": 3741,
    "start_time": "2024-09-19T05:50:21.403Z"
   },
   {
    "duration": 4088,
    "start_time": "2024-09-19T05:50:25.146Z"
   },
   {
    "duration": 1652,
    "start_time": "2024-09-19T05:50:29.236Z"
   },
   {
    "duration": 90,
    "start_time": "2024-09-19T05:50:30.890Z"
   },
   {
    "duration": 121,
    "start_time": "2024-09-19T05:50:30.983Z"
   },
   {
    "duration": 81,
    "start_time": "2024-09-19T05:50:31.105Z"
   },
   {
    "duration": 87,
    "start_time": "2024-09-19T05:50:31.188Z"
   },
   {
    "duration": 14,
    "start_time": "2024-09-19T05:50:31.276Z"
   },
   {
    "duration": 21,
    "start_time": "2024-09-19T05:50:31.291Z"
   },
   {
    "duration": 33,
    "start_time": "2024-09-19T05:50:31.314Z"
   },
   {
    "duration": 37,
    "start_time": "2024-09-19T05:50:31.348Z"
   },
   {
    "duration": 41,
    "start_time": "2024-09-19T05:50:31.387Z"
   },
   {
    "duration": 56,
    "start_time": "2024-09-19T05:50:31.430Z"
   },
   {
    "duration": 25,
    "start_time": "2024-09-19T05:50:31.491Z"
   },
   {
    "duration": 40,
    "start_time": "2024-09-19T05:50:31.517Z"
   },
   {
    "duration": 71,
    "start_time": "2024-09-19T05:50:31.559Z"
   },
   {
    "duration": 121,
    "start_time": "2024-09-19T05:50:31.632Z"
   },
   {
    "duration": 111,
    "start_time": "2024-09-19T05:50:31.754Z"
   },
   {
    "duration": 117,
    "start_time": "2024-09-19T05:50:31.866Z"
   },
   {
    "duration": 201,
    "start_time": "2024-09-19T05:50:31.985Z"
   },
   {
    "duration": 88,
    "start_time": "2024-09-19T05:50:32.188Z"
   },
   {
    "duration": 81,
    "start_time": "2024-09-19T05:50:32.278Z"
   },
   {
    "duration": 128,
    "start_time": "2024-09-19T05:50:32.361Z"
   },
   {
    "duration": 225,
    "start_time": "2024-09-19T05:50:32.490Z"
   },
   {
    "duration": 11,
    "start_time": "2024-09-19T05:50:32.716Z"
   },
   {
    "duration": 40,
    "start_time": "2024-09-19T05:50:32.729Z"
   },
   {
    "duration": 57,
    "start_time": "2024-09-19T05:50:32.771Z"
   },
   {
    "duration": 16,
    "start_time": "2024-09-19T05:50:32.830Z"
   },
   {
    "duration": 35,
    "start_time": "2024-09-19T05:50:32.848Z"
   },
   {
    "duration": 49,
    "start_time": "2024-09-19T05:50:32.885Z"
   },
   {
    "duration": 22,
    "start_time": "2024-09-19T05:50:32.936Z"
   },
   {
    "duration": 60,
    "start_time": "2024-09-19T05:50:32.959Z"
   },
   {
    "duration": 2701,
    "start_time": "2024-09-19T05:50:33.021Z"
   },
   {
    "duration": 159,
    "start_time": "2024-09-19T05:50:35.723Z"
   },
   {
    "duration": 592,
    "start_time": "2024-09-19T05:50:35.884Z"
   },
   {
    "duration": 244,
    "start_time": "2024-09-19T05:50:36.478Z"
   },
   {
    "duration": 5201,
    "start_time": "2024-09-19T05:50:36.724Z"
   },
   {
    "duration": 5407,
    "start_time": "2024-09-19T05:50:41.927Z"
   },
   {
    "duration": 6239,
    "start_time": "2024-09-19T05:50:47.335Z"
   },
   {
    "duration": 38,
    "start_time": "2024-09-19T05:50:53.576Z"
   },
   {
    "duration": 10,
    "start_time": "2024-09-19T05:50:53.618Z"
   },
   {
    "duration": 3,
    "start_time": "2024-09-19T05:50:53.629Z"
   },
   {
    "duration": 4209,
    "start_time": "2024-09-19T05:50:53.634Z"
   },
   {
    "duration": 4,
    "start_time": "2024-09-19T05:50:57.844Z"
   },
   {
    "duration": 4366,
    "start_time": "2024-09-19T05:50:57.849Z"
   },
   {
    "duration": 23,
    "start_time": "2024-09-19T05:51:02.217Z"
   },
   {
    "duration": 72,
    "start_time": "2024-09-19T05:51:02.242Z"
   },
   {
    "duration": 227,
    "start_time": "2024-09-19T05:51:02.316Z"
   },
   {
    "duration": 170,
    "start_time": "2024-09-19T05:51:02.546Z"
   },
   {
    "duration": 0,
    "start_time": "2024-09-19T05:51:02.718Z"
   },
   {
    "duration": 0,
    "start_time": "2024-09-19T05:51:02.720Z"
   },
   {
    "duration": 0,
    "start_time": "2024-09-19T05:51:02.721Z"
   },
   {
    "duration": 0,
    "start_time": "2024-09-19T05:51:02.723Z"
   },
   {
    "duration": 0,
    "start_time": "2024-09-19T05:51:02.725Z"
   },
   {
    "duration": 0,
    "start_time": "2024-09-19T05:51:02.726Z"
   },
   {
    "duration": 0,
    "start_time": "2024-09-19T05:51:02.727Z"
   },
   {
    "duration": 0,
    "start_time": "2024-09-19T05:51:02.729Z"
   },
   {
    "duration": 0,
    "start_time": "2024-09-19T05:51:02.730Z"
   },
   {
    "duration": 0,
    "start_time": "2024-09-19T05:51:02.731Z"
   },
   {
    "duration": 2497,
    "start_time": "2024-09-19T05:52:16.885Z"
   },
   {
    "duration": 2792,
    "start_time": "2024-09-19T05:52:19.385Z"
   },
   {
    "duration": 1541,
    "start_time": "2024-09-19T05:52:22.179Z"
   },
   {
    "duration": 40,
    "start_time": "2024-09-19T05:52:23.722Z"
   },
   {
    "duration": 44,
    "start_time": "2024-09-19T05:52:23.765Z"
   },
   {
    "duration": 26,
    "start_time": "2024-09-19T05:52:23.811Z"
   },
   {
    "duration": 33,
    "start_time": "2024-09-19T05:52:23.839Z"
   },
   {
    "duration": 12,
    "start_time": "2024-09-19T05:52:23.873Z"
   },
   {
    "duration": 12,
    "start_time": "2024-09-19T05:52:23.886Z"
   },
   {
    "duration": 25,
    "start_time": "2024-09-19T05:52:23.900Z"
   },
   {
    "duration": 10,
    "start_time": "2024-09-19T05:52:23.927Z"
   },
   {
    "duration": 13,
    "start_time": "2024-09-19T05:52:23.939Z"
   },
   {
    "duration": 6,
    "start_time": "2024-09-19T05:52:23.954Z"
   },
   {
    "duration": 6,
    "start_time": "2024-09-19T05:52:23.964Z"
   },
   {
    "duration": 16,
    "start_time": "2024-09-19T05:52:23.972Z"
   },
   {
    "duration": 61,
    "start_time": "2024-09-19T05:52:23.990Z"
   },
   {
    "duration": 111,
    "start_time": "2024-09-19T05:52:24.053Z"
   },
   {
    "duration": 102,
    "start_time": "2024-09-19T05:52:24.165Z"
   },
   {
    "duration": 103,
    "start_time": "2024-09-19T05:52:24.268Z"
   },
   {
    "duration": 182,
    "start_time": "2024-09-19T05:52:24.372Z"
   },
   {
    "duration": 80,
    "start_time": "2024-09-19T05:52:24.555Z"
   },
   {
    "duration": 82,
    "start_time": "2024-09-19T05:52:24.637Z"
   },
   {
    "duration": 89,
    "start_time": "2024-09-19T05:52:24.721Z"
   },
   {
    "duration": 143,
    "start_time": "2024-09-19T05:52:24.812Z"
   },
   {
    "duration": 11,
    "start_time": "2024-09-19T05:52:24.956Z"
   },
   {
    "duration": 20,
    "start_time": "2024-09-19T05:52:24.969Z"
   },
   {
    "duration": 31,
    "start_time": "2024-09-19T05:52:24.991Z"
   },
   {
    "duration": 14,
    "start_time": "2024-09-19T05:52:25.024Z"
   },
   {
    "duration": 11,
    "start_time": "2024-09-19T05:52:25.040Z"
   },
   {
    "duration": 33,
    "start_time": "2024-09-19T05:52:25.052Z"
   },
   {
    "duration": 23,
    "start_time": "2024-09-19T05:52:25.086Z"
   },
   {
    "duration": 41,
    "start_time": "2024-09-19T05:52:25.111Z"
   },
   {
    "duration": 2571,
    "start_time": "2024-09-19T05:52:25.154Z"
   },
   {
    "duration": 138,
    "start_time": "2024-09-19T05:52:27.727Z"
   },
   {
    "duration": 600,
    "start_time": "2024-09-19T05:52:27.867Z"
   },
   {
    "duration": 239,
    "start_time": "2024-09-19T05:52:28.469Z"
   },
   {
    "duration": 5083,
    "start_time": "2024-09-19T05:52:28.710Z"
   },
   {
    "duration": 5089,
    "start_time": "2024-09-19T05:52:33.795Z"
   },
   {
    "duration": 5958,
    "start_time": "2024-09-19T05:52:38.885Z"
   },
   {
    "duration": 28,
    "start_time": "2024-09-19T05:52:44.845Z"
   },
   {
    "duration": 29,
    "start_time": "2024-09-19T05:52:44.879Z"
   },
   {
    "duration": 4,
    "start_time": "2024-09-19T05:52:44.910Z"
   },
   {
    "duration": 4038,
    "start_time": "2024-09-19T05:52:44.915Z"
   },
   {
    "duration": 3,
    "start_time": "2024-09-19T05:52:48.955Z"
   },
   {
    "duration": 4560,
    "start_time": "2024-09-19T05:52:48.960Z"
   },
   {
    "duration": 14,
    "start_time": "2024-09-19T05:52:53.521Z"
   },
   {
    "duration": 5,
    "start_time": "2024-09-19T05:52:53.536Z"
   },
   {
    "duration": 7,
    "start_time": "2024-09-19T05:52:53.542Z"
   },
   {
    "duration": 153,
    "start_time": "2024-09-19T05:52:53.551Z"
   },
   {
    "duration": 0,
    "start_time": "2024-09-19T05:52:53.706Z"
   },
   {
    "duration": 0,
    "start_time": "2024-09-19T05:52:53.707Z"
   },
   {
    "duration": 0,
    "start_time": "2024-09-19T05:52:53.708Z"
   },
   {
    "duration": 0,
    "start_time": "2024-09-19T05:52:53.709Z"
   },
   {
    "duration": 0,
    "start_time": "2024-09-19T05:52:53.710Z"
   },
   {
    "duration": 0,
    "start_time": "2024-09-19T05:52:53.711Z"
   },
   {
    "duration": 0,
    "start_time": "2024-09-19T05:52:53.712Z"
   },
   {
    "duration": 0,
    "start_time": "2024-09-19T05:52:53.714Z"
   },
   {
    "duration": 0,
    "start_time": "2024-09-19T05:52:53.714Z"
   },
   {
    "duration": 0,
    "start_time": "2024-09-19T05:52:53.715Z"
   },
   {
    "duration": 15,
    "start_time": "2024-09-19T05:53:22.176Z"
   },
   {
    "duration": 16,
    "start_time": "2024-09-19T05:53:29.745Z"
   },
   {
    "duration": 2552,
    "start_time": "2024-09-19T05:53:37.144Z"
   },
   {
    "duration": 2604,
    "start_time": "2024-09-19T05:53:39.699Z"
   },
   {
    "duration": 1451,
    "start_time": "2024-09-19T05:53:42.305Z"
   },
   {
    "duration": 40,
    "start_time": "2024-09-19T05:53:43.758Z"
   },
   {
    "duration": 27,
    "start_time": "2024-09-19T05:53:43.800Z"
   },
   {
    "duration": 29,
    "start_time": "2024-09-19T05:53:43.837Z"
   },
   {
    "duration": 34,
    "start_time": "2024-09-19T05:53:43.868Z"
   },
   {
    "duration": 12,
    "start_time": "2024-09-19T05:53:43.904Z"
   },
   {
    "duration": 23,
    "start_time": "2024-09-19T05:53:43.917Z"
   },
   {
    "duration": 7,
    "start_time": "2024-09-19T05:53:43.943Z"
   },
   {
    "duration": 30,
    "start_time": "2024-09-19T05:53:43.951Z"
   },
   {
    "duration": 23,
    "start_time": "2024-09-19T05:53:43.982Z"
   },
   {
    "duration": 36,
    "start_time": "2024-09-19T05:53:44.007Z"
   },
   {
    "duration": 28,
    "start_time": "2024-09-19T05:53:44.045Z"
   },
   {
    "duration": 37,
    "start_time": "2024-09-19T05:53:44.074Z"
   },
   {
    "duration": 62,
    "start_time": "2024-09-19T05:53:44.113Z"
   },
   {
    "duration": 112,
    "start_time": "2024-09-19T05:53:44.176Z"
   },
   {
    "duration": 98,
    "start_time": "2024-09-19T05:53:44.290Z"
   },
   {
    "duration": 104,
    "start_time": "2024-09-19T05:53:44.390Z"
   },
   {
    "duration": 183,
    "start_time": "2024-09-19T05:53:44.495Z"
   },
   {
    "duration": 91,
    "start_time": "2024-09-19T05:53:44.679Z"
   },
   {
    "duration": 84,
    "start_time": "2024-09-19T05:53:44.772Z"
   },
   {
    "duration": 89,
    "start_time": "2024-09-19T05:53:44.858Z"
   },
   {
    "duration": 150,
    "start_time": "2024-09-19T05:53:44.949Z"
   },
   {
    "duration": 17,
    "start_time": "2024-09-19T05:53:45.100Z"
   },
   {
    "duration": 38,
    "start_time": "2024-09-19T05:53:45.118Z"
   },
   {
    "duration": 34,
    "start_time": "2024-09-19T05:53:45.158Z"
   },
   {
    "duration": 17,
    "start_time": "2024-09-19T05:53:45.196Z"
   },
   {
    "duration": 30,
    "start_time": "2024-09-19T05:53:45.215Z"
   },
   {
    "duration": 95,
    "start_time": "2024-09-19T05:53:45.247Z"
   },
   {
    "duration": 38,
    "start_time": "2024-09-19T05:53:45.344Z"
   },
   {
    "duration": 130,
    "start_time": "2024-09-19T05:53:45.384Z"
   },
   {
    "duration": 2654,
    "start_time": "2024-09-19T05:53:45.516Z"
   },
   {
    "duration": 148,
    "start_time": "2024-09-19T05:53:48.172Z"
   },
   {
    "duration": 589,
    "start_time": "2024-09-19T05:53:48.321Z"
   },
   {
    "duration": 243,
    "start_time": "2024-09-19T05:53:48.911Z"
   },
   {
    "duration": 5100,
    "start_time": "2024-09-19T05:53:49.156Z"
   },
   {
    "duration": 5335,
    "start_time": "2024-09-19T05:53:54.258Z"
   },
   {
    "duration": 6266,
    "start_time": "2024-09-19T05:53:59.595Z"
   },
   {
    "duration": 27,
    "start_time": "2024-09-19T05:54:05.863Z"
   },
   {
    "duration": 9,
    "start_time": "2024-09-19T05:54:05.905Z"
   },
   {
    "duration": 20,
    "start_time": "2024-09-19T05:54:05.916Z"
   },
   {
    "duration": 3905,
    "start_time": "2024-09-19T05:54:05.938Z"
   },
   {
    "duration": 3,
    "start_time": "2024-09-19T05:54:09.845Z"
   },
   {
    "duration": 4765,
    "start_time": "2024-09-19T05:54:09.850Z"
   },
   {
    "duration": 16,
    "start_time": "2024-09-19T05:54:14.617Z"
   },
   {
    "duration": 3,
    "start_time": "2024-09-19T05:54:14.635Z"
   },
   {
    "duration": 10,
    "start_time": "2024-09-19T05:54:14.640Z"
   },
   {
    "duration": 14,
    "start_time": "2024-09-19T05:54:14.652Z"
   },
   {
    "duration": 152,
    "start_time": "2024-09-19T05:54:14.668Z"
   },
   {
    "duration": 0,
    "start_time": "2024-09-19T05:54:14.822Z"
   },
   {
    "duration": 0,
    "start_time": "2024-09-19T05:54:14.823Z"
   },
   {
    "duration": 0,
    "start_time": "2024-09-19T05:54:14.824Z"
   },
   {
    "duration": 0,
    "start_time": "2024-09-19T05:54:14.825Z"
   },
   {
    "duration": 0,
    "start_time": "2024-09-19T05:54:14.827Z"
   },
   {
    "duration": 0,
    "start_time": "2024-09-19T05:54:14.827Z"
   },
   {
    "duration": 0,
    "start_time": "2024-09-19T05:54:14.829Z"
   },
   {
    "duration": 0,
    "start_time": "2024-09-19T05:54:14.830Z"
   },
   {
    "duration": 0,
    "start_time": "2024-09-19T05:54:14.832Z"
   },
   {
    "duration": 16,
    "start_time": "2024-09-19T05:54:35.876Z"
   },
   {
    "duration": 2563,
    "start_time": "2024-09-19T05:55:55.159Z"
   },
   {
    "duration": 2481,
    "start_time": "2024-09-19T05:55:57.724Z"
   },
   {
    "duration": 7027,
    "start_time": "2024-09-19T05:56:00.207Z"
   },
   {
    "duration": 1328,
    "start_time": "2024-09-19T05:56:07.238Z"
   },
   {
    "duration": 42,
    "start_time": "2024-09-19T05:56:08.568Z"
   },
   {
    "duration": 27,
    "start_time": "2024-09-19T05:56:08.612Z"
   },
   {
    "duration": 24,
    "start_time": "2024-09-19T05:56:08.640Z"
   },
   {
    "duration": 33,
    "start_time": "2024-09-19T05:56:08.666Z"
   },
   {
    "duration": 13,
    "start_time": "2024-09-19T05:56:08.700Z"
   },
   {
    "duration": 6,
    "start_time": "2024-09-19T05:56:08.717Z"
   },
   {
    "duration": 6,
    "start_time": "2024-09-19T05:56:08.725Z"
   },
   {
    "duration": 7,
    "start_time": "2024-09-19T05:56:08.733Z"
   },
   {
    "duration": 7,
    "start_time": "2024-09-19T05:56:08.742Z"
   },
   {
    "duration": 7,
    "start_time": "2024-09-19T05:56:08.751Z"
   },
   {
    "duration": 6,
    "start_time": "2024-09-19T05:56:08.760Z"
   },
   {
    "duration": 39,
    "start_time": "2024-09-19T05:56:08.768Z"
   },
   {
    "duration": 40,
    "start_time": "2024-09-19T05:56:08.809Z"
   },
   {
    "duration": 135,
    "start_time": "2024-09-19T05:56:08.851Z"
   },
   {
    "duration": 102,
    "start_time": "2024-09-19T05:56:08.987Z"
   },
   {
    "duration": 102,
    "start_time": "2024-09-19T05:56:09.091Z"
   },
   {
    "duration": 119,
    "start_time": "2024-09-19T05:56:09.194Z"
   },
   {
    "duration": 162,
    "start_time": "2024-09-19T05:56:09.315Z"
   },
   {
    "duration": 80,
    "start_time": "2024-09-19T05:56:09.479Z"
   },
   {
    "duration": 84,
    "start_time": "2024-09-19T05:56:09.560Z"
   },
   {
    "duration": 148,
    "start_time": "2024-09-19T05:56:09.646Z"
   },
   {
    "duration": 22,
    "start_time": "2024-09-19T05:56:09.796Z"
   },
   {
    "duration": 18,
    "start_time": "2024-09-19T05:56:09.820Z"
   },
   {
    "duration": 25,
    "start_time": "2024-09-19T05:56:09.841Z"
   },
   {
    "duration": 40,
    "start_time": "2024-09-19T05:56:09.868Z"
   },
   {
    "duration": 11,
    "start_time": "2024-09-19T05:56:09.910Z"
   },
   {
    "duration": 27,
    "start_time": "2024-09-19T05:56:09.922Z"
   },
   {
    "duration": 6,
    "start_time": "2024-09-19T05:56:09.950Z"
   },
   {
    "duration": 33,
    "start_time": "2024-09-19T05:56:09.957Z"
   },
   {
    "duration": 2710,
    "start_time": "2024-09-19T05:56:09.991Z"
   },
   {
    "duration": 145,
    "start_time": "2024-09-19T05:56:12.703Z"
   },
   {
    "duration": 629,
    "start_time": "2024-09-19T05:56:12.850Z"
   },
   {
    "duration": 152,
    "start_time": "2024-09-19T05:56:13.480Z"
   },
   {
    "duration": 5285,
    "start_time": "2024-09-19T05:56:13.634Z"
   },
   {
    "duration": 5007,
    "start_time": "2024-09-19T05:56:18.920Z"
   },
   {
    "duration": 6041,
    "start_time": "2024-09-19T05:56:23.928Z"
   },
   {
    "duration": 37,
    "start_time": "2024-09-19T05:56:29.971Z"
   },
   {
    "duration": 10,
    "start_time": "2024-09-19T05:56:30.010Z"
   },
   {
    "duration": 65,
    "start_time": "2024-09-19T05:56:30.022Z"
   },
   {
    "duration": 1867,
    "start_time": "2024-09-19T05:56:30.089Z"
   },
   {
    "duration": 5,
    "start_time": "2024-09-19T05:56:31.958Z"
   },
   {
    "duration": 1980,
    "start_time": "2024-09-19T05:56:31.965Z"
   },
   {
    "duration": 15,
    "start_time": "2024-09-19T05:56:33.947Z"
   },
   {
    "duration": 6,
    "start_time": "2024-09-19T05:56:33.964Z"
   },
   {
    "duration": 14,
    "start_time": "2024-09-19T05:56:33.971Z"
   },
   {
    "duration": 143,
    "start_time": "2024-09-19T05:56:33.987Z"
   },
   {
    "duration": 0,
    "start_time": "2024-09-19T05:56:34.132Z"
   },
   {
    "duration": 0,
    "start_time": "2024-09-19T05:56:34.134Z"
   },
   {
    "duration": 0,
    "start_time": "2024-09-19T05:56:34.135Z"
   },
   {
    "duration": 0,
    "start_time": "2024-09-19T05:56:34.137Z"
   },
   {
    "duration": 0,
    "start_time": "2024-09-19T05:56:34.138Z"
   },
   {
    "duration": 0,
    "start_time": "2024-09-19T05:56:34.140Z"
   },
   {
    "duration": 0,
    "start_time": "2024-09-19T05:56:34.141Z"
   },
   {
    "duration": 0,
    "start_time": "2024-09-19T05:56:34.143Z"
   },
   {
    "duration": 0,
    "start_time": "2024-09-19T05:56:34.144Z"
   },
   {
    "duration": 0,
    "start_time": "2024-09-19T05:56:34.146Z"
   },
   {
    "duration": 17,
    "start_time": "2024-09-19T05:57:32.028Z"
   },
   {
    "duration": 8,
    "start_time": "2024-09-19T05:57:43.512Z"
   },
   {
    "duration": 3,
    "start_time": "2024-09-19T05:57:50.000Z"
   },
   {
    "duration": 14,
    "start_time": "2024-09-19T05:57:50.006Z"
   },
   {
    "duration": 22,
    "start_time": "2024-09-19T05:57:50.023Z"
   },
   {
    "duration": 77,
    "start_time": "2024-09-19T05:57:50.046Z"
   },
   {
    "duration": 283,
    "start_time": "2024-09-19T05:57:50.125Z"
   },
   {
    "duration": 348,
    "start_time": "2024-09-19T05:57:50.409Z"
   },
   {
    "duration": 1239,
    "start_time": "2024-09-19T05:57:50.759Z"
   },
   {
    "duration": 1139,
    "start_time": "2024-09-19T05:57:52.000Z"
   },
   {
    "duration": 218,
    "start_time": "2024-09-19T05:57:53.205Z"
   },
   {
    "duration": 10,
    "start_time": "2024-09-19T06:16:50.561Z"
   },
   {
    "duration": 20,
    "start_time": "2024-09-19T06:21:56.033Z"
   },
   {
    "duration": 25,
    "start_time": "2024-09-19T06:22:01.153Z"
   },
   {
    "duration": 19,
    "start_time": "2024-09-19T06:23:19.069Z"
   },
   {
    "duration": 24,
    "start_time": "2024-09-19T06:26:29.107Z"
   },
   {
    "duration": 301,
    "start_time": "2024-09-19T06:27:06.915Z"
   },
   {
    "duration": 23,
    "start_time": "2024-09-19T06:27:36.596Z"
   },
   {
    "duration": 28,
    "start_time": "2024-09-19T06:28:14.038Z"
   },
   {
    "duration": 18,
    "start_time": "2024-09-19T06:28:38.503Z"
   },
   {
    "duration": 19,
    "start_time": "2024-09-19T06:28:53.751Z"
   },
   {
    "duration": 25,
    "start_time": "2024-09-19T06:29:25.007Z"
   },
   {
    "duration": 19,
    "start_time": "2024-09-19T06:30:07.364Z"
   },
   {
    "duration": 14,
    "start_time": "2024-09-19T06:31:25.931Z"
   },
   {
    "duration": 13,
    "start_time": "2024-09-19T06:31:38.419Z"
   },
   {
    "duration": 81,
    "start_time": "2024-09-19T06:32:22.249Z"
   },
   {
    "duration": 37,
    "start_time": "2024-09-19T06:40:33.477Z"
   },
   {
    "duration": 37,
    "start_time": "2024-09-19T06:41:54.174Z"
   },
   {
    "duration": 29,
    "start_time": "2024-09-19T06:42:21.362Z"
   },
   {
    "duration": 13,
    "start_time": "2024-09-19T06:44:46.055Z"
   },
   {
    "duration": 15,
    "start_time": "2024-09-19T06:47:03.219Z"
   },
   {
    "duration": 28,
    "start_time": "2024-09-19T06:49:32.388Z"
   },
   {
    "duration": 17,
    "start_time": "2024-09-19T06:51:20.772Z"
   },
   {
    "duration": 37,
    "start_time": "2024-09-19T06:51:39.012Z"
   },
   {
    "duration": 36,
    "start_time": "2024-09-19T06:51:57.516Z"
   },
   {
    "duration": 35,
    "start_time": "2024-09-19T06:52:33.805Z"
   },
   {
    "duration": 38,
    "start_time": "2024-09-19T06:53:22.116Z"
   },
   {
    "duration": 15,
    "start_time": "2024-09-19T06:53:27.188Z"
   },
   {
    "duration": 25,
    "start_time": "2024-09-19T06:53:53.668Z"
   },
   {
    "duration": 2496,
    "start_time": "2024-09-19T06:54:11.919Z"
   },
   {
    "duration": 2572,
    "start_time": "2024-09-19T06:54:14.417Z"
   },
   {
    "duration": 3088,
    "start_time": "2024-09-19T06:54:16.991Z"
   },
   {
    "duration": 1415,
    "start_time": "2024-09-19T06:54:20.082Z"
   },
   {
    "duration": 41,
    "start_time": "2024-09-19T06:54:21.498Z"
   },
   {
    "duration": 27,
    "start_time": "2024-09-19T06:54:21.540Z"
   },
   {
    "duration": 25,
    "start_time": "2024-09-19T06:54:21.569Z"
   },
   {
    "duration": 34,
    "start_time": "2024-09-19T06:54:21.595Z"
   },
   {
    "duration": 12,
    "start_time": "2024-09-19T06:54:21.631Z"
   },
   {
    "duration": 16,
    "start_time": "2024-09-19T06:54:21.646Z"
   },
   {
    "duration": 28,
    "start_time": "2024-09-19T06:54:21.664Z"
   },
   {
    "duration": 34,
    "start_time": "2024-09-19T06:54:21.693Z"
   },
   {
    "duration": 21,
    "start_time": "2024-09-19T06:54:21.730Z"
   },
   {
    "duration": 8,
    "start_time": "2024-09-19T06:54:21.752Z"
   },
   {
    "duration": 14,
    "start_time": "2024-09-19T06:54:21.762Z"
   },
   {
    "duration": 39,
    "start_time": "2024-09-19T06:54:21.778Z"
   },
   {
    "duration": 38,
    "start_time": "2024-09-19T06:54:21.819Z"
   },
   {
    "duration": 115,
    "start_time": "2024-09-19T06:54:21.858Z"
   },
   {
    "duration": 124,
    "start_time": "2024-09-19T06:54:21.975Z"
   },
   {
    "duration": 107,
    "start_time": "2024-09-19T06:54:22.105Z"
   },
   {
    "duration": 111,
    "start_time": "2024-09-19T06:54:22.214Z"
   },
   {
    "duration": 151,
    "start_time": "2024-09-19T06:54:22.327Z"
   },
   {
    "duration": 77,
    "start_time": "2024-09-19T06:54:22.480Z"
   },
   {
    "duration": 82,
    "start_time": "2024-09-19T06:54:22.559Z"
   },
   {
    "duration": 134,
    "start_time": "2024-09-19T06:54:22.643Z"
   },
   {
    "duration": 56,
    "start_time": "2024-09-19T06:54:22.779Z"
   },
   {
    "duration": 40,
    "start_time": "2024-09-19T06:54:22.837Z"
   },
   {
    "duration": 13,
    "start_time": "2024-09-19T06:54:22.880Z"
   },
   {
    "duration": 25,
    "start_time": "2024-09-19T06:54:22.895Z"
   },
   {
    "duration": 18,
    "start_time": "2024-09-19T06:54:22.922Z"
   },
   {
    "duration": 19,
    "start_time": "2024-09-19T06:54:22.941Z"
   },
   {
    "duration": 1663,
    "start_time": "2024-09-19T06:54:22.962Z"
   },
   {
    "duration": 1283,
    "start_time": "2024-09-19T06:54:24.627Z"
   },
   {
    "duration": 0,
    "start_time": "2024-09-19T06:54:25.912Z"
   },
   {
    "duration": 0,
    "start_time": "2024-09-19T06:54:25.913Z"
   },
   {
    "duration": 0,
    "start_time": "2024-09-19T06:54:25.914Z"
   },
   {
    "duration": 0,
    "start_time": "2024-09-19T06:54:25.915Z"
   },
   {
    "duration": 0,
    "start_time": "2024-09-19T06:54:25.916Z"
   },
   {
    "duration": 0,
    "start_time": "2024-09-19T06:54:25.917Z"
   },
   {
    "duration": 0,
    "start_time": "2024-09-19T06:54:25.918Z"
   },
   {
    "duration": 0,
    "start_time": "2024-09-19T06:54:25.920Z"
   },
   {
    "duration": 0,
    "start_time": "2024-09-19T06:54:25.921Z"
   },
   {
    "duration": 0,
    "start_time": "2024-09-19T06:54:25.922Z"
   },
   {
    "duration": 0,
    "start_time": "2024-09-19T06:54:25.923Z"
   },
   {
    "duration": 0,
    "start_time": "2024-09-19T06:54:25.924Z"
   },
   {
    "duration": 0,
    "start_time": "2024-09-19T06:54:25.925Z"
   },
   {
    "duration": 0,
    "start_time": "2024-09-19T06:54:25.926Z"
   },
   {
    "duration": 0,
    "start_time": "2024-09-19T06:54:25.927Z"
   },
   {
    "duration": 0,
    "start_time": "2024-09-19T06:54:25.928Z"
   },
   {
    "duration": 1,
    "start_time": "2024-09-19T06:54:25.929Z"
   },
   {
    "duration": 0,
    "start_time": "2024-09-19T06:54:25.931Z"
   },
   {
    "duration": 0,
    "start_time": "2024-09-19T06:54:25.932Z"
   },
   {
    "duration": 0,
    "start_time": "2024-09-19T06:54:25.933Z"
   },
   {
    "duration": 0,
    "start_time": "2024-09-19T06:54:25.934Z"
   },
   {
    "duration": 0,
    "start_time": "2024-09-19T06:54:25.936Z"
   },
   {
    "duration": 0,
    "start_time": "2024-09-19T06:54:25.936Z"
   },
   {
    "duration": 0,
    "start_time": "2024-09-19T06:54:25.938Z"
   },
   {
    "duration": 0,
    "start_time": "2024-09-19T06:54:25.939Z"
   },
   {
    "duration": 1139,
    "start_time": "2024-09-19T06:55:40.717Z"
   },
   {
    "duration": 2852,
    "start_time": "2024-09-19T06:56:24.916Z"
   },
   {
    "duration": 2480,
    "start_time": "2024-09-19T06:57:52.813Z"
   },
   {
    "duration": 163,
    "start_time": "2024-09-19T06:58:30.111Z"
   },
   {
    "duration": 598,
    "start_time": "2024-09-19T06:58:57.781Z"
   },
   {
    "duration": 161,
    "start_time": "2024-09-19T07:02:37.750Z"
   },
   {
    "duration": 5242,
    "start_time": "2024-09-19T07:03:07.760Z"
   },
   {
    "duration": 5224,
    "start_time": "2024-09-19T07:03:41.178Z"
   },
   {
    "duration": 5884,
    "start_time": "2024-09-19T07:05:13.968Z"
   },
   {
    "duration": 19,
    "start_time": "2024-09-19T07:06:21.863Z"
   },
   {
    "duration": 19,
    "start_time": "2024-09-19T07:07:29.319Z"
   },
   {
    "duration": 2963,
    "start_time": "2024-09-19T07:07:43.777Z"
   },
   {
    "duration": 3796,
    "start_time": "2024-09-19T07:08:19.751Z"
   },
   {
    "duration": 2622,
    "start_time": "2024-09-19T07:08:23.550Z"
   },
   {
    "duration": 3243,
    "start_time": "2024-09-19T07:08:26.175Z"
   },
   {
    "duration": 1496,
    "start_time": "2024-09-19T07:08:29.420Z"
   },
   {
    "duration": 42,
    "start_time": "2024-09-19T07:08:30.917Z"
   },
   {
    "duration": 28,
    "start_time": "2024-09-19T07:08:30.961Z"
   },
   {
    "duration": 26,
    "start_time": "2024-09-19T07:08:30.991Z"
   },
   {
    "duration": 34,
    "start_time": "2024-09-19T07:08:31.018Z"
   },
   {
    "duration": 15,
    "start_time": "2024-09-19T07:08:31.054Z"
   },
   {
    "duration": 22,
    "start_time": "2024-09-19T07:08:31.071Z"
   },
   {
    "duration": 12,
    "start_time": "2024-09-19T07:08:31.095Z"
   },
   {
    "duration": 18,
    "start_time": "2024-09-19T07:08:31.109Z"
   },
   {
    "duration": 37,
    "start_time": "2024-09-19T07:08:31.129Z"
   },
   {
    "duration": 17,
    "start_time": "2024-09-19T07:08:31.168Z"
   },
   {
    "duration": 14,
    "start_time": "2024-09-19T07:08:31.187Z"
   },
   {
    "duration": 17,
    "start_time": "2024-09-19T07:08:31.203Z"
   },
   {
    "duration": 51,
    "start_time": "2024-09-19T07:08:31.222Z"
   },
   {
    "duration": 120,
    "start_time": "2024-09-19T07:08:31.275Z"
   },
   {
    "duration": 114,
    "start_time": "2024-09-19T07:08:31.397Z"
   },
   {
    "duration": 128,
    "start_time": "2024-09-19T07:08:31.513Z"
   },
   {
    "duration": 127,
    "start_time": "2024-09-19T07:08:31.643Z"
   },
   {
    "duration": 180,
    "start_time": "2024-09-19T07:08:31.772Z"
   },
   {
    "duration": 81,
    "start_time": "2024-09-19T07:08:31.953Z"
   },
   {
    "duration": 89,
    "start_time": "2024-09-19T07:08:32.036Z"
   },
   {
    "duration": 146,
    "start_time": "2024-09-19T07:08:32.127Z"
   },
   {
    "duration": 8,
    "start_time": "2024-09-19T07:08:32.274Z"
   },
   {
    "duration": 62,
    "start_time": "2024-09-19T07:08:32.284Z"
   },
   {
    "duration": 12,
    "start_time": "2024-09-19T07:08:32.350Z"
   },
   {
    "duration": 47,
    "start_time": "2024-09-19T07:08:32.364Z"
   },
   {
    "duration": 17,
    "start_time": "2024-09-19T07:08:32.413Z"
   },
   {
    "duration": 26,
    "start_time": "2024-09-19T07:08:32.432Z"
   },
   {
    "duration": 18,
    "start_time": "2024-09-19T07:08:32.459Z"
   },
   {
    "duration": 2682,
    "start_time": "2024-09-19T07:08:32.479Z"
   },
   {
    "duration": 150,
    "start_time": "2024-09-19T07:08:35.163Z"
   },
   {
    "duration": 558,
    "start_time": "2024-09-19T07:08:35.315Z"
   },
   {
    "duration": 202,
    "start_time": "2024-09-19T07:08:35.875Z"
   },
   {
    "duration": 5280,
    "start_time": "2024-09-19T07:08:36.080Z"
   },
   {
    "duration": 5404,
    "start_time": "2024-09-19T07:08:41.362Z"
   },
   {
    "duration": 6250,
    "start_time": "2024-09-19T07:08:46.767Z"
   },
   {
    "duration": 19,
    "start_time": "2024-09-19T07:08:53.018Z"
   },
   {
    "duration": 146,
    "start_time": "2024-09-19T07:08:53.039Z"
   },
   {
    "duration": 0,
    "start_time": "2024-09-19T07:08:53.187Z"
   },
   {
    "duration": 0,
    "start_time": "2024-09-19T07:08:53.188Z"
   },
   {
    "duration": 0,
    "start_time": "2024-09-19T07:08:53.189Z"
   },
   {
    "duration": 0,
    "start_time": "2024-09-19T07:08:53.191Z"
   },
   {
    "duration": 0,
    "start_time": "2024-09-19T07:08:53.205Z"
   },
   {
    "duration": 0,
    "start_time": "2024-09-19T07:08:53.206Z"
   },
   {
    "duration": 0,
    "start_time": "2024-09-19T07:08:53.207Z"
   },
   {
    "duration": 0,
    "start_time": "2024-09-19T07:08:53.208Z"
   },
   {
    "duration": 0,
    "start_time": "2024-09-19T07:08:53.210Z"
   },
   {
    "duration": 0,
    "start_time": "2024-09-19T07:08:53.211Z"
   },
   {
    "duration": 0,
    "start_time": "2024-09-19T07:08:53.212Z"
   },
   {
    "duration": 0,
    "start_time": "2024-09-19T07:08:53.213Z"
   },
   {
    "duration": 0,
    "start_time": "2024-09-19T07:08:53.214Z"
   },
   {
    "duration": 0,
    "start_time": "2024-09-19T07:08:53.215Z"
   },
   {
    "duration": 1,
    "start_time": "2024-09-19T07:08:53.216Z"
   },
   {
    "duration": 0,
    "start_time": "2024-09-19T07:08:53.218Z"
   },
   {
    "duration": 0,
    "start_time": "2024-09-19T07:08:53.220Z"
   },
   {
    "duration": 0,
    "start_time": "2024-09-19T07:08:53.222Z"
   },
   {
    "duration": 14,
    "start_time": "2024-09-19T07:17:05.733Z"
   },
   {
    "duration": 3,
    "start_time": "2024-09-19T07:18:30.725Z"
   },
   {
    "duration": 1662,
    "start_time": "2024-09-19T07:22:54.726Z"
   },
   {
    "duration": 1645,
    "start_time": "2024-09-19T07:51:53.385Z"
   },
   {
    "duration": 2513,
    "start_time": "2024-09-19T07:53:42.350Z"
   },
   {
    "duration": 2566,
    "start_time": "2024-09-19T07:53:44.865Z"
   },
   {
    "duration": 3059,
    "start_time": "2024-09-19T07:53:47.432Z"
   },
   {
    "duration": 1415,
    "start_time": "2024-09-19T07:53:50.493Z"
   },
   {
    "duration": 42,
    "start_time": "2024-09-19T07:53:51.909Z"
   },
   {
    "duration": 27,
    "start_time": "2024-09-19T07:53:51.954Z"
   },
   {
    "duration": 26,
    "start_time": "2024-09-19T07:53:51.983Z"
   },
   {
    "duration": 34,
    "start_time": "2024-09-19T07:53:52.010Z"
   },
   {
    "duration": 12,
    "start_time": "2024-09-19T07:53:52.045Z"
   },
   {
    "duration": 6,
    "start_time": "2024-09-19T07:53:52.059Z"
   },
   {
    "duration": 20,
    "start_time": "2024-09-19T07:53:52.067Z"
   },
   {
    "duration": 29,
    "start_time": "2024-09-19T07:53:52.089Z"
   },
   {
    "duration": 10,
    "start_time": "2024-09-19T07:53:52.120Z"
   },
   {
    "duration": 19,
    "start_time": "2024-09-19T07:53:52.132Z"
   },
   {
    "duration": 11,
    "start_time": "2024-09-19T07:53:52.153Z"
   },
   {
    "duration": 19,
    "start_time": "2024-09-19T07:53:52.166Z"
   },
   {
    "duration": 41,
    "start_time": "2024-09-19T07:53:52.187Z"
   },
   {
    "duration": 113,
    "start_time": "2024-09-19T07:53:52.230Z"
   },
   {
    "duration": 109,
    "start_time": "2024-09-19T07:53:52.344Z"
   },
   {
    "duration": 113,
    "start_time": "2024-09-19T07:53:52.455Z"
   },
   {
    "duration": 112,
    "start_time": "2024-09-19T07:53:52.569Z"
   },
   {
    "duration": 164,
    "start_time": "2024-09-19T07:53:52.683Z"
   },
   {
    "duration": 89,
    "start_time": "2024-09-19T07:53:52.849Z"
   },
   {
    "duration": 96,
    "start_time": "2024-09-19T07:53:52.940Z"
   },
   {
    "duration": 156,
    "start_time": "2024-09-19T07:53:53.038Z"
   },
   {
    "duration": 14,
    "start_time": "2024-09-19T07:53:53.196Z"
   },
   {
    "duration": 22,
    "start_time": "2024-09-19T07:53:53.212Z"
   },
   {
    "duration": 12,
    "start_time": "2024-09-19T07:53:53.238Z"
   },
   {
    "duration": 31,
    "start_time": "2024-09-19T07:53:53.251Z"
   },
   {
    "duration": 34,
    "start_time": "2024-09-19T07:53:53.284Z"
   },
   {
    "duration": 19,
    "start_time": "2024-09-19T07:53:53.320Z"
   },
   {
    "duration": 16,
    "start_time": "2024-09-19T07:53:53.341Z"
   },
   {
    "duration": 2595,
    "start_time": "2024-09-19T07:53:53.358Z"
   },
   {
    "duration": 183,
    "start_time": "2024-09-19T07:53:55.956Z"
   },
   {
    "duration": 603,
    "start_time": "2024-09-19T07:53:56.140Z"
   },
   {
    "duration": 205,
    "start_time": "2024-09-19T07:53:56.744Z"
   },
   {
    "duration": 5332,
    "start_time": "2024-09-19T07:53:56.952Z"
   },
   {
    "duration": 5506,
    "start_time": "2024-09-19T07:54:02.286Z"
   },
   {
    "duration": 6588,
    "start_time": "2024-09-19T07:54:07.794Z"
   },
   {
    "duration": 22,
    "start_time": "2024-09-19T07:54:14.384Z"
   },
   {
    "duration": 11,
    "start_time": "2024-09-19T07:54:14.408Z"
   },
   {
    "duration": 6,
    "start_time": "2024-09-19T07:54:14.421Z"
   },
   {
    "duration": 1803,
    "start_time": "2024-09-19T07:54:14.429Z"
   },
   {
    "duration": 3,
    "start_time": "2024-09-19T07:54:16.234Z"
   },
   {
    "duration": 8294,
    "start_time": "2024-09-19T07:54:16.239Z"
   },
   {
    "duration": 0,
    "start_time": "2024-09-19T07:54:24.535Z"
   },
   {
    "duration": 0,
    "start_time": "2024-09-19T07:54:24.537Z"
   },
   {
    "duration": 0,
    "start_time": "2024-09-19T07:54:24.539Z"
   },
   {
    "duration": 0,
    "start_time": "2024-09-19T07:54:24.540Z"
   },
   {
    "duration": 0,
    "start_time": "2024-09-19T07:54:24.542Z"
   },
   {
    "duration": 0,
    "start_time": "2024-09-19T07:54:24.543Z"
   },
   {
    "duration": 1,
    "start_time": "2024-09-19T07:54:24.544Z"
   },
   {
    "duration": 0,
    "start_time": "2024-09-19T07:54:24.546Z"
   },
   {
    "duration": 0,
    "start_time": "2024-09-19T07:54:24.547Z"
   },
   {
    "duration": 0,
    "start_time": "2024-09-19T07:54:24.548Z"
   },
   {
    "duration": 0,
    "start_time": "2024-09-19T07:54:24.550Z"
   },
   {
    "duration": 0,
    "start_time": "2024-09-19T07:54:24.551Z"
   },
   {
    "duration": 0,
    "start_time": "2024-09-19T07:54:24.552Z"
   },
   {
    "duration": 0,
    "start_time": "2024-09-19T07:54:24.553Z"
   },
   {
    "duration": 7736,
    "start_time": "2024-09-19T07:56:52.759Z"
   },
   {
    "duration": 4,
    "start_time": "2024-09-19T07:58:34.012Z"
   },
   {
    "duration": 2095,
    "start_time": "2024-09-19T07:58:38.477Z"
   },
   {
    "duration": 18,
    "start_time": "2024-09-19T08:04:11.114Z"
   },
   {
    "duration": 23,
    "start_time": "2024-09-19T08:04:29.355Z"
   },
   {
    "duration": 23,
    "start_time": "2024-09-19T08:05:10.634Z"
   },
   {
    "duration": 5,
    "start_time": "2024-09-19T08:08:24.618Z"
   },
   {
    "duration": 19,
    "start_time": "2024-09-19T08:08:56.415Z"
   },
   {
    "duration": 24,
    "start_time": "2024-09-19T08:09:12.699Z"
   },
   {
    "duration": 7,
    "start_time": "2024-09-19T08:09:20.388Z"
   },
   {
    "duration": 17,
    "start_time": "2024-09-19T08:10:33.719Z"
   },
   {
    "duration": 8,
    "start_time": "2024-09-19T08:10:43.539Z"
   },
   {
    "duration": 4,
    "start_time": "2024-09-19T08:10:46.316Z"
   },
   {
    "duration": 3,
    "start_time": "2024-09-19T08:10:47.653Z"
   },
   {
    "duration": 6,
    "start_time": "2024-09-19T08:10:49.639Z"
   },
   {
    "duration": 31,
    "start_time": "2024-09-19T08:10:51.413Z"
   },
   {
    "duration": 29,
    "start_time": "2024-09-19T08:10:57.965Z"
   },
   {
    "duration": 81,
    "start_time": "2024-09-19T08:11:23.224Z"
   },
   {
    "duration": 85,
    "start_time": "2024-09-19T08:15:04.229Z"
   },
   {
    "duration": 109,
    "start_time": "2024-09-19T08:15:57.460Z"
   },
   {
    "duration": 3817,
    "start_time": "2024-10-17T03:38:24.384Z"
   },
   {
    "duration": 4810,
    "start_time": "2024-10-17T03:38:28.203Z"
   },
   {
    "duration": 7012,
    "start_time": "2024-10-17T03:38:33.014Z"
   },
   {
    "duration": 1395,
    "start_time": "2024-10-17T03:38:40.028Z"
   },
   {
    "duration": 89,
    "start_time": "2024-10-17T03:38:41.424Z"
   },
   {
    "duration": 104,
    "start_time": "2024-10-17T03:38:41.515Z"
   },
   {
    "duration": 75,
    "start_time": "2024-10-17T03:38:41.621Z"
   },
   {
    "duration": 82,
    "start_time": "2024-10-17T03:38:41.698Z"
   },
   {
    "duration": 10,
    "start_time": "2024-10-17T03:38:41.781Z"
   },
   {
    "duration": 146,
    "start_time": "2024-10-17T03:38:41.792Z"
   },
   {
    "duration": 25,
    "start_time": "2024-10-17T03:38:41.939Z"
   },
   {
    "duration": 29,
    "start_time": "2024-10-17T03:38:41.965Z"
   },
   {
    "duration": 19,
    "start_time": "2024-10-17T03:38:41.996Z"
   },
   {
    "duration": 21,
    "start_time": "2024-10-17T03:38:42.018Z"
   },
   {
    "duration": 11,
    "start_time": "2024-10-17T03:38:42.041Z"
   },
   {
    "duration": 15,
    "start_time": "2024-10-17T03:38:42.054Z"
   },
   {
    "duration": 40,
    "start_time": "2024-10-17T03:38:42.071Z"
   },
   {
    "duration": 108,
    "start_time": "2024-10-17T03:38:42.112Z"
   },
   {
    "duration": 93,
    "start_time": "2024-10-17T03:38:42.222Z"
   },
   {
    "duration": 92,
    "start_time": "2024-10-17T03:38:42.317Z"
   },
   {
    "duration": 160,
    "start_time": "2024-10-17T03:38:42.411Z"
   },
   {
    "duration": 101,
    "start_time": "2024-10-17T03:38:42.573Z"
   },
   {
    "duration": 68,
    "start_time": "2024-10-17T03:38:42.676Z"
   },
   {
    "duration": 73,
    "start_time": "2024-10-17T03:38:42.745Z"
   },
   {
    "duration": 124,
    "start_time": "2024-10-17T03:38:42.819Z"
   },
   {
    "duration": 7,
    "start_time": "2024-10-17T03:38:42.944Z"
   },
   {
    "duration": 37,
    "start_time": "2024-10-17T03:38:42.952Z"
   },
   {
    "duration": 11,
    "start_time": "2024-10-17T03:38:42.991Z"
   },
   {
    "duration": 45,
    "start_time": "2024-10-17T03:38:43.007Z"
   },
   {
    "duration": 20,
    "start_time": "2024-10-17T03:38:43.054Z"
   },
   {
    "duration": 35,
    "start_time": "2024-10-17T03:38:43.076Z"
   },
   {
    "duration": 16,
    "start_time": "2024-10-17T03:38:43.112Z"
   },
   {
    "duration": 2195,
    "start_time": "2024-10-17T03:38:43.130Z"
   },
   {
    "duration": 127,
    "start_time": "2024-10-17T03:38:45.327Z"
   },
   {
    "duration": 514,
    "start_time": "2024-10-17T03:38:45.456Z"
   },
   {
    "duration": 226,
    "start_time": "2024-10-17T03:38:45.971Z"
   },
   {
    "duration": 4450,
    "start_time": "2024-10-17T03:38:46.198Z"
   },
   {
    "duration": 4482,
    "start_time": "2024-10-17T03:38:50.650Z"
   },
   {
    "duration": 5121,
    "start_time": "2024-10-17T03:38:55.133Z"
   },
   {
    "duration": 15,
    "start_time": "2024-10-17T03:39:00.255Z"
   },
   {
    "duration": 79,
    "start_time": "2024-10-17T03:39:00.274Z"
   },
   {
    "duration": 55,
    "start_time": "2024-10-17T03:39:00.355Z"
   },
   {
    "duration": 1782,
    "start_time": "2024-10-17T03:39:00.411Z"
   },
   {
    "duration": 14,
    "start_time": "2024-10-17T03:39:02.195Z"
   },
   {
    "duration": 1886,
    "start_time": "2024-10-17T03:39:02.211Z"
   },
   {
    "duration": 25,
    "start_time": "2024-10-17T03:39:04.099Z"
   },
   {
    "duration": 32,
    "start_time": "2024-10-17T03:39:04.126Z"
   },
   {
    "duration": 21,
    "start_time": "2024-10-17T03:39:04.160Z"
   },
   {
    "duration": 25,
    "start_time": "2024-10-17T03:39:04.182Z"
   },
   {
    "duration": 7,
    "start_time": "2024-10-17T03:39:04.208Z"
   },
   {
    "duration": 8,
    "start_time": "2024-10-17T03:39:04.217Z"
   },
   {
    "duration": 11,
    "start_time": "2024-10-17T03:39:04.227Z"
   },
   {
    "duration": 28,
    "start_time": "2024-10-17T03:39:04.240Z"
   },
   {
    "duration": 49,
    "start_time": "2024-10-17T03:39:04.270Z"
   },
   {
    "duration": 86,
    "start_time": "2024-10-17T03:39:04.321Z"
   },
   {
    "duration": 248,
    "start_time": "2024-10-17T03:39:04.409Z"
   },
   {
    "duration": 319,
    "start_time": "2024-10-17T03:39:04.659Z"
   },
   {
    "duration": 1166,
    "start_time": "2024-10-17T03:39:04.979Z"
   },
   {
    "duration": 974,
    "start_time": "2024-10-17T03:39:06.147Z"
   },
   {
    "duration": 290,
    "start_time": "2024-10-17T03:39:07.122Z"
   },
   {
    "duration": 183,
    "start_time": "2024-10-17T03:50:35.283Z"
   },
   {
    "duration": 213,
    "start_time": "2024-10-17T03:52:55.569Z"
   },
   {
    "duration": 2722,
    "start_time": "2024-10-17T04:24:55.347Z"
   },
   {
    "duration": 2673,
    "start_time": "2024-10-17T04:24:58.071Z"
   },
   {
    "duration": 3286,
    "start_time": "2024-10-17T04:25:00.745Z"
   },
   {
    "duration": 1187,
    "start_time": "2024-10-17T04:25:04.033Z"
   },
   {
    "duration": 37,
    "start_time": "2024-10-17T04:25:05.222Z"
   },
   {
    "duration": 24,
    "start_time": "2024-10-17T04:25:05.261Z"
   },
   {
    "duration": 32,
    "start_time": "2024-10-17T04:25:05.287Z"
   },
   {
    "duration": 34,
    "start_time": "2024-10-17T04:25:05.321Z"
   },
   {
    "duration": 11,
    "start_time": "2024-10-17T04:25:05.356Z"
   },
   {
    "duration": 8,
    "start_time": "2024-10-17T04:25:05.369Z"
   },
   {
    "duration": 27,
    "start_time": "2024-10-17T04:25:05.378Z"
   },
   {
    "duration": 13,
    "start_time": "2024-10-17T04:25:05.406Z"
   },
   {
    "duration": 89,
    "start_time": "2024-10-17T04:25:05.421Z"
   },
   {
    "duration": 10,
    "start_time": "2024-10-17T04:25:05.511Z"
   },
   {
    "duration": 19,
    "start_time": "2024-10-17T04:25:05.522Z"
   },
   {
    "duration": 11,
    "start_time": "2024-10-17T04:25:05.542Z"
   },
   {
    "duration": 57,
    "start_time": "2024-10-17T04:25:05.554Z"
   },
   {
    "duration": 99,
    "start_time": "2024-10-17T04:25:05.612Z"
   },
   {
    "duration": 81,
    "start_time": "2024-10-17T04:25:05.712Z"
   },
   {
    "duration": 91,
    "start_time": "2024-10-17T04:25:05.794Z"
   },
   {
    "duration": 96,
    "start_time": "2024-10-17T04:25:05.886Z"
   },
   {
    "duration": 125,
    "start_time": "2024-10-17T04:25:05.984Z"
   },
   {
    "duration": 140,
    "start_time": "2024-10-17T04:25:06.111Z"
   },
   {
    "duration": 66,
    "start_time": "2024-10-17T04:25:06.253Z"
   },
   {
    "duration": 118,
    "start_time": "2024-10-17T04:25:06.321Z"
   },
   {
    "duration": 6,
    "start_time": "2024-10-17T04:25:06.441Z"
   },
   {
    "duration": 40,
    "start_time": "2024-10-17T04:25:06.449Z"
   },
   {
    "duration": 10,
    "start_time": "2024-10-17T04:25:06.493Z"
   },
   {
    "duration": 17,
    "start_time": "2024-10-17T04:25:06.505Z"
   },
   {
    "duration": 13,
    "start_time": "2024-10-17T04:25:06.524Z"
   },
   {
    "duration": 18,
    "start_time": "2024-10-17T04:25:06.538Z"
   },
   {
    "duration": 24,
    "start_time": "2024-10-17T04:25:06.558Z"
   },
   {
    "duration": 2098,
    "start_time": "2024-10-17T04:25:06.583Z"
   },
   {
    "duration": 126,
    "start_time": "2024-10-17T04:25:08.683Z"
   },
   {
    "duration": 541,
    "start_time": "2024-10-17T04:25:08.810Z"
   },
   {
    "duration": 145,
    "start_time": "2024-10-17T04:25:09.353Z"
   },
   {
    "duration": 4420,
    "start_time": "2024-10-17T04:25:09.499Z"
   },
   {
    "duration": 4731,
    "start_time": "2024-10-17T04:25:13.921Z"
   },
   {
    "duration": 5188,
    "start_time": "2024-10-17T04:25:18.654Z"
   },
   {
    "duration": 14,
    "start_time": "2024-10-17T04:25:23.844Z"
   },
   {
    "duration": 19,
    "start_time": "2024-10-17T04:25:23.859Z"
   },
   {
    "duration": 17,
    "start_time": "2024-10-17T04:25:23.879Z"
   },
   {
    "duration": 1717,
    "start_time": "2024-10-17T04:25:23.898Z"
   },
   {
    "duration": 2,
    "start_time": "2024-10-17T04:25:25.617Z"
   },
   {
    "duration": 1846,
    "start_time": "2024-10-17T04:25:25.621Z"
   },
   {
    "duration": 19,
    "start_time": "2024-10-17T04:25:27.469Z"
   },
   {
    "duration": 40,
    "start_time": "2024-10-17T04:25:27.489Z"
   },
   {
    "duration": 5,
    "start_time": "2024-10-17T04:25:27.530Z"
   },
   {
    "duration": 20,
    "start_time": "2024-10-17T04:25:27.537Z"
   },
   {
    "duration": 10,
    "start_time": "2024-10-17T04:25:27.559Z"
   },
   {
    "duration": 10,
    "start_time": "2024-10-17T04:25:27.570Z"
   },
   {
    "duration": 15,
    "start_time": "2024-10-17T04:25:27.581Z"
   },
   {
    "duration": 10,
    "start_time": "2024-10-17T04:25:27.598Z"
   },
   {
    "duration": 50,
    "start_time": "2024-10-17T04:25:27.610Z"
   },
   {
    "duration": 89,
    "start_time": "2024-10-17T04:25:27.661Z"
   },
   {
    "duration": 258,
    "start_time": "2024-10-17T04:25:27.751Z"
   },
   {
    "duration": 289,
    "start_time": "2024-10-17T04:25:28.010Z"
   },
   {
    "duration": 1143,
    "start_time": "2024-10-17T04:25:28.300Z"
   },
   {
    "duration": 983,
    "start_time": "2024-10-17T04:25:29.445Z"
   },
   {
    "duration": 265,
    "start_time": "2024-10-17T04:25:30.429Z"
   },
   {
    "duration": 2,
    "start_time": "2024-10-17T04:26:48.391Z"
   },
   {
    "duration": 4,
    "start_time": "2024-10-17T04:27:34.874Z"
   },
   {
    "duration": 5,
    "start_time": "2024-10-17T04:28:22.250Z"
   },
   {
    "duration": 9,
    "start_time": "2024-10-17T04:29:20.619Z"
   },
   {
    "duration": 23,
    "start_time": "2024-10-17T04:29:25.227Z"
   },
   {
    "duration": 11,
    "start_time": "2024-10-17T04:29:50.448Z"
   },
   {
    "duration": 15,
    "start_time": "2024-10-17T04:31:28.348Z"
   },
   {
    "duration": 8,
    "start_time": "2024-10-17T04:40:04.998Z"
   },
   {
    "duration": 75,
    "start_time": "2024-10-17T04:40:11.015Z"
   },
   {
    "duration": 13,
    "start_time": "2024-10-17T04:42:16.736Z"
   },
   {
    "duration": 20,
    "start_time": "2024-10-17T04:42:50.766Z"
   },
   {
    "duration": 21,
    "start_time": "2024-10-17T04:43:10.255Z"
   },
   {
    "duration": 10,
    "start_time": "2024-10-17T04:43:59.383Z"
   },
   {
    "duration": 7,
    "start_time": "2024-10-17T04:44:31.795Z"
   },
   {
    "duration": 9,
    "start_time": "2024-10-17T05:39:21.230Z"
   },
   {
    "duration": 10,
    "start_time": "2024-10-17T05:39:32.264Z"
   },
   {
    "duration": 10,
    "start_time": "2024-10-17T05:39:49.169Z"
   },
   {
    "duration": 8,
    "start_time": "2024-10-17T05:40:09.032Z"
   },
   {
    "duration": 2519,
    "start_time": "2024-10-17T05:40:59.024Z"
   },
   {
    "duration": 132,
    "start_time": "2024-10-17T05:41:08.750Z"
   },
   {
    "duration": 133,
    "start_time": "2024-10-17T05:41:19.888Z"
   },
   {
    "duration": 140,
    "start_time": "2024-10-17T05:41:32.150Z"
   },
   {
    "duration": 148,
    "start_time": "2024-10-17T05:41:38.036Z"
   },
   {
    "duration": 3559,
    "start_time": "2024-10-21T03:06:39.712Z"
   },
   {
    "duration": 4053,
    "start_time": "2024-10-21T03:06:43.273Z"
   },
   {
    "duration": 6398,
    "start_time": "2024-10-21T03:06:47.328Z"
   },
   {
    "duration": 1364,
    "start_time": "2024-10-21T03:06:53.729Z"
   },
   {
    "duration": 83,
    "start_time": "2024-10-21T03:06:55.094Z"
   },
   {
    "duration": 109,
    "start_time": "2024-10-21T03:06:55.178Z"
   },
   {
    "duration": 72,
    "start_time": "2024-10-21T03:06:55.289Z"
   },
   {
    "duration": 82,
    "start_time": "2024-10-21T03:06:55.362Z"
   },
   {
    "duration": 10,
    "start_time": "2024-10-21T03:06:55.446Z"
   },
   {
    "duration": 9,
    "start_time": "2024-10-21T03:06:55.458Z"
   },
   {
    "duration": 10,
    "start_time": "2024-10-21T03:06:55.468Z"
   },
   {
    "duration": 4,
    "start_time": "2024-10-21T03:06:55.480Z"
   },
   {
    "duration": 6,
    "start_time": "2024-10-21T03:06:55.486Z"
   },
   {
    "duration": 5,
    "start_time": "2024-10-21T03:06:55.494Z"
   },
   {
    "duration": 11,
    "start_time": "2024-10-21T03:06:55.501Z"
   },
   {
    "duration": 6,
    "start_time": "2024-10-21T03:06:55.513Z"
   },
   {
    "duration": 34,
    "start_time": "2024-10-21T03:06:55.521Z"
   },
   {
    "duration": 135,
    "start_time": "2024-10-21T03:06:55.557Z"
   },
   {
    "duration": 94,
    "start_time": "2024-10-21T03:06:55.694Z"
   },
   {
    "duration": 86,
    "start_time": "2024-10-21T03:06:55.790Z"
   },
   {
    "duration": 100,
    "start_time": "2024-10-21T03:06:55.878Z"
   },
   {
    "duration": 120,
    "start_time": "2024-10-21T03:06:55.980Z"
   },
   {
    "duration": 84,
    "start_time": "2024-10-21T03:06:56.102Z"
   },
   {
    "duration": 69,
    "start_time": "2024-10-21T03:06:56.187Z"
   },
   {
    "duration": 120,
    "start_time": "2024-10-21T03:06:56.257Z"
   },
   {
    "duration": 7,
    "start_time": "2024-10-21T03:06:56.379Z"
   },
   {
    "duration": 104,
    "start_time": "2024-10-21T03:06:56.388Z"
   },
   {
    "duration": 13,
    "start_time": "2024-10-21T03:06:56.496Z"
   },
   {
    "duration": 17,
    "start_time": "2024-10-21T03:06:56.511Z"
   },
   {
    "duration": 13,
    "start_time": "2024-10-21T03:06:56.529Z"
   },
   {
    "duration": 16,
    "start_time": "2024-10-21T03:06:56.543Z"
   },
   {
    "duration": 13,
    "start_time": "2024-10-21T03:06:56.560Z"
   },
   {
    "duration": 2180,
    "start_time": "2024-10-21T03:06:56.574Z"
   },
   {
    "duration": 126,
    "start_time": "2024-10-21T03:06:58.755Z"
   },
   {
    "duration": 530,
    "start_time": "2024-10-21T03:06:58.883Z"
   },
   {
    "duration": 146,
    "start_time": "2024-10-21T03:06:59.415Z"
   },
   {
    "duration": 4431,
    "start_time": "2024-10-21T03:06:59.562Z"
   },
   {
    "duration": 4304,
    "start_time": "2024-10-21T03:07:03.994Z"
   },
   {
    "duration": 4977,
    "start_time": "2024-10-21T03:07:08.300Z"
   },
   {
    "duration": 14,
    "start_time": "2024-10-21T03:07:13.279Z"
   },
   {
    "duration": 23,
    "start_time": "2024-10-21T03:07:13.295Z"
   },
   {
    "duration": 56,
    "start_time": "2024-10-21T03:07:13.320Z"
   },
   {
    "duration": 1683,
    "start_time": "2024-10-21T03:07:13.377Z"
   },
   {
    "duration": 3,
    "start_time": "2024-10-21T03:07:15.061Z"
   },
   {
    "duration": 1823,
    "start_time": "2024-10-21T03:07:15.066Z"
   },
   {
    "duration": 26,
    "start_time": "2024-10-21T03:07:16.890Z"
   },
   {
    "duration": 26,
    "start_time": "2024-10-21T03:07:16.918Z"
   },
   {
    "duration": 7,
    "start_time": "2024-10-21T03:07:16.945Z"
   },
   {
    "duration": 17,
    "start_time": "2024-10-21T03:07:16.953Z"
   },
   {
    "duration": 7,
    "start_time": "2024-10-21T03:07:16.971Z"
   },
   {
    "duration": 4,
    "start_time": "2024-10-21T03:07:16.981Z"
   },
   {
    "duration": 5,
    "start_time": "2024-10-21T03:07:16.987Z"
   },
   {
    "duration": 7,
    "start_time": "2024-10-21T03:07:17.012Z"
   },
   {
    "duration": 39,
    "start_time": "2024-10-21T03:07:17.020Z"
   },
   {
    "duration": 92,
    "start_time": "2024-10-21T03:07:17.061Z"
   },
   {
    "duration": 224,
    "start_time": "2024-10-21T03:07:17.154Z"
   },
   {
    "duration": 299,
    "start_time": "2024-10-21T03:07:17.380Z"
   },
   {
    "duration": 1067,
    "start_time": "2024-10-21T03:07:17.680Z"
   },
   {
    "duration": 973,
    "start_time": "2024-10-21T03:07:18.749Z"
   },
   {
    "duration": 2,
    "start_time": "2024-10-21T03:07:19.723Z"
   },
   {
    "duration": 16,
    "start_time": "2024-10-21T03:07:19.726Z"
   },
   {
    "duration": 145,
    "start_time": "2024-10-21T03:07:19.744Z"
   },
   {
    "duration": 260,
    "start_time": "2024-10-21T03:07:32.075Z"
   },
   {
    "duration": 2,
    "start_time": "2024-10-21T03:07:42.884Z"
   },
   {
    "duration": 11,
    "start_time": "2024-10-21T03:08:33.315Z"
   },
   {
    "duration": 5,
    "start_time": "2024-10-21T03:08:43.660Z"
   },
   {
    "duration": 23,
    "start_time": "2024-10-21T03:08:54.516Z"
   },
   {
    "duration": 21,
    "start_time": "2024-10-21T03:09:46.827Z"
   },
   {
    "duration": 7,
    "start_time": "2024-10-21T03:11:09.436Z"
   },
   {
    "duration": 13,
    "start_time": "2024-10-21T03:11:26.604Z"
   },
   {
    "duration": 6257,
    "start_time": "2024-10-21T03:13:57.000Z"
   },
   {
    "duration": 6192,
    "start_time": "2024-10-21T03:14:39.214Z"
   },
   {
    "duration": 2591,
    "start_time": "2024-10-21T03:17:09.369Z"
   },
   {
    "duration": 2564,
    "start_time": "2024-10-21T03:17:11.962Z"
   },
   {
    "duration": 3171,
    "start_time": "2024-10-21T03:17:14.528Z"
   },
   {
    "duration": 1201,
    "start_time": "2024-10-21T03:17:17.701Z"
   },
   {
    "duration": 37,
    "start_time": "2024-10-21T03:17:18.904Z"
   },
   {
    "duration": 23,
    "start_time": "2024-10-21T03:17:18.943Z"
   },
   {
    "duration": 21,
    "start_time": "2024-10-21T03:17:18.967Z"
   },
   {
    "duration": 30,
    "start_time": "2024-10-21T03:17:18.990Z"
   },
   {
    "duration": 11,
    "start_time": "2024-10-21T03:17:19.022Z"
   },
   {
    "duration": 7,
    "start_time": "2024-10-21T03:17:19.036Z"
   },
   {
    "duration": 26,
    "start_time": "2024-10-21T03:17:19.044Z"
   },
   {
    "duration": 9,
    "start_time": "2024-10-21T03:17:19.072Z"
   },
   {
    "duration": 13,
    "start_time": "2024-10-21T03:17:19.083Z"
   },
   {
    "duration": 18,
    "start_time": "2024-10-21T03:17:19.097Z"
   },
   {
    "duration": 9,
    "start_time": "2024-10-21T03:17:19.117Z"
   },
   {
    "duration": 7,
    "start_time": "2024-10-21T03:17:19.127Z"
   },
   {
    "duration": 36,
    "start_time": "2024-10-21T03:17:19.135Z"
   },
   {
    "duration": 109,
    "start_time": "2024-10-21T03:17:19.173Z"
   },
   {
    "duration": 87,
    "start_time": "2024-10-21T03:17:19.284Z"
   },
   {
    "duration": 92,
    "start_time": "2024-10-21T03:17:19.373Z"
   },
   {
    "duration": 93,
    "start_time": "2024-10-21T03:17:19.467Z"
   },
   {
    "duration": 117,
    "start_time": "2024-10-21T03:17:19.561Z"
   },
   {
    "duration": 71,
    "start_time": "2024-10-21T03:17:19.680Z"
   },
   {
    "duration": 66,
    "start_time": "2024-10-21T03:17:19.753Z"
   },
   {
    "duration": 126,
    "start_time": "2024-10-21T03:17:19.821Z"
   },
   {
    "duration": 7,
    "start_time": "2024-10-21T03:17:19.949Z"
   },
   {
    "duration": 24,
    "start_time": "2024-10-21T03:17:19.958Z"
   },
   {
    "duration": 12,
    "start_time": "2024-10-21T03:17:19.987Z"
   },
   {
    "duration": 62,
    "start_time": "2024-10-21T03:17:20.012Z"
   },
   {
    "duration": 12,
    "start_time": "2024-10-21T03:17:20.075Z"
   },
   {
    "duration": 27,
    "start_time": "2024-10-21T03:17:20.089Z"
   },
   {
    "duration": 13,
    "start_time": "2024-10-21T03:17:20.118Z"
   },
   {
    "duration": 2090,
    "start_time": "2024-10-21T03:17:20.132Z"
   },
   {
    "duration": 141,
    "start_time": "2024-10-21T03:17:22.224Z"
   },
   {
    "duration": 554,
    "start_time": "2024-10-21T03:17:22.366Z"
   },
   {
    "duration": 145,
    "start_time": "2024-10-21T03:17:22.922Z"
   },
   {
    "duration": 4447,
    "start_time": "2024-10-21T03:17:23.068Z"
   },
   {
    "duration": 4364,
    "start_time": "2024-10-21T03:17:27.517Z"
   },
   {
    "duration": 4986,
    "start_time": "2024-10-21T03:17:31.883Z"
   },
   {
    "duration": 13,
    "start_time": "2024-10-21T03:17:36.871Z"
   },
   {
    "duration": 16,
    "start_time": "2024-10-21T03:17:36.885Z"
   },
   {
    "duration": 3,
    "start_time": "2024-10-21T03:17:36.911Z"
   },
   {
    "duration": 1696,
    "start_time": "2024-10-21T03:17:36.916Z"
   },
   {
    "duration": 3,
    "start_time": "2024-10-21T03:17:38.614Z"
   },
   {
    "duration": 1728,
    "start_time": "2024-10-21T03:17:38.618Z"
   },
   {
    "duration": 20,
    "start_time": "2024-10-21T03:17:40.347Z"
   },
   {
    "duration": 27,
    "start_time": "2024-10-21T03:17:40.368Z"
   },
   {
    "duration": 5,
    "start_time": "2024-10-21T03:17:40.397Z"
   },
   {
    "duration": 21,
    "start_time": "2024-10-21T03:17:40.412Z"
   },
   {
    "duration": 39,
    "start_time": "2024-10-21T03:17:40.434Z"
   },
   {
    "duration": 17,
    "start_time": "2024-10-21T03:17:40.474Z"
   },
   {
    "duration": 10,
    "start_time": "2024-10-21T03:17:40.493Z"
   },
   {
    "duration": 5,
    "start_time": "2024-10-21T03:17:40.505Z"
   },
   {
    "duration": 28,
    "start_time": "2024-10-21T03:17:40.512Z"
   },
   {
    "duration": 78,
    "start_time": "2024-10-21T03:17:40.541Z"
   },
   {
    "duration": 251,
    "start_time": "2024-10-21T03:17:40.621Z"
   },
   {
    "duration": 292,
    "start_time": "2024-10-21T03:17:40.873Z"
   },
   {
    "duration": 1178,
    "start_time": "2024-10-21T03:17:41.166Z"
   },
   {
    "duration": 977,
    "start_time": "2024-10-21T03:17:42.345Z"
   },
   {
    "duration": 2,
    "start_time": "2024-10-21T03:17:43.323Z"
   },
   {
    "duration": 24,
    "start_time": "2024-10-21T03:17:43.327Z"
   },
   {
    "duration": 12,
    "start_time": "2024-10-21T03:17:43.353Z"
   },
   {
    "duration": 196,
    "start_time": "2024-10-21T03:17:43.367Z"
   },
   {
    "duration": 6,
    "start_time": "2024-10-21T03:19:42.718Z"
   },
   {
    "duration": 147,
    "start_time": "2024-10-21T03:26:31.905Z"
   },
   {
    "duration": 2635,
    "start_time": "2024-10-21T03:26:42.796Z"
   },
   {
    "duration": 2644,
    "start_time": "2024-10-21T03:26:45.434Z"
   },
   {
    "duration": 3100,
    "start_time": "2024-10-21T03:26:48.080Z"
   },
   {
    "duration": 7,
    "start_time": "2024-10-21T03:26:51.183Z"
   },
   {
    "duration": 50,
    "start_time": "2024-10-21T03:26:51.191Z"
   },
   {
    "duration": 24,
    "start_time": "2024-10-21T03:26:51.242Z"
   },
   {
    "duration": 21,
    "start_time": "2024-10-21T03:26:51.267Z"
   },
   {
    "duration": 30,
    "start_time": "2024-10-21T03:26:51.290Z"
   },
   {
    "duration": 9,
    "start_time": "2024-10-21T03:26:51.321Z"
   },
   {
    "duration": 5,
    "start_time": "2024-10-21T03:26:51.333Z"
   },
   {
    "duration": 9,
    "start_time": "2024-10-21T03:26:51.339Z"
   },
   {
    "duration": 6,
    "start_time": "2024-10-21T03:26:51.350Z"
   },
   {
    "duration": 6,
    "start_time": "2024-10-21T03:26:51.358Z"
   },
   {
    "duration": 7,
    "start_time": "2024-10-21T03:26:51.365Z"
   },
   {
    "duration": 6,
    "start_time": "2024-10-21T03:26:51.373Z"
   },
   {
    "duration": 37,
    "start_time": "2024-10-21T03:26:51.380Z"
   },
   {
    "duration": 26,
    "start_time": "2024-10-21T03:26:51.418Z"
   },
   {
    "duration": 106,
    "start_time": "2024-10-21T03:26:51.445Z"
   },
   {
    "duration": 94,
    "start_time": "2024-10-21T03:26:51.553Z"
   },
   {
    "duration": 92,
    "start_time": "2024-10-21T03:26:51.648Z"
   },
   {
    "duration": 104,
    "start_time": "2024-10-21T03:26:51.742Z"
   },
   {
    "duration": 170,
    "start_time": "2024-10-21T03:26:51.847Z"
   },
   {
    "duration": 59,
    "start_time": "2024-10-21T03:26:52.018Z"
   },
   {
    "duration": 74,
    "start_time": "2024-10-21T03:26:52.078Z"
   },
   {
    "duration": 119,
    "start_time": "2024-10-21T03:26:52.154Z"
   },
   {
    "duration": 7,
    "start_time": "2024-10-21T03:26:52.275Z"
   },
   {
    "duration": 84,
    "start_time": "2024-10-21T03:26:52.283Z"
   },
   {
    "duration": 9,
    "start_time": "2024-10-21T03:26:52.370Z"
   },
   {
    "duration": 17,
    "start_time": "2024-10-21T03:26:52.381Z"
   },
   {
    "duration": 13,
    "start_time": "2024-10-21T03:26:52.399Z"
   },
   {
    "duration": 15,
    "start_time": "2024-10-21T03:26:52.414Z"
   },
   {
    "duration": 15,
    "start_time": "2024-10-21T03:27:13.862Z"
   },
   {
    "duration": 13,
    "start_time": "2024-10-21T03:27:39.927Z"
   },
   {
    "duration": 12,
    "start_time": "2024-10-21T03:27:46.490Z"
   },
   {
    "duration": 28,
    "start_time": "2024-10-21T03:28:54.954Z"
   },
   {
    "duration": 989,
    "start_time": "2024-10-21T03:29:31.096Z"
   },
   {
    "duration": 9,
    "start_time": "2024-10-21T03:29:43.338Z"
   },
   {
    "duration": 1446,
    "start_time": "2024-10-21T03:29:50.432Z"
   },
   {
    "duration": 14,
    "start_time": "2024-10-21T03:29:57.770Z"
   },
   {
    "duration": 33,
    "start_time": "2024-10-21T03:30:07.680Z"
   },
   {
    "duration": 2608,
    "start_time": "2024-10-21T03:30:35.868Z"
   },
   {
    "duration": 2547,
    "start_time": "2024-10-21T03:30:38.478Z"
   },
   {
    "duration": 3029,
    "start_time": "2024-10-21T03:30:41.027Z"
   },
   {
    "duration": 6,
    "start_time": "2024-10-21T03:30:44.059Z"
   },
   {
    "duration": 44,
    "start_time": "2024-10-21T03:30:44.066Z"
   },
   {
    "duration": 23,
    "start_time": "2024-10-21T03:30:44.111Z"
   },
   {
    "duration": 22,
    "start_time": "2024-10-21T03:30:44.135Z"
   },
   {
    "duration": 29,
    "start_time": "2024-10-21T03:30:44.159Z"
   },
   {
    "duration": 10,
    "start_time": "2024-10-21T03:30:44.190Z"
   },
   {
    "duration": 4,
    "start_time": "2024-10-21T03:30:44.203Z"
   },
   {
    "duration": 5,
    "start_time": "2024-10-21T03:30:44.209Z"
   },
   {
    "duration": 5,
    "start_time": "2024-10-21T03:30:44.215Z"
   },
   {
    "duration": 6,
    "start_time": "2024-10-21T03:30:44.221Z"
   },
   {
    "duration": 17,
    "start_time": "2024-10-21T03:30:44.229Z"
   },
   {
    "duration": 6,
    "start_time": "2024-10-21T03:30:44.247Z"
   },
   {
    "duration": 11,
    "start_time": "2024-10-21T03:30:44.254Z"
   },
   {
    "duration": 26,
    "start_time": "2024-10-21T03:30:44.266Z"
   },
   {
    "duration": 99,
    "start_time": "2024-10-21T03:30:44.293Z"
   },
   {
    "duration": 92,
    "start_time": "2024-10-21T03:30:44.394Z"
   },
   {
    "duration": 89,
    "start_time": "2024-10-21T03:30:44.487Z"
   },
   {
    "duration": 103,
    "start_time": "2024-10-21T03:30:44.578Z"
   },
   {
    "duration": 68,
    "start_time": "2024-10-21T03:30:44.683Z"
   },
   {
    "duration": 64,
    "start_time": "2024-10-21T03:30:44.752Z"
   },
   {
    "duration": 59,
    "start_time": "2024-10-21T03:30:44.817Z"
   },
   {
    "duration": 128,
    "start_time": "2024-10-21T03:30:44.877Z"
   },
   {
    "duration": 12,
    "start_time": "2024-10-21T03:30:45.006Z"
   },
   {
    "duration": 79,
    "start_time": "2024-10-21T03:30:45.019Z"
   },
   {
    "duration": 16,
    "start_time": "2024-10-21T03:30:45.104Z"
   },
   {
    "duration": 56,
    "start_time": "2024-10-21T03:30:45.122Z"
   },
   {
    "duration": 19,
    "start_time": "2024-10-21T03:30:45.180Z"
   },
   {
    "duration": 15,
    "start_time": "2024-10-21T03:30:45.200Z"
   },
   {
    "duration": 17,
    "start_time": "2024-10-21T03:30:57.430Z"
   },
   {
    "duration": 8,
    "start_time": "2024-10-21T03:32:19.105Z"
   },
   {
    "duration": 16,
    "start_time": "2024-10-21T03:32:38.644Z"
   },
   {
    "duration": 2425,
    "start_time": "2024-10-21T03:32:47.481Z"
   },
   {
    "duration": 141,
    "start_time": "2024-10-21T03:33:22.489Z"
   },
   {
    "duration": 539,
    "start_time": "2024-10-21T03:33:27.332Z"
   },
   {
    "duration": 157,
    "start_time": "2024-10-21T03:33:32.703Z"
   },
   {
    "duration": 5157,
    "start_time": "2024-10-21T03:33:41.244Z"
   },
   {
    "duration": 5208,
    "start_time": "2024-10-21T03:33:52.894Z"
   },
   {
    "duration": 6064,
    "start_time": "2024-10-21T03:34:04.758Z"
   },
   {
    "duration": 22,
    "start_time": "2024-10-21T03:34:18.041Z"
   },
   {
    "duration": 9,
    "start_time": "2024-10-21T03:34:25.476Z"
   },
   {
    "duration": 3,
    "start_time": "2024-10-21T03:35:23.561Z"
   },
   {
    "duration": 1615,
    "start_time": "2024-10-21T03:35:42.492Z"
   },
   {
    "duration": 3,
    "start_time": "2024-10-21T03:37:02.173Z"
   },
   {
    "duration": 1786,
    "start_time": "2024-10-21T03:37:05.636Z"
   },
   {
    "duration": 528,
    "start_time": "2024-10-21T03:38:52.445Z"
   },
   {
    "duration": 540,
    "start_time": "2024-10-21T03:42:28.073Z"
   },
   {
    "duration": 2712,
    "start_time": "2024-10-21T03:42:50.607Z"
   },
   {
    "duration": 2698,
    "start_time": "2024-10-21T03:42:53.321Z"
   },
   {
    "duration": 3108,
    "start_time": "2024-10-21T03:42:56.021Z"
   },
   {
    "duration": 1164,
    "start_time": "2024-10-21T03:42:59.132Z"
   },
   {
    "duration": 37,
    "start_time": "2024-10-21T03:43:00.298Z"
   },
   {
    "duration": 24,
    "start_time": "2024-10-21T03:43:00.336Z"
   },
   {
    "duration": 56,
    "start_time": "2024-10-21T03:43:00.362Z"
   },
   {
    "duration": 30,
    "start_time": "2024-10-21T03:43:00.419Z"
   },
   {
    "duration": 9,
    "start_time": "2024-10-21T03:43:00.451Z"
   },
   {
    "duration": 12,
    "start_time": "2024-10-21T03:43:00.462Z"
   },
   {
    "duration": 17,
    "start_time": "2024-10-21T03:43:00.475Z"
   },
   {
    "duration": 61,
    "start_time": "2024-10-21T03:43:00.493Z"
   },
   {
    "duration": 70,
    "start_time": "2024-10-21T03:43:00.556Z"
   },
   {
    "duration": 24,
    "start_time": "2024-10-21T03:43:00.628Z"
   },
   {
    "duration": 9,
    "start_time": "2024-10-21T03:43:00.653Z"
   },
   {
    "duration": 14,
    "start_time": "2024-10-21T03:43:00.663Z"
   },
   {
    "duration": 33,
    "start_time": "2024-10-21T03:43:00.678Z"
   },
   {
    "duration": 100,
    "start_time": "2024-10-21T03:43:00.713Z"
   },
   {
    "duration": 103,
    "start_time": "2024-10-21T03:43:00.815Z"
   },
   {
    "duration": 107,
    "start_time": "2024-10-21T03:43:00.919Z"
   },
   {
    "duration": 95,
    "start_time": "2024-10-21T03:43:01.027Z"
   },
   {
    "duration": 127,
    "start_time": "2024-10-21T03:43:01.123Z"
   },
   {
    "duration": 71,
    "start_time": "2024-10-21T03:43:01.251Z"
   },
   {
    "duration": 61,
    "start_time": "2024-10-21T03:43:01.323Z"
   },
   {
    "duration": 127,
    "start_time": "2024-10-21T03:43:01.385Z"
   },
   {
    "duration": 6,
    "start_time": "2024-10-21T03:43:01.513Z"
   },
   {
    "duration": 26,
    "start_time": "2024-10-21T03:43:01.520Z"
   },
   {
    "duration": 10,
    "start_time": "2024-10-21T03:43:01.549Z"
   },
   {
    "duration": 70,
    "start_time": "2024-10-21T03:43:01.560Z"
   },
   {
    "duration": 16,
    "start_time": "2024-10-21T03:43:01.632Z"
   },
   {
    "duration": 14,
    "start_time": "2024-10-21T03:43:01.649Z"
   },
   {
    "duration": 112,
    "start_time": "2024-10-21T03:43:01.664Z"
   },
   {
    "duration": 14,
    "start_time": "2024-10-21T03:43:01.777Z"
   },
   {
    "duration": 2322,
    "start_time": "2024-10-21T03:43:01.792Z"
   },
   {
    "duration": 134,
    "start_time": "2024-10-21T03:43:04.115Z"
   },
   {
    "duration": 524,
    "start_time": "2024-10-21T03:43:04.251Z"
   },
   {
    "duration": 178,
    "start_time": "2024-10-21T03:43:04.776Z"
   },
   {
    "duration": 4411,
    "start_time": "2024-10-21T03:43:04.955Z"
   },
   {
    "duration": 4371,
    "start_time": "2024-10-21T03:43:09.367Z"
   },
   {
    "duration": 5045,
    "start_time": "2024-10-21T03:43:13.740Z"
   },
   {
    "duration": 15,
    "start_time": "2024-10-21T03:43:18.786Z"
   },
   {
    "duration": 8,
    "start_time": "2024-10-21T03:43:18.812Z"
   },
   {
    "duration": 16,
    "start_time": "2024-10-21T03:43:18.821Z"
   },
   {
    "duration": 1644,
    "start_time": "2024-10-21T03:43:38.991Z"
   },
   {
    "duration": 1465,
    "start_time": "2024-10-21T03:44:12.125Z"
   },
   {
    "duration": 3,
    "start_time": "2024-10-21T03:44:38.900Z"
   },
   {
    "duration": 1800,
    "start_time": "2024-10-21T03:45:20.597Z"
   },
   {
    "duration": 28,
    "start_time": "2024-10-21T03:47:49.332Z"
   },
   {
    "duration": 23,
    "start_time": "2024-10-21T03:48:16.140Z"
   },
   {
    "duration": 8,
    "start_time": "2024-10-21T03:48:31.134Z"
   },
   {
    "duration": 21,
    "start_time": "2024-10-21T03:49:03.938Z"
   },
   {
    "duration": 14,
    "start_time": "2024-10-21T03:49:26.136Z"
   },
   {
    "duration": 6,
    "start_time": "2024-10-21T03:49:49.546Z"
   },
   {
    "duration": 3,
    "start_time": "2024-10-21T03:49:50.770Z"
   },
   {
    "duration": 3,
    "start_time": "2024-10-21T03:49:51.720Z"
   },
   {
    "duration": 6,
    "start_time": "2024-10-21T03:49:52.638Z"
   },
   {
    "duration": 53,
    "start_time": "2024-10-21T03:49:55.666Z"
   },
   {
    "duration": 82,
    "start_time": "2024-10-21T03:50:03.655Z"
   },
   {
    "duration": 219,
    "start_time": "2024-10-21T03:50:08.254Z"
   },
   {
    "duration": 267,
    "start_time": "2024-10-21T03:50:12.030Z"
   },
   {
    "duration": 1074,
    "start_time": "2024-10-21T03:51:21.986Z"
   },
   {
    "duration": 1003,
    "start_time": "2024-10-21T03:52:05.329Z"
   },
   {
    "duration": 257,
    "start_time": "2024-10-21T03:52:20.506Z"
   },
   {
    "duration": 2,
    "start_time": "2024-10-21T03:52:39.146Z"
   },
   {
    "duration": 20,
    "start_time": "2024-10-21T03:52:45.871Z"
   },
   {
    "duration": 1160,
    "start_time": "2024-10-21T03:55:41.555Z"
   },
   {
    "duration": 142,
    "start_time": "2024-10-21T03:55:54.611Z"
   },
   {
    "duration": 24,
    "start_time": "2024-10-21T04:03:43.333Z"
   },
   {
    "duration": 29,
    "start_time": "2024-10-21T04:04:18.429Z"
   },
   {
    "duration": 6,
    "start_time": "2024-10-21T04:05:25.670Z"
   },
   {
    "duration": 19,
    "start_time": "2024-10-21T04:09:00.894Z"
   },
   {
    "duration": 18,
    "start_time": "2024-10-21T04:09:34.473Z"
   },
   {
    "duration": 46,
    "start_time": "2024-10-21T04:10:44.846Z"
   },
   {
    "duration": 31,
    "start_time": "2024-10-21T04:10:57.206Z"
   },
   {
    "duration": 22,
    "start_time": "2024-10-21T04:11:27.817Z"
   },
   {
    "duration": 33,
    "start_time": "2024-10-21T04:11:48.881Z"
   },
   {
    "duration": 9,
    "start_time": "2024-10-21T04:15:43.431Z"
   },
   {
    "duration": 5,
    "start_time": "2024-10-21T04:15:47.519Z"
   },
   {
    "duration": 956,
    "start_time": "2024-10-21T04:16:11.160Z"
   },
   {
    "duration": 13,
    "start_time": "2024-10-21T04:16:41.056Z"
   },
   {
    "duration": 901,
    "start_time": "2024-10-21T04:16:49.443Z"
   },
   {
    "duration": 5,
    "start_time": "2024-10-21T04:24:27.461Z"
   },
   {
    "duration": 6,
    "start_time": "2024-10-21T04:24:42.961Z"
   },
   {
    "duration": 9,
    "start_time": "2024-10-21T04:25:03.185Z"
   },
   {
    "duration": 9585,
    "start_time": "2024-10-21T04:25:08.257Z"
   },
   {
    "duration": 51,
    "start_time": "2024-10-21T04:35:43.840Z"
   },
   {
    "duration": 14,
    "start_time": "2024-10-21T05:09:44.602Z"
   },
   {
    "duration": 2613,
    "start_time": "2024-10-21T05:10:36.419Z"
   },
   {
    "duration": 2600,
    "start_time": "2024-10-21T05:10:39.035Z"
   },
   {
    "duration": 3098,
    "start_time": "2024-10-21T05:10:41.637Z"
   },
   {
    "duration": 1615,
    "start_time": "2024-10-21T05:10:44.738Z"
   },
   {
    "duration": 35,
    "start_time": "2024-10-21T05:10:46.355Z"
   },
   {
    "duration": 21,
    "start_time": "2024-10-21T05:10:46.392Z"
   },
   {
    "duration": 22,
    "start_time": "2024-10-21T05:10:46.414Z"
   },
   {
    "duration": 30,
    "start_time": "2024-10-21T05:10:46.438Z"
   },
   {
    "duration": 9,
    "start_time": "2024-10-21T05:10:46.469Z"
   },
   {
    "duration": 5,
    "start_time": "2024-10-21T05:10:46.481Z"
   },
   {
    "duration": 4,
    "start_time": "2024-10-21T05:10:46.487Z"
   },
   {
    "duration": 5,
    "start_time": "2024-10-21T05:10:46.492Z"
   },
   {
    "duration": 8,
    "start_time": "2024-10-21T05:10:46.498Z"
   },
   {
    "duration": 6,
    "start_time": "2024-10-21T05:10:46.507Z"
   },
   {
    "duration": 6,
    "start_time": "2024-10-21T05:10:46.514Z"
   },
   {
    "duration": 6,
    "start_time": "2024-10-21T05:10:46.522Z"
   },
   {
    "duration": 27,
    "start_time": "2024-10-21T05:10:46.529Z"
   },
   {
    "duration": 105,
    "start_time": "2024-10-21T05:10:46.557Z"
   },
   {
    "duration": 94,
    "start_time": "2024-10-21T05:10:46.664Z"
   },
   {
    "duration": 88,
    "start_time": "2024-10-21T05:10:46.760Z"
   },
   {
    "duration": 95,
    "start_time": "2024-10-21T05:10:46.850Z"
   },
   {
    "duration": 82,
    "start_time": "2024-10-21T05:10:46.946Z"
   },
   {
    "duration": 93,
    "start_time": "2024-10-21T05:10:47.030Z"
   },
   {
    "duration": 68,
    "start_time": "2024-10-21T05:10:47.125Z"
   },
   {
    "duration": 128,
    "start_time": "2024-10-21T05:10:47.195Z"
   },
   {
    "duration": 7,
    "start_time": "2024-10-21T05:10:47.325Z"
   },
   {
    "duration": 16,
    "start_time": "2024-10-21T05:10:47.334Z"
   },
   {
    "duration": 102,
    "start_time": "2024-10-21T05:10:47.355Z"
   },
   {
    "duration": 19,
    "start_time": "2024-10-21T05:10:47.459Z"
   },
   {
    "duration": 14,
    "start_time": "2024-10-21T05:10:47.479Z"
   },
   {
    "duration": 31,
    "start_time": "2024-10-21T05:10:47.494Z"
   },
   {
    "duration": 17,
    "start_time": "2024-10-21T05:10:47.527Z"
   },
   {
    "duration": 15,
    "start_time": "2024-10-21T05:10:47.545Z"
   },
   {
    "duration": 2235,
    "start_time": "2024-10-21T05:10:47.561Z"
   },
   {
    "duration": 119,
    "start_time": "2024-10-21T05:10:49.798Z"
   },
   {
    "duration": 506,
    "start_time": "2024-10-21T05:10:49.918Z"
   },
   {
    "duration": 147,
    "start_time": "2024-10-21T05:10:50.425Z"
   },
   {
    "duration": 4307,
    "start_time": "2024-10-21T05:10:50.573Z"
   },
   {
    "duration": 4354,
    "start_time": "2024-10-21T05:10:54.882Z"
   },
   {
    "duration": 5188,
    "start_time": "2024-10-21T05:10:59.238Z"
   },
   {
    "duration": 16,
    "start_time": "2024-10-21T05:11:04.427Z"
   },
   {
    "duration": 19,
    "start_time": "2024-10-21T05:11:04.445Z"
   },
   {
    "duration": 10,
    "start_time": "2024-10-21T05:11:04.465Z"
   },
   {
    "duration": 1735,
    "start_time": "2024-10-21T05:11:04.477Z"
   },
   {
    "duration": 4,
    "start_time": "2024-10-21T05:11:06.214Z"
   },
   {
    "duration": 1952,
    "start_time": "2024-10-21T05:11:06.220Z"
   },
   {
    "duration": 23,
    "start_time": "2024-10-21T05:11:08.173Z"
   },
   {
    "duration": 35,
    "start_time": "2024-10-21T05:11:08.197Z"
   },
   {
    "duration": 6,
    "start_time": "2024-10-21T05:11:08.233Z"
   },
   {
    "duration": 14,
    "start_time": "2024-10-21T05:11:08.241Z"
   },
   {
    "duration": 6,
    "start_time": "2024-10-21T05:11:08.257Z"
   },
   {
    "duration": 21,
    "start_time": "2024-10-21T05:11:08.265Z"
   },
   {
    "duration": 9,
    "start_time": "2024-10-21T05:11:08.287Z"
   },
   {
    "duration": 16,
    "start_time": "2024-10-21T05:11:08.297Z"
   },
   {
    "duration": 47,
    "start_time": "2024-10-21T05:11:08.315Z"
   },
   {
    "duration": 99,
    "start_time": "2024-10-21T05:11:08.363Z"
   },
   {
    "duration": 302,
    "start_time": "2024-10-21T05:11:08.464Z"
   },
   {
    "duration": 391,
    "start_time": "2024-10-21T05:11:08.767Z"
   },
   {
    "duration": 606,
    "start_time": "2024-10-21T05:11:09.159Z"
   },
   {
    "duration": 980,
    "start_time": "2024-10-21T05:11:09.766Z"
   },
   {
    "duration": 2,
    "start_time": "2024-10-21T05:11:10.748Z"
   },
   {
    "duration": 28,
    "start_time": "2024-10-21T05:11:10.752Z"
   },
   {
    "duration": 163,
    "start_time": "2024-10-21T05:11:10.781Z"
   },
   {
    "duration": 30,
    "start_time": "2024-10-21T05:11:10.946Z"
   },
   {
    "duration": 5,
    "start_time": "2024-10-21T05:11:10.978Z"
   },
   {
    "duration": 10044,
    "start_time": "2024-10-21T05:11:10.984Z"
   },
   {
    "duration": 8,
    "start_time": "2024-10-21T05:29:51.390Z"
   },
   {
    "duration": 137,
    "start_time": "2024-10-21T05:30:19.752Z"
   },
   {
    "duration": 125,
    "start_time": "2024-10-21T05:30:38.300Z"
   },
   {
    "duration": 139,
    "start_time": "2024-10-21T05:30:45.189Z"
   },
   {
    "duration": 7,
    "start_time": "2024-10-21T05:34:26.209Z"
   },
   {
    "duration": 127,
    "start_time": "2024-10-21T05:34:51.567Z"
   },
   {
    "duration": 147,
    "start_time": "2024-10-21T05:35:03.277Z"
   },
   {
    "duration": 278,
    "start_time": "2024-10-21T05:35:25.502Z"
   },
   {
    "duration": 161,
    "start_time": "2024-10-21T05:36:38.007Z"
   },
   {
    "duration": 6,
    "start_time": "2024-10-21T05:37:45.526Z"
   },
   {
    "duration": 147,
    "start_time": "2024-10-21T05:38:12.321Z"
   },
   {
    "duration": 160,
    "start_time": "2024-10-21T05:38:19.753Z"
   },
   {
    "duration": 2611,
    "start_time": "2024-10-21T05:41:16.651Z"
   },
   {
    "duration": 2703,
    "start_time": "2024-10-21T05:41:19.265Z"
   },
   {
    "duration": 3168,
    "start_time": "2024-10-21T05:41:21.969Z"
   },
   {
    "duration": 1656,
    "start_time": "2024-10-21T05:41:25.140Z"
   },
   {
    "duration": 36,
    "start_time": "2024-10-21T05:41:26.798Z"
   },
   {
    "duration": 23,
    "start_time": "2024-10-21T05:41:26.836Z"
   },
   {
    "duration": 21,
    "start_time": "2024-10-21T05:41:26.860Z"
   },
   {
    "duration": 31,
    "start_time": "2024-10-21T05:41:26.882Z"
   },
   {
    "duration": 80,
    "start_time": "2024-10-21T05:41:26.914Z"
   },
   {
    "duration": 5,
    "start_time": "2024-10-21T05:41:26.995Z"
   },
   {
    "duration": 7,
    "start_time": "2024-10-21T05:41:27.001Z"
   },
   {
    "duration": 6,
    "start_time": "2024-10-21T05:41:27.009Z"
   },
   {
    "duration": 18,
    "start_time": "2024-10-21T05:41:27.016Z"
   },
   {
    "duration": 11,
    "start_time": "2024-10-21T05:41:27.037Z"
   },
   {
    "duration": 13,
    "start_time": "2024-10-21T05:41:27.050Z"
   },
   {
    "duration": 7,
    "start_time": "2024-10-21T05:41:27.065Z"
   },
   {
    "duration": 40,
    "start_time": "2024-10-21T05:41:27.073Z"
   },
   {
    "duration": 131,
    "start_time": "2024-10-21T05:41:27.115Z"
   },
   {
    "duration": 86,
    "start_time": "2024-10-21T05:41:27.247Z"
   },
   {
    "duration": 94,
    "start_time": "2024-10-21T05:41:27.334Z"
   },
   {
    "duration": 93,
    "start_time": "2024-10-21T05:41:27.429Z"
   },
   {
    "duration": 66,
    "start_time": "2024-10-21T05:41:27.524Z"
   },
   {
    "duration": 76,
    "start_time": "2024-10-21T05:41:27.591Z"
   },
   {
    "duration": 75,
    "start_time": "2024-10-21T05:41:27.669Z"
   },
   {
    "duration": 135,
    "start_time": "2024-10-21T05:41:27.745Z"
   },
   {
    "duration": 6,
    "start_time": "2024-10-21T05:41:27.882Z"
   },
   {
    "duration": 28,
    "start_time": "2024-10-21T05:41:27.890Z"
   },
   {
    "duration": 11,
    "start_time": "2024-10-21T05:41:27.919Z"
   },
   {
    "duration": 196,
    "start_time": "2024-10-21T05:41:27.932Z"
   },
   {
    "duration": 118,
    "start_time": "2024-10-21T05:41:28.130Z"
   },
   {
    "duration": 124,
    "start_time": "2024-10-21T05:41:28.250Z"
   },
   {
    "duration": 17,
    "start_time": "2024-10-21T05:41:28.375Z"
   },
   {
    "duration": 23,
    "start_time": "2024-10-21T05:41:28.394Z"
   },
   {
    "duration": 15,
    "start_time": "2024-10-21T05:41:28.418Z"
   },
   {
    "duration": 16,
    "start_time": "2024-10-21T05:41:28.434Z"
   },
   {
    "duration": 14,
    "start_time": "2024-10-21T05:41:28.452Z"
   },
   {
    "duration": 2359,
    "start_time": "2024-10-21T05:41:28.467Z"
   },
   {
    "duration": 122,
    "start_time": "2024-10-21T05:41:30.827Z"
   },
   {
    "duration": 507,
    "start_time": "2024-10-21T05:41:30.951Z"
   },
   {
    "duration": 145,
    "start_time": "2024-10-21T05:41:31.460Z"
   },
   {
    "duration": 4485,
    "start_time": "2024-10-21T05:41:31.614Z"
   },
   {
    "duration": 4388,
    "start_time": "2024-10-21T05:41:36.100Z"
   },
   {
    "duration": 5083,
    "start_time": "2024-10-21T05:41:40.490Z"
   },
   {
    "duration": 16,
    "start_time": "2024-10-21T05:41:45.574Z"
   },
   {
    "duration": 47,
    "start_time": "2024-10-21T05:41:45.592Z"
   },
   {
    "duration": 5,
    "start_time": "2024-10-21T05:41:45.640Z"
   },
   {
    "duration": 1779,
    "start_time": "2024-10-21T05:41:45.646Z"
   },
   {
    "duration": 3,
    "start_time": "2024-10-21T05:41:47.427Z"
   },
   {
    "duration": 1767,
    "start_time": "2024-10-21T05:41:47.431Z"
   },
   {
    "duration": 26,
    "start_time": "2024-10-21T05:41:49.199Z"
   },
   {
    "duration": 21,
    "start_time": "2024-10-21T05:41:49.227Z"
   },
   {
    "duration": 6,
    "start_time": "2024-10-21T05:41:49.249Z"
   },
   {
    "duration": 15,
    "start_time": "2024-10-21T05:41:49.256Z"
   },
   {
    "duration": 6,
    "start_time": "2024-10-21T05:41:49.272Z"
   },
   {
    "duration": 3,
    "start_time": "2024-10-21T05:41:49.280Z"
   },
   {
    "duration": 3,
    "start_time": "2024-10-21T05:41:49.285Z"
   },
   {
    "duration": 6,
    "start_time": "2024-10-21T05:41:49.313Z"
   },
   {
    "duration": 35,
    "start_time": "2024-10-21T05:41:49.320Z"
   },
   {
    "duration": 86,
    "start_time": "2024-10-21T05:41:49.356Z"
   },
   {
    "duration": 231,
    "start_time": "2024-10-21T05:41:49.443Z"
   },
   {
    "duration": 302,
    "start_time": "2024-10-21T05:41:49.675Z"
   },
   {
    "duration": 648,
    "start_time": "2024-10-21T05:41:49.978Z"
   },
   {
    "duration": 999,
    "start_time": "2024-10-21T05:41:50.627Z"
   },
   {
    "duration": 2,
    "start_time": "2024-10-21T05:41:51.628Z"
   },
   {
    "duration": 24,
    "start_time": "2024-10-21T05:41:51.631Z"
   },
   {
    "duration": 161,
    "start_time": "2024-10-21T05:41:51.656Z"
   },
   {
    "duration": 32,
    "start_time": "2024-10-21T05:41:51.819Z"
   },
   {
    "duration": 4,
    "start_time": "2024-10-21T05:41:51.853Z"
   },
   {
    "duration": 9568,
    "start_time": "2024-10-21T05:41:51.859Z"
   },
   {
    "duration": 2661,
    "start_time": "2024-10-21T05:43:59.210Z"
   },
   {
    "duration": 2652,
    "start_time": "2024-10-21T05:44:01.873Z"
   },
   {
    "duration": 3271,
    "start_time": "2024-10-21T05:44:04.527Z"
   },
   {
    "duration": 1666,
    "start_time": "2024-10-21T05:44:07.801Z"
   },
   {
    "duration": 43,
    "start_time": "2024-10-21T05:44:09.468Z"
   },
   {
    "duration": 24,
    "start_time": "2024-10-21T05:44:09.513Z"
   },
   {
    "duration": 37,
    "start_time": "2024-10-21T05:44:09.539Z"
   },
   {
    "duration": 31,
    "start_time": "2024-10-21T05:44:09.577Z"
   },
   {
    "duration": 11,
    "start_time": "2024-10-21T05:44:09.609Z"
   },
   {
    "duration": 4,
    "start_time": "2024-10-21T05:44:09.622Z"
   },
   {
    "duration": 3,
    "start_time": "2024-10-21T05:44:09.628Z"
   },
   {
    "duration": 6,
    "start_time": "2024-10-21T05:44:09.633Z"
   },
   {
    "duration": 7,
    "start_time": "2024-10-21T05:44:09.641Z"
   },
   {
    "duration": 4,
    "start_time": "2024-10-21T05:44:09.649Z"
   },
   {
    "duration": 10,
    "start_time": "2024-10-21T05:44:09.655Z"
   },
   {
    "duration": 9,
    "start_time": "2024-10-21T05:44:09.666Z"
   },
   {
    "duration": 54,
    "start_time": "2024-10-21T05:44:09.676Z"
   },
   {
    "duration": 114,
    "start_time": "2024-10-21T05:44:09.732Z"
   },
   {
    "duration": 87,
    "start_time": "2024-10-21T05:44:09.848Z"
   },
   {
    "duration": 91,
    "start_time": "2024-10-21T05:44:09.937Z"
   },
   {
    "duration": 94,
    "start_time": "2024-10-21T05:44:10.030Z"
   },
   {
    "duration": 64,
    "start_time": "2024-10-21T05:44:10.125Z"
   },
   {
    "duration": 76,
    "start_time": "2024-10-21T05:44:10.191Z"
   },
   {
    "duration": 67,
    "start_time": "2024-10-21T05:44:10.269Z"
   },
   {
    "duration": 127,
    "start_time": "2024-10-21T05:44:10.338Z"
   },
   {
    "duration": 7,
    "start_time": "2024-10-21T05:44:10.466Z"
   },
   {
    "duration": 24,
    "start_time": "2024-10-21T05:44:10.474Z"
   },
   {
    "duration": 86,
    "start_time": "2024-10-21T05:44:10.502Z"
   },
   {
    "duration": 131,
    "start_time": "2024-10-21T05:44:10.589Z"
   },
   {
    "duration": 129,
    "start_time": "2024-10-21T05:44:10.722Z"
   },
   {
    "duration": 127,
    "start_time": "2024-10-21T05:44:10.853Z"
   },
   {
    "duration": 17,
    "start_time": "2024-10-21T05:44:10.981Z"
   },
   {
    "duration": 25,
    "start_time": "2024-10-21T05:44:11.000Z"
   },
   {
    "duration": 16,
    "start_time": "2024-10-21T05:44:11.026Z"
   },
   {
    "duration": 22,
    "start_time": "2024-10-21T05:44:11.044Z"
   },
   {
    "duration": 13,
    "start_time": "2024-10-21T05:44:11.068Z"
   },
   {
    "duration": 2360,
    "start_time": "2024-10-21T05:44:11.082Z"
   },
   {
    "duration": 132,
    "start_time": "2024-10-21T05:44:13.444Z"
   },
   {
    "duration": 499,
    "start_time": "2024-10-21T05:44:13.577Z"
   },
   {
    "duration": 171,
    "start_time": "2024-10-21T05:44:14.077Z"
   },
   {
    "duration": 4556,
    "start_time": "2024-10-21T05:44:14.249Z"
   },
   {
    "duration": 4518,
    "start_time": "2024-10-21T05:44:18.806Z"
   },
   {
    "duration": 5063,
    "start_time": "2024-10-21T05:44:23.326Z"
   },
   {
    "duration": 21,
    "start_time": "2024-10-21T05:44:28.391Z"
   },
   {
    "duration": 9,
    "start_time": "2024-10-21T05:44:28.414Z"
   },
   {
    "duration": 4,
    "start_time": "2024-10-21T05:44:28.425Z"
   },
   {
    "duration": 1926,
    "start_time": "2024-10-21T05:44:28.430Z"
   },
   {
    "duration": 3,
    "start_time": "2024-10-21T05:44:30.358Z"
   },
   {
    "duration": 2044,
    "start_time": "2024-10-21T05:44:30.362Z"
   },
   {
    "duration": 28,
    "start_time": "2024-10-21T05:44:32.407Z"
   },
   {
    "duration": 30,
    "start_time": "2024-10-21T05:44:32.436Z"
   },
   {
    "duration": 29,
    "start_time": "2024-10-21T05:44:32.467Z"
   },
   {
    "duration": 14,
    "start_time": "2024-10-21T05:44:32.497Z"
   },
   {
    "duration": 7,
    "start_time": "2024-10-21T05:44:32.512Z"
   },
   {
    "duration": 14,
    "start_time": "2024-10-21T05:44:32.520Z"
   },
   {
    "duration": 22,
    "start_time": "2024-10-21T05:44:32.536Z"
   },
   {
    "duration": 18,
    "start_time": "2024-10-21T05:44:32.560Z"
   },
   {
    "duration": 49,
    "start_time": "2024-10-21T05:44:32.580Z"
   },
   {
    "duration": 83,
    "start_time": "2024-10-21T05:44:32.630Z"
   },
   {
    "duration": 259,
    "start_time": "2024-10-21T05:44:32.714Z"
   },
   {
    "duration": 325,
    "start_time": "2024-10-21T05:44:32.974Z"
   },
   {
    "duration": 655,
    "start_time": "2024-10-21T05:44:33.301Z"
   },
   {
    "duration": 1070,
    "start_time": "2024-10-21T05:44:33.957Z"
   },
   {
    "duration": 2,
    "start_time": "2024-10-21T05:44:35.029Z"
   },
   {
    "duration": 30,
    "start_time": "2024-10-21T05:44:35.033Z"
   },
   {
    "duration": 175,
    "start_time": "2024-10-21T05:44:35.064Z"
   },
   {
    "duration": 31,
    "start_time": "2024-10-21T05:44:35.241Z"
   },
   {
    "duration": 5,
    "start_time": "2024-10-21T05:44:35.273Z"
   },
   {
    "duration": 9542,
    "start_time": "2024-10-21T05:44:35.280Z"
   },
   {
    "duration": 2629,
    "start_time": "2024-10-21T06:12:03.330Z"
   },
   {
    "duration": 2622,
    "start_time": "2024-10-21T06:12:05.961Z"
   },
   {
    "duration": 3200,
    "start_time": "2024-10-21T06:12:08.585Z"
   },
   {
    "duration": 1583,
    "start_time": "2024-10-21T06:12:11.788Z"
   },
   {
    "duration": 35,
    "start_time": "2024-10-21T06:12:13.372Z"
   },
   {
    "duration": 21,
    "start_time": "2024-10-21T06:12:13.409Z"
   },
   {
    "duration": 22,
    "start_time": "2024-10-21T06:12:13.431Z"
   },
   {
    "duration": 30,
    "start_time": "2024-10-21T06:12:13.454Z"
   },
   {
    "duration": 10,
    "start_time": "2024-10-21T06:12:13.485Z"
   },
   {
    "duration": 4,
    "start_time": "2024-10-21T06:12:13.498Z"
   },
   {
    "duration": 5,
    "start_time": "2024-10-21T06:12:13.504Z"
   },
   {
    "duration": 14,
    "start_time": "2024-10-21T06:12:13.510Z"
   },
   {
    "duration": 15,
    "start_time": "2024-10-21T06:12:13.525Z"
   },
   {
    "duration": 10,
    "start_time": "2024-10-21T06:12:13.542Z"
   },
   {
    "duration": 23,
    "start_time": "2024-10-21T06:12:13.554Z"
   },
   {
    "duration": 24,
    "start_time": "2024-10-21T06:12:13.578Z"
   },
   {
    "duration": 27,
    "start_time": "2024-10-21T06:12:13.603Z"
   },
   {
    "duration": 99,
    "start_time": "2024-10-21T06:12:13.631Z"
   },
   {
    "duration": 92,
    "start_time": "2024-10-21T06:12:13.732Z"
   },
   {
    "duration": 94,
    "start_time": "2024-10-21T06:12:13.826Z"
   },
   {
    "duration": 98,
    "start_time": "2024-10-21T06:12:13.922Z"
   },
   {
    "duration": 67,
    "start_time": "2024-10-21T06:12:14.022Z"
   },
   {
    "duration": 87,
    "start_time": "2024-10-21T06:12:14.090Z"
   },
   {
    "duration": 70,
    "start_time": "2024-10-21T06:12:14.179Z"
   },
   {
    "duration": 128,
    "start_time": "2024-10-21T06:12:14.250Z"
   },
   {
    "duration": 7,
    "start_time": "2024-10-21T06:12:14.379Z"
   },
   {
    "duration": 32,
    "start_time": "2024-10-21T06:12:14.387Z"
   },
   {
    "duration": 76,
    "start_time": "2024-10-21T06:12:14.422Z"
   },
   {
    "duration": 124,
    "start_time": "2024-10-21T06:12:14.500Z"
   },
   {
    "duration": 127,
    "start_time": "2024-10-21T06:12:14.625Z"
   },
   {
    "duration": 123,
    "start_time": "2024-10-21T06:12:14.753Z"
   },
   {
    "duration": 16,
    "start_time": "2024-10-21T06:12:14.877Z"
   },
   {
    "duration": 27,
    "start_time": "2024-10-21T06:12:14.895Z"
   },
   {
    "duration": 18,
    "start_time": "2024-10-21T06:12:14.923Z"
   },
   {
    "duration": 16,
    "start_time": "2024-10-21T06:12:14.942Z"
   },
   {
    "duration": 21,
    "start_time": "2024-10-21T06:12:14.960Z"
   },
   {
    "duration": 2347,
    "start_time": "2024-10-21T06:12:14.983Z"
   },
   {
    "duration": 134,
    "start_time": "2024-10-21T06:12:17.332Z"
   },
   {
    "duration": 503,
    "start_time": "2024-10-21T06:12:17.467Z"
   },
   {
    "duration": 153,
    "start_time": "2024-10-21T06:12:17.971Z"
   },
   {
    "duration": 4388,
    "start_time": "2024-10-21T06:12:18.126Z"
   },
   {
    "duration": 4501,
    "start_time": "2024-10-21T06:12:22.516Z"
   },
   {
    "duration": 5298,
    "start_time": "2024-10-21T06:12:27.019Z"
   },
   {
    "duration": 15,
    "start_time": "2024-10-21T06:12:32.318Z"
   },
   {
    "duration": 37,
    "start_time": "2024-10-21T06:12:32.334Z"
   },
   {
    "duration": 25,
    "start_time": "2024-10-21T06:12:32.373Z"
   },
   {
    "duration": 1820,
    "start_time": "2024-10-21T06:12:32.399Z"
   },
   {
    "duration": 4,
    "start_time": "2024-10-21T06:12:34.221Z"
   },
   {
    "duration": 1794,
    "start_time": "2024-10-21T06:12:34.226Z"
   },
   {
    "duration": 18,
    "start_time": "2024-10-21T06:12:36.022Z"
   },
   {
    "duration": 23,
    "start_time": "2024-10-21T06:12:36.041Z"
   },
   {
    "duration": 5,
    "start_time": "2024-10-21T06:12:36.066Z"
   },
   {
    "duration": 39,
    "start_time": "2024-10-21T06:12:36.073Z"
   },
   {
    "duration": 38,
    "start_time": "2024-10-21T06:12:36.114Z"
   },
   {
    "duration": 43,
    "start_time": "2024-10-21T06:12:36.154Z"
   },
   {
    "duration": 14,
    "start_time": "2024-10-21T06:12:36.199Z"
   },
   {
    "duration": 10,
    "start_time": "2024-10-21T06:12:36.214Z"
   },
   {
    "duration": 47,
    "start_time": "2024-10-21T06:12:36.226Z"
   },
   {
    "duration": 74,
    "start_time": "2024-10-21T06:12:36.275Z"
   },
   {
    "duration": 221,
    "start_time": "2024-10-21T06:12:36.351Z"
   },
   {
    "duration": 317,
    "start_time": "2024-10-21T06:12:36.574Z"
   },
   {
    "duration": 662,
    "start_time": "2024-10-21T06:12:36.892Z"
   },
   {
    "duration": 968,
    "start_time": "2024-10-21T06:12:37.556Z"
   },
   {
    "duration": 2,
    "start_time": "2024-10-21T06:12:38.525Z"
   },
   {
    "duration": 23,
    "start_time": "2024-10-21T06:12:38.529Z"
   },
   {
    "duration": 154,
    "start_time": "2024-10-21T06:12:38.553Z"
   },
   {
    "duration": 30,
    "start_time": "2024-10-21T06:12:38.711Z"
   },
   {
    "duration": 4,
    "start_time": "2024-10-21T06:12:38.742Z"
   },
   {
    "duration": 9674,
    "start_time": "2024-10-21T06:12:38.747Z"
   },
   {
    "duration": 2790,
    "start_time": "2024-10-21T10:03:12.569Z"
   },
   {
    "duration": 2745,
    "start_time": "2024-10-21T10:03:15.361Z"
   },
   {
    "duration": 3258,
    "start_time": "2024-10-21T10:03:18.108Z"
   },
   {
    "duration": 2126,
    "start_time": "2024-10-21T10:03:21.368Z"
   },
   {
    "duration": 82,
    "start_time": "2024-10-21T10:03:23.496Z"
   },
   {
    "duration": 112,
    "start_time": "2024-10-21T10:03:23.579Z"
   },
   {
    "duration": 74,
    "start_time": "2024-10-21T10:03:23.692Z"
   },
   {
    "duration": 87,
    "start_time": "2024-10-21T10:03:23.768Z"
   },
   {
    "duration": 9,
    "start_time": "2024-10-21T10:03:23.856Z"
   },
   {
    "duration": 6,
    "start_time": "2024-10-21T10:03:23.866Z"
   },
   {
    "duration": 40,
    "start_time": "2024-10-21T10:03:23.873Z"
   },
   {
    "duration": 9,
    "start_time": "2024-10-21T10:03:23.914Z"
   },
   {
    "duration": 33,
    "start_time": "2024-10-21T10:03:23.924Z"
   },
   {
    "duration": 14,
    "start_time": "2024-10-21T10:03:23.960Z"
   },
   {
    "duration": 6,
    "start_time": "2024-10-21T10:03:23.975Z"
   },
   {
    "duration": 7,
    "start_time": "2024-10-21T10:03:23.982Z"
   },
   {
    "duration": 32,
    "start_time": "2024-10-21T10:03:23.990Z"
   },
   {
    "duration": 152,
    "start_time": "2024-10-21T10:03:24.023Z"
   },
   {
    "duration": 282,
    "start_time": "2024-10-21T10:03:24.177Z"
   },
   {
    "duration": 125,
    "start_time": "2024-10-21T10:03:24.460Z"
   },
   {
    "duration": 199,
    "start_time": "2024-10-21T10:03:24.587Z"
   },
   {
    "duration": 127,
    "start_time": "2024-10-21T10:03:24.787Z"
   },
   {
    "duration": 126,
    "start_time": "2024-10-21T10:03:24.915Z"
   },
   {
    "duration": 63,
    "start_time": "2024-10-21T10:03:25.042Z"
   },
   {
    "duration": 123,
    "start_time": "2024-10-21T10:03:25.107Z"
   },
   {
    "duration": 6,
    "start_time": "2024-10-21T10:03:25.232Z"
   },
   {
    "duration": 39,
    "start_time": "2024-10-21T10:03:25.239Z"
   },
   {
    "duration": 11,
    "start_time": "2024-10-21T10:03:25.279Z"
   },
   {
    "duration": 209,
    "start_time": "2024-10-21T10:03:25.292Z"
   },
   {
    "duration": 204,
    "start_time": "2024-10-21T10:03:25.503Z"
   },
   {
    "duration": 2754,
    "start_time": "2024-10-21T10:23:44.926Z"
   },
   {
    "duration": 2915,
    "start_time": "2024-10-21T10:23:47.682Z"
   },
   {
    "duration": 3240,
    "start_time": "2024-10-21T10:23:50.598Z"
   },
   {
    "duration": 2108,
    "start_time": "2024-10-21T10:23:53.840Z"
   },
   {
    "duration": 42,
    "start_time": "2024-10-21T10:23:55.950Z"
   },
   {
    "duration": 24,
    "start_time": "2024-10-21T10:23:55.993Z"
   },
   {
    "duration": 21,
    "start_time": "2024-10-21T10:23:56.019Z"
   },
   {
    "duration": 30,
    "start_time": "2024-10-21T10:23:56.042Z"
   },
   {
    "duration": 10,
    "start_time": "2024-10-21T10:23:56.073Z"
   },
   {
    "duration": 4,
    "start_time": "2024-10-21T10:23:56.085Z"
   },
   {
    "duration": 3,
    "start_time": "2024-10-21T10:23:56.090Z"
   },
   {
    "duration": 11,
    "start_time": "2024-10-21T10:23:56.094Z"
   },
   {
    "duration": 7,
    "start_time": "2024-10-21T10:23:56.106Z"
   },
   {
    "duration": 4,
    "start_time": "2024-10-21T10:23:56.114Z"
   },
   {
    "duration": 5,
    "start_time": "2024-10-21T10:23:56.120Z"
   },
   {
    "duration": 10,
    "start_time": "2024-10-21T10:23:56.126Z"
   },
   {
    "duration": 40,
    "start_time": "2024-10-21T10:23:56.137Z"
   },
   {
    "duration": 192,
    "start_time": "2024-10-21T10:23:56.178Z"
   },
   {
    "duration": 188,
    "start_time": "2024-10-21T10:23:56.371Z"
   },
   {
    "duration": 125,
    "start_time": "2024-10-21T10:23:56.560Z"
   },
   {
    "duration": 200,
    "start_time": "2024-10-21T10:23:56.757Z"
   },
   {
    "duration": 57,
    "start_time": "2024-10-21T10:23:56.959Z"
   },
   {
    "duration": 153,
    "start_time": "2024-10-21T10:23:57.018Z"
   },
   {
    "duration": 52,
    "start_time": "2024-10-21T10:23:57.173Z"
   },
   {
    "duration": 107,
    "start_time": "2024-10-21T10:23:57.226Z"
   },
   {
    "duration": 6,
    "start_time": "2024-10-21T10:23:57.334Z"
   },
   {
    "duration": 39,
    "start_time": "2024-10-21T10:23:57.341Z"
   },
   {
    "duration": 10,
    "start_time": "2024-10-21T10:23:57.383Z"
   },
   {
    "duration": 198,
    "start_time": "2024-10-21T10:23:57.394Z"
   },
   {
    "duration": 207,
    "start_time": "2024-10-21T10:23:57.593Z"
   },
   {
    "duration": 205,
    "start_time": "2024-10-21T10:23:57.801Z"
   },
   {
    "duration": 18,
    "start_time": "2024-10-21T10:23:58.007Z"
   },
   {
    "duration": 31,
    "start_time": "2024-10-21T10:23:58.027Z"
   },
   {
    "duration": 15,
    "start_time": "2024-10-21T10:23:58.059Z"
   },
   {
    "duration": 16,
    "start_time": "2024-10-21T10:23:58.075Z"
   },
   {
    "duration": 13,
    "start_time": "2024-10-21T10:23:58.092Z"
   },
   {
    "duration": 1730,
    "start_time": "2024-10-21T10:23:58.107Z"
   },
   {
    "duration": 248,
    "start_time": "2024-10-21T10:23:59.839Z"
   },
   {
    "duration": 629,
    "start_time": "2024-10-21T10:24:00.088Z"
   },
   {
    "duration": 281,
    "start_time": "2024-10-21T10:24:00.718Z"
   },
   {
    "duration": 4103,
    "start_time": "2024-10-21T10:24:01.001Z"
   },
   {
    "duration": 4192,
    "start_time": "2024-10-21T10:24:05.105Z"
   },
   {
    "duration": 4870,
    "start_time": "2024-10-21T10:24:09.298Z"
   },
   {
    "duration": 15,
    "start_time": "2024-10-21T10:24:14.170Z"
   },
   {
    "duration": 33,
    "start_time": "2024-10-21T10:24:14.186Z"
   },
   {
    "duration": 14,
    "start_time": "2024-10-21T10:24:14.220Z"
   },
   {
    "duration": 1639,
    "start_time": "2024-10-21T10:24:14.235Z"
   },
   {
    "duration": 4,
    "start_time": "2024-10-21T10:24:15.875Z"
   },
   {
    "duration": 1793,
    "start_time": "2024-10-21T10:24:15.880Z"
   },
   {
    "duration": 19,
    "start_time": "2024-10-21T10:24:17.674Z"
   },
   {
    "duration": 34,
    "start_time": "2024-10-21T10:24:17.695Z"
   },
   {
    "duration": 5,
    "start_time": "2024-10-21T10:24:17.731Z"
   },
   {
    "duration": 27,
    "start_time": "2024-10-21T10:24:17.737Z"
   },
   {
    "duration": 10,
    "start_time": "2024-10-21T10:24:17.766Z"
   },
   {
    "duration": 22,
    "start_time": "2024-10-21T10:24:17.777Z"
   },
   {
    "duration": 34,
    "start_time": "2024-10-21T10:24:17.801Z"
   },
   {
    "duration": 53,
    "start_time": "2024-10-21T10:24:17.836Z"
   },
   {
    "duration": 34,
    "start_time": "2024-10-21T10:24:17.890Z"
   },
   {
    "duration": 72,
    "start_time": "2024-10-21T10:24:17.925Z"
   },
   {
    "duration": 210,
    "start_time": "2024-10-21T10:24:17.999Z"
   },
   {
    "duration": 515,
    "start_time": "2024-10-21T10:24:18.210Z"
   },
   {
    "duration": 620,
    "start_time": "2024-10-21T10:24:18.726Z"
   },
   {
    "duration": 913,
    "start_time": "2024-10-21T10:24:19.347Z"
   },
   {
    "duration": 2,
    "start_time": "2024-10-21T10:24:20.261Z"
   },
   {
    "duration": 24,
    "start_time": "2024-10-21T10:24:20.264Z"
   },
   {
    "duration": 235,
    "start_time": "2024-10-21T10:24:20.289Z"
   },
   {
    "duration": 40,
    "start_time": "2024-10-21T10:24:20.525Z"
   },
   {
    "duration": 4,
    "start_time": "2024-10-21T10:24:20.566Z"
   },
   {
    "duration": 8788,
    "start_time": "2024-10-21T10:24:20.571Z"
   },
   {
    "duration": 3790,
    "start_time": "2024-10-24T07:51:41.741Z"
   },
   {
    "duration": 4426,
    "start_time": "2024-10-24T07:51:45.534Z"
   },
   {
    "duration": 7627,
    "start_time": "2024-10-24T07:51:49.961Z"
   },
   {
    "duration": 2117,
    "start_time": "2024-10-24T07:51:57.590Z"
   },
   {
    "duration": 88,
    "start_time": "2024-10-24T07:51:59.710Z"
   },
   {
    "duration": 107,
    "start_time": "2024-10-24T07:51:59.800Z"
   },
   {
    "duration": 74,
    "start_time": "2024-10-24T07:51:59.909Z"
   },
   {
    "duration": 85,
    "start_time": "2024-10-24T07:51:59.985Z"
   },
   {
    "duration": 12,
    "start_time": "2024-10-24T07:52:00.072Z"
   },
   {
    "duration": 74,
    "start_time": "2024-10-24T07:52:00.087Z"
   },
   {
    "duration": 33,
    "start_time": "2024-10-24T07:52:00.162Z"
   },
   {
    "duration": 34,
    "start_time": "2024-10-24T07:52:00.197Z"
   },
   {
    "duration": 19,
    "start_time": "2024-10-24T07:52:00.233Z"
   },
   {
    "duration": 35,
    "start_time": "2024-10-24T07:52:00.254Z"
   },
   {
    "duration": 24,
    "start_time": "2024-10-24T07:52:00.290Z"
   },
   {
    "duration": 35,
    "start_time": "2024-10-24T07:52:00.315Z"
   },
   {
    "duration": 68,
    "start_time": "2024-10-24T07:52:00.351Z"
   },
   {
    "duration": 114,
    "start_time": "2024-10-24T07:52:00.420Z"
   },
   {
    "duration": 111,
    "start_time": "2024-10-24T07:52:00.536Z"
   },
   {
    "duration": 102,
    "start_time": "2024-10-24T07:52:00.649Z"
   },
   {
    "duration": 117,
    "start_time": "2024-10-24T07:52:00.753Z"
   },
   {
    "duration": 114,
    "start_time": "2024-10-24T07:52:00.872Z"
   },
   {
    "duration": 76,
    "start_time": "2024-10-24T07:52:00.987Z"
   },
   {
    "duration": 84,
    "start_time": "2024-10-24T07:52:01.065Z"
   },
   {
    "duration": 150,
    "start_time": "2024-10-24T07:52:01.151Z"
   },
   {
    "duration": 9,
    "start_time": "2024-10-24T07:52:01.302Z"
   },
   {
    "duration": 19,
    "start_time": "2024-10-24T07:52:01.321Z"
   },
   {
    "duration": 128,
    "start_time": "2024-10-24T07:52:01.345Z"
   },
   {
    "duration": 147,
    "start_time": "2024-10-24T07:52:01.475Z"
   },
   {
    "duration": 169,
    "start_time": "2024-10-24T07:52:01.624Z"
   },
   {
    "duration": 162,
    "start_time": "2024-10-24T07:52:01.795Z"
   },
   {
    "duration": 23,
    "start_time": "2024-10-24T07:52:01.960Z"
   },
   {
    "duration": 39,
    "start_time": "2024-10-24T07:52:01.985Z"
   },
   {
    "duration": 20,
    "start_time": "2024-10-24T07:52:02.025Z"
   },
   {
    "duration": 108,
    "start_time": "2024-10-24T07:52:02.047Z"
   },
   {
    "duration": 18,
    "start_time": "2024-10-24T07:52:02.157Z"
   },
   {
    "duration": 3079,
    "start_time": "2024-10-24T07:52:02.177Z"
   },
   {
    "duration": 161,
    "start_time": "2024-10-24T07:52:05.258Z"
   },
   {
    "duration": 586,
    "start_time": "2024-10-24T07:52:05.421Z"
   },
   {
    "duration": 198,
    "start_time": "2024-10-24T07:52:06.009Z"
   },
   {
    "duration": 5514,
    "start_time": "2024-10-24T07:52:06.209Z"
   },
   {
    "duration": 5559,
    "start_time": "2024-10-24T07:52:11.726Z"
   },
   {
    "duration": 6316,
    "start_time": "2024-10-24T07:52:17.287Z"
   },
   {
    "duration": 27,
    "start_time": "2024-10-24T07:52:23.605Z"
   },
   {
    "duration": 72,
    "start_time": "2024-10-24T07:52:23.633Z"
   },
   {
    "duration": 18,
    "start_time": "2024-10-24T07:52:23.707Z"
   },
   {
    "duration": 2141,
    "start_time": "2024-10-24T07:52:23.727Z"
   },
   {
    "duration": 4,
    "start_time": "2024-10-24T07:52:25.871Z"
   },
   {
    "duration": 2180,
    "start_time": "2024-10-24T07:52:25.877Z"
   },
   {
    "duration": 35,
    "start_time": "2024-10-24T07:52:28.060Z"
   },
   {
    "duration": 46,
    "start_time": "2024-10-24T07:52:28.097Z"
   },
   {
    "duration": 40,
    "start_time": "2024-10-24T07:52:28.145Z"
   },
   {
    "duration": 30,
    "start_time": "2024-10-24T07:52:28.187Z"
   },
   {
    "duration": 11,
    "start_time": "2024-10-24T07:52:28.219Z"
   },
   {
    "duration": 64,
    "start_time": "2024-10-24T07:52:28.233Z"
   },
   {
    "duration": 26,
    "start_time": "2024-10-24T07:52:28.298Z"
   },
   {
    "duration": 8,
    "start_time": "2024-10-24T07:52:28.325Z"
   },
   {
    "duration": 39,
    "start_time": "2024-10-24T07:52:28.336Z"
   },
   {
    "duration": 102,
    "start_time": "2024-10-24T07:52:28.376Z"
   },
   {
    "duration": 330,
    "start_time": "2024-10-24T07:52:28.481Z"
   },
   {
    "duration": 355,
    "start_time": "2024-10-24T07:52:28.813Z"
   },
   {
    "duration": 971,
    "start_time": "2024-10-24T07:52:29.169Z"
   },
   {
    "duration": 1283,
    "start_time": "2024-10-24T07:52:30.142Z"
   },
   {
    "duration": 2,
    "start_time": "2024-10-24T07:52:31.427Z"
   },
   {
    "duration": 83,
    "start_time": "2024-10-24T07:52:31.430Z"
   },
   {
    "duration": 207,
    "start_time": "2024-10-24T07:52:31.515Z"
   },
   {
    "duration": 41,
    "start_time": "2024-10-24T07:52:31.724Z"
   },
   {
    "duration": 19,
    "start_time": "2024-10-24T07:52:31.767Z"
   },
   {
    "duration": 10867,
    "start_time": "2024-10-24T07:52:31.788Z"
   },
   {
    "duration": 45,
    "start_time": "2024-11-03T15:11:41.247Z"
   },
   {
    "duration": 3632,
    "start_time": "2024-11-03T15:12:06.033Z"
   },
   {
    "duration": 4020,
    "start_time": "2024-11-03T15:12:09.667Z"
   },
   {
    "duration": 6901,
    "start_time": "2024-11-03T15:12:13.689Z"
   },
   {
    "duration": 2074,
    "start_time": "2024-11-03T15:12:20.592Z"
   },
   {
    "duration": 84,
    "start_time": "2024-11-03T15:12:22.668Z"
   },
   {
    "duration": 104,
    "start_time": "2024-11-03T15:12:22.753Z"
   },
   {
    "duration": 76,
    "start_time": "2024-11-03T15:12:22.858Z"
   },
   {
    "duration": 81,
    "start_time": "2024-11-03T15:12:22.935Z"
   },
   {
    "duration": 11,
    "start_time": "2024-11-03T15:12:23.017Z"
   },
   {
    "duration": 19,
    "start_time": "2024-11-03T15:12:23.030Z"
   },
   {
    "duration": 6,
    "start_time": "2024-11-03T15:12:23.051Z"
   },
   {
    "duration": 15,
    "start_time": "2024-11-03T15:12:23.058Z"
   },
   {
    "duration": 6,
    "start_time": "2024-11-03T15:12:23.075Z"
   },
   {
    "duration": 14,
    "start_time": "2024-11-03T15:12:23.082Z"
   },
   {
    "duration": 25,
    "start_time": "2024-11-03T15:12:23.097Z"
   },
   {
    "duration": 14,
    "start_time": "2024-11-03T15:12:23.123Z"
   },
   {
    "duration": 46,
    "start_time": "2024-11-03T15:12:23.139Z"
   },
   {
    "duration": 96,
    "start_time": "2024-11-03T15:12:23.187Z"
   },
   {
    "duration": 91,
    "start_time": "2024-11-03T15:12:23.284Z"
   },
   {
    "duration": 95,
    "start_time": "2024-11-03T15:12:23.377Z"
   },
   {
    "duration": 103,
    "start_time": "2024-11-03T15:12:23.473Z"
   },
   {
    "duration": 91,
    "start_time": "2024-11-03T15:12:23.578Z"
   },
   {
    "duration": 145,
    "start_time": "2024-11-03T15:12:23.671Z"
   },
   {
    "duration": 61,
    "start_time": "2024-11-03T15:12:23.817Z"
   },
   {
    "duration": 131,
    "start_time": "2024-11-03T15:12:23.880Z"
   },
   {
    "duration": 7,
    "start_time": "2024-11-03T15:12:24.013Z"
   },
   {
    "duration": 80,
    "start_time": "2024-11-03T15:12:24.021Z"
   },
   {
    "duration": 32,
    "start_time": "2024-11-03T15:12:24.104Z"
   },
   {
    "duration": 141,
    "start_time": "2024-11-03T15:12:24.137Z"
   },
   {
    "duration": 141,
    "start_time": "2024-11-03T15:12:24.280Z"
   },
   {
    "duration": 141,
    "start_time": "2024-11-03T15:12:24.423Z"
   },
   {
    "duration": 0,
    "start_time": "2024-11-03T15:12:24.566Z"
   },
   {
    "duration": 0,
    "start_time": "2024-11-03T15:12:24.567Z"
   },
   {
    "duration": 0,
    "start_time": "2024-11-03T15:12:24.568Z"
   },
   {
    "duration": 0,
    "start_time": "2024-11-03T15:12:24.569Z"
   },
   {
    "duration": 0,
    "start_time": "2024-11-03T15:12:24.571Z"
   },
   {
    "duration": 0,
    "start_time": "2024-11-03T15:12:24.572Z"
   },
   {
    "duration": 0,
    "start_time": "2024-11-03T15:12:24.573Z"
   },
   {
    "duration": 0,
    "start_time": "2024-11-03T15:12:24.575Z"
   },
   {
    "duration": 0,
    "start_time": "2024-11-03T15:12:24.576Z"
   },
   {
    "duration": 0,
    "start_time": "2024-11-03T15:12:24.577Z"
   },
   {
    "duration": 0,
    "start_time": "2024-11-03T15:12:24.579Z"
   },
   {
    "duration": 0,
    "start_time": "2024-11-03T15:12:24.580Z"
   },
   {
    "duration": 0,
    "start_time": "2024-11-03T15:12:24.607Z"
   },
   {
    "duration": 0,
    "start_time": "2024-11-03T15:12:24.609Z"
   },
   {
    "duration": 0,
    "start_time": "2024-11-03T15:12:24.610Z"
   },
   {
    "duration": 0,
    "start_time": "2024-11-03T15:12:24.611Z"
   },
   {
    "duration": 0,
    "start_time": "2024-11-03T15:12:24.613Z"
   },
   {
    "duration": 0,
    "start_time": "2024-11-03T15:12:24.614Z"
   },
   {
    "duration": 0,
    "start_time": "2024-11-03T15:12:24.615Z"
   },
   {
    "duration": 0,
    "start_time": "2024-11-03T15:12:24.617Z"
   },
   {
    "duration": 0,
    "start_time": "2024-11-03T15:12:24.618Z"
   },
   {
    "duration": 0,
    "start_time": "2024-11-03T15:12:24.619Z"
   },
   {
    "duration": 0,
    "start_time": "2024-11-03T15:12:24.621Z"
   },
   {
    "duration": 0,
    "start_time": "2024-11-03T15:12:24.622Z"
   },
   {
    "duration": 0,
    "start_time": "2024-11-03T15:12:24.623Z"
   },
   {
    "duration": 0,
    "start_time": "2024-11-03T15:12:24.624Z"
   },
   {
    "duration": 0,
    "start_time": "2024-11-03T15:12:24.626Z"
   },
   {
    "duration": 0,
    "start_time": "2024-11-03T15:12:24.627Z"
   },
   {
    "duration": 0,
    "start_time": "2024-11-03T15:12:24.628Z"
   },
   {
    "duration": 0,
    "start_time": "2024-11-03T15:12:24.630Z"
   },
   {
    "duration": 0,
    "start_time": "2024-11-03T15:12:24.631Z"
   },
   {
    "duration": 0,
    "start_time": "2024-11-03T15:12:24.632Z"
   },
   {
    "duration": 0,
    "start_time": "2024-11-03T15:12:24.634Z"
   },
   {
    "duration": 0,
    "start_time": "2024-11-03T15:12:24.635Z"
   },
   {
    "duration": 0,
    "start_time": "2024-11-03T15:12:24.636Z"
   },
   {
    "duration": 0,
    "start_time": "2024-11-03T15:12:24.637Z"
   },
   {
    "duration": 0,
    "start_time": "2024-11-03T15:12:24.638Z"
   },
   {
    "duration": 0,
    "start_time": "2024-11-03T15:12:24.640Z"
   },
   {
    "duration": 0,
    "start_time": "2024-11-03T15:12:24.641Z"
   },
   {
    "duration": 89,
    "start_time": "2024-11-03T15:13:41.907Z"
   },
   {
    "duration": 83,
    "start_time": "2024-11-03T15:13:58.767Z"
   },
   {
    "duration": 83,
    "start_time": "2024-11-03T15:14:15.099Z"
   },
   {
    "duration": 8,
    "start_time": "2024-11-03T15:17:40.128Z"
   },
   {
    "duration": 1168,
    "start_time": "2024-11-03T15:21:57.085Z"
   },
   {
    "duration": 10,
    "start_time": "2024-11-03T15:22:06.629Z"
   },
   {
    "duration": 6,
    "start_time": "2024-11-03T15:31:38.674Z"
   },
   {
    "duration": 120,
    "start_time": "2024-11-03T15:31:46.870Z"
   },
   {
    "duration": 19,
    "start_time": "2024-11-03T15:33:04.538Z"
   },
   {
    "duration": 14,
    "start_time": "2024-11-03T15:34:48.006Z"
   },
   {
    "duration": 15,
    "start_time": "2024-11-03T15:34:53.151Z"
   },
   {
    "duration": 19,
    "start_time": "2024-11-03T15:35:02.534Z"
   },
   {
    "duration": 15,
    "start_time": "2024-11-03T15:35:58.411Z"
   },
   {
    "duration": 2410,
    "start_time": "2024-11-03T15:37:41.163Z"
   },
   {
    "duration": 3485,
    "start_time": "2024-11-04T04:14:14.341Z"
   },
   {
    "duration": 3901,
    "start_time": "2024-11-04T04:14:17.828Z"
   },
   {
    "duration": 7108,
    "start_time": "2024-11-04T04:14:21.731Z"
   },
   {
    "duration": 2061,
    "start_time": "2024-11-04T04:14:28.842Z"
   },
   {
    "duration": 96,
    "start_time": "2024-11-04T04:14:30.906Z"
   },
   {
    "duration": 109,
    "start_time": "2024-11-04T04:14:31.004Z"
   },
   {
    "duration": 78,
    "start_time": "2024-11-04T04:14:31.115Z"
   },
   {
    "duration": 90,
    "start_time": "2024-11-04T04:14:31.194Z"
   },
   {
    "duration": 12,
    "start_time": "2024-11-04T04:14:31.285Z"
   },
   {
    "duration": 11,
    "start_time": "2024-11-04T04:14:31.300Z"
   },
   {
    "duration": 6,
    "start_time": "2024-11-04T04:14:31.313Z"
   },
   {
    "duration": 7,
    "start_time": "2024-11-04T04:14:31.320Z"
   },
   {
    "duration": 11,
    "start_time": "2024-11-04T04:14:31.329Z"
   },
   {
    "duration": 6,
    "start_time": "2024-11-04T04:14:31.342Z"
   },
   {
    "duration": 7,
    "start_time": "2024-11-04T04:14:31.350Z"
   },
   {
    "duration": 20,
    "start_time": "2024-11-04T04:14:31.358Z"
   },
   {
    "duration": 58,
    "start_time": "2024-11-04T04:14:31.379Z"
   },
   {
    "duration": 123,
    "start_time": "2024-11-04T04:14:31.438Z"
   },
   {
    "duration": 113,
    "start_time": "2024-11-04T04:14:31.563Z"
   },
   {
    "duration": 114,
    "start_time": "2024-11-04T04:14:31.678Z"
   },
   {
    "duration": 117,
    "start_time": "2024-11-04T04:14:31.794Z"
   },
   {
    "duration": 86,
    "start_time": "2024-11-04T04:14:31.913Z"
   },
   {
    "duration": 98,
    "start_time": "2024-11-04T04:14:32.001Z"
   },
   {
    "duration": 92,
    "start_time": "2024-11-04T04:14:32.101Z"
   },
   {
    "duration": 157,
    "start_time": "2024-11-04T04:14:32.194Z"
   },
   {
    "duration": 8,
    "start_time": "2024-11-04T04:14:32.353Z"
   },
   {
    "duration": 22,
    "start_time": "2024-11-04T04:14:32.363Z"
   },
   {
    "duration": 153,
    "start_time": "2024-11-04T04:14:32.391Z"
   },
   {
    "duration": 162,
    "start_time": "2024-11-04T04:14:32.546Z"
   },
   {
    "duration": 163,
    "start_time": "2024-11-04T04:14:32.710Z"
   },
   {
    "duration": 108,
    "start_time": "2024-11-04T04:14:32.875Z"
   },
   {
    "duration": 9,
    "start_time": "2024-11-04T04:14:32.984Z"
   },
   {
    "duration": 26,
    "start_time": "2024-11-04T04:14:32.995Z"
   },
   {
    "duration": 16,
    "start_time": "2024-11-04T04:14:33.023Z"
   },
   {
    "duration": 148,
    "start_time": "2024-11-04T04:14:33.041Z"
   },
   {
    "duration": 32,
    "start_time": "2024-11-04T04:14:33.191Z"
   },
   {
    "duration": 16,
    "start_time": "2024-11-04T04:14:33.225Z"
   },
   {
    "duration": 18,
    "start_time": "2024-11-04T04:14:33.243Z"
   },
   {
    "duration": 38,
    "start_time": "2024-11-04T04:14:33.263Z"
   },
   {
    "duration": 28,
    "start_time": "2024-11-04T04:14:33.303Z"
   },
   {
    "duration": 2986,
    "start_time": "2024-11-04T04:14:33.333Z"
   },
   {
    "duration": 175,
    "start_time": "2024-11-04T04:14:36.322Z"
   },
   {
    "duration": 633,
    "start_time": "2024-11-04T04:14:36.498Z"
   },
   {
    "duration": 174,
    "start_time": "2024-11-04T04:14:37.133Z"
   },
   {
    "duration": 5546,
    "start_time": "2024-11-04T04:14:37.309Z"
   },
   {
    "duration": 5579,
    "start_time": "2024-11-04T04:14:42.856Z"
   },
   {
    "duration": 6354,
    "start_time": "2024-11-04T04:14:48.437Z"
   },
   {
    "duration": 19,
    "start_time": "2024-11-04T04:14:54.793Z"
   },
   {
    "duration": 10,
    "start_time": "2024-11-04T04:14:54.820Z"
   },
   {
    "duration": 21,
    "start_time": "2024-11-04T04:14:54.832Z"
   },
   {
    "duration": 1895,
    "start_time": "2024-11-04T04:14:54.855Z"
   },
   {
    "duration": 4,
    "start_time": "2024-11-04T04:14:56.752Z"
   },
   {
    "duration": 2073,
    "start_time": "2024-11-04T04:14:56.758Z"
   },
   {
    "duration": 22,
    "start_time": "2024-11-04T04:14:58.832Z"
   },
   {
    "duration": 44,
    "start_time": "2024-11-04T04:14:58.856Z"
   },
   {
    "duration": 19,
    "start_time": "2024-11-04T04:14:58.902Z"
   },
   {
    "duration": 18,
    "start_time": "2024-11-04T04:14:58.923Z"
   },
   {
    "duration": 8,
    "start_time": "2024-11-04T04:14:58.943Z"
   },
   {
    "duration": 7,
    "start_time": "2024-11-04T04:14:58.952Z"
   },
   {
    "duration": 8,
    "start_time": "2024-11-04T04:14:58.961Z"
   },
   {
    "duration": 21,
    "start_time": "2024-11-04T04:14:58.971Z"
   },
   {
    "duration": 51,
    "start_time": "2024-11-04T04:14:58.994Z"
   },
   {
    "duration": 86,
    "start_time": "2024-11-04T04:14:59.047Z"
   },
   {
    "duration": 277,
    "start_time": "2024-11-04T04:14:59.135Z"
   },
   {
    "duration": 381,
    "start_time": "2024-11-04T04:14:59.420Z"
   },
   {
    "duration": 718,
    "start_time": "2024-11-04T04:14:59.803Z"
   },
   {
    "duration": 1121,
    "start_time": "2024-11-04T04:15:00.523Z"
   },
   {
    "duration": 2,
    "start_time": "2024-11-04T04:15:01.646Z"
   },
   {
    "duration": 61,
    "start_time": "2024-11-04T04:15:01.650Z"
   },
   {
    "duration": 202,
    "start_time": "2024-11-04T04:15:01.713Z"
   },
   {
    "duration": 41,
    "start_time": "2024-11-04T04:15:01.916Z"
   },
   {
    "duration": 10,
    "start_time": "2024-11-04T04:15:01.959Z"
   },
   {
    "duration": 11182,
    "start_time": "2024-11-04T04:15:01.971Z"
   },
   {
    "duration": 5,
    "start_time": "2024-11-04T04:21:56.819Z"
   },
   {
    "duration": 1218,
    "start_time": "2024-11-04T04:22:52.751Z"
   },
   {
    "duration": 4,
    "start_time": "2024-11-04T04:23:11.188Z"
   },
   {
    "duration": 5,
    "start_time": "2024-11-04T04:23:46.023Z"
   },
   {
    "duration": 5,
    "start_time": "2024-11-04T04:26:31.315Z"
   },
   {
    "duration": 7,
    "start_time": "2024-11-04T04:27:11.536Z"
   },
   {
    "duration": 6,
    "start_time": "2024-11-04T04:27:25.480Z"
   },
   {
    "duration": 9,
    "start_time": "2024-11-04T04:28:51.152Z"
   },
   {
    "duration": 9,
    "start_time": "2024-11-04T04:29:18.532Z"
   },
   {
    "duration": 2700,
    "start_time": "2024-11-04T04:34:20.830Z"
   },
   {
    "duration": 2712,
    "start_time": "2024-11-04T04:34:23.533Z"
   },
   {
    "duration": 3188,
    "start_time": "2024-11-04T04:34:26.247Z"
   },
   {
    "duration": 1844,
    "start_time": "2024-11-04T04:34:29.439Z"
   },
   {
    "duration": 42,
    "start_time": "2024-11-04T04:34:31.285Z"
   },
   {
    "duration": 26,
    "start_time": "2024-11-04T04:34:31.329Z"
   },
   {
    "duration": 26,
    "start_time": "2024-11-04T04:34:31.356Z"
   },
   {
    "duration": 34,
    "start_time": "2024-11-04T04:34:31.383Z"
   },
   {
    "duration": 12,
    "start_time": "2024-11-04T04:34:31.419Z"
   },
   {
    "duration": 9,
    "start_time": "2024-11-04T04:34:31.434Z"
   },
   {
    "duration": 37,
    "start_time": "2024-11-04T04:34:31.444Z"
   },
   {
    "duration": 11,
    "start_time": "2024-11-04T04:34:31.483Z"
   },
   {
    "duration": 20,
    "start_time": "2024-11-04T04:34:31.495Z"
   },
   {
    "duration": 12,
    "start_time": "2024-11-04T04:34:31.517Z"
   },
   {
    "duration": 10,
    "start_time": "2024-11-04T04:34:31.530Z"
   },
   {
    "duration": 7,
    "start_time": "2024-11-04T04:34:31.542Z"
   },
   {
    "duration": 58,
    "start_time": "2024-11-04T04:34:31.551Z"
   },
   {
    "duration": 116,
    "start_time": "2024-11-04T04:34:31.611Z"
   },
   {
    "duration": 113,
    "start_time": "2024-11-04T04:34:31.728Z"
   },
   {
    "duration": 103,
    "start_time": "2024-11-04T04:34:31.843Z"
   },
   {
    "duration": 129,
    "start_time": "2024-11-04T04:34:31.947Z"
   },
   {
    "duration": 83,
    "start_time": "2024-11-04T04:34:32.078Z"
   },
   {
    "duration": 83,
    "start_time": "2024-11-04T04:34:32.163Z"
   },
   {
    "duration": 87,
    "start_time": "2024-11-04T04:34:32.248Z"
   },
   {
    "duration": 148,
    "start_time": "2024-11-04T04:34:32.337Z"
   },
   {
    "duration": 9,
    "start_time": "2024-11-04T04:34:32.486Z"
   },
   {
    "duration": 43,
    "start_time": "2024-11-04T04:34:32.497Z"
   },
   {
    "duration": 17,
    "start_time": "2024-11-04T04:34:32.655Z"
   },
   {
    "duration": 160,
    "start_time": "2024-11-04T04:34:32.674Z"
   },
   {
    "duration": 6,
    "start_time": "2024-11-04T04:34:32.836Z"
   },
   {
    "duration": 184,
    "start_time": "2024-11-04T04:34:32.844Z"
   },
   {
    "duration": 104,
    "start_time": "2024-11-04T04:34:33.030Z"
   },
   {
    "duration": 8,
    "start_time": "2024-11-04T04:34:33.136Z"
   },
   {
    "duration": 28,
    "start_time": "2024-11-04T04:34:33.145Z"
   },
   {
    "duration": 33,
    "start_time": "2024-11-04T04:34:33.175Z"
   },
   {
    "duration": 8,
    "start_time": "2024-11-04T04:34:33.210Z"
   },
   {
    "duration": 179,
    "start_time": "2024-11-04T04:34:33.219Z"
   },
   {
    "duration": 29,
    "start_time": "2024-11-04T04:34:33.400Z"
   },
   {
    "duration": 16,
    "start_time": "2024-11-04T04:34:33.430Z"
   },
   {
    "duration": 33,
    "start_time": "2024-11-04T04:34:33.448Z"
   },
   {
    "duration": 2,
    "start_time": "2024-11-04T04:34:33.482Z"
   },
   {
    "duration": 60,
    "start_time": "2024-11-04T04:34:33.486Z"
   },
   {
    "duration": 2705,
    "start_time": "2024-11-04T04:34:33.547Z"
   },
   {
    "duration": 155,
    "start_time": "2024-11-04T04:34:36.254Z"
   },
   {
    "duration": 582,
    "start_time": "2024-11-04T04:34:36.411Z"
   },
   {
    "duration": 188,
    "start_time": "2024-11-04T04:34:36.995Z"
   },
   {
    "duration": 5469,
    "start_time": "2024-11-04T04:34:37.184Z"
   },
   {
    "duration": 5612,
    "start_time": "2024-11-04T04:34:42.655Z"
   },
   {
    "duration": 6186,
    "start_time": "2024-11-04T04:34:48.268Z"
   },
   {
    "duration": 20,
    "start_time": "2024-11-04T04:34:54.457Z"
   },
   {
    "duration": 17,
    "start_time": "2024-11-04T04:34:54.478Z"
   },
   {
    "duration": 4,
    "start_time": "2024-11-04T04:34:54.496Z"
   },
   {
    "duration": 6764,
    "start_time": "2024-11-04T04:34:54.501Z"
   },
   {
    "duration": 0,
    "start_time": "2024-11-04T04:35:01.266Z"
   },
   {
    "duration": 0,
    "start_time": "2024-11-04T04:35:01.268Z"
   },
   {
    "duration": 0,
    "start_time": "2024-11-04T04:35:01.269Z"
   },
   {
    "duration": 0,
    "start_time": "2024-11-04T04:35:01.270Z"
   },
   {
    "duration": 0,
    "start_time": "2024-11-04T04:35:01.271Z"
   },
   {
    "duration": 0,
    "start_time": "2024-11-04T04:35:01.272Z"
   },
   {
    "duration": 0,
    "start_time": "2024-11-04T04:35:01.273Z"
   },
   {
    "duration": 0,
    "start_time": "2024-11-04T04:35:01.274Z"
   },
   {
    "duration": 0,
    "start_time": "2024-11-04T04:35:01.275Z"
   },
   {
    "duration": 0,
    "start_time": "2024-11-04T04:35:01.276Z"
   },
   {
    "duration": 0,
    "start_time": "2024-11-04T04:35:01.277Z"
   },
   {
    "duration": 0,
    "start_time": "2024-11-04T04:35:01.278Z"
   },
   {
    "duration": 0,
    "start_time": "2024-11-04T04:35:01.279Z"
   },
   {
    "duration": 0,
    "start_time": "2024-11-04T04:35:01.280Z"
   },
   {
    "duration": 0,
    "start_time": "2024-11-04T04:35:01.281Z"
   },
   {
    "duration": 0,
    "start_time": "2024-11-04T04:35:01.283Z"
   },
   {
    "duration": 0,
    "start_time": "2024-11-04T04:35:01.284Z"
   },
   {
    "duration": 0,
    "start_time": "2024-11-04T04:35:01.286Z"
   },
   {
    "duration": 0,
    "start_time": "2024-11-04T04:35:01.287Z"
   },
   {
    "duration": 0,
    "start_time": "2024-11-04T04:35:01.321Z"
   },
   {
    "duration": 0,
    "start_time": "2024-11-04T04:35:01.321Z"
   },
   {
    "duration": 0,
    "start_time": "2024-11-04T04:35:01.322Z"
   },
   {
    "duration": 3,
    "start_time": "2024-11-04T04:39:31.464Z"
   },
   {
    "duration": 1968,
    "start_time": "2024-11-04T04:42:17.498Z"
   },
   {
    "duration": 4,
    "start_time": "2024-11-04T04:43:20.409Z"
   },
   {
    "duration": 2190,
    "start_time": "2024-11-04T04:43:23.307Z"
   },
   {
    "duration": 25,
    "start_time": "2024-11-04T04:44:30.965Z"
   },
   {
    "duration": 19,
    "start_time": "2024-11-04T04:48:14.449Z"
   },
   {
    "duration": 7,
    "start_time": "2024-11-04T04:48:34.054Z"
   },
   {
    "duration": 21,
    "start_time": "2024-11-04T04:48:40.827Z"
   },
   {
    "duration": 15,
    "start_time": "2024-11-04T04:48:55.830Z"
   },
   {
    "duration": 4,
    "start_time": "2024-11-04T04:48:59.291Z"
   },
   {
    "duration": 4,
    "start_time": "2024-11-04T04:49:00.789Z"
   },
   {
    "duration": 7,
    "start_time": "2024-11-04T04:49:02.540Z"
   },
   {
    "duration": 32,
    "start_time": "2024-11-04T04:49:06.150Z"
   },
   {
    "duration": 94,
    "start_time": "2024-11-04T04:49:12.311Z"
   },
   {
    "duration": 301,
    "start_time": "2024-11-04T04:49:17.537Z"
   },
   {
    "duration": 360,
    "start_time": "2024-11-04T04:50:59.974Z"
   },
   {
    "duration": 874,
    "start_time": "2024-11-04T04:51:05.365Z"
   },
   {
    "duration": 1204,
    "start_time": "2024-11-04T04:52:32.445Z"
   },
   {
    "duration": 227,
    "start_time": "2024-11-04T04:52:49.591Z"
   },
   {
    "duration": 3,
    "start_time": "2024-11-04T04:53:03.862Z"
   },
   {
    "duration": 27,
    "start_time": "2024-11-04T04:53:10.015Z"
   },
   {
    "duration": 1506,
    "start_time": "2024-11-04T04:53:41.946Z"
   },
   {
    "duration": 30,
    "start_time": "2024-11-04T04:56:16.112Z"
   },
   {
    "duration": 12,
    "start_time": "2024-11-04T04:56:34.100Z"
   },
   {
    "duration": 28,
    "start_time": "2024-11-04T05:01:10.617Z"
   },
   {
    "duration": 16,
    "start_time": "2024-11-04T05:02:30.052Z"
   },
   {
    "duration": 2887,
    "start_time": "2024-11-04T05:03:08.425Z"
   },
   {
    "duration": 2947,
    "start_time": "2024-11-04T05:03:11.314Z"
   },
   {
    "duration": 3601,
    "start_time": "2024-11-04T05:03:14.263Z"
   },
   {
    "duration": 1920,
    "start_time": "2024-11-04T05:03:17.866Z"
   },
   {
    "duration": 50,
    "start_time": "2024-11-04T05:03:19.788Z"
   },
   {
    "duration": 28,
    "start_time": "2024-11-04T05:03:19.840Z"
   },
   {
    "duration": 26,
    "start_time": "2024-11-04T05:03:19.870Z"
   },
   {
    "duration": 45,
    "start_time": "2024-11-04T05:03:19.898Z"
   },
   {
    "duration": 13,
    "start_time": "2024-11-04T05:03:19.945Z"
   },
   {
    "duration": 6,
    "start_time": "2024-11-04T05:03:19.960Z"
   },
   {
    "duration": 10,
    "start_time": "2024-11-04T05:03:19.968Z"
   },
   {
    "duration": 8,
    "start_time": "2024-11-04T05:03:19.979Z"
   },
   {
    "duration": 18,
    "start_time": "2024-11-04T05:03:19.989Z"
   },
   {
    "duration": 58,
    "start_time": "2024-11-04T05:03:20.008Z"
   },
   {
    "duration": 27,
    "start_time": "2024-11-04T05:03:20.068Z"
   },
   {
    "duration": 82,
    "start_time": "2024-11-04T05:03:20.097Z"
   },
   {
    "duration": 100,
    "start_time": "2024-11-04T05:03:20.181Z"
   },
   {
    "duration": 121,
    "start_time": "2024-11-04T05:03:20.283Z"
   },
   {
    "duration": 121,
    "start_time": "2024-11-04T05:03:20.405Z"
   },
   {
    "duration": 112,
    "start_time": "2024-11-04T05:03:20.535Z"
   },
   {
    "duration": 124,
    "start_time": "2024-11-04T05:03:20.648Z"
   },
   {
    "duration": 101,
    "start_time": "2024-11-04T05:03:20.774Z"
   },
   {
    "duration": 108,
    "start_time": "2024-11-04T05:03:20.876Z"
   },
   {
    "duration": 84,
    "start_time": "2024-11-04T05:03:20.986Z"
   },
   {
    "duration": 166,
    "start_time": "2024-11-04T05:03:21.072Z"
   },
   {
    "duration": 11,
    "start_time": "2024-11-04T05:03:21.241Z"
   },
   {
    "duration": 20,
    "start_time": "2024-11-04T05:03:21.253Z"
   },
   {
    "duration": 158,
    "start_time": "2024-11-04T05:03:21.277Z"
   },
   {
    "duration": 168,
    "start_time": "2024-11-04T05:03:21.438Z"
   },
   {
    "duration": 19,
    "start_time": "2024-11-04T05:03:21.608Z"
   },
   {
    "duration": 183,
    "start_time": "2024-11-04T05:03:21.631Z"
   },
   {
    "duration": 124,
    "start_time": "2024-11-04T05:03:21.816Z"
   },
   {
    "duration": 9,
    "start_time": "2024-11-04T05:03:21.941Z"
   },
   {
    "duration": 23,
    "start_time": "2024-11-04T05:03:21.952Z"
   },
   {
    "duration": 9,
    "start_time": "2024-11-04T05:03:21.977Z"
   },
   {
    "duration": 17,
    "start_time": "2024-11-04T05:03:21.988Z"
   },
   {
    "duration": 176,
    "start_time": "2024-11-04T05:03:22.021Z"
   },
   {
    "duration": 35,
    "start_time": "2024-11-04T05:03:22.198Z"
   },
   {
    "duration": 19,
    "start_time": "2024-11-04T05:03:22.235Z"
   },
   {
    "duration": 24,
    "start_time": "2024-11-04T05:03:22.255Z"
   },
   {
    "duration": 3,
    "start_time": "2024-11-04T05:03:22.280Z"
   },
   {
    "duration": 40,
    "start_time": "2024-11-04T05:03:22.284Z"
   },
   {
    "duration": 2846,
    "start_time": "2024-11-04T05:03:22.326Z"
   },
   {
    "duration": 165,
    "start_time": "2024-11-04T05:03:25.174Z"
   },
   {
    "duration": 627,
    "start_time": "2024-11-04T05:03:25.340Z"
   },
   {
    "duration": 202,
    "start_time": "2024-11-04T05:03:25.969Z"
   },
   {
    "duration": 5796,
    "start_time": "2024-11-04T05:03:26.173Z"
   },
   {
    "duration": 6165,
    "start_time": "2024-11-04T05:03:31.971Z"
   },
   {
    "duration": 7046,
    "start_time": "2024-11-04T05:03:38.139Z"
   },
   {
    "duration": 20,
    "start_time": "2024-11-04T05:03:45.188Z"
   },
   {
    "duration": 29,
    "start_time": "2024-11-04T05:03:45.210Z"
   },
   {
    "duration": 38,
    "start_time": "2024-11-04T05:03:45.241Z"
   },
   {
    "duration": 2264,
    "start_time": "2024-11-04T05:03:45.281Z"
   },
   {
    "duration": 4,
    "start_time": "2024-11-04T05:03:47.547Z"
   },
   {
    "duration": 2208,
    "start_time": "2024-11-04T05:03:47.554Z"
   },
   {
    "duration": 28,
    "start_time": "2024-11-04T05:03:49.764Z"
   },
   {
    "duration": 41,
    "start_time": "2024-11-04T05:03:49.795Z"
   },
   {
    "duration": 23,
    "start_time": "2024-11-04T05:03:49.837Z"
   },
   {
    "duration": 21,
    "start_time": "2024-11-04T05:03:49.862Z"
   },
   {
    "duration": 10,
    "start_time": "2024-11-04T05:03:49.885Z"
   },
   {
    "duration": 26,
    "start_time": "2024-11-04T05:03:49.897Z"
   },
   {
    "duration": 4,
    "start_time": "2024-11-04T05:03:49.925Z"
   },
   {
    "duration": 9,
    "start_time": "2024-11-04T05:03:49.931Z"
   },
   {
    "duration": 33,
    "start_time": "2024-11-04T05:03:49.942Z"
   },
   {
    "duration": 104,
    "start_time": "2024-11-04T05:04:01.744Z"
   },
   {
    "duration": 317,
    "start_time": "2024-11-04T05:04:04.761Z"
   },
   {
    "duration": 375,
    "start_time": "2024-11-04T05:04:09.769Z"
   },
   {
    "duration": 788,
    "start_time": "2024-11-04T05:04:18.379Z"
   },
   {
    "duration": 1231,
    "start_time": "2024-11-04T05:04:24.112Z"
   },
   {
    "duration": 33,
    "start_time": "2024-11-04T05:04:32.279Z"
   },
   {
    "duration": 2895,
    "start_time": "2024-11-04T05:07:23.648Z"
   },
   {
    "duration": 2856,
    "start_time": "2024-11-04T05:07:26.545Z"
   },
   {
    "duration": 3493,
    "start_time": "2024-11-04T05:07:29.403Z"
   },
   {
    "duration": 1967,
    "start_time": "2024-11-04T05:07:32.899Z"
   },
   {
    "duration": 43,
    "start_time": "2024-11-04T05:07:34.868Z"
   },
   {
    "duration": 37,
    "start_time": "2024-11-04T05:07:34.912Z"
   },
   {
    "duration": 26,
    "start_time": "2024-11-04T05:07:34.951Z"
   },
   {
    "duration": 37,
    "start_time": "2024-11-04T05:07:34.979Z"
   },
   {
    "duration": 20,
    "start_time": "2024-11-04T05:07:35.018Z"
   },
   {
    "duration": 7,
    "start_time": "2024-11-04T05:07:35.041Z"
   },
   {
    "duration": 26,
    "start_time": "2024-11-04T05:07:35.050Z"
   },
   {
    "duration": 21,
    "start_time": "2024-11-04T05:07:35.078Z"
   },
   {
    "duration": 39,
    "start_time": "2024-11-04T05:07:35.101Z"
   },
   {
    "duration": 9,
    "start_time": "2024-11-04T05:07:35.145Z"
   },
   {
    "duration": 16,
    "start_time": "2024-11-04T05:07:35.156Z"
   },
   {
    "duration": 17,
    "start_time": "2024-11-04T05:07:35.174Z"
   },
   {
    "duration": 74,
    "start_time": "2024-11-04T05:07:35.193Z"
   },
   {
    "duration": 127,
    "start_time": "2024-11-04T05:07:35.269Z"
   },
   {
    "duration": 123,
    "start_time": "2024-11-04T05:07:35.398Z"
   },
   {
    "duration": 132,
    "start_time": "2024-11-04T05:07:35.523Z"
   },
   {
    "duration": 125,
    "start_time": "2024-11-04T05:07:35.657Z"
   },
   {
    "duration": 100,
    "start_time": "2024-11-04T05:07:35.784Z"
   },
   {
    "duration": 97,
    "start_time": "2024-11-04T05:07:35.886Z"
   },
   {
    "duration": 94,
    "start_time": "2024-11-04T05:07:35.986Z"
   },
   {
    "duration": 169,
    "start_time": "2024-11-04T05:07:36.082Z"
   },
   {
    "duration": 8,
    "start_time": "2024-11-04T05:07:36.253Z"
   },
   {
    "duration": 37,
    "start_time": "2024-11-04T05:07:36.263Z"
   },
   {
    "duration": 19,
    "start_time": "2024-11-04T05:07:36.302Z"
   },
   {
    "duration": 291,
    "start_time": "2024-11-04T05:07:36.324Z"
   },
   {
    "duration": 13,
    "start_time": "2024-11-04T05:07:36.617Z"
   },
   {
    "duration": 197,
    "start_time": "2024-11-04T05:07:36.636Z"
   },
   {
    "duration": 130,
    "start_time": "2024-11-04T05:07:36.836Z"
   },
   {
    "duration": 9,
    "start_time": "2024-11-04T05:07:36.968Z"
   },
   {
    "duration": 13,
    "start_time": "2024-11-04T05:07:36.980Z"
   },
   {
    "duration": 32,
    "start_time": "2024-11-04T05:07:36.995Z"
   },
   {
    "duration": 20,
    "start_time": "2024-11-04T05:07:37.029Z"
   },
   {
    "duration": 187,
    "start_time": "2024-11-04T05:07:37.051Z"
   },
   {
    "duration": 22,
    "start_time": "2024-11-04T05:07:37.241Z"
   },
   {
    "duration": 17,
    "start_time": "2024-11-04T05:07:37.265Z"
   },
   {
    "duration": 40,
    "start_time": "2024-11-04T05:07:37.284Z"
   },
   {
    "duration": 3,
    "start_time": "2024-11-04T05:07:37.332Z"
   },
   {
    "duration": 33,
    "start_time": "2024-11-04T05:07:37.337Z"
   },
   {
    "duration": 2980,
    "start_time": "2024-11-04T05:07:37.372Z"
   },
   {
    "duration": 164,
    "start_time": "2024-11-04T05:07:40.353Z"
   },
   {
    "duration": 593,
    "start_time": "2024-11-04T05:07:40.519Z"
   },
   {
    "duration": 193,
    "start_time": "2024-11-04T05:07:41.120Z"
   },
   {
    "duration": 5815,
    "start_time": "2024-11-04T05:07:41.321Z"
   },
   {
    "duration": 5828,
    "start_time": "2024-11-04T05:07:47.139Z"
   },
   {
    "duration": 6729,
    "start_time": "2024-11-04T05:07:52.969Z"
   },
   {
    "duration": 23,
    "start_time": "2024-11-04T05:07:59.699Z"
   },
   {
    "duration": 17,
    "start_time": "2024-11-04T05:07:59.724Z"
   },
   {
    "duration": 5,
    "start_time": "2024-11-04T05:07:59.743Z"
   },
   {
    "duration": 2233,
    "start_time": "2024-11-04T05:07:59.750Z"
   },
   {
    "duration": 4,
    "start_time": "2024-11-04T05:08:01.985Z"
   },
   {
    "duration": 2584,
    "start_time": "2024-11-04T05:08:01.992Z"
   },
   {
    "duration": 22,
    "start_time": "2024-11-04T05:08:04.578Z"
   },
   {
    "duration": 38,
    "start_time": "2024-11-04T05:08:04.602Z"
   },
   {
    "duration": 28,
    "start_time": "2024-11-04T05:08:04.642Z"
   },
   {
    "duration": 26,
    "start_time": "2024-11-04T05:08:04.673Z"
   },
   {
    "duration": 23,
    "start_time": "2024-11-04T05:08:04.701Z"
   },
   {
    "duration": 29,
    "start_time": "2024-11-04T05:08:04.727Z"
   },
   {
    "duration": 33,
    "start_time": "2024-11-04T05:08:04.758Z"
   },
   {
    "duration": 21,
    "start_time": "2024-11-04T05:08:04.793Z"
   },
   {
    "duration": 48,
    "start_time": "2024-11-04T05:08:04.816Z"
   },
   {
    "duration": 21,
    "start_time": "2024-11-04T05:08:04.866Z"
   },
   {
    "duration": 91,
    "start_time": "2024-11-04T05:08:04.889Z"
   },
   {
    "duration": 346,
    "start_time": "2024-11-04T05:08:04.981Z"
   },
   {
    "duration": 390,
    "start_time": "2024-11-04T05:08:05.330Z"
   },
   {
    "duration": 829,
    "start_time": "2024-11-04T05:08:05.722Z"
   },
   {
    "duration": 1294,
    "start_time": "2024-11-04T05:08:06.553Z"
   },
   {
    "duration": 4,
    "start_time": "2024-11-04T05:08:07.850Z"
   },
   {
    "duration": 32,
    "start_time": "2024-11-04T05:08:07.856Z"
   },
   {
    "duration": 1507,
    "start_time": "2024-11-04T05:08:07.890Z"
   },
   {
    "duration": 0,
    "start_time": "2024-11-04T05:08:09.399Z"
   },
   {
    "duration": 0,
    "start_time": "2024-11-04T05:08:09.401Z"
   },
   {
    "duration": 0,
    "start_time": "2024-11-04T05:08:09.402Z"
   },
   {
    "duration": 3,
    "start_time": "2024-11-04T05:24:41.226Z"
   },
   {
    "duration": 3629,
    "start_time": "2024-11-12T03:41:17.493Z"
   },
   {
    "duration": 3968,
    "start_time": "2024-11-12T03:41:21.125Z"
   },
   {
    "duration": 6152,
    "start_time": "2024-11-12T03:41:25.094Z"
   },
   {
    "duration": 1748,
    "start_time": "2024-11-12T03:41:31.249Z"
   },
   {
    "duration": 94,
    "start_time": "2024-11-12T03:41:32.998Z"
   },
   {
    "duration": 115,
    "start_time": "2024-11-12T03:41:33.094Z"
   },
   {
    "duration": 79,
    "start_time": "2024-11-12T03:41:33.210Z"
   },
   {
    "duration": 86,
    "start_time": "2024-11-12T03:41:33.291Z"
   },
   {
    "duration": 10,
    "start_time": "2024-11-12T03:41:33.379Z"
   },
   {
    "duration": 9,
    "start_time": "2024-11-12T03:41:33.392Z"
   },
   {
    "duration": 10,
    "start_time": "2024-11-12T03:41:33.403Z"
   },
   {
    "duration": 8,
    "start_time": "2024-11-12T03:41:33.414Z"
   },
   {
    "duration": 23,
    "start_time": "2024-11-12T03:41:33.423Z"
   },
   {
    "duration": 42,
    "start_time": "2024-11-12T03:41:33.447Z"
   },
   {
    "duration": 8,
    "start_time": "2024-11-12T03:41:33.491Z"
   },
   {
    "duration": 12,
    "start_time": "2024-11-12T03:41:33.500Z"
   },
   {
    "duration": 26,
    "start_time": "2024-11-12T03:41:33.514Z"
   },
   {
    "duration": 111,
    "start_time": "2024-11-12T03:41:33.542Z"
   },
   {
    "duration": 85,
    "start_time": "2024-11-12T03:41:33.655Z"
   },
   {
    "duration": 84,
    "start_time": "2024-11-12T03:41:33.742Z"
   },
   {
    "duration": 93,
    "start_time": "2024-11-12T03:41:33.828Z"
   },
   {
    "duration": 63,
    "start_time": "2024-11-12T03:41:33.923Z"
   },
   {
    "duration": 69,
    "start_time": "2024-11-12T03:41:33.988Z"
   },
   {
    "duration": 65,
    "start_time": "2024-11-12T03:41:34.058Z"
   },
   {
    "duration": 119,
    "start_time": "2024-11-12T03:41:34.124Z"
   },
   {
    "duration": 7,
    "start_time": "2024-11-12T03:41:34.244Z"
   },
   {
    "duration": 26,
    "start_time": "2024-11-12T03:41:34.252Z"
   },
   {
    "duration": 11,
    "start_time": "2024-11-12T03:41:34.350Z"
   },
   {
    "duration": 130,
    "start_time": "2024-11-12T03:41:34.362Z"
   },
   {
    "duration": 5,
    "start_time": "2024-11-12T03:41:34.494Z"
   },
   {
    "duration": 124,
    "start_time": "2024-11-12T03:41:34.506Z"
   },
   {
    "duration": 95,
    "start_time": "2024-11-12T03:41:34.631Z"
   },
   {
    "duration": 8,
    "start_time": "2024-11-12T03:41:34.727Z"
   },
   {
    "duration": 145,
    "start_time": "2024-11-12T03:41:34.736Z"
   },
   {
    "duration": 23,
    "start_time": "2024-11-12T03:41:34.882Z"
   },
   {
    "duration": 17,
    "start_time": "2024-11-12T03:41:34.906Z"
   },
   {
    "duration": 134,
    "start_time": "2024-11-12T03:41:34.924Z"
   },
   {
    "duration": 20,
    "start_time": "2024-11-12T03:41:35.060Z"
   },
   {
    "duration": 82,
    "start_time": "2024-11-12T03:41:35.081Z"
   },
   {
    "duration": 22,
    "start_time": "2024-11-12T03:41:35.164Z"
   },
   {
    "duration": 14,
    "start_time": "2024-11-12T03:41:35.188Z"
   },
   {
    "duration": 18,
    "start_time": "2024-11-12T03:41:35.203Z"
   },
   {
    "duration": 2103,
    "start_time": "2024-11-12T03:41:35.222Z"
   },
   {
    "duration": 124,
    "start_time": "2024-11-12T03:41:37.327Z"
   },
   {
    "duration": 505,
    "start_time": "2024-11-12T03:41:37.452Z"
   },
   {
    "duration": 144,
    "start_time": "2024-11-12T03:41:37.959Z"
   },
   {
    "duration": 4377,
    "start_time": "2024-11-12T03:41:38.106Z"
   },
   {
    "duration": 4394,
    "start_time": "2024-11-12T03:41:42.484Z"
   },
   {
    "duration": 5280,
    "start_time": "2024-11-12T03:41:46.879Z"
   },
   {
    "duration": 25,
    "start_time": "2024-11-12T03:41:52.161Z"
   },
   {
    "duration": 19,
    "start_time": "2024-11-12T03:41:52.188Z"
   },
   {
    "duration": 14,
    "start_time": "2024-11-12T03:41:52.209Z"
   },
   {
    "duration": 1856,
    "start_time": "2024-11-12T03:41:52.224Z"
   },
   {
    "duration": 3,
    "start_time": "2024-11-12T03:41:54.082Z"
   },
   {
    "duration": 1706,
    "start_time": "2024-11-12T03:41:54.086Z"
   },
   {
    "duration": 24,
    "start_time": "2024-11-12T03:41:55.794Z"
   },
   {
    "duration": 40,
    "start_time": "2024-11-12T03:41:55.819Z"
   },
   {
    "duration": 38,
    "start_time": "2024-11-12T03:41:55.860Z"
   },
   {
    "duration": 14,
    "start_time": "2024-11-12T03:41:55.899Z"
   },
   {
    "duration": 6,
    "start_time": "2024-11-12T03:41:55.914Z"
   },
   {
    "duration": 5,
    "start_time": "2024-11-12T03:41:55.921Z"
   },
   {
    "duration": 8,
    "start_time": "2024-11-12T03:41:55.928Z"
   },
   {
    "duration": 7,
    "start_time": "2024-11-12T03:41:55.938Z"
   },
   {
    "duration": 27,
    "start_time": "2024-11-12T03:41:55.947Z"
   },
   {
    "duration": 16,
    "start_time": "2024-11-12T03:41:55.975Z"
   },
   {
    "duration": 81,
    "start_time": "2024-11-12T03:41:55.992Z"
   },
   {
    "duration": 272,
    "start_time": "2024-11-12T03:41:56.074Z"
   },
   {
    "duration": 278,
    "start_time": "2024-11-12T03:41:56.347Z"
   },
   {
    "duration": 647,
    "start_time": "2024-11-12T03:41:56.626Z"
   },
   {
    "duration": 1048,
    "start_time": "2024-11-12T03:41:57.274Z"
   },
   {
    "duration": 2,
    "start_time": "2024-11-12T03:41:58.323Z"
   },
   {
    "duration": 27,
    "start_time": "2024-11-12T03:41:58.326Z"
   },
   {
    "duration": 2,
    "start_time": "2024-11-12T03:41:58.354Z"
   },
   {
    "duration": 1166,
    "start_time": "2024-11-12T03:41:58.357Z"
   },
   {
    "duration": 0,
    "start_time": "2024-11-12T03:41:59.525Z"
   },
   {
    "duration": 0,
    "start_time": "2024-11-12T03:41:59.526Z"
   },
   {
    "duration": 2,
    "start_time": "2024-11-12T03:48:04.639Z"
   },
   {
    "duration": 66,
    "start_time": "2024-11-12T11:30:50.296Z"
   },
   {
    "duration": 2801,
    "start_time": "2024-11-12T11:31:00.232Z"
   },
   {
    "duration": 2851,
    "start_time": "2024-11-12T11:31:03.036Z"
   },
   {
    "duration": 3331,
    "start_time": "2024-11-12T11:31:05.889Z"
   },
   {
    "duration": 2525,
    "start_time": "2024-11-12T11:31:09.222Z"
   },
   {
    "duration": 39,
    "start_time": "2024-11-12T11:31:11.749Z"
   },
   {
    "duration": 25,
    "start_time": "2024-11-12T11:31:11.789Z"
   },
   {
    "duration": 26,
    "start_time": "2024-11-12T11:31:11.816Z"
   },
   {
    "duration": 32,
    "start_time": "2024-11-12T11:31:11.844Z"
   },
   {
    "duration": 13,
    "start_time": "2024-11-12T11:31:11.878Z"
   },
   {
    "duration": 5,
    "start_time": "2024-11-12T11:31:11.893Z"
   },
   {
    "duration": 20,
    "start_time": "2024-11-12T11:31:11.900Z"
   },
   {
    "duration": 82,
    "start_time": "2024-11-12T11:31:11.922Z"
   },
   {
    "duration": 15,
    "start_time": "2024-11-12T11:31:12.006Z"
   },
   {
    "duration": 14,
    "start_time": "2024-11-12T11:31:12.023Z"
   },
   {
    "duration": 6,
    "start_time": "2024-11-12T11:31:12.039Z"
   },
   {
    "duration": 10,
    "start_time": "2024-11-12T11:31:12.047Z"
   },
   {
    "duration": 43,
    "start_time": "2024-11-12T11:31:12.061Z"
   },
   {
    "duration": 228,
    "start_time": "2024-11-12T11:31:12.118Z"
   },
   {
    "duration": 206,
    "start_time": "2024-11-12T11:31:12.347Z"
   },
   {
    "duration": 196,
    "start_time": "2024-11-12T11:31:12.555Z"
   },
   {
    "duration": 198,
    "start_time": "2024-11-12T11:31:12.753Z"
   },
   {
    "duration": 97,
    "start_time": "2024-11-12T11:31:12.953Z"
   },
   {
    "duration": 185,
    "start_time": "2024-11-12T11:31:13.052Z"
   },
   {
    "duration": 67,
    "start_time": "2024-11-12T11:31:13.238Z"
   },
   {
    "duration": 121,
    "start_time": "2024-11-12T11:31:13.317Z"
   },
   {
    "duration": 9,
    "start_time": "2024-11-12T11:31:13.439Z"
   },
   {
    "duration": 19,
    "start_time": "2024-11-12T11:31:13.450Z"
   },
   {
    "duration": 12,
    "start_time": "2024-11-12T11:31:13.471Z"
   },
   {
    "duration": 303,
    "start_time": "2024-11-12T11:31:13.485Z"
   },
   {
    "duration": 7,
    "start_time": "2024-11-12T11:31:13.790Z"
   },
   {
    "duration": 318,
    "start_time": "2024-11-12T11:31:13.799Z"
   },
   {
    "duration": 207,
    "start_time": "2024-11-12T11:31:14.119Z"
   },
   {
    "duration": 9,
    "start_time": "2024-11-12T11:31:14.327Z"
   },
   {
    "duration": 13,
    "start_time": "2024-11-12T11:31:14.337Z"
   },
   {
    "duration": 7,
    "start_time": "2024-11-12T11:31:14.351Z"
   },
   {
    "duration": 8,
    "start_time": "2024-11-12T11:31:14.360Z"
   },
   {
    "duration": 323,
    "start_time": "2024-11-12T11:31:14.370Z"
   },
   {
    "duration": 44,
    "start_time": "2024-11-12T11:31:14.695Z"
   },
   {
    "duration": 22,
    "start_time": "2024-11-12T11:31:14.741Z"
   },
   {
    "duration": 20,
    "start_time": "2024-11-12T11:31:14.765Z"
   },
   {
    "duration": 2,
    "start_time": "2024-11-12T11:31:14.787Z"
   },
   {
    "duration": 16,
    "start_time": "2024-11-12T11:31:14.818Z"
   },
   {
    "duration": 3,
    "start_time": "2024-11-12T11:31:14.836Z"
   },
   {
    "duration": 2841,
    "start_time": "2024-11-12T11:43:59.460Z"
   },
   {
    "duration": 2829,
    "start_time": "2024-11-12T11:44:02.304Z"
   },
   {
    "duration": 3423,
    "start_time": "2024-11-12T11:44:05.135Z"
   },
   {
    "duration": 7,
    "start_time": "2024-11-12T11:44:08.560Z"
   },
   {
    "duration": 68,
    "start_time": "2024-11-12T11:44:08.569Z"
   },
   {
    "duration": 26,
    "start_time": "2024-11-12T11:44:08.639Z"
   },
   {
    "duration": 24,
    "start_time": "2024-11-12T11:44:08.667Z"
   },
   {
    "duration": 39,
    "start_time": "2024-11-12T11:44:08.693Z"
   },
   {
    "duration": 11,
    "start_time": "2024-11-12T11:44:08.734Z"
   },
   {
    "duration": 12,
    "start_time": "2024-11-12T11:44:08.746Z"
   },
   {
    "duration": 9,
    "start_time": "2024-11-12T11:44:08.760Z"
   },
   {
    "duration": 6,
    "start_time": "2024-11-12T11:44:08.771Z"
   },
   {
    "duration": 12,
    "start_time": "2024-11-12T11:44:08.779Z"
   },
   {
    "duration": 25,
    "start_time": "2024-11-12T11:44:08.794Z"
   },
   {
    "duration": 15,
    "start_time": "2024-11-12T11:44:08.820Z"
   },
   {
    "duration": 23,
    "start_time": "2024-11-12T11:44:08.837Z"
   },
   {
    "duration": 37,
    "start_time": "2024-11-12T11:44:08.862Z"
   },
   {
    "duration": 259,
    "start_time": "2024-11-12T11:44:08.900Z"
   },
   {
    "duration": 187,
    "start_time": "2024-11-12T11:44:09.160Z"
   },
   {
    "duration": 192,
    "start_time": "2024-11-12T11:44:09.349Z"
   },
   {
    "duration": 207,
    "start_time": "2024-11-12T11:44:09.543Z"
   },
   {
    "duration": 86,
    "start_time": "2024-11-12T11:44:09.751Z"
   },
   {
    "duration": 84,
    "start_time": "2024-11-12T11:44:09.838Z"
   },
   {
    "duration": 71,
    "start_time": "2024-11-12T11:44:09.924Z"
   },
   {
    "duration": 132,
    "start_time": "2024-11-12T11:44:09.997Z"
   },
   {
    "duration": 9,
    "start_time": "2024-11-12T11:44:10.135Z"
   },
   {
    "duration": 19,
    "start_time": "2024-11-12T11:44:10.145Z"
   },
   {
    "duration": 12,
    "start_time": "2024-11-12T11:44:10.166Z"
   },
   {
    "duration": 307,
    "start_time": "2024-11-12T11:44:10.180Z"
   },
   {
    "duration": 7,
    "start_time": "2024-11-12T11:44:10.489Z"
   },
   {
    "duration": 434,
    "start_time": "2024-11-12T11:44:10.497Z"
   },
   {
    "duration": 200,
    "start_time": "2024-11-12T11:44:10.934Z"
   },
   {
    "duration": 8,
    "start_time": "2024-11-12T11:44:11.135Z"
   },
   {
    "duration": 11,
    "start_time": "2024-11-12T11:44:11.145Z"
   },
   {
    "duration": 6,
    "start_time": "2024-11-12T11:44:11.158Z"
   },
   {
    "duration": 5,
    "start_time": "2024-11-12T11:44:11.166Z"
   },
   {
    "duration": 296,
    "start_time": "2024-11-12T11:44:11.173Z"
   },
   {
    "duration": 19,
    "start_time": "2024-11-12T11:44:11.471Z"
   },
   {
    "duration": 40,
    "start_time": "2024-11-12T11:44:11.492Z"
   },
   {
    "duration": 20,
    "start_time": "2024-11-12T11:44:11.534Z"
   },
   {
    "duration": 2,
    "start_time": "2024-11-12T11:44:11.558Z"
   },
   {
    "duration": 17,
    "start_time": "2024-11-12T11:44:11.562Z"
   },
   {
    "duration": 2065,
    "start_time": "2024-11-12T11:44:11.581Z"
   },
   {
    "duration": 243,
    "start_time": "2024-11-12T11:44:13.648Z"
   },
   {
    "duration": 597,
    "start_time": "2024-11-12T11:44:13.893Z"
   },
   {
    "duration": 302,
    "start_time": "2024-11-12T11:44:14.491Z"
   },
   {
    "duration": 5407,
    "start_time": "2024-11-12T11:44:14.795Z"
   },
   {
    "duration": 5436,
    "start_time": "2024-11-12T11:44:20.204Z"
   },
   {
    "duration": 6212,
    "start_time": "2024-11-12T11:44:25.642Z"
   },
   {
    "duration": 17,
    "start_time": "2024-11-12T11:44:31.856Z"
   },
   {
    "duration": 18,
    "start_time": "2024-11-12T11:44:31.875Z"
   },
   {
    "duration": 17,
    "start_time": "2024-11-12T11:44:31.896Z"
   },
   {
    "duration": 1950,
    "start_time": "2024-11-12T11:44:31.917Z"
   },
   {
    "duration": 3,
    "start_time": "2024-11-12T11:44:33.869Z"
   },
   {
    "duration": 2061,
    "start_time": "2024-11-12T11:44:33.874Z"
   },
   {
    "duration": 23,
    "start_time": "2024-11-12T11:44:35.936Z"
   },
   {
    "duration": 29,
    "start_time": "2024-11-12T11:44:35.961Z"
   },
   {
    "duration": 38,
    "start_time": "2024-11-12T11:44:35.992Z"
   },
   {
    "duration": 29,
    "start_time": "2024-11-12T11:44:36.032Z"
   },
   {
    "duration": 38,
    "start_time": "2024-11-12T11:44:36.062Z"
   },
   {
    "duration": 38,
    "start_time": "2024-11-12T11:44:36.102Z"
   },
   {
    "duration": 26,
    "start_time": "2024-11-12T11:44:36.141Z"
   },
   {
    "duration": 42,
    "start_time": "2024-11-12T11:44:36.168Z"
   },
   {
    "duration": 68,
    "start_time": "2024-11-12T11:44:36.212Z"
   },
   {
    "duration": 29,
    "start_time": "2024-11-12T11:44:36.282Z"
   },
   {
    "duration": 92,
    "start_time": "2024-11-12T11:44:36.313Z"
   },
   {
    "duration": 312,
    "start_time": "2024-11-12T11:44:36.407Z"
   },
   {
    "duration": 420,
    "start_time": "2024-11-12T11:44:36.734Z"
   },
   {
    "duration": 806,
    "start_time": "2024-11-12T11:44:37.156Z"
   },
   {
    "duration": 1176,
    "start_time": "2024-11-12T11:44:37.963Z"
   },
   {
    "duration": 346,
    "start_time": "2024-11-12T11:44:39.141Z"
   },
   {
    "duration": 47,
    "start_time": "2024-11-12T11:44:39.488Z"
   },
   {
    "duration": 2847,
    "start_time": "2024-11-12T11:53:08.358Z"
   },
   {
    "duration": 2761,
    "start_time": "2024-11-12T11:53:11.207Z"
   },
   {
    "duration": 3395,
    "start_time": "2024-11-12T11:53:13.972Z"
   },
   {
    "duration": 2552,
    "start_time": "2024-11-12T11:53:17.371Z"
   },
   {
    "duration": 39,
    "start_time": "2024-11-12T11:53:19.925Z"
   },
   {
    "duration": 26,
    "start_time": "2024-11-12T11:53:19.966Z"
   },
   {
    "duration": 25,
    "start_time": "2024-11-12T11:53:19.994Z"
   },
   {
    "duration": 37,
    "start_time": "2024-11-12T11:53:20.021Z"
   },
   {
    "duration": 13,
    "start_time": "2024-11-12T11:53:20.059Z"
   },
   {
    "duration": 34,
    "start_time": "2024-11-12T11:53:20.074Z"
   },
   {
    "duration": 49,
    "start_time": "2024-11-12T11:53:20.110Z"
   },
   {
    "duration": 20,
    "start_time": "2024-11-12T11:53:20.160Z"
   },
   {
    "duration": 9,
    "start_time": "2024-11-12T11:53:20.182Z"
   },
   {
    "duration": 21,
    "start_time": "2024-11-12T11:53:20.193Z"
   },
   {
    "duration": 12,
    "start_time": "2024-11-12T11:53:20.216Z"
   },
   {
    "duration": 16,
    "start_time": "2024-11-12T11:53:20.230Z"
   },
   {
    "duration": 51,
    "start_time": "2024-11-12T11:53:20.248Z"
   },
   {
    "duration": 248,
    "start_time": "2024-11-12T11:53:20.300Z"
   },
   {
    "duration": 188,
    "start_time": "2024-11-12T11:53:20.550Z"
   },
   {
    "duration": 199,
    "start_time": "2024-11-12T11:53:20.740Z"
   },
   {
    "duration": 226,
    "start_time": "2024-11-12T11:53:20.940Z"
   },
   {
    "duration": 92,
    "start_time": "2024-11-12T11:53:21.169Z"
   },
   {
    "duration": 205,
    "start_time": "2024-11-12T11:53:21.263Z"
   },
   {
    "duration": 250,
    "start_time": "2024-11-12T11:53:21.470Z"
   },
   {
    "duration": 213,
    "start_time": "2024-11-12T11:53:21.722Z"
   },
   {
    "duration": 8,
    "start_time": "2024-11-12T11:53:21.937Z"
   },
   {
    "duration": 20,
    "start_time": "2024-11-12T11:53:21.947Z"
   },
   {
    "duration": 13,
    "start_time": "2024-11-12T11:53:22.021Z"
   },
   {
    "duration": 258,
    "start_time": "2024-11-12T11:53:22.035Z"
   },
   {
    "duration": 22,
    "start_time": "2024-11-12T11:53:22.295Z"
   },
   {
    "duration": 257,
    "start_time": "2024-11-12T11:53:22.319Z"
   },
   {
    "duration": 248,
    "start_time": "2024-11-12T11:53:22.578Z"
   },
   {
    "duration": 9,
    "start_time": "2024-11-12T11:53:22.828Z"
   },
   {
    "duration": 17,
    "start_time": "2024-11-12T11:53:22.839Z"
   },
   {
    "duration": 10,
    "start_time": "2024-11-12T11:53:22.858Z"
   },
   {
    "duration": 7,
    "start_time": "2024-11-12T11:53:22.870Z"
   },
   {
    "duration": 319,
    "start_time": "2024-11-12T11:53:22.878Z"
   },
   {
    "duration": 45,
    "start_time": "2024-11-12T11:53:23.198Z"
   },
   {
    "duration": 18,
    "start_time": "2024-11-12T11:53:23.245Z"
   },
   {
    "duration": 31,
    "start_time": "2024-11-12T11:53:23.265Z"
   },
   {
    "duration": 3,
    "start_time": "2024-11-12T11:53:23.318Z"
   },
   {
    "duration": 27,
    "start_time": "2024-11-12T11:53:23.323Z"
   },
   {
    "duration": 2045,
    "start_time": "2024-11-12T11:53:23.351Z"
   },
   {
    "duration": 279,
    "start_time": "2024-11-12T11:53:25.397Z"
   },
   {
    "duration": 704,
    "start_time": "2024-11-12T11:53:25.678Z"
   },
   {
    "duration": 324,
    "start_time": "2024-11-12T11:53:26.384Z"
   },
   {
    "duration": 5346,
    "start_time": "2024-11-12T11:53:26.710Z"
   },
   {
    "duration": 5623,
    "start_time": "2024-11-12T11:53:32.058Z"
   },
   {
    "duration": 6320,
    "start_time": "2024-11-12T11:53:37.685Z"
   },
   {
    "duration": 19,
    "start_time": "2024-11-12T11:53:44.017Z"
   },
   {
    "duration": 11,
    "start_time": "2024-11-12T11:53:44.038Z"
   },
   {
    "duration": 30,
    "start_time": "2024-11-12T11:53:44.051Z"
   },
   {
    "duration": 1960,
    "start_time": "2024-11-12T11:53:44.083Z"
   },
   {
    "duration": 3,
    "start_time": "2024-11-12T11:53:46.046Z"
   },
   {
    "duration": 1994,
    "start_time": "2024-11-12T11:53:46.051Z"
   },
   {
    "duration": 23,
    "start_time": "2024-11-12T11:53:48.047Z"
   },
   {
    "duration": 92,
    "start_time": "2024-11-12T11:53:48.072Z"
   },
   {
    "duration": 30,
    "start_time": "2024-11-12T11:53:48.167Z"
   },
   {
    "duration": 20,
    "start_time": "2024-11-12T11:53:48.199Z"
   },
   {
    "duration": 7,
    "start_time": "2024-11-12T11:53:48.221Z"
   },
   {
    "duration": 4,
    "start_time": "2024-11-12T11:53:48.231Z"
   },
   {
    "duration": 5,
    "start_time": "2024-11-12T11:53:48.237Z"
   },
   {
    "duration": 9,
    "start_time": "2024-11-12T11:53:48.244Z"
   },
   {
    "duration": 38,
    "start_time": "2024-11-12T11:53:48.254Z"
   },
   {
    "duration": 21,
    "start_time": "2024-11-12T11:53:48.318Z"
   },
   {
    "duration": 110,
    "start_time": "2024-11-12T11:53:48.340Z"
   },
   {
    "duration": 333,
    "start_time": "2024-11-12T11:53:48.451Z"
   },
   {
    "duration": 550,
    "start_time": "2024-11-12T11:53:48.787Z"
   },
   {
    "duration": 1040,
    "start_time": "2024-11-12T11:53:49.339Z"
   },
   {
    "duration": 1192,
    "start_time": "2024-11-12T11:53:50.381Z"
   },
   {
    "duration": 486,
    "start_time": "2024-11-12T11:53:51.575Z"
   },
   {
    "duration": 35,
    "start_time": "2024-11-12T11:53:52.062Z"
   },
   {
    "duration": 42,
    "start_time": "2024-11-12T11:53:52.101Z"
   },
   {
    "duration": 31,
    "start_time": "2024-11-12T11:53:52.145Z"
   },
   {
    "duration": 163,
    "start_time": "2024-11-12T11:53:52.178Z"
   },
   {
    "duration": 0,
    "start_time": "2024-11-12T11:53:52.343Z"
   },
   {
    "duration": 3706,
    "start_time": "2024-11-16T15:45:50.263Z"
   },
   {
    "duration": 3974,
    "start_time": "2024-11-16T15:45:53.971Z"
   },
   {
    "duration": 6610,
    "start_time": "2024-11-16T15:45:57.947Z"
   },
   {
    "duration": 1847,
    "start_time": "2024-11-16T15:46:04.561Z"
   },
   {
    "duration": 149,
    "start_time": "2024-11-16T15:46:06.410Z"
   },
   {
    "duration": 142,
    "start_time": "2024-11-16T15:46:06.560Z"
   },
   {
    "duration": 90,
    "start_time": "2024-11-16T15:46:06.704Z"
   },
   {
    "duration": 88,
    "start_time": "2024-11-16T15:46:06.796Z"
   },
   {
    "duration": 11,
    "start_time": "2024-11-16T15:46:06.885Z"
   },
   {
    "duration": 62,
    "start_time": "2024-11-16T15:46:06.898Z"
   },
   {
    "duration": 7,
    "start_time": "2024-11-16T15:46:06.961Z"
   },
   {
    "duration": 13,
    "start_time": "2024-11-16T15:46:06.969Z"
   },
   {
    "duration": 9,
    "start_time": "2024-11-16T15:46:06.983Z"
   },
   {
    "duration": 5,
    "start_time": "2024-11-16T15:46:06.993Z"
   },
   {
    "duration": 7,
    "start_time": "2024-11-16T15:46:06.999Z"
   },
   {
    "duration": 16,
    "start_time": "2024-11-16T15:46:07.007Z"
   },
   {
    "duration": 41,
    "start_time": "2024-11-16T15:46:07.024Z"
   },
   {
    "duration": 102,
    "start_time": "2024-11-16T15:46:07.066Z"
   },
   {
    "duration": 99,
    "start_time": "2024-11-16T15:46:07.169Z"
   },
   {
    "duration": 117,
    "start_time": "2024-11-16T15:46:07.271Z"
   },
   {
    "duration": 105,
    "start_time": "2024-11-16T15:46:07.389Z"
   },
   {
    "duration": 79,
    "start_time": "2024-11-16T15:46:07.496Z"
   },
   {
    "duration": 75,
    "start_time": "2024-11-16T15:46:07.576Z"
   },
   {
    "duration": 85,
    "start_time": "2024-11-16T15:46:07.653Z"
   },
   {
    "duration": 136,
    "start_time": "2024-11-16T15:46:07.739Z"
   },
   {
    "duration": 9,
    "start_time": "2024-11-16T15:46:07.877Z"
   },
   {
    "duration": 42,
    "start_time": "2024-11-16T15:46:07.887Z"
   },
   {
    "duration": 11,
    "start_time": "2024-11-16T15:46:08.022Z"
   },
   {
    "duration": 156,
    "start_time": "2024-11-16T15:46:08.035Z"
   },
   {
    "duration": 6,
    "start_time": "2024-11-16T15:46:08.192Z"
   },
   {
    "duration": 155,
    "start_time": "2024-11-16T15:46:08.199Z"
   },
   {
    "duration": 96,
    "start_time": "2024-11-16T15:46:08.356Z"
   },
   {
    "duration": 8,
    "start_time": "2024-11-16T15:46:08.453Z"
   },
   {
    "duration": 48,
    "start_time": "2024-11-16T15:46:08.462Z"
   },
   {
    "duration": 17,
    "start_time": "2024-11-16T15:46:08.512Z"
   },
   {
    "duration": 23,
    "start_time": "2024-11-16T15:46:08.531Z"
   },
   {
    "duration": 199,
    "start_time": "2024-11-16T15:46:08.555Z"
   },
   {
    "duration": 23,
    "start_time": "2024-11-16T15:46:08.756Z"
   },
   {
    "duration": 17,
    "start_time": "2024-11-16T15:46:08.781Z"
   },
   {
    "duration": 39,
    "start_time": "2024-11-16T15:46:08.799Z"
   },
   {
    "duration": 3,
    "start_time": "2024-11-16T15:46:08.839Z"
   },
   {
    "duration": 19,
    "start_time": "2024-11-16T15:46:08.843Z"
   },
   {
    "duration": 2569,
    "start_time": "2024-11-16T15:46:08.864Z"
   },
   {
    "duration": 161,
    "start_time": "2024-11-16T15:46:11.435Z"
   },
   {
    "duration": 575,
    "start_time": "2024-11-16T15:46:11.598Z"
   },
   {
    "duration": 158,
    "start_time": "2024-11-16T15:46:12.175Z"
   },
   {
    "duration": 4881,
    "start_time": "2024-11-16T15:46:12.334Z"
   },
   {
    "duration": 4938,
    "start_time": "2024-11-16T15:46:17.220Z"
   },
   {
    "duration": 5439,
    "start_time": "2024-11-16T15:46:22.160Z"
   },
   {
    "duration": 21,
    "start_time": "2024-11-16T15:46:27.601Z"
   },
   {
    "duration": 10,
    "start_time": "2024-11-16T15:46:27.624Z"
   },
   {
    "duration": 4,
    "start_time": "2024-11-16T15:46:27.635Z"
   },
   {
    "duration": 1868,
    "start_time": "2024-11-16T15:46:27.641Z"
   },
   {
    "duration": 3,
    "start_time": "2024-11-16T15:46:29.511Z"
   },
   {
    "duration": 1835,
    "start_time": "2024-11-16T15:46:29.522Z"
   },
   {
    "duration": 23,
    "start_time": "2024-11-16T15:46:31.358Z"
   },
   {
    "duration": 25,
    "start_time": "2024-11-16T15:46:31.383Z"
   },
   {
    "duration": 46,
    "start_time": "2024-11-16T15:46:31.409Z"
   },
   {
    "duration": 16,
    "start_time": "2024-11-16T15:46:31.457Z"
   },
   {
    "duration": 19,
    "start_time": "2024-11-16T15:46:31.475Z"
   },
   {
    "duration": 5,
    "start_time": "2024-11-16T15:46:31.495Z"
   },
   {
    "duration": 17,
    "start_time": "2024-11-16T15:46:31.502Z"
   },
   {
    "duration": 20,
    "start_time": "2024-11-16T15:46:31.520Z"
   },
   {
    "duration": 50,
    "start_time": "2024-11-16T15:46:31.541Z"
   },
   {
    "duration": 19,
    "start_time": "2024-11-16T15:46:31.593Z"
   },
   {
    "duration": 86,
    "start_time": "2024-11-16T15:46:31.614Z"
   },
   {
    "duration": 302,
    "start_time": "2024-11-16T15:46:31.701Z"
   },
   {
    "duration": 313,
    "start_time": "2024-11-16T15:46:32.004Z"
   },
   {
    "duration": 813,
    "start_time": "2024-11-16T15:46:32.320Z"
   },
   {
    "duration": 1005,
    "start_time": "2024-11-16T15:46:33.134Z"
   },
   {
    "duration": 306,
    "start_time": "2024-11-16T15:46:34.141Z"
   },
   {
    "duration": 0,
    "start_time": "2024-11-16T15:46:34.449Z"
   },
   {
    "duration": 0,
    "start_time": "2024-11-16T15:46:34.451Z"
   },
   {
    "duration": 0,
    "start_time": "2024-11-16T15:46:34.453Z"
   },
   {
    "duration": 0,
    "start_time": "2024-11-16T15:46:34.454Z"
   },
   {
    "duration": 0,
    "start_time": "2024-11-16T15:46:34.455Z"
   },
   {
    "duration": 2,
    "start_time": "2024-11-16T15:48:10.455Z"
   },
   {
    "duration": 9,
    "start_time": "2024-11-16T15:50:07.323Z"
   },
   {
    "duration": 6,
    "start_time": "2024-11-16T15:50:47.112Z"
   },
   {
    "duration": 47,
    "start_time": "2024-11-16T15:53:49.864Z"
   },
   {
    "duration": 8,
    "start_time": "2024-11-16T15:54:34.456Z"
   },
   {
    "duration": 9,
    "start_time": "2024-11-16T15:55:39.936Z"
   },
   {
    "duration": 218,
    "start_time": "2024-11-16T15:58:03.917Z"
   },
   {
    "duration": 13,
    "start_time": "2024-11-16T15:58:36.445Z"
   },
   {
    "duration": 8,
    "start_time": "2024-11-16T16:00:21.130Z"
   },
   {
    "duration": 7,
    "start_time": "2024-11-16T16:00:38.189Z"
   },
   {
    "duration": 13,
    "start_time": "2024-11-16T16:01:49.541Z"
   },
   {
    "duration": 11,
    "start_time": "2024-11-16T16:03:42.370Z"
   },
   {
    "duration": 19,
    "start_time": "2024-11-16T16:04:00.474Z"
   },
   {
    "duration": 13,
    "start_time": "2024-11-16T16:04:27.270Z"
   },
   {
    "duration": 4,
    "start_time": "2024-11-16T16:04:43.310Z"
   },
   {
    "duration": 9,
    "start_time": "2024-11-16T16:05:16.342Z"
   },
   {
    "duration": 11,
    "start_time": "2024-11-16T16:05:34.302Z"
   },
   {
    "duration": 9,
    "start_time": "2024-11-16T16:07:57.903Z"
   },
   {
    "duration": 10,
    "start_time": "2024-11-16T16:08:43.219Z"
   },
   {
    "duration": 9,
    "start_time": "2024-11-16T16:09:42.115Z"
   },
   {
    "duration": 16,
    "start_time": "2024-11-16T16:12:17.867Z"
   },
   {
    "duration": 7,
    "start_time": "2024-11-16T16:13:09.891Z"
   },
   {
    "duration": 4,
    "start_time": "2024-11-16T16:13:23.440Z"
   },
   {
    "duration": 6,
    "start_time": "2024-11-16T16:13:29.424Z"
   },
   {
    "duration": 826,
    "start_time": "2024-11-16T16:13:40.064Z"
   },
   {
    "duration": 1012,
    "start_time": "2024-11-16T16:13:48.835Z"
   },
   {
    "duration": 12,
    "start_time": "2024-11-16T16:13:58.964Z"
   },
   {
    "duration": 7,
    "start_time": "2024-11-16T16:17:04.212Z"
   },
   {
    "duration": 2423,
    "start_time": "2024-11-16T16:22:51.657Z"
   },
   {
    "duration": 2315,
    "start_time": "2024-11-16T16:22:54.082Z"
   },
   {
    "duration": 2961,
    "start_time": "2024-11-16T16:22:56.399Z"
   },
   {
    "duration": 1617,
    "start_time": "2024-11-16T16:22:59.362Z"
   },
   {
    "duration": 43,
    "start_time": "2024-11-16T16:23:00.981Z"
   },
   {
    "duration": 158,
    "start_time": "2024-11-16T16:23:01.025Z"
   },
   {
    "duration": 25,
    "start_time": "2024-11-16T16:23:01.185Z"
   },
   {
    "duration": 36,
    "start_time": "2024-11-16T16:23:01.211Z"
   },
   {
    "duration": 11,
    "start_time": "2024-11-16T16:23:01.249Z"
   },
   {
    "duration": 7,
    "start_time": "2024-11-16T16:23:01.263Z"
   },
   {
    "duration": 16,
    "start_time": "2024-11-16T16:23:01.271Z"
   },
   {
    "duration": 8,
    "start_time": "2024-11-16T16:23:01.288Z"
   },
   {
    "duration": 16,
    "start_time": "2024-11-16T16:23:01.297Z"
   },
   {
    "duration": 5,
    "start_time": "2024-11-16T16:23:01.314Z"
   },
   {
    "duration": 25,
    "start_time": "2024-11-16T16:23:01.321Z"
   },
   {
    "duration": 25,
    "start_time": "2024-11-16T16:23:01.348Z"
   },
   {
    "duration": 31,
    "start_time": "2024-11-16T16:23:01.374Z"
   },
   {
    "duration": 102,
    "start_time": "2024-11-16T16:23:01.406Z"
   },
   {
    "duration": 93,
    "start_time": "2024-11-16T16:23:01.510Z"
   },
   {
    "duration": 98,
    "start_time": "2024-11-16T16:23:01.605Z"
   },
   {
    "duration": 105,
    "start_time": "2024-11-16T16:23:01.704Z"
   },
   {
    "duration": 83,
    "start_time": "2024-11-16T16:23:01.810Z"
   },
   {
    "duration": 83,
    "start_time": "2024-11-16T16:23:01.894Z"
   },
   {
    "duration": 80,
    "start_time": "2024-11-16T16:23:01.979Z"
   },
   {
    "duration": 128,
    "start_time": "2024-11-16T16:23:02.060Z"
   },
   {
    "duration": 8,
    "start_time": "2024-11-16T16:23:02.189Z"
   },
   {
    "duration": 33,
    "start_time": "2024-11-16T16:23:02.199Z"
   },
   {
    "duration": 12,
    "start_time": "2024-11-16T16:23:02.331Z"
   },
   {
    "duration": 172,
    "start_time": "2024-11-16T16:23:02.344Z"
   },
   {
    "duration": 7,
    "start_time": "2024-11-16T16:23:02.518Z"
   },
   {
    "duration": 247,
    "start_time": "2024-11-16T16:23:02.526Z"
   },
   {
    "duration": 102,
    "start_time": "2024-11-16T16:23:02.775Z"
   },
   {
    "duration": 9,
    "start_time": "2024-11-16T16:23:02.878Z"
   },
   {
    "duration": 17,
    "start_time": "2024-11-16T16:23:02.889Z"
   },
   {
    "duration": 27,
    "start_time": "2024-11-16T16:23:02.908Z"
   },
   {
    "duration": 22,
    "start_time": "2024-11-16T16:23:02.937Z"
   },
   {
    "duration": 7,
    "start_time": "2024-11-16T16:23:02.961Z"
   },
   {
    "duration": 144,
    "start_time": "2024-11-16T16:23:02.970Z"
   },
   {
    "duration": 23,
    "start_time": "2024-11-16T16:23:03.115Z"
   },
   {
    "duration": 21,
    "start_time": "2024-11-16T16:23:03.140Z"
   },
   {
    "duration": 18,
    "start_time": "2024-11-16T16:23:03.163Z"
   },
   {
    "duration": 3,
    "start_time": "2024-11-16T16:23:03.182Z"
   },
   {
    "duration": 36,
    "start_time": "2024-11-16T16:23:03.186Z"
   },
   {
    "duration": 2402,
    "start_time": "2024-11-16T16:23:03.223Z"
   },
   {
    "duration": 149,
    "start_time": "2024-11-16T16:23:05.627Z"
   },
   {
    "duration": 508,
    "start_time": "2024-11-16T16:23:05.778Z"
   },
   {
    "duration": 190,
    "start_time": "2024-11-16T16:23:06.288Z"
   },
   {
    "duration": 4827,
    "start_time": "2024-11-16T16:23:06.480Z"
   },
   {
    "duration": 4866,
    "start_time": "2024-11-16T16:23:11.309Z"
   },
   {
    "duration": 5518,
    "start_time": "2024-11-16T16:23:16.176Z"
   },
   {
    "duration": 15,
    "start_time": "2024-11-16T16:23:21.695Z"
   },
   {
    "duration": 16,
    "start_time": "2024-11-16T16:23:21.712Z"
   },
   {
    "duration": 3,
    "start_time": "2024-11-16T16:23:21.729Z"
   },
   {
    "duration": 1813,
    "start_time": "2024-11-16T16:23:21.733Z"
   },
   {
    "duration": 3,
    "start_time": "2024-11-16T16:23:23.548Z"
   },
   {
    "duration": 1798,
    "start_time": "2024-11-16T16:23:23.552Z"
   },
   {
    "duration": 20,
    "start_time": "2024-11-16T16:23:25.352Z"
   },
   {
    "duration": 15,
    "start_time": "2024-11-16T16:23:25.373Z"
   },
   {
    "duration": 36,
    "start_time": "2024-11-16T16:23:25.390Z"
   },
   {
    "duration": 14,
    "start_time": "2024-11-16T16:23:25.428Z"
   },
   {
    "duration": 7,
    "start_time": "2024-11-16T16:23:25.443Z"
   },
   {
    "duration": 5,
    "start_time": "2024-11-16T16:23:25.451Z"
   },
   {
    "duration": 10,
    "start_time": "2024-11-16T16:23:25.457Z"
   },
   {
    "duration": 14,
    "start_time": "2024-11-16T16:23:25.468Z"
   },
   {
    "duration": 38,
    "start_time": "2024-11-16T16:23:25.483Z"
   },
   {
    "duration": 20,
    "start_time": "2024-11-16T16:23:25.522Z"
   },
   {
    "duration": 89,
    "start_time": "2024-11-16T16:23:25.544Z"
   },
   {
    "duration": 259,
    "start_time": "2024-11-16T16:23:25.634Z"
   },
   {
    "duration": 320,
    "start_time": "2024-11-16T16:23:25.894Z"
   },
   {
    "duration": 706,
    "start_time": "2024-11-16T16:23:26.215Z"
   },
   {
    "duration": 1115,
    "start_time": "2024-11-16T16:23:26.922Z"
   },
   {
    "duration": 2,
    "start_time": "2024-11-16T16:23:28.039Z"
   },
   {
    "duration": 32,
    "start_time": "2024-11-16T16:23:28.042Z"
   },
   {
    "duration": 4,
    "start_time": "2024-11-16T16:23:28.076Z"
   },
   {
    "duration": 3,
    "start_time": "2024-11-16T16:23:28.082Z"
   },
   {
    "duration": 153,
    "start_time": "2024-11-16T16:23:28.086Z"
   },
   {
    "duration": 0,
    "start_time": "2024-11-16T16:23:28.241Z"
   },
   {
    "duration": 9,
    "start_time": "2024-11-16T16:25:48.497Z"
   },
   {
    "duration": 116,
    "start_time": "2024-11-16T16:26:10.934Z"
   },
   {
    "duration": 2387,
    "start_time": "2024-11-16T16:26:38.000Z"
   },
   {
    "duration": 2384,
    "start_time": "2024-11-16T16:26:40.389Z"
   },
   {
    "duration": 2992,
    "start_time": "2024-11-16T16:26:42.774Z"
   },
   {
    "duration": 1599,
    "start_time": "2024-11-16T16:26:45.768Z"
   },
   {
    "duration": 43,
    "start_time": "2024-11-16T16:26:47.368Z"
   },
   {
    "duration": 25,
    "start_time": "2024-11-16T16:26:47.412Z"
   },
   {
    "duration": 23,
    "start_time": "2024-11-16T16:26:47.438Z"
   },
   {
    "duration": 35,
    "start_time": "2024-11-16T16:26:47.462Z"
   },
   {
    "duration": 9,
    "start_time": "2024-11-16T16:26:47.499Z"
   },
   {
    "duration": 4,
    "start_time": "2024-11-16T16:26:47.511Z"
   },
   {
    "duration": 7,
    "start_time": "2024-11-16T16:26:47.517Z"
   },
   {
    "duration": 25,
    "start_time": "2024-11-16T16:26:47.525Z"
   },
   {
    "duration": 9,
    "start_time": "2024-11-16T16:26:47.551Z"
   },
   {
    "duration": 6,
    "start_time": "2024-11-16T16:26:47.561Z"
   },
   {
    "duration": 5,
    "start_time": "2024-11-16T16:26:47.568Z"
   },
   {
    "duration": 7,
    "start_time": "2024-11-16T16:26:47.575Z"
   },
   {
    "duration": 39,
    "start_time": "2024-11-16T16:26:47.583Z"
   },
   {
    "duration": 108,
    "start_time": "2024-11-16T16:26:47.623Z"
   },
   {
    "duration": 94,
    "start_time": "2024-11-16T16:26:47.732Z"
   },
   {
    "duration": 92,
    "start_time": "2024-11-16T16:26:47.828Z"
   },
   {
    "duration": 104,
    "start_time": "2024-11-16T16:26:47.922Z"
   },
   {
    "duration": 67,
    "start_time": "2024-11-16T16:26:48.027Z"
   },
   {
    "duration": 77,
    "start_time": "2024-11-16T16:26:48.095Z"
   },
   {
    "duration": 76,
    "start_time": "2024-11-16T16:26:48.173Z"
   },
   {
    "duration": 134,
    "start_time": "2024-11-16T16:26:48.250Z"
   },
   {
    "duration": 7,
    "start_time": "2024-11-16T16:26:48.385Z"
   },
   {
    "duration": 28,
    "start_time": "2024-11-16T16:26:48.394Z"
   },
   {
    "duration": 11,
    "start_time": "2024-11-16T16:26:48.424Z"
   },
   {
    "duration": 245,
    "start_time": "2024-11-16T16:26:48.437Z"
   },
   {
    "duration": 6,
    "start_time": "2024-11-16T16:26:48.684Z"
   },
   {
    "duration": 207,
    "start_time": "2024-11-16T16:26:48.691Z"
   },
   {
    "duration": 100,
    "start_time": "2024-11-16T16:26:48.900Z"
   },
   {
    "duration": 9,
    "start_time": "2024-11-16T16:26:56.393Z"
   },
   {
    "duration": 8,
    "start_time": "2024-11-16T16:27:11.113Z"
   },
   {
    "duration": 11,
    "start_time": "2024-11-16T16:27:43.448Z"
   },
   {
    "duration": 50,
    "start_time": "2024-11-16T16:27:54.292Z"
   },
   {
    "duration": 9,
    "start_time": "2024-11-16T16:28:08.881Z"
   },
   {
    "duration": 10,
    "start_time": "2024-11-16T16:28:19.108Z"
   },
   {
    "duration": 9,
    "start_time": "2024-11-16T16:29:17.077Z"
   },
   {
    "duration": 6,
    "start_time": "2024-11-16T16:30:53.146Z"
   },
   {
    "duration": 4,
    "start_time": "2024-11-16T16:31:16.349Z"
   },
   {
    "duration": 11,
    "start_time": "2024-11-16T16:31:26.029Z"
   },
   {
    "duration": 6,
    "start_time": "2024-11-16T16:31:37.058Z"
   },
   {
    "duration": 1031,
    "start_time": "2024-11-16T16:31:47.893Z"
   },
   {
    "duration": 13,
    "start_time": "2024-11-16T16:32:05.658Z"
   },
   {
    "duration": 44,
    "start_time": "2024-11-16T16:32:17.721Z"
   },
   {
    "duration": 7,
    "start_time": "2024-11-16T16:32:21.922Z"
   },
   {
    "duration": 9,
    "start_time": "2024-11-16T16:34:28.046Z"
   },
   {
    "duration": 15,
    "start_time": "2024-11-16T16:35:06.119Z"
   },
   {
    "duration": 4,
    "start_time": "2024-11-16T16:35:13.210Z"
   },
   {
    "duration": 10,
    "start_time": "2024-11-16T16:36:23.690Z"
   },
   {
    "duration": 10,
    "start_time": "2024-11-16T16:37:57.686Z"
   },
   {
    "duration": 8,
    "start_time": "2024-11-16T16:38:07.654Z"
   },
   {
    "duration": 7,
    "start_time": "2024-11-16T16:38:13.274Z"
   },
   {
    "duration": 137,
    "start_time": "2024-11-16T16:38:16.499Z"
   },
   {
    "duration": 21,
    "start_time": "2024-11-16T16:38:20.419Z"
   },
   {
    "duration": 15,
    "start_time": "2024-11-16T16:38:26.086Z"
   },
   {
    "duration": 19,
    "start_time": "2024-11-16T16:38:29.127Z"
   },
   {
    "duration": 17,
    "start_time": "2024-11-16T16:38:34.487Z"
   },
   {
    "duration": 2371,
    "start_time": "2024-11-16T16:39:13.525Z"
   },
   {
    "duration": 2416,
    "start_time": "2024-11-16T16:39:15.898Z"
   },
   {
    "duration": 2847,
    "start_time": "2024-11-16T16:39:18.316Z"
   },
   {
    "duration": 1577,
    "start_time": "2024-11-16T16:39:21.165Z"
   },
   {
    "duration": 42,
    "start_time": "2024-11-16T16:39:22.744Z"
   },
   {
    "duration": 28,
    "start_time": "2024-11-16T16:39:22.788Z"
   },
   {
    "duration": 24,
    "start_time": "2024-11-16T16:39:22.817Z"
   },
   {
    "duration": 35,
    "start_time": "2024-11-16T16:39:22.843Z"
   },
   {
    "duration": 13,
    "start_time": "2024-11-16T16:39:22.880Z"
   },
   {
    "duration": 5,
    "start_time": "2024-11-16T16:39:22.896Z"
   },
   {
    "duration": 15,
    "start_time": "2024-11-16T16:39:22.903Z"
   },
   {
    "duration": 10,
    "start_time": "2024-11-16T16:39:22.921Z"
   },
   {
    "duration": 8,
    "start_time": "2024-11-16T16:39:22.933Z"
   },
   {
    "duration": 13,
    "start_time": "2024-11-16T16:39:22.942Z"
   },
   {
    "duration": 10,
    "start_time": "2024-11-16T16:39:22.956Z"
   },
   {
    "duration": 9,
    "start_time": "2024-11-16T16:39:22.968Z"
   },
   {
    "duration": 44,
    "start_time": "2024-11-16T16:39:22.979Z"
   },
   {
    "duration": 102,
    "start_time": "2024-11-16T16:39:23.025Z"
   },
   {
    "duration": 94,
    "start_time": "2024-11-16T16:39:23.128Z"
   },
   {
    "duration": 85,
    "start_time": "2024-11-16T16:39:23.223Z"
   },
   {
    "duration": 100,
    "start_time": "2024-11-16T16:39:23.321Z"
   },
   {
    "duration": 72,
    "start_time": "2024-11-16T16:39:23.422Z"
   },
   {
    "duration": 78,
    "start_time": "2024-11-16T16:39:23.496Z"
   },
   {
    "duration": 74,
    "start_time": "2024-11-16T16:39:23.576Z"
   },
   {
    "duration": 129,
    "start_time": "2024-11-16T16:39:23.652Z"
   },
   {
    "duration": 7,
    "start_time": "2024-11-16T16:39:23.783Z"
   },
   {
    "duration": 30,
    "start_time": "2024-11-16T16:39:23.791Z"
   },
   {
    "duration": 14,
    "start_time": "2024-11-16T16:39:23.916Z"
   },
   {
    "duration": 135,
    "start_time": "2024-11-16T16:39:23.931Z"
   },
   {
    "duration": 7,
    "start_time": "2024-11-16T16:39:24.067Z"
   },
   {
    "duration": 153,
    "start_time": "2024-11-16T16:39:24.075Z"
   },
   {
    "duration": 100,
    "start_time": "2024-11-16T16:39:24.229Z"
   },
   {
    "duration": 10,
    "start_time": "2024-11-16T16:39:24.330Z"
   },
   {
    "duration": 7,
    "start_time": "2024-11-16T16:39:24.341Z"
   },
   {
    "duration": 9,
    "start_time": "2024-11-16T16:39:24.349Z"
   },
   {
    "duration": 149,
    "start_time": "2024-11-16T16:39:24.359Z"
   },
   {
    "duration": 25,
    "start_time": "2024-11-16T16:39:24.510Z"
   },
   {
    "duration": 15,
    "start_time": "2024-11-16T16:39:24.536Z"
   },
   {
    "duration": 18,
    "start_time": "2024-11-16T16:39:24.552Z"
   },
   {
    "duration": 2,
    "start_time": "2024-11-16T16:39:24.572Z"
   },
   {
    "duration": 16,
    "start_time": "2024-11-16T16:39:24.575Z"
   },
   {
    "duration": 2333,
    "start_time": "2024-11-16T16:39:24.621Z"
   },
   {
    "duration": 140,
    "start_time": "2024-11-16T16:39:26.956Z"
   },
   {
    "duration": 568,
    "start_time": "2024-11-16T16:39:27.097Z"
   },
   {
    "duration": 157,
    "start_time": "2024-11-16T16:39:27.667Z"
   },
   {
    "duration": 4792,
    "start_time": "2024-11-16T16:39:27.825Z"
   },
   {
    "duration": 4792,
    "start_time": "2024-11-16T16:39:32.621Z"
   },
   {
    "duration": 5341,
    "start_time": "2024-11-16T16:39:37.415Z"
   },
   {
    "duration": 17,
    "start_time": "2024-11-16T16:39:42.757Z"
   },
   {
    "duration": 17,
    "start_time": "2024-11-16T16:39:42.775Z"
   },
   {
    "duration": 3,
    "start_time": "2024-11-16T16:39:42.793Z"
   },
   {
    "duration": 1837,
    "start_time": "2024-11-16T16:39:42.797Z"
   },
   {
    "duration": 3,
    "start_time": "2024-11-16T16:39:44.635Z"
   },
   {
    "duration": 2047,
    "start_time": "2024-11-16T16:39:44.640Z"
   },
   {
    "duration": 21,
    "start_time": "2024-11-16T16:39:46.688Z"
   },
   {
    "duration": 15,
    "start_time": "2024-11-16T16:39:46.721Z"
   },
   {
    "duration": 77,
    "start_time": "2024-11-16T16:39:46.737Z"
   },
   {
    "duration": 16,
    "start_time": "2024-11-16T16:39:46.816Z"
   },
   {
    "duration": 7,
    "start_time": "2024-11-16T16:39:46.833Z"
   },
   {
    "duration": 4,
    "start_time": "2024-11-16T16:39:46.841Z"
   },
   {
    "duration": 4,
    "start_time": "2024-11-16T16:39:46.846Z"
   },
   {
    "duration": 6,
    "start_time": "2024-11-16T16:39:46.851Z"
   },
   {
    "duration": 38,
    "start_time": "2024-11-16T16:39:46.858Z"
   },
   {
    "duration": 36,
    "start_time": "2024-11-16T16:39:46.898Z"
   },
   {
    "duration": 69,
    "start_time": "2024-11-16T16:39:46.935Z"
   },
   {
    "duration": 285,
    "start_time": "2024-11-16T16:39:47.006Z"
   },
   {
    "duration": 321,
    "start_time": "2024-11-16T16:39:47.293Z"
   },
   {
    "duration": 692,
    "start_time": "2024-11-16T16:39:47.615Z"
   },
   {
    "duration": 1026,
    "start_time": "2024-11-16T16:39:48.308Z"
   },
   {
    "duration": 2,
    "start_time": "2024-11-16T16:39:49.335Z"
   },
   {
    "duration": 24,
    "start_time": "2024-11-16T16:39:49.338Z"
   },
   {
    "duration": 1,
    "start_time": "2024-11-16T16:39:49.363Z"
   },
   {
    "duration": 10,
    "start_time": "2024-11-16T16:39:49.366Z"
   },
   {
    "duration": 144,
    "start_time": "2024-11-16T16:39:49.377Z"
   },
   {
    "duration": 0,
    "start_time": "2024-11-16T16:39:49.523Z"
   },
   {
    "duration": 12,
    "start_time": "2024-11-16T16:45:32.602Z"
   },
   {
    "duration": 10,
    "start_time": "2024-11-16T16:47:09.566Z"
   },
   {
    "duration": 11,
    "start_time": "2024-11-16T16:47:50.991Z"
   },
   {
    "duration": 10,
    "start_time": "2024-11-16T16:48:26.510Z"
   },
   {
    "duration": 20,
    "start_time": "2024-11-16T16:49:44.591Z"
   },
   {
    "duration": 20,
    "start_time": "2024-11-16T16:50:33.219Z"
   },
   {
    "duration": 19,
    "start_time": "2024-11-16T16:51:12.527Z"
   },
   {
    "duration": 19,
    "start_time": "2024-11-16T16:51:32.035Z"
   },
   {
    "duration": 15,
    "start_time": "2024-11-16T16:51:41.291Z"
   },
   {
    "duration": 52,
    "start_time": "2024-11-16T16:55:03.141Z"
   },
   {
    "duration": 18,
    "start_time": "2024-11-16T16:55:46.953Z"
   },
   {
    "duration": 16,
    "start_time": "2024-11-16T16:56:08.933Z"
   },
   {
    "duration": 21,
    "start_time": "2024-11-16T16:56:32.657Z"
   },
   {
    "duration": 10,
    "start_time": "2024-11-16T16:58:23.813Z"
   },
   {
    "duration": 12,
    "start_time": "2024-11-16T16:58:35.041Z"
   },
   {
    "duration": 911,
    "start_time": "2024-11-16T16:59:11.973Z"
   },
   {
    "duration": 19,
    "start_time": "2024-11-16T17:03:27.506Z"
   },
   {
    "duration": 21,
    "start_time": "2024-11-16T17:05:59.610Z"
   },
   {
    "duration": 12,
    "start_time": "2024-11-16T17:06:39.818Z"
   },
   {
    "duration": 844,
    "start_time": "2024-11-16T17:06:49.631Z"
   },
   {
    "duration": 34,
    "start_time": "2024-11-16T17:07:02.451Z"
   },
   {
    "duration": 3673,
    "start_time": "2025-01-10T09:02:13.506Z"
   },
   {
    "duration": 4119,
    "start_time": "2025-01-10T09:02:17.182Z"
   },
   {
    "duration": 7124,
    "start_time": "2025-01-10T09:02:21.303Z"
   },
   {
    "duration": 1844,
    "start_time": "2025-01-10T09:02:28.430Z"
   },
   {
    "duration": 123,
    "start_time": "2025-01-10T09:02:30.275Z"
   },
   {
    "duration": 80,
    "start_time": "2025-01-10T09:02:30.399Z"
   },
   {
    "duration": 70,
    "start_time": "2025-01-10T09:02:30.480Z"
   },
   {
    "duration": 67,
    "start_time": "2025-01-10T09:02:30.551Z"
   },
   {
    "duration": 10,
    "start_time": "2025-01-10T09:02:30.620Z"
   },
   {
    "duration": 34,
    "start_time": "2025-01-10T09:02:30.632Z"
   },
   {
    "duration": 33,
    "start_time": "2025-01-10T09:02:30.667Z"
   },
   {
    "duration": 25,
    "start_time": "2025-01-10T09:02:30.702Z"
   },
   {
    "duration": 27,
    "start_time": "2025-01-10T09:02:30.728Z"
   },
   {
    "duration": 162,
    "start_time": "2025-01-10T09:02:30.756Z"
   },
   {
    "duration": 99,
    "start_time": "2025-01-10T09:02:30.919Z"
   },
   {
    "duration": 30,
    "start_time": "2025-01-10T09:02:31.020Z"
   },
   {
    "duration": 45,
    "start_time": "2025-01-10T09:02:31.052Z"
   },
   {
    "duration": 105,
    "start_time": "2025-01-10T09:02:31.099Z"
   },
   {
    "duration": 87,
    "start_time": "2025-01-10T09:02:31.205Z"
   },
   {
    "duration": 92,
    "start_time": "2025-01-10T09:02:31.293Z"
   },
   {
    "duration": 94,
    "start_time": "2025-01-10T09:02:31.386Z"
   },
   {
    "duration": 71,
    "start_time": "2025-01-10T09:02:31.482Z"
   },
   {
    "duration": 60,
    "start_time": "2025-01-10T09:02:31.554Z"
   },
   {
    "duration": 70,
    "start_time": "2025-01-10T09:02:31.616Z"
   },
   {
    "duration": 127,
    "start_time": "2025-01-10T09:02:31.688Z"
   },
   {
    "duration": 7,
    "start_time": "2025-01-10T09:02:31.817Z"
   },
   {
    "duration": 28,
    "start_time": "2025-01-10T09:02:31.825Z"
   },
   {
    "duration": 11,
    "start_time": "2025-01-10T09:02:31.929Z"
   },
   {
    "duration": 139,
    "start_time": "2025-01-10T09:02:31.941Z"
   },
   {
    "duration": 6,
    "start_time": "2025-01-10T09:02:32.081Z"
   },
   {
    "duration": 167,
    "start_time": "2025-01-10T09:02:32.088Z"
   },
   {
    "duration": 82,
    "start_time": "2025-01-10T09:02:32.256Z"
   },
   {
    "duration": 20,
    "start_time": "2025-01-10T09:02:32.339Z"
   },
   {
    "duration": 20,
    "start_time": "2025-01-10T09:02:32.361Z"
   },
   {
    "duration": 46,
    "start_time": "2025-01-10T09:02:32.383Z"
   },
   {
    "duration": 131,
    "start_time": "2025-01-10T09:02:32.431Z"
   },
   {
    "duration": 19,
    "start_time": "2025-01-10T09:02:32.564Z"
   },
   {
    "duration": 25,
    "start_time": "2025-01-10T09:02:32.585Z"
   },
   {
    "duration": 16,
    "start_time": "2025-01-10T09:02:32.611Z"
   },
   {
    "duration": 12,
    "start_time": "2025-01-10T09:02:32.628Z"
   },
   {
    "duration": 21,
    "start_time": "2025-01-10T09:02:32.642Z"
   },
   {
    "duration": 2185,
    "start_time": "2025-01-10T09:02:32.664Z"
   },
   {
    "duration": 136,
    "start_time": "2025-01-10T09:02:34.850Z"
   },
   {
    "duration": 533,
    "start_time": "2025-01-10T09:02:34.987Z"
   },
   {
    "duration": 162,
    "start_time": "2025-01-10T09:02:35.521Z"
   },
   {
    "duration": 4344,
    "start_time": "2025-01-10T09:02:35.684Z"
   },
   {
    "duration": 4454,
    "start_time": "2025-01-10T09:02:40.030Z"
   },
   {
    "duration": 4870,
    "start_time": "2025-01-10T09:02:44.486Z"
   },
   {
    "duration": 16,
    "start_time": "2025-01-10T09:02:49.357Z"
   },
   {
    "duration": 12,
    "start_time": "2025-01-10T09:02:49.374Z"
   },
   {
    "duration": 3,
    "start_time": "2025-01-10T09:02:49.387Z"
   },
   {
    "duration": 1966,
    "start_time": "2025-01-10T09:02:49.392Z"
   },
   {
    "duration": 4,
    "start_time": "2025-01-10T09:02:51.360Z"
   },
   {
    "duration": 1935,
    "start_time": "2025-01-10T09:02:51.365Z"
   },
   {
    "duration": 22,
    "start_time": "2025-01-10T09:02:53.302Z"
   },
   {
    "duration": 31,
    "start_time": "2025-01-10T09:02:53.326Z"
   },
   {
    "duration": 48,
    "start_time": "2025-01-10T09:02:53.359Z"
   },
   {
    "duration": 17,
    "start_time": "2025-01-10T09:02:53.409Z"
   },
   {
    "duration": 19,
    "start_time": "2025-01-10T09:02:53.428Z"
   },
   {
    "duration": 6,
    "start_time": "2025-01-10T09:02:53.449Z"
   },
   {
    "duration": 5,
    "start_time": "2025-01-10T09:02:53.457Z"
   },
   {
    "duration": 23,
    "start_time": "2025-01-10T09:02:53.463Z"
   },
   {
    "duration": 37,
    "start_time": "2025-01-10T09:02:53.488Z"
   },
   {
    "duration": 18,
    "start_time": "2025-01-10T09:02:53.527Z"
   },
   {
    "duration": 92,
    "start_time": "2025-01-10T09:02:53.547Z"
   },
   {
    "duration": 270,
    "start_time": "2025-01-10T09:02:53.641Z"
   },
   {
    "duration": 302,
    "start_time": "2025-01-10T09:02:53.913Z"
   },
   {
    "duration": 653,
    "start_time": "2025-01-10T09:02:54.216Z"
   },
   {
    "duration": 989,
    "start_time": "2025-01-10T09:02:54.871Z"
   },
   {
    "duration": 3,
    "start_time": "2025-01-10T09:02:55.861Z"
   },
   {
    "duration": 25,
    "start_time": "2025-01-10T09:02:55.865Z"
   },
   {
    "duration": 12,
    "start_time": "2025-01-10T09:02:55.891Z"
   },
   {
    "duration": 159,
    "start_time": "2025-01-10T09:02:55.904Z"
   },
   {
    "duration": 0,
    "start_time": "2025-01-10T09:02:56.065Z"
   },
   {
    "duration": 0,
    "start_time": "2025-01-10T09:02:56.066Z"
   },
   {
    "duration": 0,
    "start_time": "2025-01-10T09:02:56.066Z"
   },
   {
    "duration": 0,
    "start_time": "2025-01-10T09:02:56.067Z"
   },
   {
    "duration": 3716,
    "start_time": "2025-01-13T05:49:47.940Z"
   },
   {
    "duration": 4318,
    "start_time": "2025-01-13T05:49:51.658Z"
   },
   {
    "duration": 6843,
    "start_time": "2025-01-13T05:49:55.978Z"
   },
   {
    "duration": 1978,
    "start_time": "2025-01-13T05:50:02.824Z"
   },
   {
    "duration": 86,
    "start_time": "2025-01-13T05:50:04.804Z"
   },
   {
    "duration": 70,
    "start_time": "2025-01-13T05:50:04.892Z"
   },
   {
    "duration": 69,
    "start_time": "2025-01-13T05:50:04.965Z"
   },
   {
    "duration": 76,
    "start_time": "2025-01-13T05:50:05.035Z"
   },
   {
    "duration": 11,
    "start_time": "2025-01-13T05:50:05.113Z"
   },
   {
    "duration": 5,
    "start_time": "2025-01-13T05:50:05.127Z"
   },
   {
    "duration": 26,
    "start_time": "2025-01-13T05:50:05.133Z"
   },
   {
    "duration": 18,
    "start_time": "2025-01-13T05:50:05.161Z"
   },
   {
    "duration": 34,
    "start_time": "2025-01-13T05:50:05.181Z"
   },
   {
    "duration": 54,
    "start_time": "2025-01-13T05:50:05.217Z"
   },
   {
    "duration": 20,
    "start_time": "2025-01-13T05:50:05.273Z"
   },
   {
    "duration": 9,
    "start_time": "2025-01-13T05:50:05.295Z"
   },
   {
    "duration": 51,
    "start_time": "2025-01-13T05:50:05.306Z"
   },
   {
    "duration": 113,
    "start_time": "2025-01-13T05:50:05.359Z"
   },
   {
    "duration": 99,
    "start_time": "2025-01-13T05:50:05.473Z"
   },
   {
    "duration": 105,
    "start_time": "2025-01-13T05:50:05.574Z"
   },
   {
    "duration": 109,
    "start_time": "2025-01-13T05:50:05.680Z"
   },
   {
    "duration": 83,
    "start_time": "2025-01-13T05:50:05.791Z"
   },
   {
    "duration": 170,
    "start_time": "2025-01-13T05:50:05.875Z"
   },
   {
    "duration": 70,
    "start_time": "2025-01-13T05:50:06.047Z"
   },
   {
    "duration": 149,
    "start_time": "2025-01-13T05:50:06.118Z"
   },
   {
    "duration": 8,
    "start_time": "2025-01-13T05:50:06.268Z"
   },
   {
    "duration": 68,
    "start_time": "2025-01-13T05:50:06.278Z"
   },
   {
    "duration": 12,
    "start_time": "2025-01-13T05:50:06.350Z"
   },
   {
    "duration": 149,
    "start_time": "2025-01-13T05:50:06.364Z"
   },
   {
    "duration": 7,
    "start_time": "2025-01-13T05:50:06.514Z"
   },
   {
    "duration": 224,
    "start_time": "2025-01-13T05:50:06.530Z"
   },
   {
    "duration": 104,
    "start_time": "2025-01-13T05:50:06.756Z"
   },
   {
    "duration": 10,
    "start_time": "2025-01-13T05:50:06.861Z"
   },
   {
    "duration": 27,
    "start_time": "2025-01-13T05:50:06.872Z"
   },
   {
    "duration": 11,
    "start_time": "2025-01-13T05:50:06.900Z"
   },
   {
    "duration": 153,
    "start_time": "2025-01-13T05:50:06.913Z"
   },
   {
    "duration": 21,
    "start_time": "2025-01-13T05:50:07.068Z"
   },
   {
    "duration": 15,
    "start_time": "2025-01-13T05:50:07.090Z"
   },
   {
    "duration": 31,
    "start_time": "2025-01-13T05:50:07.106Z"
   },
   {
    "duration": 9,
    "start_time": "2025-01-13T05:50:07.139Z"
   },
   {
    "duration": 23,
    "start_time": "2025-01-13T05:50:07.150Z"
   },
   {
    "duration": 2547,
    "start_time": "2025-01-13T05:50:07.175Z"
   },
   {
    "duration": 142,
    "start_time": "2025-01-13T05:50:09.724Z"
   },
   {
    "duration": 719,
    "start_time": "2025-01-13T05:50:09.868Z"
   },
   {
    "duration": 164,
    "start_time": "2025-01-13T05:50:10.589Z"
   },
   {
    "duration": 4879,
    "start_time": "2025-01-13T05:50:10.755Z"
   },
   {
    "duration": 4982,
    "start_time": "2025-01-13T05:50:15.636Z"
   },
   {
    "duration": 5728,
    "start_time": "2025-01-13T05:50:20.620Z"
   },
   {
    "duration": 17,
    "start_time": "2025-01-13T05:50:26.350Z"
   },
   {
    "duration": 14,
    "start_time": "2025-01-13T05:50:26.368Z"
   },
   {
    "duration": 3,
    "start_time": "2025-01-13T05:50:26.384Z"
   },
   {
    "duration": 1888,
    "start_time": "2025-01-13T05:50:26.388Z"
   },
   {
    "duration": 3,
    "start_time": "2025-01-13T05:50:28.278Z"
   },
   {
    "duration": 2134,
    "start_time": "2025-01-13T05:50:28.283Z"
   },
   {
    "duration": 30,
    "start_time": "2025-01-13T05:50:30.418Z"
   },
   {
    "duration": 27,
    "start_time": "2025-01-13T05:50:30.449Z"
   },
   {
    "duration": 30,
    "start_time": "2025-01-13T05:50:30.478Z"
   },
   {
    "duration": 22,
    "start_time": "2025-01-13T05:50:30.510Z"
   },
   {
    "duration": 43,
    "start_time": "2025-01-13T05:50:30.533Z"
   },
   {
    "duration": 14,
    "start_time": "2025-01-13T05:50:30.577Z"
   },
   {
    "duration": 20,
    "start_time": "2025-01-13T05:50:30.592Z"
   },
   {
    "duration": 17,
    "start_time": "2025-01-13T05:50:30.614Z"
   },
   {
    "duration": 57,
    "start_time": "2025-01-13T05:50:30.632Z"
   },
   {
    "duration": 20,
    "start_time": "2025-01-13T05:50:30.690Z"
   },
   {
    "duration": 89,
    "start_time": "2025-01-13T05:50:30.712Z"
   },
   {
    "duration": 296,
    "start_time": "2025-01-13T05:50:30.803Z"
   },
   {
    "duration": 332,
    "start_time": "2025-01-13T05:50:31.101Z"
   },
   {
    "duration": 730,
    "start_time": "2025-01-13T05:50:31.435Z"
   },
   {
    "duration": 1080,
    "start_time": "2025-01-13T05:50:32.167Z"
   },
   {
    "duration": 2,
    "start_time": "2025-01-13T05:50:33.249Z"
   },
   {
    "duration": 31,
    "start_time": "2025-01-13T05:50:33.253Z"
   },
   {
    "duration": 16,
    "start_time": "2025-01-13T05:50:33.285Z"
   },
   {
    "duration": 176,
    "start_time": "2025-01-13T05:50:33.302Z"
   },
   {
    "duration": 0,
    "start_time": "2025-01-13T05:50:33.479Z"
   },
   {
    "duration": 0,
    "start_time": "2025-01-13T05:50:33.480Z"
   },
   {
    "duration": 0,
    "start_time": "2025-01-13T05:50:33.481Z"
   },
   {
    "duration": 0,
    "start_time": "2025-01-13T05:50:33.482Z"
   },
   {
    "duration": 34,
    "start_time": "2025-01-13T06:18:47.979Z"
   },
   {
    "duration": 4,
    "start_time": "2025-01-13T06:31:30.332Z"
   },
   {
    "duration": 16,
    "start_time": "2025-01-13T06:40:32.936Z"
   },
   {
    "duration": 13,
    "start_time": "2025-01-13T06:41:28.593Z"
   },
   {
    "duration": 18,
    "start_time": "2025-01-13T06:42:02.401Z"
   },
   {
    "duration": 12,
    "start_time": "2025-01-13T06:42:23.449Z"
   },
   {
    "duration": 11,
    "start_time": "2025-01-13T06:42:28.976Z"
   },
   {
    "duration": 2551,
    "start_time": "2025-01-13T06:48:43.231Z"
   },
   {
    "duration": 2539,
    "start_time": "2025-01-13T06:48:45.784Z"
   },
   {
    "duration": 3095,
    "start_time": "2025-01-13T06:48:48.326Z"
   },
   {
    "duration": 1780,
    "start_time": "2025-01-13T06:48:51.423Z"
   },
   {
    "duration": 39,
    "start_time": "2025-01-13T06:48:53.205Z"
   },
   {
    "duration": 26,
    "start_time": "2025-01-13T06:48:53.246Z"
   },
   {
    "duration": 26,
    "start_time": "2025-01-13T06:48:53.274Z"
   },
   {
    "duration": 31,
    "start_time": "2025-01-13T06:48:53.302Z"
   },
   {
    "duration": 11,
    "start_time": "2025-01-13T06:48:53.335Z"
   },
   {
    "duration": 11,
    "start_time": "2025-01-13T06:48:53.349Z"
   },
   {
    "duration": 12,
    "start_time": "2025-01-13T06:48:53.362Z"
   },
   {
    "duration": 9,
    "start_time": "2025-01-13T06:48:53.375Z"
   },
   {
    "duration": 52,
    "start_time": "2025-01-13T06:48:53.385Z"
   },
   {
    "duration": 6,
    "start_time": "2025-01-13T06:48:53.439Z"
   },
   {
    "duration": 7,
    "start_time": "2025-01-13T06:48:53.447Z"
   },
   {
    "duration": 17,
    "start_time": "2025-01-13T06:48:53.455Z"
   },
   {
    "duration": 41,
    "start_time": "2025-01-13T06:48:53.474Z"
   },
   {
    "duration": 108,
    "start_time": "2025-01-13T06:48:53.516Z"
   },
   {
    "duration": 102,
    "start_time": "2025-01-13T06:48:53.629Z"
   },
   {
    "duration": 100,
    "start_time": "2025-01-13T06:48:53.733Z"
   },
   {
    "duration": 109,
    "start_time": "2025-01-13T06:48:53.835Z"
   },
   {
    "duration": 85,
    "start_time": "2025-01-13T06:48:53.946Z"
   },
   {
    "duration": 85,
    "start_time": "2025-01-13T06:48:54.033Z"
   },
   {
    "duration": 73,
    "start_time": "2025-01-13T06:48:54.130Z"
   },
   {
    "duration": 152,
    "start_time": "2025-01-13T06:48:54.204Z"
   },
   {
    "duration": 8,
    "start_time": "2025-01-13T06:48:54.358Z"
   },
   {
    "duration": 49,
    "start_time": "2025-01-13T06:48:54.367Z"
   },
   {
    "duration": 12,
    "start_time": "2025-01-13T06:48:54.419Z"
   },
   {
    "duration": 264,
    "start_time": "2025-01-13T06:48:54.432Z"
   },
   {
    "duration": 9,
    "start_time": "2025-01-13T06:48:54.699Z"
   },
   {
    "duration": 184,
    "start_time": "2025-01-13T06:48:54.711Z"
   },
   {
    "duration": 107,
    "start_time": "2025-01-13T06:48:54.897Z"
   },
   {
    "duration": 10,
    "start_time": "2025-01-13T06:48:55.006Z"
   },
   {
    "duration": 10,
    "start_time": "2025-01-13T06:48:55.029Z"
   },
   {
    "duration": 21,
    "start_time": "2025-01-13T06:48:55.041Z"
   },
   {
    "duration": 149,
    "start_time": "2025-01-13T06:48:55.063Z"
   },
   {
    "duration": 30,
    "start_time": "2025-01-13T06:48:55.214Z"
   },
   {
    "duration": 16,
    "start_time": "2025-01-13T06:48:55.246Z"
   },
   {
    "duration": 18,
    "start_time": "2025-01-13T06:48:55.264Z"
   },
   {
    "duration": 2,
    "start_time": "2025-01-13T06:48:55.284Z"
   },
   {
    "duration": 44,
    "start_time": "2025-01-13T06:48:55.287Z"
   },
   {
    "duration": 2486,
    "start_time": "2025-01-13T06:48:55.332Z"
   },
   {
    "duration": 145,
    "start_time": "2025-01-13T06:48:57.820Z"
   },
   {
    "duration": 546,
    "start_time": "2025-01-13T06:48:57.967Z"
   },
   {
    "duration": 166,
    "start_time": "2025-01-13T06:48:58.515Z"
   },
   {
    "duration": 4941,
    "start_time": "2025-01-13T06:48:58.683Z"
   },
   {
    "duration": 5030,
    "start_time": "2025-01-13T06:49:03.629Z"
   },
   {
    "duration": 5986,
    "start_time": "2025-01-13T06:49:08.661Z"
   },
   {
    "duration": 17,
    "start_time": "2025-01-13T06:49:14.649Z"
   },
   {
    "duration": 15,
    "start_time": "2025-01-13T06:49:14.668Z"
   },
   {
    "duration": 5,
    "start_time": "2025-01-13T06:49:14.686Z"
   },
   {
    "duration": 2078,
    "start_time": "2025-01-13T06:49:14.695Z"
   },
   {
    "duration": 4,
    "start_time": "2025-01-13T06:49:16.776Z"
   },
   {
    "duration": 2097,
    "start_time": "2025-01-13T06:49:16.782Z"
   },
   {
    "duration": 23,
    "start_time": "2025-01-13T06:50:40.219Z"
   },
   {
    "duration": 150,
    "start_time": "2025-01-13T06:52:46.825Z"
   },
   {
    "duration": 3,
    "start_time": "2025-01-13T06:53:55.913Z"
   },
   {
    "duration": 7024,
    "start_time": "2025-01-13T06:54:52.976Z"
   },
   {
    "duration": 210727,
    "start_time": "2025-01-13T06:57:14.817Z"
   },
   {
    "duration": 6321,
    "start_time": "2025-01-13T07:01:36.502Z"
   },
   {
    "duration": 6604,
    "start_time": "2025-01-13T07:18:21.319Z"
   },
   {
    "duration": 17,
    "start_time": "2025-01-13T07:24:48.048Z"
   },
   {
    "duration": 5,
    "start_time": "2025-01-13T07:25:34.120Z"
   },
   {
    "duration": 4,
    "start_time": "2025-01-13T07:26:30.148Z"
   },
   {
    "duration": 4,
    "start_time": "2025-01-13T07:26:40.148Z"
   },
   {
    "duration": 3,
    "start_time": "2025-01-13T07:26:45.848Z"
   },
   {
    "duration": 14,
    "start_time": "2025-01-13T07:27:09.953Z"
   },
   {
    "duration": 4,
    "start_time": "2025-01-13T07:31:35.170Z"
   },
   {
    "duration": 4,
    "start_time": "2025-01-13T07:32:50.070Z"
   },
   {
    "duration": 1142,
    "start_time": "2025-01-13T07:33:47.998Z"
   },
   {
    "duration": 4,
    "start_time": "2025-01-13T07:35:15.711Z"
   },
   {
    "duration": 16,
    "start_time": "2025-01-13T07:36:44.238Z"
   },
   {
    "duration": 21,
    "start_time": "2025-01-13T07:38:08.863Z"
   },
   {
    "duration": 16,
    "start_time": "2025-01-13T07:40:41.153Z"
   },
   {
    "duration": 31,
    "start_time": "2025-01-13T07:41:17.879Z"
   },
   {
    "duration": 23,
    "start_time": "2025-01-13T07:41:26.031Z"
   },
   {
    "duration": 36,
    "start_time": "2025-01-13T07:42:27.481Z"
   },
   {
    "duration": 27,
    "start_time": "2025-01-13T07:42:34.511Z"
   },
   {
    "duration": 26,
    "start_time": "2025-01-13T07:42:43.839Z"
   },
   {
    "duration": 44,
    "start_time": "2025-01-13T07:43:44.087Z"
   },
   {
    "duration": 152,
    "start_time": "2025-01-13T07:43:54.880Z"
   },
   {
    "duration": 188,
    "start_time": "2025-01-13T07:44:26.351Z"
   },
   {
    "duration": 205,
    "start_time": "2025-01-13T07:44:44.632Z"
   },
   {
    "duration": 82,
    "start_time": "2025-01-13T07:44:56.952Z"
   },
   {
    "duration": 7,
    "start_time": "2025-01-13T07:48:11.680Z"
   },
   {
    "duration": 29,
    "start_time": "2025-01-13T07:51:11.312Z"
   },
   {
    "duration": 30,
    "start_time": "2025-01-13T07:51:33.643Z"
   },
   {
    "duration": 30,
    "start_time": "2025-01-13T07:51:43.312Z"
   },
   {
    "duration": 29,
    "start_time": "2025-01-13T07:52:44.112Z"
   },
   {
    "duration": 169,
    "start_time": "2025-01-13T07:56:21.785Z"
   },
   {
    "duration": 166,
    "start_time": "2025-01-13T07:56:56.393Z"
   },
   {
    "duration": 160,
    "start_time": "2025-01-13T07:57:04.249Z"
   },
   {
    "duration": 162,
    "start_time": "2025-01-13T07:57:20.649Z"
   },
   {
    "duration": 19,
    "start_time": "2025-01-13T08:04:22.291Z"
   },
   {
    "duration": 27,
    "start_time": "2025-01-13T08:04:26.275Z"
   },
   {
    "duration": 13,
    "start_time": "2025-01-13T08:12:55.144Z"
   },
   {
    "duration": 27,
    "start_time": "2025-01-13T08:13:15.364Z"
   },
   {
    "duration": 26,
    "start_time": "2025-01-13T08:13:41.785Z"
   },
   {
    "duration": 24,
    "start_time": "2025-01-13T08:14:08.088Z"
   },
   {
    "duration": 28,
    "start_time": "2025-01-13T08:14:23.013Z"
   },
   {
    "duration": 5,
    "start_time": "2025-01-13T08:14:55.445Z"
   },
   {
    "duration": 151,
    "start_time": "2025-01-13T08:15:07.364Z"
   },
   {
    "duration": 172,
    "start_time": "2025-01-13T08:15:17.233Z"
   },
   {
    "duration": 29,
    "start_time": "2025-01-13T08:15:49.776Z"
   },
   {
    "duration": 12,
    "start_time": "2025-01-13T08:16:19.445Z"
   },
   {
    "duration": 35,
    "start_time": "2025-01-13T08:21:07.206Z"
   },
   {
    "duration": 31,
    "start_time": "2025-01-13T08:21:44.090Z"
   },
   {
    "duration": 12,
    "start_time": "2025-01-13T08:24:50.842Z"
   },
   {
    "duration": 3,
    "start_time": "2025-01-13T08:24:53.994Z"
   },
   {
    "duration": 29,
    "start_time": "2025-01-13T08:24:56.434Z"
   },
   {
    "duration": 29,
    "start_time": "2025-01-13T08:27:10.636Z"
   },
   {
    "duration": 27,
    "start_time": "2025-01-13T08:27:33.635Z"
   },
   {
    "duration": 19,
    "start_time": "2025-01-13T08:27:50.650Z"
   },
   {
    "duration": 3,
    "start_time": "2025-01-13T08:28:21.475Z"
   },
   {
    "duration": 2516,
    "start_time": "2025-01-13T08:29:51.203Z"
   },
   {
    "duration": 2544,
    "start_time": "2025-01-13T08:29:53.722Z"
   },
   {
    "duration": 3108,
    "start_time": "2025-01-13T08:29:56.268Z"
   },
   {
    "duration": 1793,
    "start_time": "2025-01-13T08:29:59.379Z"
   },
   {
    "duration": 39,
    "start_time": "2025-01-13T08:30:01.174Z"
   },
   {
    "duration": 25,
    "start_time": "2025-01-13T08:30:01.215Z"
   },
   {
    "duration": 37,
    "start_time": "2025-01-13T08:30:01.241Z"
   },
   {
    "duration": 33,
    "start_time": "2025-01-13T08:30:01.280Z"
   },
   {
    "duration": 12,
    "start_time": "2025-01-13T08:30:01.315Z"
   },
   {
    "duration": 43,
    "start_time": "2025-01-13T08:30:01.330Z"
   },
   {
    "duration": 31,
    "start_time": "2025-01-13T08:30:01.375Z"
   },
   {
    "duration": 61,
    "start_time": "2025-01-13T08:30:01.409Z"
   },
   {
    "duration": 63,
    "start_time": "2025-01-13T08:30:01.471Z"
   },
   {
    "duration": 43,
    "start_time": "2025-01-13T08:30:01.535Z"
   },
   {
    "duration": 10,
    "start_time": "2025-01-13T08:30:01.580Z"
   },
   {
    "duration": 6,
    "start_time": "2025-01-13T08:30:01.592Z"
   },
   {
    "duration": 55,
    "start_time": "2025-01-13T08:30:01.599Z"
   },
   {
    "duration": 107,
    "start_time": "2025-01-13T08:30:01.656Z"
   },
   {
    "duration": 112,
    "start_time": "2025-01-13T08:30:01.764Z"
   },
   {
    "duration": 102,
    "start_time": "2025-01-13T08:30:01.878Z"
   },
   {
    "duration": 117,
    "start_time": "2025-01-13T08:30:01.982Z"
   },
   {
    "duration": 90,
    "start_time": "2025-01-13T08:30:02.101Z"
   },
   {
    "duration": 79,
    "start_time": "2025-01-13T08:30:02.193Z"
   },
   {
    "duration": 81,
    "start_time": "2025-01-13T08:30:02.274Z"
   },
   {
    "duration": 144,
    "start_time": "2025-01-13T08:30:02.356Z"
   },
   {
    "duration": 9,
    "start_time": "2025-01-13T08:30:02.502Z"
   },
   {
    "duration": 66,
    "start_time": "2025-01-13T08:30:02.513Z"
   },
   {
    "duration": 155,
    "start_time": "2025-01-13T08:30:02.584Z"
   },
   {
    "duration": 140,
    "start_time": "2025-01-13T08:30:02.741Z"
   },
   {
    "duration": 6,
    "start_time": "2025-01-13T08:30:02.883Z"
   },
   {
    "duration": 171,
    "start_time": "2025-01-13T08:30:02.890Z"
   },
   {
    "duration": 98,
    "start_time": "2025-01-13T08:30:03.062Z"
   },
   {
    "duration": 9,
    "start_time": "2025-01-13T08:30:03.162Z"
   },
   {
    "duration": 15,
    "start_time": "2025-01-13T08:30:03.173Z"
   },
   {
    "duration": 7,
    "start_time": "2025-01-13T08:30:03.190Z"
   },
   {
    "duration": 168,
    "start_time": "2025-01-13T08:30:03.199Z"
   },
   {
    "duration": 23,
    "start_time": "2025-01-13T08:30:03.369Z"
   },
   {
    "duration": 21,
    "start_time": "2025-01-13T08:30:03.393Z"
   },
   {
    "duration": 23,
    "start_time": "2025-01-13T08:30:03.430Z"
   },
   {
    "duration": 5,
    "start_time": "2025-01-13T08:30:03.455Z"
   },
   {
    "duration": 19,
    "start_time": "2025-01-13T08:30:03.461Z"
   },
   {
    "duration": 2549,
    "start_time": "2025-01-13T08:30:03.482Z"
   },
   {
    "duration": 159,
    "start_time": "2025-01-13T08:30:06.033Z"
   },
   {
    "duration": 600,
    "start_time": "2025-01-13T08:30:06.194Z"
   },
   {
    "duration": 175,
    "start_time": "2025-01-13T08:30:06.796Z"
   },
   {
    "duration": 4960,
    "start_time": "2025-01-13T08:30:06.973Z"
   },
   {
    "duration": 5075,
    "start_time": "2025-01-13T08:30:11.934Z"
   },
   {
    "duration": 5751,
    "start_time": "2025-01-13T08:30:17.011Z"
   },
   {
    "duration": 18,
    "start_time": "2025-01-13T08:30:22.764Z"
   },
   {
    "duration": 17,
    "start_time": "2025-01-13T08:30:22.784Z"
   },
   {
    "duration": 18,
    "start_time": "2025-01-13T08:30:22.803Z"
   },
   {
    "duration": 2147,
    "start_time": "2025-01-13T08:30:22.823Z"
   },
   {
    "duration": 3,
    "start_time": "2025-01-13T08:30:24.972Z"
   },
   {
    "duration": 2074,
    "start_time": "2025-01-13T08:30:24.977Z"
   },
   {
    "duration": 23,
    "start_time": "2025-01-13T08:30:27.053Z"
   },
   {
    "duration": 5,
    "start_time": "2025-01-13T08:30:27.077Z"
   },
   {
    "duration": 11108,
    "start_time": "2025-01-13T08:30:27.084Z"
   },
   {
    "duration": 1156,
    "start_time": "2025-01-13T08:30:38.194Z"
   },
   {
    "duration": 4,
    "start_time": "2025-01-13T08:30:39.351Z"
   },
   {
    "duration": 25,
    "start_time": "2025-01-13T08:30:39.356Z"
   },
   {
    "duration": 152,
    "start_time": "2025-01-13T08:30:39.382Z"
   },
   {
    "duration": 0,
    "start_time": "2025-01-13T08:30:39.536Z"
   },
   {
    "duration": 0,
    "start_time": "2025-01-13T08:30:39.537Z"
   },
   {
    "duration": 0,
    "start_time": "2025-01-13T08:30:39.539Z"
   },
   {
    "duration": 0,
    "start_time": "2025-01-13T08:30:39.540Z"
   },
   {
    "duration": 0,
    "start_time": "2025-01-13T08:30:39.541Z"
   },
   {
    "duration": 154,
    "start_time": "2025-01-13T08:31:03.177Z"
   },
   {
    "duration": 22,
    "start_time": "2025-01-13T08:31:05.607Z"
   },
   {
    "duration": 182,
    "start_time": "2025-01-13T08:31:07.800Z"
   },
   {
    "duration": 14,
    "start_time": "2025-01-13T08:31:10.591Z"
   },
   {
    "duration": 4,
    "start_time": "2025-01-13T08:31:14.192Z"
   },
   {
    "duration": 3,
    "start_time": "2025-01-13T08:31:15.824Z"
   },
   {
    "duration": 18,
    "start_time": "2025-01-13T08:31:17.151Z"
   },
   {
    "duration": 653,
    "start_time": "2025-01-13T08:36:52.137Z"
   },
   {
    "duration": 4481,
    "start_time": "2025-01-13T08:37:09.968Z"
   },
   {
    "duration": 3915,
    "start_time": "2025-01-13T08:38:44.569Z"
   },
   {
    "duration": 3923,
    "start_time": "2025-01-13T08:41:37.533Z"
   },
   {
    "duration": 13,
    "start_time": "2025-01-13T11:57:21.641Z"
   },
   {
    "duration": 3972,
    "start_time": "2025-01-13T11:57:33.651Z"
   },
   {
    "duration": 2283,
    "start_time": "2025-01-13T11:59:28.812Z"
   },
   {
    "duration": 5309,
    "start_time": "2025-01-13T12:00:49.556Z"
   },
   {
    "duration": 30,
    "start_time": "2025-01-13T12:09:20.907Z"
   },
   {
    "duration": 14,
    "start_time": "2025-01-13T12:09:51.874Z"
   },
   {
    "duration": 194,
    "start_time": "2025-01-13T12:10:06.636Z"
   },
   {
    "duration": 185,
    "start_time": "2025-01-13T12:10:16.197Z"
   },
   {
    "duration": 199,
    "start_time": "2025-01-13T12:11:05.346Z"
   },
   {
    "duration": 203,
    "start_time": "2025-01-13T12:11:39.018Z"
   },
   {
    "duration": 196,
    "start_time": "2025-01-13T12:12:08.898Z"
   },
   {
    "duration": 192,
    "start_time": "2025-01-13T12:12:24.835Z"
   },
   {
    "duration": 16,
    "start_time": "2025-01-13T12:14:27.715Z"
   },
   {
    "duration": 3,
    "start_time": "2025-01-13T12:14:37.487Z"
   },
   {
    "duration": 15,
    "start_time": "2025-01-13T12:16:29.251Z"
   },
   {
    "duration": 18,
    "start_time": "2025-01-13T12:17:33.707Z"
   },
   {
    "duration": 19,
    "start_time": "2025-01-13T12:19:31.612Z"
   },
   {
    "duration": 187,
    "start_time": "2025-01-13T12:21:57.088Z"
   },
   {
    "duration": 16,
    "start_time": "2025-01-13T12:22:08.816Z"
   },
   {
    "duration": 7336,
    "start_time": "2025-01-13T12:23:19.936Z"
   },
   {
    "duration": 7782,
    "start_time": "2025-01-13T12:23:48.385Z"
   },
   {
    "duration": 17,
    "start_time": "2025-01-13T12:25:54.986Z"
   },
   {
    "duration": 1220,
    "start_time": "2025-01-13T12:26:01.625Z"
   },
   {
    "duration": 1034,
    "start_time": "2025-01-13T12:26:33.702Z"
   },
   {
    "duration": 1028,
    "start_time": "2025-01-13T12:26:52.706Z"
   },
   {
    "duration": 31209,
    "start_time": "2025-01-13T12:29:11.162Z"
   },
   {
    "duration": 3777,
    "start_time": "2025-01-14T15:23:25.045Z"
   },
   {
    "duration": 4272,
    "start_time": "2025-01-14T15:23:28.824Z"
   },
   {
    "duration": 7565,
    "start_time": "2025-01-14T15:23:33.098Z"
   },
   {
    "duration": 1853,
    "start_time": "2025-01-14T15:23:40.665Z"
   },
   {
    "duration": 131,
    "start_time": "2025-01-14T15:23:42.520Z"
   },
   {
    "duration": 88,
    "start_time": "2025-01-14T15:23:42.653Z"
   },
   {
    "duration": 76,
    "start_time": "2025-01-14T15:23:42.743Z"
   },
   {
    "duration": 74,
    "start_time": "2025-01-14T15:23:42.821Z"
   },
   {
    "duration": 11,
    "start_time": "2025-01-14T15:23:42.897Z"
   },
   {
    "duration": 18,
    "start_time": "2025-01-14T15:23:42.911Z"
   },
   {
    "duration": 29,
    "start_time": "2025-01-14T15:23:42.931Z"
   },
   {
    "duration": 17,
    "start_time": "2025-01-14T15:23:42.962Z"
   },
   {
    "duration": 34,
    "start_time": "2025-01-14T15:23:42.981Z"
   },
   {
    "duration": 44,
    "start_time": "2025-01-14T15:23:43.017Z"
   },
   {
    "duration": 38,
    "start_time": "2025-01-14T15:23:43.063Z"
   },
   {
    "duration": 64,
    "start_time": "2025-01-14T15:23:43.103Z"
   },
   {
    "duration": 41,
    "start_time": "2025-01-14T15:23:43.169Z"
   },
   {
    "duration": 99,
    "start_time": "2025-01-14T15:23:43.211Z"
   },
   {
    "duration": 95,
    "start_time": "2025-01-14T15:23:43.312Z"
   },
   {
    "duration": 92,
    "start_time": "2025-01-14T15:23:43.409Z"
   },
   {
    "duration": 105,
    "start_time": "2025-01-14T15:23:43.503Z"
   },
   {
    "duration": 75,
    "start_time": "2025-01-14T15:23:43.610Z"
   },
   {
    "duration": 145,
    "start_time": "2025-01-14T15:23:43.687Z"
   },
   {
    "duration": 89,
    "start_time": "2025-01-14T15:23:43.834Z"
   },
   {
    "duration": 150,
    "start_time": "2025-01-14T15:23:43.924Z"
   },
   {
    "duration": 7,
    "start_time": "2025-01-14T15:23:44.076Z"
   },
   {
    "duration": 16,
    "start_time": "2025-01-14T15:23:44.084Z"
   },
   {
    "duration": 10,
    "start_time": "2025-01-14T15:23:44.104Z"
   },
   {
    "duration": 132,
    "start_time": "2025-01-14T15:23:44.115Z"
   },
   {
    "duration": 5,
    "start_time": "2025-01-14T15:23:44.252Z"
   },
   {
    "duration": 137,
    "start_time": "2025-01-14T15:23:44.258Z"
   },
   {
    "duration": 92,
    "start_time": "2025-01-14T15:23:44.397Z"
   },
   {
    "duration": 8,
    "start_time": "2025-01-14T15:23:44.490Z"
   },
   {
    "duration": 11,
    "start_time": "2025-01-14T15:23:44.500Z"
   },
   {
    "duration": 6,
    "start_time": "2025-01-14T15:23:44.513Z"
   },
   {
    "duration": 136,
    "start_time": "2025-01-14T15:23:44.520Z"
   },
   {
    "duration": 18,
    "start_time": "2025-01-14T15:23:44.657Z"
   },
   {
    "duration": 13,
    "start_time": "2025-01-14T15:23:44.676Z"
   },
   {
    "duration": 16,
    "start_time": "2025-01-14T15:23:44.690Z"
   },
   {
    "duration": 2,
    "start_time": "2025-01-14T15:23:44.707Z"
   },
   {
    "duration": 15,
    "start_time": "2025-01-14T15:23:44.710Z"
   },
   {
    "duration": 2187,
    "start_time": "2025-01-14T15:23:44.726Z"
   },
   {
    "duration": 124,
    "start_time": "2025-01-14T15:23:46.915Z"
   },
   {
    "duration": 577,
    "start_time": "2025-01-14T15:23:47.041Z"
   },
   {
    "duration": 170,
    "start_time": "2025-01-14T15:23:47.619Z"
   },
   {
    "duration": 4243,
    "start_time": "2025-01-14T15:23:47.790Z"
   },
   {
    "duration": 4490,
    "start_time": "2025-01-14T15:23:52.035Z"
   },
   {
    "duration": 4950,
    "start_time": "2025-01-14T15:23:56.526Z"
   },
   {
    "duration": 15,
    "start_time": "2025-01-14T15:24:01.477Z"
   },
   {
    "duration": 19,
    "start_time": "2025-01-14T15:24:01.494Z"
   },
   {
    "duration": 8,
    "start_time": "2025-01-14T15:24:01.515Z"
   },
   {
    "duration": 1855,
    "start_time": "2025-01-14T15:24:01.525Z"
   },
   {
    "duration": 3,
    "start_time": "2025-01-14T15:24:03.383Z"
   },
   {
    "duration": 2047,
    "start_time": "2025-01-14T15:24:03.388Z"
   },
   {
    "duration": 31,
    "start_time": "2025-01-14T15:24:05.437Z"
   },
   {
    "duration": 3,
    "start_time": "2025-01-14T15:24:05.470Z"
   },
   {
    "duration": 50,
    "start_time": "2025-01-14T15:24:05.475Z"
   },
   {
    "duration": 165,
    "start_time": "2025-01-14T15:24:05.526Z"
   },
   {
    "duration": 0,
    "start_time": "2025-01-14T15:24:05.693Z"
   },
   {
    "duration": 0,
    "start_time": "2025-01-14T15:24:05.694Z"
   },
   {
    "duration": 0,
    "start_time": "2025-01-14T15:24:05.695Z"
   },
   {
    "duration": 0,
    "start_time": "2025-01-14T15:24:05.696Z"
   },
   {
    "duration": 0,
    "start_time": "2025-01-14T15:24:05.697Z"
   },
   {
    "duration": 0,
    "start_time": "2025-01-14T15:24:05.698Z"
   },
   {
    "duration": 0,
    "start_time": "2025-01-14T15:24:05.698Z"
   },
   {
    "duration": 0,
    "start_time": "2025-01-14T15:24:05.700Z"
   },
   {
    "duration": 0,
    "start_time": "2025-01-14T15:24:05.701Z"
   },
   {
    "duration": 0,
    "start_time": "2025-01-14T15:24:05.702Z"
   },
   {
    "duration": 0,
    "start_time": "2025-01-14T15:24:05.702Z"
   },
   {
    "duration": 0,
    "start_time": "2025-01-14T15:24:05.703Z"
   },
   {
    "duration": 0,
    "start_time": "2025-01-14T15:24:05.704Z"
   },
   {
    "duration": 0,
    "start_time": "2025-01-14T15:24:05.705Z"
   },
   {
    "duration": 0,
    "start_time": "2025-01-14T15:24:05.706Z"
   },
   {
    "duration": 8030,
    "start_time": "2025-01-14T15:24:35.393Z"
   },
   {
    "duration": 1098,
    "start_time": "2025-01-14T15:24:49.169Z"
   },
   {
    "duration": 3,
    "start_time": "2025-01-14T15:24:55.570Z"
   },
   {
    "duration": 4,
    "start_time": "2025-01-14T15:24:57.937Z"
   },
   {
    "duration": 2,
    "start_time": "2025-01-14T15:25:00.833Z"
   },
   {
    "duration": 65,
    "start_time": "2025-01-14T15:25:04.889Z"
   },
   {
    "duration": 19,
    "start_time": "2025-01-14T15:25:08.465Z"
   },
   {
    "duration": 149,
    "start_time": "2025-01-14T15:25:11.785Z"
   },
   {
    "duration": 12,
    "start_time": "2025-01-14T15:25:14.813Z"
   },
   {
    "duration": 3,
    "start_time": "2025-01-14T15:25:22.465Z"
   },
   {
    "duration": 3,
    "start_time": "2025-01-14T15:25:24.225Z"
   },
   {
    "duration": 16,
    "start_time": "2025-01-14T15:25:25.665Z"
   },
   {
    "duration": 4204,
    "start_time": "2025-01-14T15:25:29.835Z"
   },
   {
    "duration": 162,
    "start_time": "2025-01-14T15:25:34.041Z"
   },
   {
    "duration": 4065,
    "start_time": "2025-01-14T15:25:41.649Z"
   },
   {
    "duration": 27635,
    "start_time": "2025-01-14T15:26:00.945Z"
   },
   {
    "duration": 2583,
    "start_time": "2025-01-14T16:07:05.624Z"
   },
   {
    "duration": 3010,
    "start_time": "2025-01-14T16:07:08.209Z"
   },
   {
    "duration": 3103,
    "start_time": "2025-01-14T16:07:11.221Z"
   },
   {
    "duration": 2301,
    "start_time": "2025-01-14T16:07:14.327Z"
   },
   {
    "duration": 84,
    "start_time": "2025-01-14T16:07:16.632Z"
   },
   {
    "duration": 69,
    "start_time": "2025-01-14T16:07:16.718Z"
   },
   {
    "duration": 69,
    "start_time": "2025-01-14T16:07:16.789Z"
   },
   {
    "duration": 75,
    "start_time": "2025-01-14T16:07:16.860Z"
   },
   {
    "duration": 16,
    "start_time": "2025-01-14T16:07:16.937Z"
   },
   {
    "duration": 6,
    "start_time": "2025-01-14T16:07:16.955Z"
   },
   {
    "duration": 5,
    "start_time": "2025-01-14T16:07:16.964Z"
   },
   {
    "duration": 10,
    "start_time": "2025-01-14T16:07:16.970Z"
   },
   {
    "duration": 6,
    "start_time": "2025-01-14T16:07:16.982Z"
   },
   {
    "duration": 27,
    "start_time": "2025-01-14T16:07:16.990Z"
   },
   {
    "duration": 18,
    "start_time": "2025-01-14T16:07:17.019Z"
   },
   {
    "duration": 14,
    "start_time": "2025-01-14T16:07:17.039Z"
   },
   {
    "duration": 43,
    "start_time": "2025-01-14T16:07:17.055Z"
   },
   {
    "duration": 237,
    "start_time": "2025-01-14T16:07:17.100Z"
   },
   {
    "duration": 220,
    "start_time": "2025-01-14T16:07:17.339Z"
   },
   {
    "duration": 199,
    "start_time": "2025-01-14T16:07:17.561Z"
   },
   {
    "duration": 277,
    "start_time": "2025-01-14T16:07:17.763Z"
   },
   {
    "duration": 173,
    "start_time": "2025-01-14T16:07:18.042Z"
   },
   {
    "duration": 203,
    "start_time": "2025-01-14T16:07:18.217Z"
   },
   {
    "duration": 201,
    "start_time": "2025-01-14T16:07:18.422Z"
   },
   {
    "duration": 313,
    "start_time": "2025-01-14T16:07:18.625Z"
   },
   {
    "duration": 8,
    "start_time": "2025-01-14T16:07:18.940Z"
   },
   {
    "duration": 22,
    "start_time": "2025-01-14T16:07:18.950Z"
   },
   {
    "duration": 52,
    "start_time": "2025-01-14T16:07:18.974Z"
   },
   {
    "duration": 277,
    "start_time": "2025-01-14T16:07:19.027Z"
   },
   {
    "duration": 14,
    "start_time": "2025-01-14T16:07:19.306Z"
   },
   {
    "duration": 287,
    "start_time": "2025-01-14T16:07:19.322Z"
   },
   {
    "duration": 236,
    "start_time": "2025-01-14T16:07:19.615Z"
   },
   {
    "duration": 12,
    "start_time": "2025-01-14T16:07:19.853Z"
   },
   {
    "duration": 8,
    "start_time": "2025-01-14T16:07:19.867Z"
   },
   {
    "duration": 38,
    "start_time": "2025-01-14T16:07:19.877Z"
   },
   {
    "duration": 381,
    "start_time": "2025-01-14T16:07:19.917Z"
   },
   {
    "duration": 35,
    "start_time": "2025-01-14T16:07:20.300Z"
   },
   {
    "duration": 17,
    "start_time": "2025-01-14T16:07:20.337Z"
   },
   {
    "duration": 20,
    "start_time": "2025-01-14T16:07:20.355Z"
   },
   {
    "duration": 3,
    "start_time": "2025-01-14T16:07:20.376Z"
   },
   {
    "duration": 45,
    "start_time": "2025-01-14T16:07:20.383Z"
   },
   {
    "duration": 1839,
    "start_time": "2025-01-14T16:07:20.429Z"
   },
   {
    "duration": 282,
    "start_time": "2025-01-14T16:07:22.269Z"
   },
   {
    "duration": 675,
    "start_time": "2025-01-14T16:07:22.553Z"
   },
   {
    "duration": 347,
    "start_time": "2025-01-14T16:07:23.229Z"
   },
   {
    "duration": 7403,
    "start_time": "2025-01-14T16:07:23.578Z"
   },
   {
    "duration": 6695,
    "start_time": "2025-01-14T16:07:30.983Z"
   },
   {
    "duration": 9482,
    "start_time": "2025-01-14T16:07:37.679Z"
   },
   {
    "duration": 18,
    "start_time": "2025-01-14T16:07:47.163Z"
   },
   {
    "duration": 39,
    "start_time": "2025-01-14T16:07:47.182Z"
   },
   {
    "duration": 22,
    "start_time": "2025-01-14T16:07:47.222Z"
   },
   {
    "duration": 2020,
    "start_time": "2025-01-14T16:07:47.246Z"
   },
   {
    "duration": 3,
    "start_time": "2025-01-14T16:07:49.268Z"
   },
   {
    "duration": 2247,
    "start_time": "2025-01-14T16:07:49.274Z"
   },
   {
    "duration": 25,
    "start_time": "2025-01-14T16:07:51.522Z"
   },
   {
    "duration": 33,
    "start_time": "2025-01-14T16:07:51.549Z"
   },
   {
    "duration": 37,
    "start_time": "2025-01-14T16:07:51.584Z"
   },
   {
    "duration": 12472,
    "start_time": "2025-01-14T16:07:51.623Z"
   },
   {
    "duration": 1254,
    "start_time": "2025-01-14T16:08:04.098Z"
   },
   {
    "duration": 4,
    "start_time": "2025-01-14T16:08:05.354Z"
   },
   {
    "duration": 14,
    "start_time": "2025-01-14T16:08:05.360Z"
   },
   {
    "duration": 3,
    "start_time": "2025-01-14T16:08:05.376Z"
   },
   {
    "duration": 236,
    "start_time": "2025-01-14T16:08:05.380Z"
   },
   {
    "duration": 22,
    "start_time": "2025-01-14T16:08:05.617Z"
   },
   {
    "duration": 366,
    "start_time": "2025-01-14T16:08:05.641Z"
   },
   {
    "duration": 15,
    "start_time": "2025-01-14T16:08:06.008Z"
   },
   {
    "duration": 5,
    "start_time": "2025-01-14T16:08:06.025Z"
   },
   {
    "duration": 14,
    "start_time": "2025-01-14T16:08:06.032Z"
   },
   {
    "duration": 38,
    "start_time": "2025-01-14T16:08:06.048Z"
   },
   {
    "duration": 6205,
    "start_time": "2025-01-14T16:08:06.088Z"
   },
   {
    "duration": 386,
    "start_time": "2025-01-14T16:08:12.295Z"
   },
   {
    "duration": 7122,
    "start_time": "2025-01-14T16:08:12.682Z"
   },
   {
    "duration": 33263,
    "start_time": "2025-01-14T16:08:19.806Z"
   },
   {
    "duration": 4,
    "start_time": "2025-01-14T16:08:53.071Z"
   },
   {
    "duration": 162,
    "start_time": "2025-01-14T16:08:53.077Z"
   },
   {
    "duration": 0,
    "start_time": "2025-01-14T16:08:53.241Z"
   },
   {
    "duration": 0,
    "start_time": "2025-01-14T16:08:53.242Z"
   },
   {
    "duration": 0,
    "start_time": "2025-01-14T16:08:53.243Z"
   },
   {
    "duration": 0,
    "start_time": "2025-01-14T16:08:53.244Z"
   },
   {
    "duration": 0,
    "start_time": "2025-01-14T16:08:53.245Z"
   },
   {
    "duration": 0,
    "start_time": "2025-01-14T16:08:53.246Z"
   },
   {
    "duration": 0,
    "start_time": "2025-01-14T16:08:53.247Z"
   },
   {
    "duration": 0,
    "start_time": "2025-01-14T16:08:53.249Z"
   },
   {
    "duration": 0,
    "start_time": "2025-01-14T16:08:53.249Z"
   },
   {
    "duration": 0,
    "start_time": "2025-01-14T16:08:53.251Z"
   },
   {
    "duration": 0,
    "start_time": "2025-01-14T16:08:53.252Z"
   },
   {
    "duration": 0,
    "start_time": "2025-01-14T16:08:53.253Z"
   },
   {
    "duration": 0,
    "start_time": "2025-01-14T16:08:53.254Z"
   },
   {
    "duration": 0,
    "start_time": "2025-01-14T16:08:53.255Z"
   },
   {
    "duration": 0,
    "start_time": "2025-01-14T16:08:53.256Z"
   },
   {
    "duration": 1,
    "start_time": "2025-01-14T16:08:53.257Z"
   },
   {
    "duration": 0,
    "start_time": "2025-01-14T16:08:53.258Z"
   },
   {
    "duration": 72,
    "start_time": "2025-01-23T07:08:32.199Z"
   }
  ],
  "colab": {
   "provenance": []
  },
  "kernelspec": {
   "display_name": "Python 3 (ipykernel)",
   "language": "python",
   "name": "python3"
  },
  "language_info": {
   "codemirror_mode": {
    "name": "ipython",
    "version": 3
   },
   "file_extension": ".py",
   "mimetype": "text/x-python",
   "name": "python",
   "nbconvert_exporter": "python",
   "pygments_lexer": "ipython3",
   "version": "3.9.21"
  },
  "toc": {
   "base_numbering": 1,
   "nav_menu": {
    "height": "598.767px",
    "width": "467.76px"
   },
   "number_sections": true,
   "sideBar": true,
   "skip_h1_title": true,
   "title_cell": "Table of Contents",
   "title_sidebar": "Contents",
   "toc_cell": false,
   "toc_position": {
    "height": "calc(100% - 180px)",
    "left": "10px",
    "top": "150px",
    "width": "192.425px"
   },
   "toc_section_display": true,
   "toc_window_display": true
  }
 },
 "nbformat": 4,
 "nbformat_minor": 4
}
